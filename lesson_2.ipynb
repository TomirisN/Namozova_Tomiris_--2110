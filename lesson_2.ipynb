





<!DOCTYPE html>
<html
  lang="en"
  
  data-color-mode="auto" data-light-theme="light" data-dark-theme="dark"
  data-a11y-animated-images="system" data-a11y-link-underlines="true"
  >




  <head>
    <meta charset="utf-8">
  <link rel="dns-prefetch" href="https://github.githubassets.com">
  <link rel="dns-prefetch" href="https://avatars.githubusercontent.com">
  <link rel="dns-prefetch" href="https://github-cloud.s3.amazonaws.com">
  <link rel="dns-prefetch" href="https://user-images.githubusercontent.com/">
  <link rel="preconnect" href="https://github.githubassets.com" crossorigin>
  <link rel="preconnect" href="https://avatars.githubusercontent.com">

  


  <link crossorigin="anonymous" media="all" rel="stylesheet" href="https://github.githubassets.com/assets/light-0eace2597ca3.css" /><link crossorigin="anonymous" media="all" rel="stylesheet" href="https://github.githubassets.com/assets/dark-a167e256da9c.css" /><link data-color-theme="dark_dimmed" crossorigin="anonymous" media="all" rel="stylesheet" data-href="https://github.githubassets.com/assets/dark_dimmed-d11f2cf8009b.css" /><link data-color-theme="dark_high_contrast" crossorigin="anonymous" media="all" rel="stylesheet" data-href="https://github.githubassets.com/assets/dark_high_contrast-ea7373db06c8.css" /><link data-color-theme="dark_colorblind" crossorigin="anonymous" media="all" rel="stylesheet" data-href="https://github.githubassets.com/assets/dark_colorblind-afa99dcf40f7.css" /><link data-color-theme="light_colorblind" crossorigin="anonymous" media="all" rel="stylesheet" data-href="https://github.githubassets.com/assets/light_colorblind-af6c685139ba.css" /><link data-color-theme="light_high_contrast" crossorigin="anonymous" media="all" rel="stylesheet" data-href="https://github.githubassets.com/assets/light_high_contrast-578cdbc8a5a9.css" /><link data-color-theme="light_tritanopia" crossorigin="anonymous" media="all" rel="stylesheet" data-href="https://github.githubassets.com/assets/light_tritanopia-5cb699a7e247.css" /><link data-color-theme="dark_tritanopia" crossorigin="anonymous" media="all" rel="stylesheet" data-href="https://github.githubassets.com/assets/dark_tritanopia-9b32204967c6.css" />
    <link crossorigin="anonymous" media="all" rel="stylesheet" href="https://github.githubassets.com/assets/primer-primitives-971c6be3ec9f.css" />
    <link crossorigin="anonymous" media="all" rel="stylesheet" href="https://github.githubassets.com/assets/primer-08e422afeb43.css" />
    <link crossorigin="anonymous" media="all" rel="stylesheet" href="https://github.githubassets.com/assets/global-a8d2cbec31a6.css" />
    <link crossorigin="anonymous" media="all" rel="stylesheet" href="https://github.githubassets.com/assets/github-36dce55f3db6.css" />
  <link crossorigin="anonymous" media="all" rel="stylesheet" href="https://github.githubassets.com/assets/repository-389a4d55bc31.css" />
<link crossorigin="anonymous" media="all" rel="stylesheet" href="https://github.githubassets.com/assets/code-7d0225fe7e18.css" />

  


  <script type="application/json" id="client-env">{"locale":"en","featureFlags":["copilot_conversational_ux_history_refs","docset_management_ui","failbot_handle_non_errors","geojson_azure_maps","image_metric_tracking","marketing_forms_api_integration_contact_request","repository_suggester_elastic_search","turbo_experiment_risky","sample_network_conn_type","no_character_key_shortcuts_in_inputs","custom_inp","remove_child_patch"]}</script>
<script crossorigin="anonymous" defer="defer" type="application/javascript" src="https://github.githubassets.com/assets/wp-runtime-2d23596034b4.js"></script>
<script crossorigin="anonymous" defer="defer" type="application/javascript" src="https://github.githubassets.com/assets/vendors-node_modules_dompurify_dist_purify_js-6890e890956f.js"></script>
<script crossorigin="anonymous" defer="defer" type="application/javascript" src="https://github.githubassets.com/assets/vendors-node_modules_stacktrace-parser_dist_stack-trace-parser_esm_js-node_modules_github_bro-a4c183-79f9611c275b.js"></script>
<script crossorigin="anonymous" defer="defer" type="application/javascript" src="https://github.githubassets.com/assets/vendors-node_modules_github_hydro-analytics-client_dist_analytics-client_js-node_modules_gith-6a10dd-e66ebda625fb.js"></script>
<script crossorigin="anonymous" defer="defer" type="application/javascript" src="https://github.githubassets.com/assets/ui_packages_failbot_failbot_ts-afaa9a250f2e.js"></script>
<script crossorigin="anonymous" defer="defer" type="application/javascript" src="https://github.githubassets.com/assets/environment-2e9dfc62de38.js"></script>
<script crossorigin="anonymous" defer="defer" type="application/javascript" src="https://github.githubassets.com/assets/vendors-node_modules_github_selector-observer_dist_index_esm_js-9f960d9b217c.js"></script>
<script crossorigin="anonymous" defer="defer" type="application/javascript" src="https://github.githubassets.com/assets/vendors-node_modules_primer_behaviors_dist_esm_focus-zone_js-086f7a27bac0.js"></script>
<script crossorigin="anonymous" defer="defer" type="application/javascript" src="https://github.githubassets.com/assets/vendors-node_modules_github_relative-time-element_dist_index_js-c76945c5961a.js"></script>
<script crossorigin="anonymous" defer="defer" type="application/javascript" src="https://github.githubassets.com/assets/vendors-node_modules_github_combobox-nav_dist_index_js-node_modules_github_markdown-toolbar-e-820fc0-a7dea68af91d.js"></script>
<script crossorigin="anonymous" defer="defer" type="application/javascript" src="https://github.githubassets.com/assets/vendors-node_modules_delegated-events_dist_index_js-node_modules_github_details-dialog-elemen-29dc30-a2a71f11a507.js"></script>
<script crossorigin="anonymous" defer="defer" type="application/javascript" src="https://github.githubassets.com/assets/vendors-node_modules_github_filter-input-element_dist_index_js-node_modules_github_remote-inp-e4ab91-60b24e4f6f42.js"></script>
<script crossorigin="anonymous" defer="defer" type="application/javascript" src="https://github.githubassets.com/assets/vendors-node_modules_github_file-attachment-element_dist_index_js-node_modules_primer_view-co-eb424d-fd64db823614.js"></script>
<script crossorigin="anonymous" defer="defer" type="application/javascript" src="https://github.githubassets.com/assets/github-elements-ce4eebbc0dc9.js"></script>
<script crossorigin="anonymous" defer="defer" type="application/javascript" src="https://github.githubassets.com/assets/element-registry-572e9d2514ec.js"></script>
<script crossorigin="anonymous" defer="defer" type="application/javascript" src="https://github.githubassets.com/assets/vendors-node_modules_github_catalyst_lib_index_js-node_modules_github_hydro-analytics-client_-978abc0-add939c751ce.js"></script>
<script crossorigin="anonymous" defer="defer" type="application/javascript" src="https://github.githubassets.com/assets/vendors-node_modules_lit-html_lit-html_js-5b376145beff.js"></script>
<script crossorigin="anonymous" defer="defer" type="application/javascript" src="https://github.githubassets.com/assets/vendors-node_modules_github_mini-throttle_dist_index_js-node_modules_github_alive-client_dist-bf5aa2-1b562c29ab8e.js"></script>
<script crossorigin="anonymous" defer="defer" type="application/javascript" src="https://github.githubassets.com/assets/vendors-node_modules_morphdom_dist_morphdom-esm_js-5bff297a06de.js"></script>
<script crossorigin="anonymous" defer="defer" type="application/javascript" src="https://github.githubassets.com/assets/vendors-node_modules_github_turbo_dist_turbo_es2017-esm_js-c91f4ad18b62.js"></script>
<script crossorigin="anonymous" defer="defer" type="application/javascript" src="https://github.githubassets.com/assets/vendors-node_modules_color-convert_index_js-72c9fbde5ad4.js"></script>
<script crossorigin="anonymous" defer="defer" type="application/javascript" src="https://github.githubassets.com/assets/vendors-node_modules_github_remote-form_dist_index_js-node_modules_scroll-anchoring_dist_scro-231ccf-aa129238d13b.js"></script>
<script crossorigin="anonymous" defer="defer" type="application/javascript" src="https://github.githubassets.com/assets/vendors-node_modules_primer_behaviors_dist_esm_dimensions_js-node_modules_github_jtml_lib_index_js-95b84ee6bc34.js"></script>
<script crossorigin="anonymous" defer="defer" type="application/javascript" src="https://github.githubassets.com/assets/vendors-node_modules_github_paste-markdown_dist_index_esm_js-node_modules_github_quote-select-77da2d-3bdb0030c085.js"></script>
<script crossorigin="anonymous" defer="defer" type="application/javascript" src="https://github.githubassets.com/assets/app_assets_modules_github_updatable-content_ts-c73b0e1e6f7c.js"></script>
<script crossorigin="anonymous" defer="defer" type="application/javascript" src="https://github.githubassets.com/assets/app_assets_modules_github_behaviors_task-list_ts-app_assets_modules_github_onfocus_ts-app_ass-421cec-751caa0072bd.js"></script>
<script crossorigin="anonymous" defer="defer" type="application/javascript" src="https://github.githubassets.com/assets/app_assets_modules_github_sticky-scroll-into-view_ts-cbcee0788fe3.js"></script>
<script crossorigin="anonymous" defer="defer" type="application/javascript" src="https://github.githubassets.com/assets/app_assets_modules_github_behaviors_ajax-error_ts-app_assets_modules_github_behaviors_include-467754-b59a2b2827ad.js"></script>
<script crossorigin="anonymous" defer="defer" type="application/javascript" src="https://github.githubassets.com/assets/app_assets_modules_github_behaviors_commenting_edit_ts-app_assets_modules_github_behaviors_ht-83c235-b85e9f4f1304.js"></script>
<script crossorigin="anonymous" defer="defer" type="application/javascript" src="https://github.githubassets.com/assets/app_assets_modules_github_blob-anchor_ts-app_assets_modules_github_filter-sort_ts-app_assets_-c96432-ca86212e46a4.js"></script>
<script crossorigin="anonymous" defer="defer" type="application/javascript" src="https://github.githubassets.com/assets/behaviors-97473afbe590.js"></script>
<script crossorigin="anonymous" defer="defer" type="application/javascript" src="https://github.githubassets.com/assets/vendors-node_modules_delegated-events_dist_index_js-node_modules_github_catalyst_lib_index_js-d0256ebff5cd.js"></script>
<script crossorigin="anonymous" defer="defer" type="application/javascript" src="https://github.githubassets.com/assets/notifications-global-99d196517b1b.js"></script>
<script crossorigin="anonymous" defer="defer" type="application/javascript" src="https://github.githubassets.com/assets/code-menu-2658b004279a.js"></script>
  
  <script crossorigin="anonymous" defer="defer" type="application/javascript" src="https://github.githubassets.com/assets/react-lib-1fbfc5be2c18.js"></script>
<script crossorigin="anonymous" defer="defer" type="application/javascript" src="https://github.githubassets.com/assets/vendors-node_modules_primer_octicons-react_dist_index_esm_js-node_modules_primer_react_lib-es-2e8e7c-b299afe58dd7.js"></script>
<script crossorigin="anonymous" defer="defer" type="application/javascript" src="https://github.githubassets.com/assets/vendors-node_modules_primer_react_lib-esm_Box_Box_js-ebfceb11fb57.js"></script>
<script crossorigin="anonymous" defer="defer" type="application/javascript" src="https://github.githubassets.com/assets/vendors-node_modules_primer_react_lib-esm_Button_Button_js-0528cb519251.js"></script>
<script crossorigin="anonymous" defer="defer" type="application/javascript" src="https://github.githubassets.com/assets/vendors-node_modules_primer_react_lib-esm_ActionList_index_js-e001d0eead25.js"></script>
<script crossorigin="anonymous" defer="defer" type="application/javascript" src="https://github.githubassets.com/assets/vendors-node_modules_primer_react_lib-esm_Overlay_Overlay_js-node_modules_primer_react_lib-es-fa1130-8d276499c3fb.js"></script>
<script crossorigin="anonymous" defer="defer" type="application/javascript" src="https://github.githubassets.com/assets/vendors-node_modules_primer_react_lib-esm_Text_Text_js-node_modules_primer_react_lib-esm_Text-85a14b-249efa9c2fae.js"></script>
<script crossorigin="anonymous" defer="defer" type="application/javascript" src="https://github.githubassets.com/assets/vendors-node_modules_primer_behaviors_dist_esm_scroll-into-view_js-node_modules_primer_react_-39745e-56454ece1686.js"></script>
<script crossorigin="anonymous" defer="defer" type="application/javascript" src="https://github.githubassets.com/assets/vendors-node_modules_primer_react_lib-esm_ActionMenu_ActionMenu_js-a3c61ff6363e.js"></script>
<script crossorigin="anonymous" defer="defer" type="application/javascript" src="https://github.githubassets.com/assets/vendors-node_modules_primer_react_lib-esm_FormControl_FormControl_js-e905f63cdd0f.js"></script>
<script crossorigin="anonymous" defer="defer" type="application/javascript" src="https://github.githubassets.com/assets/vendors-node_modules_react-router-dom_dist_index_js-3b41341d50fe.js"></script>
<script crossorigin="anonymous" defer="defer" type="application/javascript" src="https://github.githubassets.com/assets/vendors-node_modules_primer_react_lib-esm_PageLayout_PageLayout_js-a0f5dc4acaba.js"></script>
<script crossorigin="anonymous" defer="defer" type="application/javascript" src="https://github.githubassets.com/assets/vendors-node_modules_primer_react_lib-esm_ConfirmationDialog_ConfirmationDialog_js-1396cd0754d9.js"></script>
<script crossorigin="anonymous" defer="defer" type="application/javascript" src="https://github.githubassets.com/assets/vendors-node_modules_primer_react_lib-esm_Dialog_js-node_modules_primer_react_lib-esm_Flash_F-ad64b6-7663299a84eb.js"></script>
<script crossorigin="anonymous" defer="defer" type="application/javascript" src="https://github.githubassets.com/assets/vendors-node_modules_primer_react_lib-esm_UnderlineNav_index_js-68debb3ba7c5.js"></script>
<script crossorigin="anonymous" defer="defer" type="application/javascript" src="https://github.githubassets.com/assets/vendors-node_modules_primer_react_lib-esm_TreeView_TreeView_js-5d623f8c8e93.js"></script>
<script crossorigin="anonymous" defer="defer" type="application/javascript" src="https://github.githubassets.com/assets/vendors-node_modules_primer_react_lib-esm_Avatar_Avatar_js-node_modules_primer_react_lib-esm_-abca1b-e1f48b432bcb.js"></script>
<script crossorigin="anonymous" defer="defer" type="application/javascript" src="https://github.githubassets.com/assets/vendors-node_modules_github_mini-throttle_dist_index_js-node_modules_primer_react_lib-esm_Ava-0e2e9e-fbaf16e28a3a.js"></script>
<script crossorigin="anonymous" defer="defer" type="application/javascript" src="https://github.githubassets.com/assets/ui_packages_react-core_create-browser-history_ts-ui_packages_react-core_deferred-registry_ts--ebbb92-64923177f972.js"></script>
<script crossorigin="anonymous" defer="defer" type="application/javascript" src="https://github.githubassets.com/assets/ui_packages_react-core_register-app_ts-f7fc9821bc0f.js"></script>
<script crossorigin="anonymous" defer="defer" type="application/javascript" src="https://github.githubassets.com/assets/ui_packages_paths_index_ts-15f8a9964f52.js"></script>
<script crossorigin="anonymous" defer="defer" type="application/javascript" src="https://github.githubassets.com/assets/ui_packages_ref-selector_RefSelector_tsx-858bb94813b1.js"></script>
<script crossorigin="anonymous" defer="defer" type="application/javascript" src="https://github.githubassets.com/assets/ui_packages_commit-attribution_index_ts-ui_packages_commit-checks-status_index_ts-ui_packages-1e98c0-59848352f3aa.js"></script>
<script crossorigin="anonymous" defer="defer" type="application/javascript" src="https://github.githubassets.com/assets/app_assets_modules_react-code-view_hooks_use-file-page-payload_ts-app_assets_modules_react-sh-925f4d-d5949f63a794.js"></script>
<script crossorigin="anonymous" defer="defer" type="application/javascript" src="https://github.githubassets.com/assets/react-code-view-4a7f9f81c3ea.js"></script>


  <title>ml_lessons/lesson_2/lesson_2.ipynb at main · katarina74/ml_lessons</title>



  <meta name="route-pattern" content="/:user_id/:repository/blob/*name(/*path)" data-turbo-transient>
  <meta name="route-controller" content="blob" data-turbo-transient>
  <meta name="route-action" content="show" data-turbo-transient>

    
  <meta name="current-catalog-service-hash" content="82c569b93da5c18ed649ebd4c2c79437db4611a6a1373e805a3cb001c64130b7">


  <meta name="request-id" content="387E:BE75:2276365:2318409:65CC7C12" data-turbo-transient="true" /><meta name="html-safe-nonce" content="36fc2155df936562e63ff69c0ab4ca5d1784b9e4f4f73fc2ae63245e905368f2" data-turbo-transient="true" /><meta name="visitor-payload" content="eyJyZWZlcnJlciI6Imh0dHBzOi8vZ2l0aHViLmNvbS9rYXRhcmluYTc0L21sX2xlc3NvbnMvdHJlZS9tYWluL2xlc3Nvbl8yIiwicmVxdWVzdF9pZCI6IjM4N0U6QkU3NToyMjc2MzY1OjIzMTg0MDk6NjVDQzdDMTIiLCJ2aXNpdG9yX2lkIjoiODMwNjAwMDMzMzgwNzc2MjI2IiwicmVnaW9uX2VkZ2UiOiJmcmEiLCJyZWdpb25fcmVuZGVyIjoiaWFkIn0=" data-turbo-transient="true" /><meta name="visitor-hmac" content="2ccc2844b86673fa16ebc32aeac4b8184d9ca183c96fcba773c3aae8d6eccc71" data-turbo-transient="true" />


    <meta name="hovercard-subject-tag" content="repository:756390574" data-turbo-transient>


  <meta name="github-keyboard-shortcuts" content="repository,source-code,file-tree,copilot" data-turbo-transient="true" />
  

  <meta name="selected-link" value="repo_source" data-turbo-transient>
  <link rel="assets" href="https://github.githubassets.com/">

    <meta name="google-site-verification" content="c1kuD-K2HIVF635lypcsWPoD4kilo5-jA_wBFyT4uMY">
  <meta name="google-site-verification" content="KT5gs8h0wvaagLKAVWq8bbeNwnZZK1r1XQysX3xurLU">
  <meta name="google-site-verification" content="ZzhVyEFwb7w3e0-uOTltm8Jsck2F5StVihD0exw2fsA">
  <meta name="google-site-verification" content="GXs5KoUUkNCoaAZn7wPN-t01Pywp9M3sEjnt_3_ZWPc">
  <meta name="google-site-verification" content="Apib7-x98H0j5cPqHWwSMm6dNU4GmODRoqxLiDzdx9I">

<meta name="octolytics-url" content="https://collector.github.com/github/collect" /><meta name="octolytics-actor-id" content="132908961" /><meta name="octolytics-actor-login" content="TomirisN" /><meta name="octolytics-actor-hash" content="190b600b62a52a4cf21987db00c3c93024e3e8243a5467e4c93091fdbf6207f5" />

  <meta name="analytics-location" content="/&lt;user-name&gt;/&lt;repo-name&gt;/blob/show" data-turbo-transient="true" />

  




  

    <meta name="user-login" content="TomirisN">

  <link rel="sudo-modal" href="/sessions/sudo_modal">

    <meta name="viewport" content="width=device-width">
    
      <meta name="description" content="Contribute to katarina74/ml_lessons development by creating an account on GitHub.">
      <link rel="search" type="application/opensearchdescription+xml" href="/opensearch.xml" title="GitHub">
    <link rel="fluid-icon" href="https://github.com/fluidicon.png" title="GitHub">
    <meta property="fb:app_id" content="1401488693436528">
    <meta name="apple-itunes-app" content="app-id=1477376905, app-argument=https://github.com/katarina74/ml_lessons/blob/main/lesson_2/lesson_2.ipynb" />
      <meta name="twitter:image:src" content="https://opengraph.githubassets.com/30dcf0e776c316567584fd182943526f1dc5b06a660f11a608483d80399c2100/katarina74/ml_lessons" /><meta name="twitter:site" content="@github" /><meta name="twitter:card" content="summary_large_image" /><meta name="twitter:title" content="ml_lessons/lesson_2/lesson_2.ipynb at main · katarina74/ml_lessons" /><meta name="twitter:description" content="Contribute to katarina74/ml_lessons development by creating an account on GitHub." />
      <meta property="og:image" content="https://opengraph.githubassets.com/30dcf0e776c316567584fd182943526f1dc5b06a660f11a608483d80399c2100/katarina74/ml_lessons" /><meta property="og:image:alt" content="Contribute to katarina74/ml_lessons development by creating an account on GitHub." /><meta property="og:image:width" content="1200" /><meta property="og:image:height" content="600" /><meta property="og:site_name" content="GitHub" /><meta property="og:type" content="object" /><meta property="og:title" content="ml_lessons/lesson_2/lesson_2.ipynb at main · katarina74/ml_lessons" /><meta property="og:url" content="https://github.com/katarina74/ml_lessons/blob/main/lesson_2/lesson_2.ipynb" /><meta property="og:description" content="Contribute to katarina74/ml_lessons development by creating an account on GitHub." />
      

      <link rel="shared-web-socket" href="wss://alive.github.com/_sockets/u/132908961/ws?session=eyJ2IjoiVjMiLCJ1IjoxMzI5MDg5NjEsInMiOjEzMTEwNzcyMDcsImMiOjE3NDIxMzI0NTIsInQiOjE3MDc4OTk5MjJ9--ac68993fae188db6745f5753134c86fbe9f054d3a90bf343ffbe8e8e4c9de96e" data-refresh-url="/_alive" data-session-id="5fe8ef2ff3d1f0fc7975d9600d8d07f959c8f7ee8b1bade16f5abf0687e61333">
      <link rel="shared-web-socket-src" href="/assets-cdn/worker/socket-worker-9cc1149b224c.js">


        <meta name="hostname" content="github.com">


      <meta name="keyboard-shortcuts-preference" content="all">

        <meta name="expected-hostname" content="github.com">


  <meta http-equiv="x-pjax-version" content="b043dfe1732d1e3d0d0361631120d66f035899d0771d1bd787db97c494c1dce2" data-turbo-track="reload">
  <meta http-equiv="x-pjax-csp-version" content="5dcfbec3488c5fd5a334e287ce6a17058b7d4beb91db2d4d184e4d55bbf1d7d7" data-turbo-track="reload">
  <meta http-equiv="x-pjax-css-version" content="fc7dfbcc4179b73e820d020658f54500fa28c573604791e50a58cef56e331033" data-turbo-track="reload">
  <meta http-equiv="x-pjax-js-version" content="fefaa79d47ec4e1c85523625ab8502b1d05099bc6e3dacf015af2b180f7692cd" data-turbo-track="reload">

  <meta name="turbo-cache-control" content="no-preview" data-turbo-transient="">

      <meta name="turbo-cache-control" content="no-cache" data-turbo-transient>
    <meta data-hydrostats="publish">

  <meta name="go-import" content="github.com/katarina74/ml_lessons git https://github.com/katarina74/ml_lessons.git">

  <meta name="octolytics-dimension-user_id" content="55535896" /><meta name="octolytics-dimension-user_login" content="katarina74" /><meta name="octolytics-dimension-repository_id" content="756390574" /><meta name="octolytics-dimension-repository_nwo" content="katarina74/ml_lessons" /><meta name="octolytics-dimension-repository_public" content="true" /><meta name="octolytics-dimension-repository_is_fork" content="false" /><meta name="octolytics-dimension-repository_network_root_id" content="756390574" /><meta name="octolytics-dimension-repository_network_root_nwo" content="katarina74/ml_lessons" />



  <meta name="turbo-body-classes" content="logged-in env-production page-responsive">


  <meta name="browser-stats-url" content="https://api.github.com/_private/browser/stats">

  <meta name="browser-errors-url" content="https://api.github.com/_private/browser/errors">

  <link rel="mask-icon" href="https://github.githubassets.com/assets/pinned-octocat-093da3e6fa40.svg" color="#000000">
  <link rel="alternate icon" class="js-site-favicon" type="image/png" href="https://github.githubassets.com/favicons/favicon.png">
  <link rel="icon" class="js-site-favicon" type="image/svg+xml" href="https://github.githubassets.com/favicons/favicon.svg">

<meta name="theme-color" content="#1e2327">
<meta name="color-scheme" content="light dark" />


  <link rel="manifest" href="/manifest.json" crossOrigin="use-credentials">

  </head>

  <body class="logged-in env-production page-responsive" style="word-wrap: break-word;">
    <div data-turbo-body class="logged-in env-production page-responsive" style="word-wrap: break-word;">
      


    <div class="position-relative js-header-wrapper ">
      <a href="#start-of-content" class="p-3 color-bg-accent-emphasis color-fg-on-emphasis show-on-focus js-skip-to-content">Skip to content</a>
      <span data-view-component="true" class="progress-pjax-loader Progress position-fixed width-full">
    <span style="width: 0%;" data-view-component="true" class="Progress-item progress-pjax-loader-bar left-0 top-0 color-bg-accent-emphasis"></span>
</span>      
      
  




<script crossorigin="anonymous" defer="defer" type="application/javascript" src="https://github.githubassets.com/assets/vendors-node_modules_primer_react_lib-esm_Button_IconButton_js-node_modules_primer_react_lib--23bcad-ccf1d5fc6054.js"></script>

<script crossorigin="anonymous" defer="defer" type="application/javascript" src="https://github.githubassets.com/assets/keyboard-shortcuts-dialog-a2ca669523db.js"></script>

<react-partial
  partial-name="keyboard-shortcuts-dialog"
  data-ssr="false"
>
  
  <script type="application/json" data-target="react-partial.embeddedData">{"props":{}}</script>
  <div data-target="react-partial.reactRoot"></div>
</react-partial>



      

        <script crossorigin="anonymous" defer="defer" type="application/javascript" src="https://github.githubassets.com/assets/vendors-node_modules_allex_crc32_lib_crc32_esm_js-node_modules_github_mini-throttle_dist_deco-b38cad-748e74df23ce.js"></script>
<script crossorigin="anonymous" defer="defer" type="application/javascript" src="https://github.githubassets.com/assets/vendors-node_modules_github_clipboard-copy-element_dist_index_esm_js-node_modules_delegated-e-b37f7d-2f24d321a3fb.js"></script>
<script crossorigin="anonymous" defer="defer" type="application/javascript" src="https://github.githubassets.com/assets/app_assets_modules_github_command-palette_items_help-item_ts-app_assets_modules_github_comman-48ad9d-2eb78c4e07c5.js"></script>
<script crossorigin="anonymous" defer="defer" type="application/javascript" src="https://github.githubassets.com/assets/command-palette-4a91d9475ff6.js"></script>

            <header class="AppHeader">
    

    <div class="AppHeader-globalBar pb-2 js-global-bar">
      <div class="AppHeader-globalBar-start">
          <deferred-side-panel data-url="/_side-panels/global">
  <include-fragment data-target="deferred-side-panel.fragment">
      <button aria-label="Open global navigation menu" data-action="click:deferred-side-panel#loadPanel click:deferred-side-panel#panelOpened" data-show-dialog-id="dialog-f89fb0a9-31b3-46bc-9ea3-6dec6ef98345" id="dialog-show-dialog-f89fb0a9-31b3-46bc-9ea3-6dec6ef98345" type="button" data-view-component="true" class="Button Button--iconOnly Button--secondary Button--medium AppHeader-button color-bg-transparent p-0 color-fg-muted">  <svg aria-hidden="true" height="16" viewBox="0 0 16 16" version="1.1" width="16" data-view-component="true" class="octicon octicon-three-bars Button-visual">
    <path d="M1 2.75A.75.75 0 0 1 1.75 2h12.5a.75.75 0 0 1 0 1.5H1.75A.75.75 0 0 1 1 2.75Zm0 5A.75.75 0 0 1 1.75 7h12.5a.75.75 0 0 1 0 1.5H1.75A.75.75 0 0 1 1 7.75ZM1.75 12h12.5a.75.75 0 0 1 0 1.5H1.75a.75.75 0 0 1 0-1.5Z"></path>
</svg>
</button>

<dialog-helper>
  <dialog data-target="deferred-side-panel.panel" id="dialog-f89fb0a9-31b3-46bc-9ea3-6dec6ef98345" aria-modal="true" aria-labelledby="dialog-f89fb0a9-31b3-46bc-9ea3-6dec6ef98345-title" aria-describedby="dialog-f89fb0a9-31b3-46bc-9ea3-6dec6ef98345-description" data-view-component="true" class="Overlay Overlay-whenNarrow Overlay--size-small-portrait Overlay--motion-scaleFade Overlay--placement-left SidePanel">
    <div styles="flex-direction: row;" data-view-component="true" class="Overlay-header">
  <div class="Overlay-headerContentWrap">
    <div class="Overlay-titleWrap">
      <h1 class="Overlay-title sr-only" id="dialog-f89fb0a9-31b3-46bc-9ea3-6dec6ef98345-title">
        Global navigation
      </h1>
            <div data-view-component="true" class="d-flex">
      <div data-view-component="true" class="AppHeader-logo position-relative">
        <svg aria-hidden="true" height="24" viewBox="0 0 16 16" version="1.1" width="24" data-view-component="true" class="octicon octicon-mark-github">
    <path d="M8 0c4.42 0 8 3.58 8 8a8.013 8.013 0 0 1-5.45 7.59c-.4.08-.55-.17-.55-.38 0-.27.01-1.13.01-2.2 0-.75-.25-1.23-.54-1.48 1.78-.2 3.65-.88 3.65-3.95 0-.88-.31-1.59-.82-2.15.08-.2.36-1.02-.08-2.12 0 0-.67-.22-2.2.82-.64-.18-1.32-.27-2-.27-.68 0-1.36.09-2 .27-1.53-1.03-2.2-.82-2.2-.82-.44 1.1-.16 1.92-.08 2.12-.51.56-.82 1.28-.82 2.15 0 3.06 1.86 3.75 3.64 3.95-.23.2-.44.55-.51 1.07-.46.21-1.61.55-2.33-.66-.15-.24-.6-.83-1.23-.82-.67.01-.27.38.01.53.34.19.73.9.82 1.13.16.45.68 1.31 2.69.94 0 .67.01 1.3.01 1.49 0 .21-.15.45-.55.38A7.995 7.995 0 0 1 0 8c0-4.42 3.58-8 8-8Z"></path>
</svg>
</div></div>
    </div>
    <div class="Overlay-actionWrap">
      <button data-close-dialog-id="dialog-f89fb0a9-31b3-46bc-9ea3-6dec6ef98345" aria-label="Close" type="button" data-view-component="true" class="close-button Overlay-closeButton"><svg aria-hidden="true" height="16" viewBox="0 0 16 16" version="1.1" width="16" data-view-component="true" class="octicon octicon-x">
    <path d="M3.72 3.72a.75.75 0 0 1 1.06 0L8 6.94l3.22-3.22a.749.749 0 0 1 1.275.326.749.749 0 0 1-.215.734L9.06 8l3.22 3.22a.749.749 0 0 1-.326 1.275.749.749 0 0 1-.734-.215L8 9.06l-3.22 3.22a.751.751 0 0 1-1.042-.018.751.751 0 0 1-.018-1.042L6.94 8 3.72 4.78a.75.75 0 0 1 0-1.06Z"></path>
</svg></button>
    </div>
  </div>
</div>
      <scrollable-region data-labelled-by="dialog-f89fb0a9-31b3-46bc-9ea3-6dec6ef98345-title">
        <div data-view-component="true" class="Overlay-body d-flex flex-column px-2">    <div data-view-component="true" class="d-flex flex-column mb-3">
        <nav aria-label="Site navigation" data-view-component="true" class="ActionList">
  
  <nav-list>
    <ul data-view-component="true" class="ActionListWrap">
        
          
<li data-targets="nav-list.items nav-list.items" data-item-id="" data-view-component="true" class="ActionListItem">
    
    <a data-hotkey="g d" data-analytics-event="{&quot;category&quot;:&quot;Global navigation&quot;,&quot;action&quot;:&quot;HOME&quot;,&quot;label&quot;:null}" id="item-e950cb6e-48a1-42ec-9f47-a71f38f2328a" href="/dashboard" data-view-component="true" class="ActionListContent ActionListContent--visual16">
        <span class="ActionListItem-visual ActionListItem-visual--leading">
          <svg aria-hidden="true" height="16" viewBox="0 0 16 16" version="1.1" width="16" data-view-component="true" class="octicon octicon-home">
    <path d="M6.906.664a1.749 1.749 0 0 1 2.187 0l5.25 4.2c.415.332.657.835.657 1.367v7.019A1.75 1.75 0 0 1 13.25 15h-3.5a.75.75 0 0 1-.75-.75V9H7v5.25a.75.75 0 0 1-.75.75h-3.5A1.75 1.75 0 0 1 1 13.25V6.23c0-.531.242-1.034.657-1.366l5.25-4.2Zm1.25 1.171a.25.25 0 0 0-.312 0l-5.25 4.2a.25.25 0 0 0-.094.196v7.019c0 .138.112.25.25.25H5.5V8.25a.75.75 0 0 1 .75-.75h3.5a.75.75 0 0 1 .75.75v5.25h2.75a.25.25 0 0 0 .25-.25V6.23a.25.25 0 0 0-.094-.195Z"></path>
</svg>
        </span>
      
        <span data-view-component="true" class="ActionListItem-label">
          Home
</span></a>
  
  
</li>

        
          
<li data-targets="nav-list.items nav-list.items" data-item-id="" data-view-component="true" class="ActionListItem">
    
    <a data-hotkey="g i" data-analytics-event="{&quot;category&quot;:&quot;Global navigation&quot;,&quot;action&quot;:&quot;ISSUES&quot;,&quot;label&quot;:null}" id="item-ccb5084f-7927-410c-874e-4d609ac91b8a" href="/issues" data-view-component="true" class="ActionListContent ActionListContent--visual16">
        <span class="ActionListItem-visual ActionListItem-visual--leading">
          <svg aria-hidden="true" height="16" viewBox="0 0 16 16" version="1.1" width="16" data-view-component="true" class="octicon octicon-issue-opened">
    <path d="M8 9.5a1.5 1.5 0 1 0 0-3 1.5 1.5 0 0 0 0 3Z"></path><path d="M8 0a8 8 0 1 1 0 16A8 8 0 0 1 8 0ZM1.5 8a6.5 6.5 0 1 0 13 0 6.5 6.5 0 0 0-13 0Z"></path>
</svg>
        </span>
      
        <span data-view-component="true" class="ActionListItem-label">
          Issues
</span></a>
  
  
</li>

        
          
<li data-targets="nav-list.items nav-list.items" data-item-id="" data-view-component="true" class="ActionListItem">
    
    <a data-hotkey="g p" data-analytics-event="{&quot;category&quot;:&quot;Global navigation&quot;,&quot;action&quot;:&quot;PULL_REQUESTS&quot;,&quot;label&quot;:null}" id="item-edcc6180-8ae1-49e7-b3c1-8b48308d4193" href="/pulls" data-view-component="true" class="ActionListContent ActionListContent--visual16">
        <span class="ActionListItem-visual ActionListItem-visual--leading">
          <svg aria-hidden="true" height="16" viewBox="0 0 16 16" version="1.1" width="16" data-view-component="true" class="octicon octicon-git-pull-request">
    <path d="M1.5 3.25a2.25 2.25 0 1 1 3 2.122v5.256a2.251 2.251 0 1 1-1.5 0V5.372A2.25 2.25 0 0 1 1.5 3.25Zm5.677-.177L9.573.677A.25.25 0 0 1 10 .854V2.5h1A2.5 2.5 0 0 1 13.5 5v5.628a2.251 2.251 0 1 1-1.5 0V5a1 1 0 0 0-1-1h-1v1.646a.25.25 0 0 1-.427.177L7.177 3.427a.25.25 0 0 1 0-.354ZM3.75 2.5a.75.75 0 1 0 0 1.5.75.75 0 0 0 0-1.5Zm0 9.5a.75.75 0 1 0 0 1.5.75.75 0 0 0 0-1.5Zm8.25.75a.75.75 0 1 0 1.5 0 .75.75 0 0 0-1.5 0Z"></path>
</svg>
        </span>
      
        <span data-view-component="true" class="ActionListItem-label">
          Pull requests
</span></a>
  
  
</li>

        
          
<li data-targets="nav-list.items nav-list.items" data-item-id="" data-item-id="projects" data-view-component="true" class="ActionListItem">
    
    <a data-analytics-event="{&quot;category&quot;:&quot;Global navigation&quot;,&quot;action&quot;:&quot;PROJECTS&quot;,&quot;label&quot;:null}" id="item-4f0a5e8f-08a7-4607-bf9f-4a4892bd7038" href="/projects" data-view-component="true" class="ActionListContent ActionListContent--visual16">
        <span class="ActionListItem-visual ActionListItem-visual--leading">
          <svg aria-hidden="true" height="16" viewBox="0 0 16 16" version="1.1" width="16" data-view-component="true" class="octicon octicon-table">
    <path d="M0 1.75C0 .784.784 0 1.75 0h12.5C15.216 0 16 .784 16 1.75v12.5A1.75 1.75 0 0 1 14.25 16H1.75A1.75 1.75 0 0 1 0 14.25ZM6.5 6.5v8h7.75a.25.25 0 0 0 .25-.25V6.5Zm8-1.5V1.75a.25.25 0 0 0-.25-.25H6.5V5Zm-13 1.5v7.75c0 .138.112.25.25.25H5v-8ZM5 5V1.5H1.75a.25.25 0 0 0-.25.25V5Z"></path>
</svg>
        </span>
      
        <span data-view-component="true" class="ActionListItem-label">
          Projects
</span></a>
  
  
</li>

        
          
<li data-targets="nav-list.items nav-list.items" data-item-id="" data-view-component="true" class="ActionListItem">
    
    <a data-analytics-event="{&quot;category&quot;:&quot;Global navigation&quot;,&quot;action&quot;:&quot;DISCUSSIONS&quot;,&quot;label&quot;:null}" id="item-7b044e05-088a-4c5f-802c-007782e67930" href="/discussions" data-view-component="true" class="ActionListContent ActionListContent--visual16">
        <span class="ActionListItem-visual ActionListItem-visual--leading">
          <svg aria-hidden="true" height="16" viewBox="0 0 16 16" version="1.1" width="16" data-view-component="true" class="octicon octicon-comment-discussion">
    <path d="M1.75 1h8.5c.966 0 1.75.784 1.75 1.75v5.5A1.75 1.75 0 0 1 10.25 10H7.061l-2.574 2.573A1.458 1.458 0 0 1 2 11.543V10h-.25A1.75 1.75 0 0 1 0 8.25v-5.5C0 1.784.784 1 1.75 1ZM1.5 2.75v5.5c0 .138.112.25.25.25h1a.75.75 0 0 1 .75.75v2.19l2.72-2.72a.749.749 0 0 1 .53-.22h3.5a.25.25 0 0 0 .25-.25v-5.5a.25.25 0 0 0-.25-.25h-8.5a.25.25 0 0 0-.25.25Zm13 2a.25.25 0 0 0-.25-.25h-.5a.75.75 0 0 1 0-1.5h.5c.966 0 1.75.784 1.75 1.75v5.5A1.75 1.75 0 0 1 14.25 12H14v1.543a1.458 1.458 0 0 1-2.487 1.03L9.22 12.28a.749.749 0 0 1 .326-1.275.749.749 0 0 1 .734.215l2.22 2.22v-2.19a.75.75 0 0 1 .75-.75h1a.25.25 0 0 0 .25-.25Z"></path>
</svg>
        </span>
      
        <span data-view-component="true" class="ActionListItem-label">
          Discussions
</span></a>
  
  
</li>

        
          
<li data-targets="nav-list.items nav-list.items" data-item-id="" data-view-component="true" class="ActionListItem">
    
    <a data-analytics-event="{&quot;category&quot;:&quot;Global navigation&quot;,&quot;action&quot;:&quot;CODESPACES&quot;,&quot;label&quot;:null}" id="item-bc4f9022-21ff-464c-9b44-9e5b61d17cc0" href="https://github.com/codespaces" data-view-component="true" class="ActionListContent ActionListContent--visual16">
        <span class="ActionListItem-visual ActionListItem-visual--leading">
          <svg aria-hidden="true" height="16" viewBox="0 0 16 16" version="1.1" width="16" data-view-component="true" class="octicon octicon-codespaces">
    <path d="M0 11.25c0-.966.784-1.75 1.75-1.75h12.5c.966 0 1.75.784 1.75 1.75v3A1.75 1.75 0 0 1 14.25 16H1.75A1.75 1.75 0 0 1 0 14.25Zm2-9.5C2 .784 2.784 0 3.75 0h8.5C13.216 0 14 .784 14 1.75v5a1.75 1.75 0 0 1-1.75 1.75h-8.5A1.75 1.75 0 0 1 2 6.75Zm1.75-.25a.25.25 0 0 0-.25.25v5c0 .138.112.25.25.25h8.5a.25.25 0 0 0 .25-.25v-5a.25.25 0 0 0-.25-.25Zm-2 9.5a.25.25 0 0 0-.25.25v3c0 .138.112.25.25.25h12.5a.25.25 0 0 0 .25-.25v-3a.25.25 0 0 0-.25-.25Z"></path><path d="M7 12.75a.75.75 0 0 1 .75-.75h4.5a.75.75 0 0 1 0 1.5h-4.5a.75.75 0 0 1-.75-.75Zm-4 0a.75.75 0 0 1 .75-.75h.5a.75.75 0 0 1 0 1.5h-.5a.75.75 0 0 1-.75-.75Z"></path>
</svg>
        </span>
      
        <span data-view-component="true" class="ActionListItem-label">
          Codespaces
</span></a>
  
  
</li>

        
          <li role="presentation" aria-hidden="true" data-view-component="true" class="ActionList-sectionDivider"></li>
        
          
<li data-targets="nav-list.items nav-list.items" data-item-id="" data-view-component="true" class="ActionListItem">
    
    <a data-analytics-event="{&quot;category&quot;:&quot;Global navigation&quot;,&quot;action&quot;:&quot;EXPLORE&quot;,&quot;label&quot;:null}" id="item-5ddc5a02-f083-4952-aa69-8e53bb404a09" href="/explore" data-view-component="true" class="ActionListContent ActionListContent--visual16">
        <span class="ActionListItem-visual ActionListItem-visual--leading">
          <svg aria-hidden="true" height="16" viewBox="0 0 16 16" version="1.1" width="16" data-view-component="true" class="octicon octicon-telescope">
    <path d="M14.184 1.143v-.001l1.422 2.464a1.75 1.75 0 0 1-.757 2.451L3.104 11.713a1.75 1.75 0 0 1-2.275-.702l-.447-.775a1.75 1.75 0 0 1 .53-2.32L11.682.573a1.748 1.748 0 0 1 2.502.57Zm-4.709 9.32h-.001l2.644 3.863a.75.75 0 1 1-1.238.848l-1.881-2.75v2.826a.75.75 0 0 1-1.5 0v-2.826l-1.881 2.75a.75.75 0 1 1-1.238-.848l2.049-2.992a.746.746 0 0 1 .293-.253l1.809-.87a.749.749 0 0 1 .944.252ZM9.436 3.92h-.001l-4.97 3.39.942 1.63 5.42-2.61Zm3.091-2.108h.001l-1.85 1.26 1.505 2.605 2.016-.97a.247.247 0 0 0 .13-.151.247.247 0 0 0-.022-.199l-1.422-2.464a.253.253 0 0 0-.161-.119.254.254 0 0 0-.197.038ZM1.756 9.157a.25.25 0 0 0-.075.33l.447.775a.25.25 0 0 0 .325.1l1.598-.769-.83-1.436-1.465 1Z"></path>
</svg>
        </span>
      
        <span data-view-component="true" class="ActionListItem-label">
          Explore
</span></a>
  
  
</li>

        
          
<li data-targets="nav-list.items nav-list.items" data-item-id="" data-view-component="true" class="ActionListItem">
    
    <a data-analytics-event="{&quot;category&quot;:&quot;Global navigation&quot;,&quot;action&quot;:&quot;MARKETPLACE&quot;,&quot;label&quot;:null}" id="item-cf82b57f-67e5-466f-8ddd-89379fb5ee2d" href="/marketplace" data-view-component="true" class="ActionListContent ActionListContent--visual16">
        <span class="ActionListItem-visual ActionListItem-visual--leading">
          <svg aria-hidden="true" height="16" viewBox="0 0 16 16" version="1.1" width="16" data-view-component="true" class="octicon octicon-gift">
    <path d="M2 2.75A2.75 2.75 0 0 1 4.75 0c.983 0 1.873.42 2.57 1.232.268.318.497.668.68 1.042.183-.375.411-.725.68-1.044C9.376.42 10.266 0 11.25 0a2.75 2.75 0 0 1 2.45 4h.55c.966 0 1.75.784 1.75 1.75v2c0 .698-.409 1.301-1 1.582v4.918A1.75 1.75 0 0 1 13.25 16H2.75A1.75 1.75 0 0 1 1 14.25V9.332C.409 9.05 0 8.448 0 7.75v-2C0 4.784.784 4 1.75 4h.55c-.192-.375-.3-.8-.3-1.25ZM7.25 9.5H2.5v4.75c0 .138.112.25.25.25h4.5Zm1.5 0v5h4.5a.25.25 0 0 0 .25-.25V9.5Zm0-4V8h5.5a.25.25 0 0 0 .25-.25v-2a.25.25 0 0 0-.25-.25Zm-7 0a.25.25 0 0 0-.25.25v2c0 .138.112.25.25.25h5.5V5.5h-5.5Zm3-4a1.25 1.25 0 0 0 0 2.5h2.309c-.233-.818-.542-1.401-.878-1.793-.43-.502-.915-.707-1.431-.707ZM8.941 4h2.309a1.25 1.25 0 0 0 0-2.5c-.516 0-1 .205-1.43.707-.337.392-.646.975-.879 1.793Z"></path>
</svg>
        </span>
      
        <span data-view-component="true" class="ActionListItem-label">
          Marketplace
</span></a>
  
  
</li>

</ul>  </nav-list>
</nav>

        <div data-view-component="true" class="my-3 d-flex flex-justify-center height-full">
          <svg style="box-sizing: content-box; color: var(--color-icon-primary);" width="16" height="16" viewBox="0 0 16 16" fill="none" data-view-component="true" class="anim-rotate">
  <circle cx="8" cy="8" r="7" stroke="currentColor" stroke-opacity="0.25" stroke-width="2" vector-effect="non-scaling-stroke" fill="none" />
  <path d="M15 8a7.002 7.002 0 00-7-7" stroke="currentColor" stroke-width="2" stroke-linecap="round" vector-effect="non-scaling-stroke" />
</svg>
</div>
</div>
      <div data-view-component="true" class="flex-1"></div>


      <div data-view-component="true" class="px-2">      <p class="color-fg-subtle text-small text-light">&copy; 2024 GitHub, Inc.</p>

      <div data-view-component="true" class="d-flex flex-wrap text-small text-light">
          <a target="_blank" href="https://github.com/about" data-view-component="true" class="Link mr-2">About</a>
          <a target="_blank" href="https://github.blog" data-view-component="true" class="Link mr-2">Blog</a>
          <a target="_blank" href="https://docs.github.com/site-policy/github-terms/github-terms-of-service" data-view-component="true" class="Link mr-2">Terms</a>
          <a target="_blank" href="https://docs.github.com/site-policy/privacy-policies/github-privacy-statement" data-view-component="true" class="Link mr-2">Privacy</a>
          <a target="_blank" href="https://github.com/security" data-view-component="true" class="Link mr-2">Security</a>
          <a target="_blank" href="https://www.githubstatus.com/" data-view-component="true" class="Link mr-3">Status</a>

</div></div>
</div>
      </scrollable-region>
      
</dialog></dialog-helper>

  </include-fragment>
</deferred-side-panel>

        <a
          class="AppHeader-logo ml-2"
          href="https://github.com/"
          data-hotkey="g d"
          aria-label="Homepage "
          data-turbo="false"
          data-analytics-event="{&quot;category&quot;:&quot;Header&quot;,&quot;action&quot;:&quot;go to dashboard&quot;,&quot;label&quot;:&quot;icon:logo&quot;}"
        >
          <svg height="32" aria-hidden="true" viewBox="0 0 16 16" version="1.1" width="32" data-view-component="true" class="octicon octicon-mark-github v-align-middle color-fg-default">
    <path d="M8 0c4.42 0 8 3.58 8 8a8.013 8.013 0 0 1-5.45 7.59c-.4.08-.55-.17-.55-.38 0-.27.01-1.13.01-2.2 0-.75-.25-1.23-.54-1.48 1.78-.2 3.65-.88 3.65-3.95 0-.88-.31-1.59-.82-2.15.08-.2.36-1.02-.08-2.12 0 0-.67-.22-2.2.82-.64-.18-1.32-.27-2-.27-.68 0-1.36.09-2 .27-1.53-1.03-2.2-.82-2.2-.82-.44 1.1-.16 1.92-.08 2.12-.51.56-.82 1.28-.82 2.15 0 3.06 1.86 3.75 3.64 3.95-.23.2-.44.55-.51 1.07-.46.21-1.61.55-2.33-.66-.15-.24-.6-.83-1.23-.82-.67.01-.27.38.01.53.34.19.73.9.82 1.13.16.45.68 1.31 2.69.94 0 .67.01 1.3.01 1.49 0 .21-.15.45-.55.38A7.995 7.995 0 0 1 0 8c0-4.42 3.58-8 8-8Z"></path>
</svg>
        </a>

          <div class="AppHeader-context" >
  <div class="AppHeader-context-compact">
      <button aria-expanded="false" aria-haspopup="dialog" aria-label="Page context: katarina74 / ml_lessons" id="dialog-show-context-region-dialog" data-show-dialog-id="context-region-dialog" type="button" data-view-component="true" class="AppHeader-context-compact-trigger Truncate Button--secondary Button--medium Button box-shadow-none">  <span class="Button-content">
    <span class="Button-label"><span class="AppHeader-context-compact-lead">
                <span class="AppHeader-context-compact-parentItem">katarina74</span>
                <span class="no-wrap">&nbsp;/</span>

            </span>

            <strong class="AppHeader-context-compact-mainItem d-flex flex-items-center Truncate" >
  <span class="Truncate-text ">ml_lessons</span>

</strong></span>
  </span>
</button>

<dialog-helper>
  <dialog id="context-region-dialog" aria-modal="true" aria-labelledby="context-region-dialog-title" aria-describedby="context-region-dialog-description" data-view-component="true" class="Overlay Overlay-whenNarrow Overlay--size-medium Overlay--motion-scaleFade">
    <div data-view-component="true" class="Overlay-header">
  <div class="Overlay-headerContentWrap">
    <div class="Overlay-titleWrap">
      <h1 class="Overlay-title " id="context-region-dialog-title">
        Navigate back to
      </h1>
    </div>
    <div class="Overlay-actionWrap">
      <button data-close-dialog-id="context-region-dialog" aria-label="Close" type="button" data-view-component="true" class="close-button Overlay-closeButton"><svg aria-hidden="true" height="16" viewBox="0 0 16 16" version="1.1" width="16" data-view-component="true" class="octicon octicon-x">
    <path d="M3.72 3.72a.75.75 0 0 1 1.06 0L8 6.94l3.22-3.22a.749.749 0 0 1 1.275.326.749.749 0 0 1-.215.734L9.06 8l3.22 3.22a.749.749 0 0 1-.326 1.275.749.749 0 0 1-.734-.215L8 9.06l-3.22 3.22a.751.751 0 0 1-1.042-.018.751.751 0 0 1-.018-1.042L6.94 8 3.72 4.78a.75.75 0 0 1 0-1.06Z"></path>
</svg></button>
    </div>
  </div>
</div>
      <scrollable-region data-labelled-by="context-region-dialog-title">
        <div data-view-component="true" class="Overlay-body">          <ul role="list" class="list-style-none" >
    <li>
      <a data-analytics-event="{&quot;category&quot;:&quot;SiteHeaderComponent&quot;,&quot;action&quot;:&quot;context_region_crumb&quot;,&quot;label&quot;:&quot;katarina74&quot;,&quot;screen_size&quot;:&quot;compact&quot;}" href="/katarina74" data-view-component="true" class="Link--primary Truncate d-flex flex-items-center py-1">
        <span class="AppHeader-context-item-label Truncate-text ">
            <svg aria-hidden="true" height="12" viewBox="0 0 16 16" version="1.1" width="12" data-view-component="true" class="octicon octicon-person mr-1">
    <path d="M10.561 8.073a6.005 6.005 0 0 1 3.432 5.142.75.75 0 1 1-1.498.07 4.5 4.5 0 0 0-8.99 0 .75.75 0 0 1-1.498-.07 6.004 6.004 0 0 1 3.431-5.142 3.999 3.999 0 1 1 5.123 0ZM10.5 5a2.5 2.5 0 1 0-5 0 2.5 2.5 0 0 0 5 0Z"></path>
</svg>

          katarina74
        </span>

</a>
    </li>
    <li>
      <a data-analytics-event="{&quot;category&quot;:&quot;SiteHeaderComponent&quot;,&quot;action&quot;:&quot;context_region_crumb&quot;,&quot;label&quot;:&quot;ml_lessons&quot;,&quot;screen_size&quot;:&quot;compact&quot;}" href="/katarina74/ml_lessons" data-view-component="true" class="Link--primary Truncate d-flex flex-items-center py-1">
        <span class="AppHeader-context-item-label Truncate-text ">
            <svg aria-hidden="true" height="12" viewBox="0 0 16 16" version="1.1" width="12" data-view-component="true" class="octicon octicon-repo mr-1">
    <path d="M2 2.5A2.5 2.5 0 0 1 4.5 0h8.75a.75.75 0 0 1 .75.75v12.5a.75.75 0 0 1-.75.75h-2.5a.75.75 0 0 1 0-1.5h1.75v-2h-8a1 1 0 0 0-.714 1.7.75.75 0 1 1-1.072 1.05A2.495 2.495 0 0 1 2 11.5Zm10.5-1h-8a1 1 0 0 0-1 1v6.708A2.486 2.486 0 0 1 4.5 9h8ZM5 12.25a.25.25 0 0 1 .25-.25h3.5a.25.25 0 0 1 .25.25v3.25a.25.25 0 0 1-.4.2l-1.45-1.087a.249.249 0 0 0-.3 0L5.4 15.7a.25.25 0 0 1-.4-.2Z"></path>
</svg>

          ml_lessons
        </span>

</a>
    </li>
</ul>

</div>
      </scrollable-region>
      
</dialog></dialog-helper>
  </div>

  <div class="AppHeader-context-full">
    <nav role="navigation" aria-label="Page context">
      <ul role="list" class="list-style-none" >
    <li>
      <a data-analytics-event="{&quot;category&quot;:&quot;SiteHeaderComponent&quot;,&quot;action&quot;:&quot;context_region_crumb&quot;,&quot;label&quot;:&quot;katarina74&quot;,&quot;screen_size&quot;:&quot;full&quot;}" data-hovercard-type="user" data-hovercard-url="/users/katarina74/hovercard" data-octo-click="hovercard-link-click" data-octo-dimensions="link_type:self" href="/katarina74" data-view-component="true" class="AppHeader-context-item">
        <span class="AppHeader-context-item-label  ">

          katarina74
        </span>

</a>
        <span class="AppHeader-context-item-separator">/</span>
    </li>
    <li>
      <a data-analytics-event="{&quot;category&quot;:&quot;SiteHeaderComponent&quot;,&quot;action&quot;:&quot;context_region_crumb&quot;,&quot;label&quot;:&quot;ml_lessons&quot;,&quot;screen_size&quot;:&quot;full&quot;}" href="/katarina74/ml_lessons" data-view-component="true" class="AppHeader-context-item">
        <span class="AppHeader-context-item-label  ">

          ml_lessons
        </span>

</a>
    </li>
</ul>

    </nav>
  </div>
</div>

      </div>
      <div class="AppHeader-globalBar-end">
          <div class="AppHeader-search" >
              


<qbsearch-input class="search-input" data-scope="repo:katarina74/ml_lessons" data-custom-scopes-path="/search/custom_scopes" data-delete-custom-scopes-csrf="XGNVWmXMYZlSIj3q5zx2JcVBuSR3jcxYAxWwnDtrN9um5sBCmvx1w4B-ToOSWB218Wkag7Hw4q78FNuVeefDzw" data-max-custom-scopes="10" data-header-redesign-enabled="true" data-initial-value="" data-blackbird-suggestions-path="/search/suggestions" data-jump-to-suggestions-path="/_graphql/GetSuggestedNavigationDestinations" data-current-repository="katarina74/ml_lessons" data-current-org="" data-current-owner="katarina74" data-logged-in="true" data-copilot-chat-enabled="false" data-blackbird-indexed-repo-csrf="<input type=&quot;hidden&quot; value=&quot;l9X17Pj2jR4yUTtl7lGrtOjSkzUwgnXSDndyRDIyH9jdeYEjShMb4PVdL-jHHbeMFoc-9eWJP2G1lvg-5su_4Q&quot; data-csrf=&quot;true&quot; />">
  <div
    class="search-input-container search-with-dialog position-relative d-flex flex-row flex-items-center height-auto color-bg-transparent border-0 color-fg-subtle mx-0"
    data-action="click:qbsearch-input#searchInputContainerClicked"
  >
      
            <button type="button" data-action="click:qbsearch-input#handleExpand" class="AppHeader-button AppHeader-search-whenNarrow" aria-label="Search or jump to…" aria-expanded="false" aria-haspopup="dialog">
            <svg aria-hidden="true" height="16" viewBox="0 0 16 16" version="1.1" width="16" data-view-component="true" class="octicon octicon-search">
    <path d="M10.68 11.74a6 6 0 0 1-7.922-8.982 6 6 0 0 1 8.982 7.922l3.04 3.04a.749.749 0 0 1-.326 1.275.749.749 0 0 1-.734-.215ZM11.5 7a4.499 4.499 0 1 0-8.997 0A4.499 4.499 0 0 0 11.5 7Z"></path>
</svg>
          </button>


<div class="AppHeader-search-whenRegular">
  <div class="AppHeader-search-wrap AppHeader-search-wrap--hasTrailing">
    <div class="AppHeader-search-control">
      <label
        for="AppHeader-searchInput"
        aria-label="Search or jump to…"
        class="AppHeader-search-visual--leading"
      >
        <svg aria-hidden="true" height="16" viewBox="0 0 16 16" version="1.1" width="16" data-view-component="true" class="octicon octicon-search">
    <path d="M10.68 11.74a6 6 0 0 1-7.922-8.982 6 6 0 0 1 8.982 7.922l3.04 3.04a.749.749 0 0 1-.326 1.275.749.749 0 0 1-.734-.215ZM11.5 7a4.499 4.499 0 1 0-8.997 0A4.499 4.499 0 0 0 11.5 7Z"></path>
</svg>
      </label>

                <button
            type="button"
            data-target="qbsearch-input.inputButton"
            data-action="click:qbsearch-input#handleExpand"
            class="AppHeader-searchButton form-control input-contrast text-left color-fg-subtle no-wrap"
            data-hotkey="s,/"
            data-analytics-event="{&quot;category&quot;:&quot;Global navigation&quot;,&quot;action&quot;:&quot;SEARCH&quot;,&quot;label&quot;:null}"
          >
            <div class="overflow-hidden">
              <span id="qb-input-query" data-target="qbsearch-input.inputButtonText">
                  Type <kbd class="AppHeader-search-kbd">/</kbd> to search
              </span>
            </div>
          </button>

    </div>


      <button type="button" id="AppHeader-commandPalette-button" class="AppHeader-search-action--trailing js-activate-command-palette" data-analytics-event="{&quot;category&quot;:&quot;SiteHeaderComponent&quot;,&quot;action&quot;:&quot;command_palette&quot;,&quot;label&quot;:&quot;open command palette&quot;}">
        <svg aria-hidden="true" height="16" viewBox="0 0 16 16" version="1.1" width="16" data-view-component="true" class="octicon octicon-command-palette">
    <path d="m6.354 8.04-4.773 4.773a.75.75 0 1 0 1.061 1.06L7.945 8.57a.75.75 0 0 0 0-1.06L2.642 2.206a.75.75 0 0 0-1.06 1.061L6.353 8.04ZM8.75 11.5a.75.75 0 0 0 0 1.5h5.5a.75.75 0 0 0 0-1.5h-5.5Z"></path>
</svg>
      </button>

      <tool-tip id="tooltip-119b6728-5959-4f25-bd83-65c5f444dfbb" for="AppHeader-commandPalette-button" popover="manual" data-direction="s" data-type="label" data-view-component="true" class="sr-only position-absolute">Command palette</tool-tip>
  </div>
</div>

    <input type="hidden" name="type" class="js-site-search-type-field">

    
<div class="Overlay--hidden " data-modal-dialog-overlay>
  <modal-dialog data-action="close:qbsearch-input#handleClose cancel:qbsearch-input#handleClose" data-target="qbsearch-input.searchSuggestionsDialog" role="dialog" id="search-suggestions-dialog" aria-modal="true" aria-labelledby="search-suggestions-dialog-header" data-view-component="true" class="Overlay Overlay--width-medium Overlay--height-auto">
      <h1 id="search-suggestions-dialog-header" class="sr-only">Search code, repositories, users, issues, pull requests...</h1>
    <div class="Overlay-body Overlay-body--paddingNone">
      
          <div data-view-component="true">        <div class="search-suggestions position-absolute width-full color-shadow-large border color-fg-default color-bg-default overflow-hidden d-flex flex-column query-builder-container"
          style="border-radius: 12px;"
          data-target="qbsearch-input.queryBuilderContainer"
          hidden
        >
          <!-- '"` --><!-- </textarea></xmp> --></option></form><form id="query-builder-test-form" action="" accept-charset="UTF-8" method="get">
  <query-builder data-target="qbsearch-input.queryBuilder" id="query-builder-query-builder-test" data-filter-key=":" data-view-component="true" class="QueryBuilder search-query-builder">
    <div class="FormControl FormControl--fullWidth">
      <label id="query-builder-test-label" for="query-builder-test" class="FormControl-label sr-only">
        Search
      </label>
      <div
        class="QueryBuilder-StyledInput width-fit "
        data-target="query-builder.styledInput"
      >
          <span id="query-builder-test-leadingvisual-wrap" class="FormControl-input-leadingVisualWrap QueryBuilder-leadingVisualWrap">
            <svg aria-hidden="true" height="16" viewBox="0 0 16 16" version="1.1" width="16" data-view-component="true" class="octicon octicon-search FormControl-input-leadingVisual">
    <path d="M10.68 11.74a6 6 0 0 1-7.922-8.982 6 6 0 0 1 8.982 7.922l3.04 3.04a.749.749 0 0 1-.326 1.275.749.749 0 0 1-.734-.215ZM11.5 7a4.499 4.499 0 1 0-8.997 0A4.499 4.499 0 0 0 11.5 7Z"></path>
</svg>
          </span>
        <div data-target="query-builder.styledInputContainer" class="QueryBuilder-StyledInputContainer">
          <div
            aria-hidden="true"
            class="QueryBuilder-StyledInputContent"
            data-target="query-builder.styledInputContent"
          ></div>
          <div class="QueryBuilder-InputWrapper">
            <div aria-hidden="true" class="QueryBuilder-Sizer" data-target="query-builder.sizer"></div>
            <input id="query-builder-test" name="query-builder-test" value="" autocomplete="off" type="text" role="combobox" spellcheck="false" aria-expanded="false" aria-describedby="validation-d533486b-129c-4518-900b-c3b3d5e12e1e" data-target="query-builder.input" data-action="
          input:query-builder#inputChange
          blur:query-builder#inputBlur
          keydown:query-builder#inputKeydown
          focus:query-builder#inputFocus
        " data-view-component="true" class="FormControl-input QueryBuilder-Input FormControl-medium" />
          </div>
        </div>
          <span class="sr-only" id="query-builder-test-clear">Clear</span>
          <button role="button" id="query-builder-test-clear-button" aria-labelledby="query-builder-test-clear query-builder-test-label" data-target="query-builder.clearButton" data-action="
                click:query-builder#clear
                focus:query-builder#clearButtonFocus
                blur:query-builder#clearButtonBlur
              " variant="small" hidden="hidden" type="button" data-view-component="true" class="Button Button--iconOnly Button--invisible Button--medium mr-1 px-2 py-0 d-flex flex-items-center rounded-1 color-fg-muted">  <svg aria-hidden="true" height="16" viewBox="0 0 16 16" version="1.1" width="16" data-view-component="true" class="octicon octicon-x-circle-fill Button-visual">
    <path d="M2.343 13.657A8 8 0 1 1 13.658 2.343 8 8 0 0 1 2.343 13.657ZM6.03 4.97a.751.751 0 0 0-1.042.018.751.751 0 0 0-.018 1.042L6.94 8 4.97 9.97a.749.749 0 0 0 .326 1.275.749.749 0 0 0 .734-.215L8 9.06l1.97 1.97a.749.749 0 0 0 1.275-.326.749.749 0 0 0-.215-.734L9.06 8l1.97-1.97a.749.749 0 0 0-.326-1.275.749.749 0 0 0-.734.215L8 6.94Z"></path>
</svg>
</button>

      </div>
      <template id="search-icon">
  <svg aria-hidden="true" height="16" viewBox="0 0 16 16" version="1.1" width="16" data-view-component="true" class="octicon octicon-search">
    <path d="M10.68 11.74a6 6 0 0 1-7.922-8.982 6 6 0 0 1 8.982 7.922l3.04 3.04a.749.749 0 0 1-.326 1.275.749.749 0 0 1-.734-.215ZM11.5 7a4.499 4.499 0 1 0-8.997 0A4.499 4.499 0 0 0 11.5 7Z"></path>
</svg>
</template>

<template id="code-icon">
  <svg aria-hidden="true" height="16" viewBox="0 0 16 16" version="1.1" width="16" data-view-component="true" class="octicon octicon-code">
    <path d="m11.28 3.22 4.25 4.25a.75.75 0 0 1 0 1.06l-4.25 4.25a.749.749 0 0 1-1.275-.326.749.749 0 0 1 .215-.734L13.94 8l-3.72-3.72a.749.749 0 0 1 .326-1.275.749.749 0 0 1 .734.215Zm-6.56 0a.751.751 0 0 1 1.042.018.751.751 0 0 1 .018 1.042L2.06 8l3.72 3.72a.749.749 0 0 1-.326 1.275.749.749 0 0 1-.734-.215L.47 8.53a.75.75 0 0 1 0-1.06Z"></path>
</svg>
</template>

<template id="file-code-icon">
  <svg aria-hidden="true" height="16" viewBox="0 0 16 16" version="1.1" width="16" data-view-component="true" class="octicon octicon-file-code">
    <path d="M4 1.75C4 .784 4.784 0 5.75 0h5.586c.464 0 .909.184 1.237.513l2.914 2.914c.329.328.513.773.513 1.237v8.586A1.75 1.75 0 0 1 14.25 15h-9a.75.75 0 0 1 0-1.5h9a.25.25 0 0 0 .25-.25V6h-2.75A1.75 1.75 0 0 1 10 4.25V1.5H5.75a.25.25 0 0 0-.25.25v2.5a.75.75 0 0 1-1.5 0Zm1.72 4.97a.75.75 0 0 1 1.06 0l2 2a.75.75 0 0 1 0 1.06l-2 2a.749.749 0 0 1-1.275-.326.749.749 0 0 1 .215-.734l1.47-1.47-1.47-1.47a.75.75 0 0 1 0-1.06ZM3.28 7.78 1.81 9.25l1.47 1.47a.751.751 0 0 1-.018 1.042.751.751 0 0 1-1.042.018l-2-2a.75.75 0 0 1 0-1.06l2-2a.751.751 0 0 1 1.042.018.751.751 0 0 1 .018 1.042Zm8.22-6.218V4.25c0 .138.112.25.25.25h2.688l-.011-.013-2.914-2.914-.013-.011Z"></path>
</svg>
</template>

<template id="history-icon">
  <svg aria-hidden="true" height="16" viewBox="0 0 16 16" version="1.1" width="16" data-view-component="true" class="octicon octicon-history">
    <path d="m.427 1.927 1.215 1.215a8.002 8.002 0 1 1-1.6 5.685.75.75 0 1 1 1.493-.154 6.5 6.5 0 1 0 1.18-4.458l1.358 1.358A.25.25 0 0 1 3.896 6H.25A.25.25 0 0 1 0 5.75V2.104a.25.25 0 0 1 .427-.177ZM7.75 4a.75.75 0 0 1 .75.75v2.992l2.028.812a.75.75 0 0 1-.557 1.392l-2.5-1A.751.751 0 0 1 7 8.25v-3.5A.75.75 0 0 1 7.75 4Z"></path>
</svg>
</template>

<template id="repo-icon">
  <svg aria-hidden="true" height="16" viewBox="0 0 16 16" version="1.1" width="16" data-view-component="true" class="octicon octicon-repo">
    <path d="M2 2.5A2.5 2.5 0 0 1 4.5 0h8.75a.75.75 0 0 1 .75.75v12.5a.75.75 0 0 1-.75.75h-2.5a.75.75 0 0 1 0-1.5h1.75v-2h-8a1 1 0 0 0-.714 1.7.75.75 0 1 1-1.072 1.05A2.495 2.495 0 0 1 2 11.5Zm10.5-1h-8a1 1 0 0 0-1 1v6.708A2.486 2.486 0 0 1 4.5 9h8ZM5 12.25a.25.25 0 0 1 .25-.25h3.5a.25.25 0 0 1 .25.25v3.25a.25.25 0 0 1-.4.2l-1.45-1.087a.249.249 0 0 0-.3 0L5.4 15.7a.25.25 0 0 1-.4-.2Z"></path>
</svg>
</template>

<template id="bookmark-icon">
  <svg aria-hidden="true" height="16" viewBox="0 0 16 16" version="1.1" width="16" data-view-component="true" class="octicon octicon-bookmark">
    <path d="M3 2.75C3 1.784 3.784 1 4.75 1h6.5c.966 0 1.75.784 1.75 1.75v11.5a.75.75 0 0 1-1.227.579L8 11.722l-3.773 3.107A.751.751 0 0 1 3 14.25Zm1.75-.25a.25.25 0 0 0-.25.25v9.91l3.023-2.489a.75.75 0 0 1 .954 0l3.023 2.49V2.75a.25.25 0 0 0-.25-.25Z"></path>
</svg>
</template>

<template id="plus-circle-icon">
  <svg aria-hidden="true" height="16" viewBox="0 0 16 16" version="1.1" width="16" data-view-component="true" class="octicon octicon-plus-circle">
    <path d="M8 0a8 8 0 1 1 0 16A8 8 0 0 1 8 0ZM1.5 8a6.5 6.5 0 1 0 13 0 6.5 6.5 0 0 0-13 0Zm7.25-3.25v2.5h2.5a.75.75 0 0 1 0 1.5h-2.5v2.5a.75.75 0 0 1-1.5 0v-2.5h-2.5a.75.75 0 0 1 0-1.5h2.5v-2.5a.75.75 0 0 1 1.5 0Z"></path>
</svg>
</template>

<template id="circle-icon">
  <svg aria-hidden="true" height="16" viewBox="0 0 16 16" version="1.1" width="16" data-view-component="true" class="octicon octicon-dot-fill">
    <path d="M8 4a4 4 0 1 1 0 8 4 4 0 0 1 0-8Z"></path>
</svg>
</template>

<template id="trash-icon">
  <svg aria-hidden="true" height="16" viewBox="0 0 16 16" version="1.1" width="16" data-view-component="true" class="octicon octicon-trash">
    <path d="M11 1.75V3h2.25a.75.75 0 0 1 0 1.5H2.75a.75.75 0 0 1 0-1.5H5V1.75C5 .784 5.784 0 6.75 0h2.5C10.216 0 11 .784 11 1.75ZM4.496 6.675l.66 6.6a.25.25 0 0 0 .249.225h5.19a.25.25 0 0 0 .249-.225l.66-6.6a.75.75 0 0 1 1.492.149l-.66 6.6A1.748 1.748 0 0 1 10.595 15h-5.19a1.75 1.75 0 0 1-1.741-1.575l-.66-6.6a.75.75 0 1 1 1.492-.15ZM6.5 1.75V3h3V1.75a.25.25 0 0 0-.25-.25h-2.5a.25.25 0 0 0-.25.25Z"></path>
</svg>
</template>

<template id="team-icon">
  <svg aria-hidden="true" height="16" viewBox="0 0 16 16" version="1.1" width="16" data-view-component="true" class="octicon octicon-people">
    <path d="M2 5.5a3.5 3.5 0 1 1 5.898 2.549 5.508 5.508 0 0 1 3.034 4.084.75.75 0 1 1-1.482.235 4 4 0 0 0-7.9 0 .75.75 0 0 1-1.482-.236A5.507 5.507 0 0 1 3.102 8.05 3.493 3.493 0 0 1 2 5.5ZM11 4a3.001 3.001 0 0 1 2.22 5.018 5.01 5.01 0 0 1 2.56 3.012.749.749 0 0 1-.885.954.752.752 0 0 1-.549-.514 3.507 3.507 0 0 0-2.522-2.372.75.75 0 0 1-.574-.73v-.352a.75.75 0 0 1 .416-.672A1.5 1.5 0 0 0 11 5.5.75.75 0 0 1 11 4Zm-5.5-.5a2 2 0 1 0-.001 3.999A2 2 0 0 0 5.5 3.5Z"></path>
</svg>
</template>

<template id="project-icon">
  <svg aria-hidden="true" height="16" viewBox="0 0 16 16" version="1.1" width="16" data-view-component="true" class="octicon octicon-project">
    <path d="M1.75 0h12.5C15.216 0 16 .784 16 1.75v12.5A1.75 1.75 0 0 1 14.25 16H1.75A1.75 1.75 0 0 1 0 14.25V1.75C0 .784.784 0 1.75 0ZM1.5 1.75v12.5c0 .138.112.25.25.25h12.5a.25.25 0 0 0 .25-.25V1.75a.25.25 0 0 0-.25-.25H1.75a.25.25 0 0 0-.25.25ZM11.75 3a.75.75 0 0 1 .75.75v7.5a.75.75 0 0 1-1.5 0v-7.5a.75.75 0 0 1 .75-.75Zm-8.25.75a.75.75 0 0 1 1.5 0v5.5a.75.75 0 0 1-1.5 0ZM8 3a.75.75 0 0 1 .75.75v3.5a.75.75 0 0 1-1.5 0v-3.5A.75.75 0 0 1 8 3Z"></path>
</svg>
</template>

<template id="pencil-icon">
  <svg aria-hidden="true" height="16" viewBox="0 0 16 16" version="1.1" width="16" data-view-component="true" class="octicon octicon-pencil">
    <path d="M11.013 1.427a1.75 1.75 0 0 1 2.474 0l1.086 1.086a1.75 1.75 0 0 1 0 2.474l-8.61 8.61c-.21.21-.47.364-.756.445l-3.251.93a.75.75 0 0 1-.927-.928l.929-3.25c.081-.286.235-.547.445-.758l8.61-8.61Zm.176 4.823L9.75 4.81l-6.286 6.287a.253.253 0 0 0-.064.108l-.558 1.953 1.953-.558a.253.253 0 0 0 .108-.064Zm1.238-3.763a.25.25 0 0 0-.354 0L10.811 3.75l1.439 1.44 1.263-1.263a.25.25 0 0 0 0-.354Z"></path>
</svg>
</template>

<template id="copilot-icon">
  <svg aria-hidden="true" height="16" viewBox="0 0 16 16" version="1.1" width="16" data-view-component="true" class="octicon octicon-copilot">
    <path d="M7.998 15.035c-4.562 0-7.873-2.914-7.998-3.749V9.338c.085-.628.677-1.686 1.588-2.065.013-.07.024-.143.036-.218.029-.183.06-.384.126-.612-.201-.508-.254-1.084-.254-1.656 0-.87.128-1.769.693-2.484.579-.733 1.494-1.124 2.724-1.261 1.206-.134 2.262.034 2.944.765.05.053.096.108.139.165.044-.057.094-.112.143-.165.682-.731 1.738-.899 2.944-.765 1.23.137 2.145.528 2.724 1.261.566.715.693 1.614.693 2.484 0 .572-.053 1.148-.254 1.656.066.228.098.429.126.612.012.076.024.148.037.218.924.385 1.522 1.471 1.591 2.095v1.872c0 .766-3.351 3.795-8.002 3.795Zm0-1.485c2.28 0 4.584-1.11 5.002-1.433V7.862l-.023-.116c-.49.21-1.075.291-1.727.291-1.146 0-2.059-.327-2.71-.991A3.222 3.222 0 0 1 8 6.303a3.24 3.24 0 0 1-.544.743c-.65.664-1.563.991-2.71.991-.652 0-1.236-.081-1.727-.291l-.023.116v4.255c.419.323 2.722 1.433 5.002 1.433ZM6.762 2.83c-.193-.206-.637-.413-1.682-.297-1.019.113-1.479.404-1.713.7-.247.312-.369.789-.369 1.554 0 .793.129 1.171.308 1.371.162.181.519.379 1.442.379.853 0 1.339-.235 1.638-.54.315-.322.527-.827.617-1.553.117-.935-.037-1.395-.241-1.614Zm4.155-.297c-1.044-.116-1.488.091-1.681.297-.204.219-.359.679-.242 1.614.091.726.303 1.231.618 1.553.299.305.784.54 1.638.54.922 0 1.28-.198 1.442-.379.179-.2.308-.578.308-1.371 0-.765-.123-1.242-.37-1.554-.233-.296-.693-.587-1.713-.7Z"></path><path d="M6.25 9.037a.75.75 0 0 1 .75.75v1.501a.75.75 0 0 1-1.5 0V9.787a.75.75 0 0 1 .75-.75Zm4.25.75v1.501a.75.75 0 0 1-1.5 0V9.787a.75.75 0 0 1 1.5 0Z"></path>
</svg>
</template>

        <div class="position-relative">
                <ul
                  role="listbox"
                  class="ActionListWrap QueryBuilder-ListWrap"
                  aria-label="Suggestions"
                  data-action="
                    combobox-commit:query-builder#comboboxCommit
                    mousedown:query-builder#resultsMousedown
                  "
                  data-target="query-builder.resultsList"
                  data-persist-list=false
                  id="query-builder-test-results"
                ></ul>
        </div>
      <div class="FormControl-inlineValidation" id="validation-d533486b-129c-4518-900b-c3b3d5e12e1e" hidden="hidden">
        <span class="FormControl-inlineValidation--visual">
          <svg aria-hidden="true" height="12" viewBox="0 0 12 12" version="1.1" width="12" data-view-component="true" class="octicon octicon-alert-fill">
    <path d="M4.855.708c.5-.896 1.79-.896 2.29 0l4.675 8.351a1.312 1.312 0 0 1-1.146 1.954H1.33A1.313 1.313 0 0 1 .183 9.058ZM7 7V3H5v4Zm-1 3a1 1 0 1 0 0-2 1 1 0 0 0 0 2Z"></path>
</svg>
        </span>
        <span></span>
</div>    </div>
    <div data-target="query-builder.screenReaderFeedback" aria-live="polite" aria-atomic="true" class="sr-only"></div>
</query-builder></form>
          <div class="d-flex flex-row color-fg-muted px-3 text-small color-bg-default search-feedback-prompt">
            <a target="_blank" href="https://docs.github.com/search-github/github-code-search/understanding-github-code-search-syntax" data-view-component="true" class="Link color-fg-accent text-normal ml-2">
              Search syntax tips
</a>            <div class="d-flex flex-1"></div>
              <button data-action="click:qbsearch-input#showFeedbackDialog" type="button" data-view-component="true" class="Button--link Button--medium Button color-fg-accent text-normal ml-2">  <span class="Button-content">
    <span class="Button-label">Give feedback</span>
  </span>
</button>
          </div>
        </div>
</div>

    </div>
</modal-dialog></div>
  </div>
  <div data-action="click:qbsearch-input#retract" class="dark-backdrop position-fixed" hidden data-target="qbsearch-input.darkBackdrop"></div>
  <div class="color-fg-default">
    
<dialog-helper>
  <dialog data-target="qbsearch-input.feedbackDialog" data-action="close:qbsearch-input#handleDialogClose cancel:qbsearch-input#handleDialogClose" id="feedback-dialog" aria-modal="true" aria-labelledby="feedback-dialog-title" aria-describedby="feedback-dialog-description" data-view-component="true" class="Overlay Overlay-whenNarrow Overlay--size-medium Overlay--motion-scaleFade">
    <div data-view-component="true" class="Overlay-header">
  <div class="Overlay-headerContentWrap">
    <div class="Overlay-titleWrap">
      <h1 class="Overlay-title " id="feedback-dialog-title">
        Provide feedback
      </h1>
    </div>
    <div class="Overlay-actionWrap">
      <button data-close-dialog-id="feedback-dialog" aria-label="Close" type="button" data-view-component="true" class="close-button Overlay-closeButton"><svg aria-hidden="true" height="16" viewBox="0 0 16 16" version="1.1" width="16" data-view-component="true" class="octicon octicon-x">
    <path d="M3.72 3.72a.75.75 0 0 1 1.06 0L8 6.94l3.22-3.22a.749.749 0 0 1 1.275.326.749.749 0 0 1-.215.734L9.06 8l3.22 3.22a.749.749 0 0 1-.326 1.275.749.749 0 0 1-.734-.215L8 9.06l-3.22 3.22a.751.751 0 0 1-1.042-.018.751.751 0 0 1-.018-1.042L6.94 8 3.72 4.78a.75.75 0 0 1 0-1.06Z"></path>
</svg></button>
    </div>
  </div>
</div>
      <scrollable-region data-labelled-by="feedback-dialog-title">
        <div data-view-component="true" class="Overlay-body">        <!-- '"` --><!-- </textarea></xmp> --></option></form><form id="code-search-feedback-form" data-turbo="false" action="/search/feedback" accept-charset="UTF-8" method="post"><input type="hidden" name="authenticity_token" value="1fFJEhc-8nktWGF10_6ZF9EWJHNKtxtyMvIz2tPdmKAfHYwjFLxVHAjzwWkfrw847NYa45FRrT7uoTGZgKYIxQ" />
          <p>We read every piece of feedback, and take your input very seriously.</p>
          <textarea name="feedback" class="form-control width-full mb-2" style="height: 120px" id="feedback"></textarea>
          <input name="include_email" id="include_email" aria-label="Include my email address so I can be contacted" class="form-control mr-2" type="checkbox">
          <label for="include_email" style="font-weight: normal">Include my email address so I can be contacted</label>
</form></div>
      </scrollable-region>
      <div data-view-component="true" class="Overlay-footer Overlay-footer--alignEnd">          <button data-close-dialog-id="feedback-dialog" type="button" data-view-component="true" class="btn">    Cancel
</button>
          <button form="code-search-feedback-form" data-action="click:qbsearch-input#submitFeedback" type="submit" data-view-component="true" class="btn-primary btn">    Submit feedback
</button>
</div>
</dialog></dialog-helper>

    <custom-scopes data-target="qbsearch-input.customScopesManager">
    
<dialog-helper>
  <dialog data-target="custom-scopes.customScopesModalDialog" data-action="close:qbsearch-input#handleDialogClose cancel:qbsearch-input#handleDialogClose" id="custom-scopes-dialog" aria-modal="true" aria-labelledby="custom-scopes-dialog-title" aria-describedby="custom-scopes-dialog-description" data-view-component="true" class="Overlay Overlay-whenNarrow Overlay--size-medium Overlay--motion-scaleFade">
    <div data-view-component="true" class="Overlay-header Overlay-header--divided">
  <div class="Overlay-headerContentWrap">
    <div class="Overlay-titleWrap">
      <h1 class="Overlay-title " id="custom-scopes-dialog-title">
        Saved searches
      </h1>
        <h2 id="custom-scopes-dialog-description" class="Overlay-description">Use saved searches to filter your results more quickly</h2>
    </div>
    <div class="Overlay-actionWrap">
      <button data-close-dialog-id="custom-scopes-dialog" aria-label="Close" type="button" data-view-component="true" class="close-button Overlay-closeButton"><svg aria-hidden="true" height="16" viewBox="0 0 16 16" version="1.1" width="16" data-view-component="true" class="octicon octicon-x">
    <path d="M3.72 3.72a.75.75 0 0 1 1.06 0L8 6.94l3.22-3.22a.749.749 0 0 1 1.275.326.749.749 0 0 1-.215.734L9.06 8l3.22 3.22a.749.749 0 0 1-.326 1.275.749.749 0 0 1-.734-.215L8 9.06l-3.22 3.22a.751.751 0 0 1-1.042-.018.751.751 0 0 1-.018-1.042L6.94 8 3.72 4.78a.75.75 0 0 1 0-1.06Z"></path>
</svg></button>
    </div>
  </div>
</div>
      <scrollable-region data-labelled-by="custom-scopes-dialog-title">
        <div data-view-component="true" class="Overlay-body">        <div data-target="custom-scopes.customScopesModalDialogFlash"></div>

        <div hidden class="create-custom-scope-form" data-target="custom-scopes.createCustomScopeForm">
        <!-- '"` --><!-- </textarea></xmp> --></option></form><form id="custom-scopes-dialog-form" data-turbo="false" action="/search/custom_scopes" accept-charset="UTF-8" method="post"><input type="hidden" name="authenticity_token" value="O-ezeOTx6w5EDmKV1t-VPDDPmhS47_anwoyih52dDZ-kqJU7pwgB58mQfaVmnZvizm7LGqmh3_zhvqtVVqYuoA" />
          <div data-target="custom-scopes.customScopesModalDialogFlash"></div>

          <input type="hidden" id="custom_scope_id" name="custom_scope_id" data-target="custom-scopes.customScopesIdField">

          <div class="form-group">
            <label for="custom_scope_name">Name</label>
            <auto-check src="/search/custom_scopes/check_name" required>
              <input
                type="text"
                name="custom_scope_name"
                id="custom_scope_name"
                data-target="custom-scopes.customScopesNameField"
                class="form-control"
                autocomplete="off"
                placeholder="github-ruby"
                required
                maxlength="50">
              <input type="hidden" value="PXEZt3kCW0-EqIs95Z3SKJnPVW0-QP-zmA35WHYGPskOsVOYfFBHiHVmdJMBZxjPZ5mSUCc9KgJpytCSaB9leQ" data-csrf="true" />
            </auto-check>
          </div>

          <div class="form-group">
            <label for="custom_scope_query">Query</label>
            <input
              type="text"
              name="custom_scope_query"
              id="custom_scope_query"
              data-target="custom-scopes.customScopesQueryField"
              class="form-control"
              autocomplete="off"
              placeholder="(repo:mona/a OR repo:mona/b) AND lang:python"
              required
              maxlength="500">
          </div>

          <p class="text-small color-fg-muted">
            To see all available qualifiers, see our <a class="Link--inTextBlock" href="https://docs.github.com/search-github/github-code-search/understanding-github-code-search-syntax">documentation</a>.
          </p>
</form>        </div>

        <div data-target="custom-scopes.manageCustomScopesForm">
          <div data-target="custom-scopes.list"></div>
        </div>

</div>
      </scrollable-region>
      <div data-view-component="true" class="Overlay-footer Overlay-footer--alignEnd Overlay-footer--divided">          <button data-action="click:custom-scopes#customScopesCancel" type="button" data-view-component="true" class="btn">    Cancel
</button>
          <button form="custom-scopes-dialog-form" data-action="click:custom-scopes#customScopesSubmit" data-target="custom-scopes.customScopesSubmitButton" type="submit" data-view-component="true" class="btn-primary btn">    Create saved search
</button>
</div>
</dialog></dialog-helper>
    </custom-scopes>
  </div>
</qbsearch-input><input type="hidden" value="iunML3WNKUgbAOmz0-0166Md06tIyuhvtiXg4Fvhze8bqFAWzIUybTeUdGmAIQ5BA0S7WAsE1PXj9S2s8-hDaw" data-csrf="true" class="js-data-jump-to-suggestions-path-csrf" />

          </div>

        <div class="AppHeader-actions position-relative">
          <action-menu data-select-variant="none" data-view-component="true">
  <focus-group direction="vertical" mnemonics retain>
    <button id="global-create-menu-button" popovertarget="global-create-menu-overlay" aria-label="Create something new" aria-controls="global-create-menu-list" aria-haspopup="true" type="button" data-view-component="true" class="AppHeader-button Button--secondary Button--small Button width-auto color-fg-muted">  <span class="Button-content">
      <span class="Button-visual Button-leadingVisual">
        <svg aria-hidden="true" height="16" viewBox="0 0 16 16" version="1.1" width="16" data-view-component="true" class="octicon octicon-plus">
    <path d="M7.75 2a.75.75 0 0 1 .75.75V7h4.25a.75.75 0 0 1 0 1.5H8.5v4.25a.75.75 0 0 1-1.5 0V8.5H2.75a.75.75 0 0 1 0-1.5H7V2.75A.75.75 0 0 1 7.75 2Z"></path>
</svg>
      </span>
    <span class="Button-label"><svg aria-hidden="true" height="16" viewBox="0 0 16 16" version="1.1" width="16" data-view-component="true" class="octicon octicon-triangle-down">
    <path d="m4.427 7.427 3.396 3.396a.25.25 0 0 0 .354 0l3.396-3.396A.25.25 0 0 0 11.396 7H4.604a.25.25 0 0 0-.177.427Z"></path>
</svg></span>
  </span>
</button><tool-tip id="tooltip-a46af68e-fd03-4b18-b9c5-35a4659a7ba8" for="global-create-menu-button" popover="manual" data-direction="s" data-type="description" data-view-component="true" class="sr-only position-absolute">Create new...</tool-tip>


<anchored-position id="global-create-menu-overlay" anchor="global-create-menu-button" align="end" side="outside-bottom" anchor-offset="normal" popover="auto" data-view-component="true">
  <div data-view-component="true" class="Overlay Overlay--size-auto">
    
      <div data-view-component="true" class="Overlay-body Overlay-body--paddingNone">          <div data-view-component="true">
  <ul aria-labelledby="global-create-menu-button" id="global-create-menu-list" role="menu" data-view-component="true" class="ActionListWrap--inset ActionListWrap">
      <li data-analytics-event="{&quot;category&quot;:&quot;SiteHeaderComponent&quot;,&quot;action&quot;:&quot;add_dropdown&quot;,&quot;label&quot;:&quot;new repository&quot;}" data-targets="action-list.items action-list.items" role="none" data-view-component="true" class="ActionListItem">
    
    <a href="/new" tabindex="-1" id="item-16647f91-60d4-42c2-9ea9-3b33f29d0e3a" role="menuitem" data-view-component="true" class="ActionListContent ActionListContent--visual16">
        <span class="ActionListItem-visual ActionListItem-visual--leading">
          <svg aria-hidden="true" height="16" viewBox="0 0 16 16" version="1.1" width="16" data-view-component="true" class="octicon octicon-repo">
    <path d="M2 2.5A2.5 2.5 0 0 1 4.5 0h8.75a.75.75 0 0 1 .75.75v12.5a.75.75 0 0 1-.75.75h-2.5a.75.75 0 0 1 0-1.5h1.75v-2h-8a1 1 0 0 0-.714 1.7.75.75 0 1 1-1.072 1.05A2.495 2.495 0 0 1 2 11.5Zm10.5-1h-8a1 1 0 0 0-1 1v6.708A2.486 2.486 0 0 1 4.5 9h8ZM5 12.25a.25.25 0 0 1 .25-.25h3.5a.25.25 0 0 1 .25.25v3.25a.25.25 0 0 1-.4.2l-1.45-1.087a.249.249 0 0 0-.3 0L5.4 15.7a.25.25 0 0 1-.4-.2Z"></path>
</svg>
        </span>
      
        <span data-view-component="true" class="ActionListItem-label">
              New repository

</span></a>
  
  
</li>
      <li data-analytics-event="{&quot;category&quot;:&quot;SiteHeaderComponent&quot;,&quot;action&quot;:&quot;add_dropdown&quot;,&quot;label&quot;:&quot;import repository&quot;}" data-targets="action-list.items action-list.items" role="none" data-view-component="true" class="ActionListItem">
    
    <a href="/new/import" tabindex="-1" id="item-cacfbceb-f5ab-4853-b564-1ee047e56f45" role="menuitem" data-view-component="true" class="ActionListContent ActionListContent--visual16">
        <span class="ActionListItem-visual ActionListItem-visual--leading">
          <svg aria-hidden="true" height="16" viewBox="0 0 16 16" version="1.1" width="16" data-view-component="true" class="octicon octicon-repo-push">
    <path d="M1 2.5A2.5 2.5 0 0 1 3.5 0h8.75a.75.75 0 0 1 .75.75v3.5a.75.75 0 0 1-1.5 0V1.5h-8a1 1 0 0 0-1 1v6.708A2.493 2.493 0 0 1 3.5 9h3.25a.75.75 0 0 1 0 1.5H3.5a1 1 0 0 0 0 2h5.75a.75.75 0 0 1 0 1.5H3.5A2.5 2.5 0 0 1 1 11.5Zm13.23 7.79h-.001l-1.224-1.224v6.184a.75.75 0 0 1-1.5 0V9.066L10.28 10.29a.75.75 0 0 1-1.06-1.061l2.505-2.504a.75.75 0 0 1 1.06 0L15.29 9.23a.751.751 0 0 1-.018 1.042.751.751 0 0 1-1.042.018Z"></path>
</svg>
        </span>
      
        <span data-view-component="true" class="ActionListItem-label">
                Import repository

</span></a>
  
  
</li>
      <li role="presentation" aria-hidden="true" data-view-component="true" class="ActionList-sectionDivider"></li>
      <li data-analytics-event="{&quot;category&quot;:&quot;SiteHeaderComponent&quot;,&quot;action&quot;:&quot;add_dropdown&quot;,&quot;label&quot;:&quot;new codespace&quot;}" data-targets="action-list.items action-list.items" role="none" data-view-component="true" class="ActionListItem">
    
    <a href="/codespaces/new" tabindex="-1" id="item-2bb9a403-b41d-4321-9b72-f7d7583c7a56" role="menuitem" data-view-component="true" class="ActionListContent ActionListContent--visual16">
        <span class="ActionListItem-visual ActionListItem-visual--leading">
          <svg aria-hidden="true" height="16" viewBox="0 0 16 16" version="1.1" width="16" data-view-component="true" class="octicon octicon-codespaces">
    <path d="M0 11.25c0-.966.784-1.75 1.75-1.75h12.5c.966 0 1.75.784 1.75 1.75v3A1.75 1.75 0 0 1 14.25 16H1.75A1.75 1.75 0 0 1 0 14.25Zm2-9.5C2 .784 2.784 0 3.75 0h8.5C13.216 0 14 .784 14 1.75v5a1.75 1.75 0 0 1-1.75 1.75h-8.5A1.75 1.75 0 0 1 2 6.75Zm1.75-.25a.25.25 0 0 0-.25.25v5c0 .138.112.25.25.25h8.5a.25.25 0 0 0 .25-.25v-5a.25.25 0 0 0-.25-.25Zm-2 9.5a.25.25 0 0 0-.25.25v3c0 .138.112.25.25.25h12.5a.25.25 0 0 0 .25-.25v-3a.25.25 0 0 0-.25-.25Z"></path><path d="M7 12.75a.75.75 0 0 1 .75-.75h4.5a.75.75 0 0 1 0 1.5h-4.5a.75.75 0 0 1-.75-.75Zm-4 0a.75.75 0 0 1 .75-.75h.5a.75.75 0 0 1 0 1.5h-.5a.75.75 0 0 1-.75-.75Z"></path>
</svg>
        </span>
      
        <span data-view-component="true" class="ActionListItem-label">
                New codespace

</span></a>
  
  
</li>
      <li data-analytics-event="{&quot;category&quot;:&quot;SiteHeaderComponent&quot;,&quot;action&quot;:&quot;add_dropdown&quot;,&quot;label&quot;:&quot;new gist&quot;}" data-targets="action-list.items action-list.items" role="none" data-view-component="true" class="ActionListItem">
    
    <a href="https://gist.github.com/" tabindex="-1" id="item-d2fb1d0a-b8a7-46cd-a73b-415a1557f9b4" role="menuitem" data-view-component="true" class="ActionListContent ActionListContent--visual16">
        <span class="ActionListItem-visual ActionListItem-visual--leading">
          <svg aria-hidden="true" height="16" viewBox="0 0 16 16" version="1.1" width="16" data-view-component="true" class="octicon octicon-code">
    <path d="m11.28 3.22 4.25 4.25a.75.75 0 0 1 0 1.06l-4.25 4.25a.749.749 0 0 1-1.275-.326.749.749 0 0 1 .215-.734L13.94 8l-3.72-3.72a.749.749 0 0 1 .326-1.275.749.749 0 0 1 .734.215Zm-6.56 0a.751.751 0 0 1 1.042.018.751.751 0 0 1 .018 1.042L2.06 8l3.72 3.72a.749.749 0 0 1-.326 1.275.749.749 0 0 1-.734-.215L.47 8.53a.75.75 0 0 1 0-1.06Z"></path>
</svg>
        </span>
      
        <span data-view-component="true" class="ActionListItem-label">
                New gist

</span></a>
  
  
</li>
      <li role="presentation" aria-hidden="true" data-view-component="true" class="ActionList-sectionDivider"></li>
      <li data-targets="action-list.items action-list.items" role="none" data-view-component="true" class="ActionListItem">
    
    <a href="/account/organizations/new" tabindex="-1" data-dont-follow-via-test="true" data-analytics-event="{&quot;category&quot;:&quot;SiteHeaderComponent&quot;,&quot;action&quot;:&quot;add_dropdown&quot;,&quot;label&quot;:&quot;new organization&quot;}" id="item-6943ac57-3adc-42a5-ac4c-6dea0ff0560b" role="menuitem" data-view-component="true" class="ActionListContent ActionListContent--visual16">
        <span class="ActionListItem-visual ActionListItem-visual--leading">
          <svg aria-hidden="true" height="16" viewBox="0 0 16 16" version="1.1" width="16" data-view-component="true" class="octicon octicon-organization">
    <path d="M1.75 16A1.75 1.75 0 0 1 0 14.25V1.75C0 .784.784 0 1.75 0h8.5C11.216 0 12 .784 12 1.75v12.5c0 .085-.006.168-.018.25h2.268a.25.25 0 0 0 .25-.25V8.285a.25.25 0 0 0-.111-.208l-1.055-.703a.749.749 0 1 1 .832-1.248l1.055.703c.487.325.779.871.779 1.456v5.965A1.75 1.75 0 0 1 14.25 16h-3.5a.766.766 0 0 1-.197-.026c-.099.017-.2.026-.303.026h-3a.75.75 0 0 1-.75-.75V14h-1v1.25a.75.75 0 0 1-.75.75Zm-.25-1.75c0 .138.112.25.25.25H4v-1.25a.75.75 0 0 1 .75-.75h2.5a.75.75 0 0 1 .75.75v1.25h2.25a.25.25 0 0 0 .25-.25V1.75a.25.25 0 0 0-.25-.25h-8.5a.25.25 0 0 0-.25.25ZM3.75 6h.5a.75.75 0 0 1 0 1.5h-.5a.75.75 0 0 1 0-1.5ZM3 3.75A.75.75 0 0 1 3.75 3h.5a.75.75 0 0 1 0 1.5h-.5A.75.75 0 0 1 3 3.75Zm4 3A.75.75 0 0 1 7.75 6h.5a.75.75 0 0 1 0 1.5h-.5A.75.75 0 0 1 7 6.75ZM7.75 3h.5a.75.75 0 0 1 0 1.5h-.5a.75.75 0 0 1 0-1.5ZM3 9.75A.75.75 0 0 1 3.75 9h.5a.75.75 0 0 1 0 1.5h-.5A.75.75 0 0 1 3 9.75ZM7.75 9h.5a.75.75 0 0 1 0 1.5h-.5a.75.75 0 0 1 0-1.5Z"></path>
</svg>
        </span>
      
        <span data-view-component="true" class="ActionListItem-label">
                New organization

</span></a>
  
  
</li>
</ul>  
</div>

</div>
      
</div></anchored-position>  </focus-group>
</action-menu>


          <a href="/issues" data-analytics-event="{&quot;category&quot;:&quot;Global navigation&quot;,&quot;action&quot;:&quot;ISSUES_HEADER&quot;,&quot;label&quot;:null}" id="icon-button-afd184dc-9de6-43f4-bbfe-f1dbf983b23b" aria-labelledby="tooltip-a39e32ae-6339-4c72-80d2-54caab2d9bac" data-view-component="true" class="Button Button--iconOnly Button--secondary Button--medium AppHeader-button color-fg-muted">  <svg aria-hidden="true" height="16" viewBox="0 0 16 16" version="1.1" width="16" data-view-component="true" class="octicon octicon-issue-opened Button-visual">
    <path d="M8 9.5a1.5 1.5 0 1 0 0-3 1.5 1.5 0 0 0 0 3Z"></path><path d="M8 0a8 8 0 1 1 0 16A8 8 0 0 1 8 0ZM1.5 8a6.5 6.5 0 1 0 13 0 6.5 6.5 0 0 0-13 0Z"></path>
</svg>
</a><tool-tip id="tooltip-a39e32ae-6339-4c72-80d2-54caab2d9bac" for="icon-button-afd184dc-9de6-43f4-bbfe-f1dbf983b23b" popover="manual" data-direction="s" data-type="label" data-view-component="true" class="sr-only position-absolute">Issues</tool-tip>

          <a href="/pulls" data-analytics-event="{&quot;category&quot;:&quot;Global navigation&quot;,&quot;action&quot;:&quot;PULL_REQUESTS_HEADER&quot;,&quot;label&quot;:null}" id="icon-button-014428fd-73c1-4435-9189-47306ee0b5f1" aria-labelledby="tooltip-2e1c2706-aa11-4366-ac41-6b4a1762106f" data-view-component="true" class="Button Button--iconOnly Button--secondary Button--medium AppHeader-button color-fg-muted">  <svg aria-hidden="true" height="16" viewBox="0 0 16 16" version="1.1" width="16" data-view-component="true" class="octicon octicon-git-pull-request Button-visual">
    <path d="M1.5 3.25a2.25 2.25 0 1 1 3 2.122v5.256a2.251 2.251 0 1 1-1.5 0V5.372A2.25 2.25 0 0 1 1.5 3.25Zm5.677-.177L9.573.677A.25.25 0 0 1 10 .854V2.5h1A2.5 2.5 0 0 1 13.5 5v5.628a2.251 2.251 0 1 1-1.5 0V5a1 1 0 0 0-1-1h-1v1.646a.25.25 0 0 1-.427.177L7.177 3.427a.25.25 0 0 1 0-.354ZM3.75 2.5a.75.75 0 1 0 0 1.5.75.75 0 0 0 0-1.5Zm0 9.5a.75.75 0 1 0 0 1.5.75.75 0 0 0 0-1.5Zm8.25.75a.75.75 0 1 0 1.5 0 .75.75 0 0 0-1.5 0Z"></path>
</svg>
</a><tool-tip id="tooltip-2e1c2706-aa11-4366-ac41-6b4a1762106f" for="icon-button-014428fd-73c1-4435-9189-47306ee0b5f1" popover="manual" data-direction="s" data-type="label" data-view-component="true" class="sr-only position-absolute">Pull requests</tool-tip>

        </div>

        
<notification-indicator data-channel="eyJjIjoibm90aWZpY2F0aW9uLWNoYW5nZWQ6MTMyOTA4OTYxIiwidCI6MTcwNzg5OTkyMn0=--d2e30c5b77b9fbd03e8df20ecff33a586902a991f312ba1babf94da215962d96" data-indicator-mode="none" data-tooltip-global="You have unread notifications" data-tooltip-unavailable="Notifications are unavailable at the moment." data-tooltip-none="You have no unread notifications" data-header-redesign-enabled="true" data-fetch-indicator-src="/notifications/indicator" data-fetch-indicator-enabled="true" data-view-component="true" class="js-socket-channel">
    <a id="AppHeader-notifications-button" href="/notifications" aria-label="Notifications" data-hotkey="g n" data-target="notification-indicator.link" data-analytics-event="{&quot;category&quot;:&quot;Global navigation&quot;,&quot;action&quot;:&quot;NOTIFICATIONS_HEADER&quot;,&quot;label&quot;:null}" data-view-component="true" class="Button Button--iconOnly Button--secondary Button--medium AppHeader-button  color-fg-muted">  <svg aria-hidden="true" height="16" viewBox="0 0 16 16" version="1.1" width="16" data-view-component="true" class="octicon octicon-inbox Button-visual">
    <path d="M2.8 2.06A1.75 1.75 0 0 1 4.41 1h7.18c.7 0 1.333.417 1.61 1.06l2.74 6.395c.04.093.06.194.06.295v4.5A1.75 1.75 0 0 1 14.25 15H1.75A1.75 1.75 0 0 1 0 13.25v-4.5c0-.101.02-.202.06-.295Zm1.61.44a.25.25 0 0 0-.23.152L1.887 8H4.75a.75.75 0 0 1 .6.3L6.625 10h2.75l1.275-1.7a.75.75 0 0 1 .6-.3h2.863L11.82 2.652a.25.25 0 0 0-.23-.152Zm10.09 7h-2.875l-1.275 1.7a.75.75 0 0 1-.6.3h-3.5a.75.75 0 0 1-.6-.3L4.375 9.5H1.5v3.75c0 .138.112.25.25.25h12.5a.25.25 0 0 0 .25-.25Z"></path>
</svg>
</a>

    <tool-tip data-target="notification-indicator.tooltip" id="tooltip-4532c4db-b696-4991-9e36-c8a4e8370471" for="AppHeader-notifications-button" popover="manual" data-direction="s" data-type="description" data-view-component="true" class="sr-only position-absolute">Notifications</tool-tip>
</notification-indicator>

        

        <div class="AppHeader-user">
          <deferred-side-panel data-url="/_side-panels/user?repository_id=756390574">
  <include-fragment data-target="deferred-side-panel.fragment">
      <user-drawer-side-panel>
    <button aria-label="Open user account menu" data-action="click:deferred-side-panel#loadPanel click:deferred-side-panel#panelOpened" data-show-dialog-id="dialog-d3e7ff91-e8d0-4dfe-9879-f03631c39e31" id="dialog-show-dialog-d3e7ff91-e8d0-4dfe-9879-f03631c39e31" type="button" data-view-component="true" class="AppHeader-logo Button--invisible Button--medium Button Button--invisible-noVisuals color-bg-transparent p-0">  <span class="Button-content">
    <span class="Button-label"><img src="https://avatars.githubusercontent.com/u/132908961?v=4" alt="" size="32" height="32" width="32" data-view-component="true" class="avatar circle" /></span>
  </span>
</button>

<dialog-helper>
  <dialog data-target="deferred-side-panel.panel" id="dialog-d3e7ff91-e8d0-4dfe-9879-f03631c39e31" aria-modal="true" aria-labelledby="dialog-d3e7ff91-e8d0-4dfe-9879-f03631c39e31-title" aria-describedby="dialog-d3e7ff91-e8d0-4dfe-9879-f03631c39e31-description" data-view-component="true" class="Overlay Overlay-whenNarrow Overlay--size-small-portrait Overlay--motion-scaleFade Overlay--placement-right SidePanel">
    <div styles="flex-direction: row;" data-view-component="true" class="Overlay-header">
  <div class="Overlay-headerContentWrap">
    <div class="Overlay-titleWrap">
      <h1 class="Overlay-title sr-only" id="dialog-d3e7ff91-e8d0-4dfe-9879-f03631c39e31-title">
        Account menu
      </h1>
            <div data-view-component="true" class="d-flex">
      <div data-view-component="true" class="AppHeader-logo position-relative">
        <img src="https://avatars.githubusercontent.com/u/132908961?v=4" alt="" size="32" height="32" width="32" data-view-component="true" class="avatar circle" />
</div>        <div data-view-component="true" class="overflow-hidden d-flex width-full">        <div data-view-component="true" class="lh-condensed overflow-hidden d-flex flex-column flex-justify-center ml-2 f5 mr-auto width-full">
          <span data-view-component="true" class="Truncate text-bold">
    <span data-view-component="true" class="Truncate-text">
            TomirisN
</span>
</span>          </div>
        <action-menu data-select-variant="none" data-view-component="true" class="d-sm-none d-md-none d-lg-none">
  <focus-group direction="vertical" mnemonics retain>
    <button id="user-create-menu-button" popovertarget="user-create-menu-overlay" aria-label="Create something new" aria-controls="user-create-menu-list" aria-haspopup="true" type="button" data-view-component="true" class="AppHeader-button Button--secondary Button--small Button width-auto color-fg-muted">  <span class="Button-content">
      <span class="Button-visual Button-leadingVisual">
        <svg aria-hidden="true" height="16" viewBox="0 0 16 16" version="1.1" width="16" data-view-component="true" class="octicon octicon-plus">
    <path d="M7.75 2a.75.75 0 0 1 .75.75V7h4.25a.75.75 0 0 1 0 1.5H8.5v4.25a.75.75 0 0 1-1.5 0V8.5H2.75a.75.75 0 0 1 0-1.5H7V2.75A.75.75 0 0 1 7.75 2Z"></path>
</svg>
      </span>
    <span class="Button-label"><svg aria-hidden="true" height="16" viewBox="0 0 16 16" version="1.1" width="16" data-view-component="true" class="octicon octicon-triangle-down">
    <path d="m4.427 7.427 3.396 3.396a.25.25 0 0 0 .354 0l3.396-3.396A.25.25 0 0 0 11.396 7H4.604a.25.25 0 0 0-.177.427Z"></path>
</svg></span>
  </span>
</button><tool-tip id="tooltip-cd5724b5-537a-4996-bbc5-eb5eb8188bef" for="user-create-menu-button" popover="manual" data-direction="s" data-type="description" data-view-component="true" class="sr-only position-absolute">Create new...</tool-tip>


<anchored-position id="user-create-menu-overlay" anchor="user-create-menu-button" align="end" side="outside-bottom" anchor-offset="normal" popover="auto" data-view-component="true">
  <div data-view-component="true" class="Overlay Overlay--size-auto">
    
      <div data-view-component="true" class="Overlay-body Overlay-body--paddingNone">          <div data-view-component="true">
  <ul aria-labelledby="user-create-menu-button" id="user-create-menu-list" role="menu" data-view-component="true" class="ActionListWrap--inset ActionListWrap">
      <li data-analytics-event="{&quot;category&quot;:&quot;SiteHeaderComponent&quot;,&quot;action&quot;:&quot;add_dropdown&quot;,&quot;label&quot;:&quot;new repository&quot;}" data-targets="action-list.items action-list.items" role="none" data-view-component="true" class="ActionListItem">
    
    <a href="/new" tabindex="-1" id="item-1b4638ce-03f4-4aca-b6a0-d661f16c7bf3" role="menuitem" data-view-component="true" class="ActionListContent ActionListContent--visual16">
        <span class="ActionListItem-visual ActionListItem-visual--leading">
          <svg aria-hidden="true" height="16" viewBox="0 0 16 16" version="1.1" width="16" data-view-component="true" class="octicon octicon-repo">
    <path d="M2 2.5A2.5 2.5 0 0 1 4.5 0h8.75a.75.75 0 0 1 .75.75v12.5a.75.75 0 0 1-.75.75h-2.5a.75.75 0 0 1 0-1.5h1.75v-2h-8a1 1 0 0 0-.714 1.7.75.75 0 1 1-1.072 1.05A2.495 2.495 0 0 1 2 11.5Zm10.5-1h-8a1 1 0 0 0-1 1v6.708A2.486 2.486 0 0 1 4.5 9h8ZM5 12.25a.25.25 0 0 1 .25-.25h3.5a.25.25 0 0 1 .25.25v3.25a.25.25 0 0 1-.4.2l-1.45-1.087a.249.249 0 0 0-.3 0L5.4 15.7a.25.25 0 0 1-.4-.2Z"></path>
</svg>
        </span>
      
        <span data-view-component="true" class="ActionListItem-label">
              New repository

</span></a>
  
  
</li>
      <li data-analytics-event="{&quot;category&quot;:&quot;SiteHeaderComponent&quot;,&quot;action&quot;:&quot;add_dropdown&quot;,&quot;label&quot;:&quot;import repository&quot;}" data-targets="action-list.items action-list.items" role="none" data-view-component="true" class="ActionListItem">
    
    <a href="/new/import" tabindex="-1" id="item-db0895a6-5e57-4078-9e82-7c08ed7fa4ae" role="menuitem" data-view-component="true" class="ActionListContent ActionListContent--visual16">
        <span class="ActionListItem-visual ActionListItem-visual--leading">
          <svg aria-hidden="true" height="16" viewBox="0 0 16 16" version="1.1" width="16" data-view-component="true" class="octicon octicon-repo-push">
    <path d="M1 2.5A2.5 2.5 0 0 1 3.5 0h8.75a.75.75 0 0 1 .75.75v3.5a.75.75 0 0 1-1.5 0V1.5h-8a1 1 0 0 0-1 1v6.708A2.493 2.493 0 0 1 3.5 9h3.25a.75.75 0 0 1 0 1.5H3.5a1 1 0 0 0 0 2h5.75a.75.75 0 0 1 0 1.5H3.5A2.5 2.5 0 0 1 1 11.5Zm13.23 7.79h-.001l-1.224-1.224v6.184a.75.75 0 0 1-1.5 0V9.066L10.28 10.29a.75.75 0 0 1-1.06-1.061l2.505-2.504a.75.75 0 0 1 1.06 0L15.29 9.23a.751.751 0 0 1-.018 1.042.751.751 0 0 1-1.042.018Z"></path>
</svg>
        </span>
      
        <span data-view-component="true" class="ActionListItem-label">
                Import repository

</span></a>
  
  
</li>
      <li role="presentation" aria-hidden="true" data-view-component="true" class="ActionList-sectionDivider"></li>
      <li data-analytics-event="{&quot;category&quot;:&quot;SiteHeaderComponent&quot;,&quot;action&quot;:&quot;add_dropdown&quot;,&quot;label&quot;:&quot;new codespace&quot;}" data-targets="action-list.items action-list.items" role="none" data-view-component="true" class="ActionListItem">
    
    <a href="/codespaces/new" tabindex="-1" id="item-30e4cf63-ea65-4434-9dbf-a5083db05366" role="menuitem" data-view-component="true" class="ActionListContent ActionListContent--visual16">
        <span class="ActionListItem-visual ActionListItem-visual--leading">
          <svg aria-hidden="true" height="16" viewBox="0 0 16 16" version="1.1" width="16" data-view-component="true" class="octicon octicon-codespaces">
    <path d="M0 11.25c0-.966.784-1.75 1.75-1.75h12.5c.966 0 1.75.784 1.75 1.75v3A1.75 1.75 0 0 1 14.25 16H1.75A1.75 1.75 0 0 1 0 14.25Zm2-9.5C2 .784 2.784 0 3.75 0h8.5C13.216 0 14 .784 14 1.75v5a1.75 1.75 0 0 1-1.75 1.75h-8.5A1.75 1.75 0 0 1 2 6.75Zm1.75-.25a.25.25 0 0 0-.25.25v5c0 .138.112.25.25.25h8.5a.25.25 0 0 0 .25-.25v-5a.25.25 0 0 0-.25-.25Zm-2 9.5a.25.25 0 0 0-.25.25v3c0 .138.112.25.25.25h12.5a.25.25 0 0 0 .25-.25v-3a.25.25 0 0 0-.25-.25Z"></path><path d="M7 12.75a.75.75 0 0 1 .75-.75h4.5a.75.75 0 0 1 0 1.5h-4.5a.75.75 0 0 1-.75-.75Zm-4 0a.75.75 0 0 1 .75-.75h.5a.75.75 0 0 1 0 1.5h-.5a.75.75 0 0 1-.75-.75Z"></path>
</svg>
        </span>
      
        <span data-view-component="true" class="ActionListItem-label">
                New codespace

</span></a>
  
  
</li>
      <li data-analytics-event="{&quot;category&quot;:&quot;SiteHeaderComponent&quot;,&quot;action&quot;:&quot;add_dropdown&quot;,&quot;label&quot;:&quot;new gist&quot;}" data-targets="action-list.items action-list.items" role="none" data-view-component="true" class="ActionListItem">
    
    <a href="https://gist.github.com/" tabindex="-1" id="item-c45cf3bd-619b-4328-93db-d8e0d6cdcec2" role="menuitem" data-view-component="true" class="ActionListContent ActionListContent--visual16">
        <span class="ActionListItem-visual ActionListItem-visual--leading">
          <svg aria-hidden="true" height="16" viewBox="0 0 16 16" version="1.1" width="16" data-view-component="true" class="octicon octicon-code">
    <path d="m11.28 3.22 4.25 4.25a.75.75 0 0 1 0 1.06l-4.25 4.25a.749.749 0 0 1-1.275-.326.749.749 0 0 1 .215-.734L13.94 8l-3.72-3.72a.749.749 0 0 1 .326-1.275.749.749 0 0 1 .734.215Zm-6.56 0a.751.751 0 0 1 1.042.018.751.751 0 0 1 .018 1.042L2.06 8l3.72 3.72a.749.749 0 0 1-.326 1.275.749.749 0 0 1-.734-.215L.47 8.53a.75.75 0 0 1 0-1.06Z"></path>
</svg>
        </span>
      
        <span data-view-component="true" class="ActionListItem-label">
                New gist

</span></a>
  
  
</li>
      <li role="presentation" aria-hidden="true" data-view-component="true" class="ActionList-sectionDivider"></li>
      <li data-targets="action-list.items action-list.items" role="none" data-view-component="true" class="ActionListItem">
    
    <a href="/account/organizations/new" tabindex="-1" data-dont-follow-via-test="true" data-analytics-event="{&quot;category&quot;:&quot;SiteHeaderComponent&quot;,&quot;action&quot;:&quot;add_dropdown&quot;,&quot;label&quot;:&quot;new organization&quot;}" id="item-216d6567-37d4-4c37-9373-22ac760fc0f9" role="menuitem" data-view-component="true" class="ActionListContent ActionListContent--visual16">
        <span class="ActionListItem-visual ActionListItem-visual--leading">
          <svg aria-hidden="true" height="16" viewBox="0 0 16 16" version="1.1" width="16" data-view-component="true" class="octicon octicon-organization">
    <path d="M1.75 16A1.75 1.75 0 0 1 0 14.25V1.75C0 .784.784 0 1.75 0h8.5C11.216 0 12 .784 12 1.75v12.5c0 .085-.006.168-.018.25h2.268a.25.25 0 0 0 .25-.25V8.285a.25.25 0 0 0-.111-.208l-1.055-.703a.749.749 0 1 1 .832-1.248l1.055.703c.487.325.779.871.779 1.456v5.965A1.75 1.75 0 0 1 14.25 16h-3.5a.766.766 0 0 1-.197-.026c-.099.017-.2.026-.303.026h-3a.75.75 0 0 1-.75-.75V14h-1v1.25a.75.75 0 0 1-.75.75Zm-.25-1.75c0 .138.112.25.25.25H4v-1.25a.75.75 0 0 1 .75-.75h2.5a.75.75 0 0 1 .75.75v1.25h2.25a.25.25 0 0 0 .25-.25V1.75a.25.25 0 0 0-.25-.25h-8.5a.25.25 0 0 0-.25.25ZM3.75 6h.5a.75.75 0 0 1 0 1.5h-.5a.75.75 0 0 1 0-1.5ZM3 3.75A.75.75 0 0 1 3.75 3h.5a.75.75 0 0 1 0 1.5h-.5A.75.75 0 0 1 3 3.75Zm4 3A.75.75 0 0 1 7.75 6h.5a.75.75 0 0 1 0 1.5h-.5A.75.75 0 0 1 7 6.75ZM7.75 3h.5a.75.75 0 0 1 0 1.5h-.5a.75.75 0 0 1 0-1.5ZM3 9.75A.75.75 0 0 1 3.75 9h.5a.75.75 0 0 1 0 1.5h-.5A.75.75 0 0 1 3 9.75ZM7.75 9h.5a.75.75 0 0 1 0 1.5h-.5a.75.75 0 0 1 0-1.5Z"></path>
</svg>
        </span>
      
        <span data-view-component="true" class="ActionListItem-label">
                New organization

</span></a>
  
  
</li>
</ul>  
</div>

</div>
      
</div></anchored-position>  </focus-group>
</action-menu>

</div>
</div>
    </div>
    <div class="Overlay-actionWrap">
      <button data-close-dialog-id="dialog-d3e7ff91-e8d0-4dfe-9879-f03631c39e31" aria-label="Close" type="button" data-view-component="true" class="close-button Overlay-closeButton"><svg aria-hidden="true" height="16" viewBox="0 0 16 16" version="1.1" width="16" data-view-component="true" class="octicon octicon-x">
    <path d="M3.72 3.72a.75.75 0 0 1 1.06 0L8 6.94l3.22-3.22a.749.749 0 0 1 1.275.326.749.749 0 0 1-.215.734L9.06 8l3.22 3.22a.749.749 0 0 1-.326 1.275.749.749 0 0 1-.734-.215L8 9.06l-3.22 3.22a.751.751 0 0 1-1.042-.018.751.751 0 0 1-.018-1.042L6.94 8 3.72 4.78a.75.75 0 0 1 0-1.06Z"></path>
</svg></button>
    </div>
  </div>
</div>
      <scrollable-region data-labelled-by="dialog-d3e7ff91-e8d0-4dfe-9879-f03631c39e31-title">
        <div data-view-component="true" class="Overlay-body d-flex flex-column px-2">    <div data-view-component="true" class="d-flex flex-column mb-3">
        <nav aria-label="User navigation" data-view-component="true" class="ActionList">
  
  <nav-list>
    <ul data-view-component="true" class="ActionListWrap">
        
          
<li data-targets="nav-list.items nav-list.items" data-item-id="" data-view-component="true" class="ActionListItem">
    
    <button id="item-89775f4f-7d24-4499-a0a6-e6d94242a479" type="button" data-view-component="true" class="ActionListContent ActionListContent--visual16">
        <span class="ActionListItem-visual ActionListItem-visual--leading">
          <span data-view-component="true" class="d-flex flex-items-center">    <svg style="box-sizing: content-box; color: var(--color-icon-primary);" width="16" height="16" viewBox="0 0 16 16" fill="none" data-view-component="true" class="anim-rotate">
  <circle cx="8" cy="8" r="7" stroke="currentColor" stroke-opacity="0.25" stroke-width="2" vector-effect="non-scaling-stroke" fill="none" />
  <path d="M15 8a7.002 7.002 0 00-7-7" stroke="currentColor" stroke-width="2" stroke-linecap="round" vector-effect="non-scaling-stroke" />
</svg>
</span>
        </span>
      
        <span data-view-component="true" class="ActionListItem-label">
          

  <span class="color-fg-muted">
    Loading...
  </span>

</span></button>
  
  
</li>

        
          <li role="presentation" aria-hidden="true" data-view-component="true" class="ActionList-sectionDivider"></li>
        
          
<li data-targets="nav-list.items nav-list.items" data-item-id="" data-view-component="true" class="ActionListItem">
    
    <a data-analytics-event="{&quot;category&quot;:&quot;Global navigation&quot;,&quot;action&quot;:&quot;PROFILE&quot;,&quot;label&quot;:null}" id="item-8e3af546-3ca4-4619-9a91-7cb48504d025" href="https://github.com/TomirisN" data-view-component="true" class="ActionListContent ActionListContent--visual16">
        <span class="ActionListItem-visual ActionListItem-visual--leading">
          <svg aria-hidden="true" height="16" viewBox="0 0 16 16" version="1.1" width="16" data-view-component="true" class="octicon octicon-person">
    <path d="M10.561 8.073a6.005 6.005 0 0 1 3.432 5.142.75.75 0 1 1-1.498.07 4.5 4.5 0 0 0-8.99 0 .75.75 0 0 1-1.498-.07 6.004 6.004 0 0 1 3.431-5.142 3.999 3.999 0 1 1 5.123 0ZM10.5 5a2.5 2.5 0 1 0-5 0 2.5 2.5 0 0 0 5 0Z"></path>
</svg>
        </span>
      
        <span data-view-component="true" class="ActionListItem-label">
          Your profile
</span></a>
  
  
</li>

        
          
<li data-targets="nav-list.items nav-list.items" data-item-id="" data-view-component="true" class="ActionListItem">
    
    <button id="item-4ee72189-6798-4a82-9221-0a59e1fdea61" type="button" data-view-component="true" class="ActionListContent ActionListContent--visual16">
        <span class="ActionListItem-visual ActionListItem-visual--leading">
          <span data-view-component="true" class="d-flex flex-items-center">    <svg style="box-sizing: content-box; color: var(--color-icon-primary);" width="16" height="16" viewBox="0 0 16 16" fill="none" data-view-component="true" class="anim-rotate">
  <circle cx="8" cy="8" r="7" stroke="currentColor" stroke-opacity="0.25" stroke-width="2" vector-effect="non-scaling-stroke" fill="none" />
  <path d="M15 8a7.002 7.002 0 00-7-7" stroke="currentColor" stroke-width="2" stroke-linecap="round" vector-effect="non-scaling-stroke" />
</svg>
</span>
        </span>
      
        <span data-view-component="true" class="ActionListItem-label">
          

  <span class="color-fg-muted">
    Loading...
  </span>

</span></button>
  
  
</li>

        
          <li role="presentation" aria-hidden="true" data-view-component="true" class="ActionList-sectionDivider"></li>
        
          
<li data-targets="nav-list.items nav-list.items" data-item-id="" data-view-component="true" class="ActionListItem">
    
    <a data-analytics-event="{&quot;category&quot;:&quot;Global navigation&quot;,&quot;action&quot;:&quot;YOUR_REPOSITORIES&quot;,&quot;label&quot;:null}" id="item-833ebe3a-e828-452c-9135-afc9311a4359" href="/TomirisN?tab=repositories" data-view-component="true" class="ActionListContent ActionListContent--visual16">
        <span class="ActionListItem-visual ActionListItem-visual--leading">
          <svg aria-hidden="true" height="16" viewBox="0 0 16 16" version="1.1" width="16" data-view-component="true" class="octicon octicon-repo">
    <path d="M2 2.5A2.5 2.5 0 0 1 4.5 0h8.75a.75.75 0 0 1 .75.75v12.5a.75.75 0 0 1-.75.75h-2.5a.75.75 0 0 1 0-1.5h1.75v-2h-8a1 1 0 0 0-.714 1.7.75.75 0 1 1-1.072 1.05A2.495 2.495 0 0 1 2 11.5Zm10.5-1h-8a1 1 0 0 0-1 1v6.708A2.486 2.486 0 0 1 4.5 9h8ZM5 12.25a.25.25 0 0 1 .25-.25h3.5a.25.25 0 0 1 .25.25v3.25a.25.25 0 0 1-.4.2l-1.45-1.087a.249.249 0 0 0-.3 0L5.4 15.7a.25.25 0 0 1-.4-.2Z"></path>
</svg>
        </span>
      
        <span data-view-component="true" class="ActionListItem-label">
          Your repositories
</span></a>
  
  
</li>

        
          
<li data-targets="nav-list.items nav-list.items" data-item-id="" data-view-component="true" class="ActionListItem">
    
    <a data-analytics-event="{&quot;category&quot;:&quot;Global navigation&quot;,&quot;action&quot;:&quot;YOUR_PROJECTS&quot;,&quot;label&quot;:null}" id="item-234cd9bc-1840-4bd1-9766-f0a5ec8bad89" href="/TomirisN?tab=projects" data-view-component="true" class="ActionListContent ActionListContent--visual16">
        <span class="ActionListItem-visual ActionListItem-visual--leading">
          <svg aria-hidden="true" height="16" viewBox="0 0 16 16" version="1.1" width="16" data-view-component="true" class="octicon octicon-project">
    <path d="M1.75 0h12.5C15.216 0 16 .784 16 1.75v12.5A1.75 1.75 0 0 1 14.25 16H1.75A1.75 1.75 0 0 1 0 14.25V1.75C0 .784.784 0 1.75 0ZM1.5 1.75v12.5c0 .138.112.25.25.25h12.5a.25.25 0 0 0 .25-.25V1.75a.25.25 0 0 0-.25-.25H1.75a.25.25 0 0 0-.25.25ZM11.75 3a.75.75 0 0 1 .75.75v7.5a.75.75 0 0 1-1.5 0v-7.5a.75.75 0 0 1 .75-.75Zm-8.25.75a.75.75 0 0 1 1.5 0v5.5a.75.75 0 0 1-1.5 0ZM8 3a.75.75 0 0 1 .75.75v3.5a.75.75 0 0 1-1.5 0v-3.5A.75.75 0 0 1 8 3Z"></path>
</svg>
        </span>
      
        <span data-view-component="true" class="ActionListItem-label">
          Your projects
</span></a>
  
  
</li>

        
          
<li data-targets="nav-list.items nav-list.items" data-item-id="" data-view-component="true" class="ActionListItem">
    
    <button id="item-be51f326-9b28-4e2e-a840-4a218144487d" type="button" data-view-component="true" class="ActionListContent ActionListContent--visual16">
        <span class="ActionListItem-visual ActionListItem-visual--leading">
          <span data-view-component="true" class="d-flex flex-items-center">    <svg style="box-sizing: content-box; color: var(--color-icon-primary);" width="16" height="16" viewBox="0 0 16 16" fill="none" data-view-component="true" class="anim-rotate">
  <circle cx="8" cy="8" r="7" stroke="currentColor" stroke-opacity="0.25" stroke-width="2" vector-effect="non-scaling-stroke" fill="none" />
  <path d="M15 8a7.002 7.002 0 00-7-7" stroke="currentColor" stroke-width="2" stroke-linecap="round" vector-effect="non-scaling-stroke" />
</svg>
</span>
        </span>
      
        <span data-view-component="true" class="ActionListItem-label">
          

  <span class="color-fg-muted">
    Loading...
  </span>

</span></button>
  
  
</li>

        
          
<li data-targets="nav-list.items nav-list.items" data-item-id="" data-view-component="true" class="ActionListItem">
    
    <button id="item-417b8813-9dfb-49ba-b0c0-68745bd3d413" type="button" data-view-component="true" class="ActionListContent ActionListContent--visual16">
        <span class="ActionListItem-visual ActionListItem-visual--leading">
          <span data-view-component="true" class="d-flex flex-items-center">    <svg style="box-sizing: content-box; color: var(--color-icon-primary);" width="16" height="16" viewBox="0 0 16 16" fill="none" data-view-component="true" class="anim-rotate">
  <circle cx="8" cy="8" r="7" stroke="currentColor" stroke-opacity="0.25" stroke-width="2" vector-effect="non-scaling-stroke" fill="none" />
  <path d="M15 8a7.002 7.002 0 00-7-7" stroke="currentColor" stroke-width="2" stroke-linecap="round" vector-effect="non-scaling-stroke" />
</svg>
</span>
        </span>
      
        <span data-view-component="true" class="ActionListItem-label">
          

  <span class="color-fg-muted">
    Loading...
  </span>

</span></button>
  
  
</li>

        
          
<li data-targets="nav-list.items nav-list.items" data-item-id="" data-view-component="true" class="ActionListItem">
    
    <a data-analytics-event="{&quot;category&quot;:&quot;Global navigation&quot;,&quot;action&quot;:&quot;YOUR_STARS&quot;,&quot;label&quot;:null}" id="item-42297b82-872f-427c-87ff-a813ba3c86d7" href="/TomirisN?tab=stars" data-view-component="true" class="ActionListContent ActionListContent--visual16">
        <span class="ActionListItem-visual ActionListItem-visual--leading">
          <svg aria-hidden="true" height="16" viewBox="0 0 16 16" version="1.1" width="16" data-view-component="true" class="octicon octicon-star">
    <path d="M8 .25a.75.75 0 0 1 .673.418l1.882 3.815 4.21.612a.75.75 0 0 1 .416 1.279l-3.046 2.97.719 4.192a.751.751 0 0 1-1.088.791L8 12.347l-3.766 1.98a.75.75 0 0 1-1.088-.79l.72-4.194L.818 6.374a.75.75 0 0 1 .416-1.28l4.21-.611L7.327.668A.75.75 0 0 1 8 .25Zm0 2.445L6.615 5.5a.75.75 0 0 1-.564.41l-3.097.45 2.24 2.184a.75.75 0 0 1 .216.664l-.528 3.084 2.769-1.456a.75.75 0 0 1 .698 0l2.77 1.456-.53-3.084a.75.75 0 0 1 .216-.664l2.24-2.183-3.096-.45a.75.75 0 0 1-.564-.41L8 2.694Z"></path>
</svg>
        </span>
      
        <span data-view-component="true" class="ActionListItem-label">
          Your stars
</span></a>
  
  
</li>

        
          
<li data-targets="nav-list.items nav-list.items" data-item-id="" data-view-component="true" class="ActionListItem">
    
    <a data-analytics-event="{&quot;category&quot;:&quot;Global navigation&quot;,&quot;action&quot;:&quot;SPONSORS&quot;,&quot;label&quot;:null}" id="item-765a708a-dea7-4feb-8401-00e9abe6bf33" href="/sponsors/accounts" data-view-component="true" class="ActionListContent ActionListContent--visual16">
        <span class="ActionListItem-visual ActionListItem-visual--leading">
          <svg aria-hidden="true" height="16" viewBox="0 0 16 16" version="1.1" width="16" data-view-component="true" class="octicon octicon-heart">
    <path d="m8 14.25.345.666a.75.75 0 0 1-.69 0l-.008-.004-.018-.01a7.152 7.152 0 0 1-.31-.17 22.055 22.055 0 0 1-3.434-2.414C2.045 10.731 0 8.35 0 5.5 0 2.836 2.086 1 4.25 1 5.797 1 7.153 1.802 8 3.02 8.847 1.802 10.203 1 11.75 1 13.914 1 16 2.836 16 5.5c0 2.85-2.045 5.231-3.885 6.818a22.066 22.066 0 0 1-3.744 2.584l-.018.01-.006.003h-.002ZM4.25 2.5c-1.336 0-2.75 1.164-2.75 3 0 2.15 1.58 4.144 3.365 5.682A20.58 20.58 0 0 0 8 13.393a20.58 20.58 0 0 0 3.135-2.211C12.92 9.644 14.5 7.65 14.5 5.5c0-1.836-1.414-3-2.75-3-1.373 0-2.609.986-3.029 2.456a.749.749 0 0 1-1.442 0C6.859 3.486 5.623 2.5 4.25 2.5Z"></path>
</svg>
        </span>
      
        <span data-view-component="true" class="ActionListItem-label">
          Your sponsors
</span></a>
  
  
</li>

        
          
<li data-targets="nav-list.items nav-list.items" data-item-id="" data-view-component="true" class="ActionListItem">
    
    <a data-analytics-event="{&quot;category&quot;:&quot;Global navigation&quot;,&quot;action&quot;:&quot;YOUR_GISTS&quot;,&quot;label&quot;:null}" id="item-1f4a643a-0d13-41be-97d1-5f3c0d0e3dec" href="https://gist.github.com/mine" data-view-component="true" class="ActionListContent ActionListContent--visual16">
        <span class="ActionListItem-visual ActionListItem-visual--leading">
          <svg aria-hidden="true" height="16" viewBox="0 0 16 16" version="1.1" width="16" data-view-component="true" class="octicon octicon-code-square">
    <path d="M0 1.75C0 .784.784 0 1.75 0h12.5C15.216 0 16 .784 16 1.75v12.5A1.75 1.75 0 0 1 14.25 16H1.75A1.75 1.75 0 0 1 0 14.25Zm1.75-.25a.25.25 0 0 0-.25.25v12.5c0 .138.112.25.25.25h12.5a.25.25 0 0 0 .25-.25V1.75a.25.25 0 0 0-.25-.25Zm7.47 3.97a.75.75 0 0 1 1.06 0l2 2a.75.75 0 0 1 0 1.06l-2 2a.749.749 0 0 1-1.275-.326.749.749 0 0 1 .215-.734L10.69 8 9.22 6.53a.75.75 0 0 1 0-1.06ZM6.78 6.53 5.31 8l1.47 1.47a.749.749 0 0 1-.326 1.275.749.749 0 0 1-.734-.215l-2-2a.75.75 0 0 1 0-1.06l2-2a.751.751 0 0 1 1.042.018.751.751 0 0 1 .018 1.042Z"></path>
</svg>
        </span>
      
        <span data-view-component="true" class="ActionListItem-label">
          Your gists
</span></a>
  
  
</li>

        
          <li role="presentation" aria-hidden="true" data-view-component="true" class="ActionList-sectionDivider"></li>
        
          
<li data-targets="nav-list.items nav-list.items" data-item-id="" data-view-component="true" class="ActionListItem">
    
    <button id="item-1a574a50-3644-4ca4-9528-33d08d0bb4ea" type="button" data-view-component="true" class="ActionListContent ActionListContent--visual16">
        <span class="ActionListItem-visual ActionListItem-visual--leading">
          <span data-view-component="true" class="d-flex flex-items-center">    <svg style="box-sizing: content-box; color: var(--color-icon-primary);" width="16" height="16" viewBox="0 0 16 16" fill="none" data-view-component="true" class="anim-rotate">
  <circle cx="8" cy="8" r="7" stroke="currentColor" stroke-opacity="0.25" stroke-width="2" vector-effect="non-scaling-stroke" fill="none" />
  <path d="M15 8a7.002 7.002 0 00-7-7" stroke="currentColor" stroke-width="2" stroke-linecap="round" vector-effect="non-scaling-stroke" />
</svg>
</span>
        </span>
      
        <span data-view-component="true" class="ActionListItem-label">
          

  <span class="color-fg-muted">
    Loading...
  </span>

</span></button>
  
  
</li>

        
          
<li data-targets="nav-list.items nav-list.items" data-item-id="" data-view-component="true" class="ActionListItem">
    
    <button id="item-3e307254-a9d2-424f-a2fb-228d318a0489" type="button" data-view-component="true" class="ActionListContent ActionListContent--visual16">
        <span class="ActionListItem-visual ActionListItem-visual--leading">
          <span data-view-component="true" class="d-flex flex-items-center">    <svg style="box-sizing: content-box; color: var(--color-icon-primary);" width="16" height="16" viewBox="0 0 16 16" fill="none" data-view-component="true" class="anim-rotate">
  <circle cx="8" cy="8" r="7" stroke="currentColor" stroke-opacity="0.25" stroke-width="2" vector-effect="non-scaling-stroke" fill="none" />
  <path d="M15 8a7.002 7.002 0 00-7-7" stroke="currentColor" stroke-width="2" stroke-linecap="round" vector-effect="non-scaling-stroke" />
</svg>
</span>
        </span>
      
        <span data-view-component="true" class="ActionListItem-label">
          

  <span class="color-fg-muted">
    Loading...
  </span>

</span></button>
  
  
</li>

        
          
<li data-targets="nav-list.items nav-list.items" data-item-id="" data-view-component="true" class="ActionListItem">
    
    <a data-analytics-event="{&quot;category&quot;:&quot;Global navigation&quot;,&quot;action&quot;:&quot;SETTINGS&quot;,&quot;label&quot;:null}" id="item-adaf9261-d8b6-4947-aebf-97d02c4d9a1c" href="/settings/profile" data-view-component="true" class="ActionListContent ActionListContent--visual16">
        <span class="ActionListItem-visual ActionListItem-visual--leading">
          <svg aria-hidden="true" height="16" viewBox="0 0 16 16" version="1.1" width="16" data-view-component="true" class="octicon octicon-gear">
    <path d="M8 0a8.2 8.2 0 0 1 .701.031C9.444.095 9.99.645 10.16 1.29l.288 1.107c.018.066.079.158.212.224.231.114.454.243.668.386.123.082.233.09.299.071l1.103-.303c.644-.176 1.392.021 1.82.63.27.385.506.792.704 1.218.315.675.111 1.422-.364 1.891l-.814.806c-.049.048-.098.147-.088.294.016.257.016.515 0 .772-.01.147.038.246.088.294l.814.806c.475.469.679 1.216.364 1.891a7.977 7.977 0 0 1-.704 1.217c-.428.61-1.176.807-1.82.63l-1.102-.302c-.067-.019-.177-.011-.3.071a5.909 5.909 0 0 1-.668.386c-.133.066-.194.158-.211.224l-.29 1.106c-.168.646-.715 1.196-1.458 1.26a8.006 8.006 0 0 1-1.402 0c-.743-.064-1.289-.614-1.458-1.26l-.289-1.106c-.018-.066-.079-.158-.212-.224a5.738 5.738 0 0 1-.668-.386c-.123-.082-.233-.09-.299-.071l-1.103.303c-.644.176-1.392-.021-1.82-.63a8.12 8.12 0 0 1-.704-1.218c-.315-.675-.111-1.422.363-1.891l.815-.806c.05-.048.098-.147.088-.294a6.214 6.214 0 0 1 0-.772c.01-.147-.038-.246-.088-.294l-.815-.806C.635 6.045.431 5.298.746 4.623a7.92 7.92 0 0 1 .704-1.217c.428-.61 1.176-.807 1.82-.63l1.102.302c.067.019.177.011.3-.071.214-.143.437-.272.668-.386.133-.066.194-.158.211-.224l.29-1.106C6.009.645 6.556.095 7.299.03 7.53.01 7.764 0 8 0Zm-.571 1.525c-.036.003-.108.036-.137.146l-.289 1.105c-.147.561-.549.967-.998 1.189-.173.086-.34.183-.5.29-.417.278-.97.423-1.529.27l-1.103-.303c-.109-.03-.175.016-.195.045-.22.312-.412.644-.573.99-.014.031-.021.11.059.19l.815.806c.411.406.562.957.53 1.456a4.709 4.709 0 0 0 0 .582c.032.499-.119 1.05-.53 1.456l-.815.806c-.081.08-.073.159-.059.19.162.346.353.677.573.989.02.03.085.076.195.046l1.102-.303c.56-.153 1.113-.008 1.53.27.161.107.328.204.501.29.447.222.85.629.997 1.189l.289 1.105c.029.109.101.143.137.146a6.6 6.6 0 0 0 1.142 0c.036-.003.108-.036.137-.146l.289-1.105c.147-.561.549-.967.998-1.189.173-.086.34-.183.5-.29.417-.278.97-.423 1.529-.27l1.103.303c.109.029.175-.016.195-.045.22-.313.411-.644.573-.99.014-.031.021-.11-.059-.19l-.815-.806c-.411-.406-.562-.957-.53-1.456a4.709 4.709 0 0 0 0-.582c-.032-.499.119-1.05.53-1.456l.815-.806c.081-.08.073-.159.059-.19a6.464 6.464 0 0 0-.573-.989c-.02-.03-.085-.076-.195-.046l-1.102.303c-.56.153-1.113.008-1.53-.27a4.44 4.44 0 0 0-.501-.29c-.447-.222-.85-.629-.997-1.189l-.289-1.105c-.029-.11-.101-.143-.137-.146a6.6 6.6 0 0 0-1.142 0ZM11 8a3 3 0 1 1-6 0 3 3 0 0 1 6 0ZM9.5 8a1.5 1.5 0 1 0-3.001.001A1.5 1.5 0 0 0 9.5 8Z"></path>
</svg>
        </span>
      
        <span data-view-component="true" class="ActionListItem-label">
          Settings
</span></a>
  
  
</li>

        
          <li role="presentation" aria-hidden="true" data-view-component="true" class="ActionList-sectionDivider"></li>
        
          
<li data-targets="nav-list.items nav-list.items" data-item-id="" data-view-component="true" class="ActionListItem">
    
    <a data-analytics-event="{&quot;category&quot;:&quot;Global navigation&quot;,&quot;action&quot;:&quot;DOCS&quot;,&quot;label&quot;:null}" id="item-11266a40-dc3c-4679-9b34-c8cbc8240255" href="https://docs.github.com" data-view-component="true" class="ActionListContent ActionListContent--visual16">
        <span class="ActionListItem-visual ActionListItem-visual--leading">
          <svg aria-hidden="true" height="16" viewBox="0 0 16 16" version="1.1" width="16" data-view-component="true" class="octicon octicon-book">
    <path d="M0 1.75A.75.75 0 0 1 .75 1h4.253c1.227 0 2.317.59 3 1.501A3.743 3.743 0 0 1 11.006 1h4.245a.75.75 0 0 1 .75.75v10.5a.75.75 0 0 1-.75.75h-4.507a2.25 2.25 0 0 0-1.591.659l-.622.621a.75.75 0 0 1-1.06 0l-.622-.621A2.25 2.25 0 0 0 5.258 13H.75a.75.75 0 0 1-.75-.75Zm7.251 10.324.004-5.073-.002-2.253A2.25 2.25 0 0 0 5.003 2.5H1.5v9h3.757a3.75 3.75 0 0 1 1.994.574ZM8.755 4.75l-.004 7.322a3.752 3.752 0 0 1 1.992-.572H14.5v-9h-3.495a2.25 2.25 0 0 0-2.25 2.25Z"></path>
</svg>
        </span>
      
        <span data-view-component="true" class="ActionListItem-label">
          GitHub Docs
</span></a>
  
  
</li>

        
          
<li data-targets="nav-list.items nav-list.items" data-item-id="" data-view-component="true" class="ActionListItem">
    
    <a data-analytics-event="{&quot;category&quot;:&quot;Global navigation&quot;,&quot;action&quot;:&quot;SUPPORT&quot;,&quot;label&quot;:null}" id="item-9d76c70f-9e30-4436-8e77-08a3001bdbf6" href="https://support.github.com" data-view-component="true" class="ActionListContent ActionListContent--visual16">
        <span class="ActionListItem-visual ActionListItem-visual--leading">
          <svg aria-hidden="true" height="16" viewBox="0 0 16 16" version="1.1" width="16" data-view-component="true" class="octicon octicon-people">
    <path d="M2 5.5a3.5 3.5 0 1 1 5.898 2.549 5.508 5.508 0 0 1 3.034 4.084.75.75 0 1 1-1.482.235 4 4 0 0 0-7.9 0 .75.75 0 0 1-1.482-.236A5.507 5.507 0 0 1 3.102 8.05 3.493 3.493 0 0 1 2 5.5ZM11 4a3.001 3.001 0 0 1 2.22 5.018 5.01 5.01 0 0 1 2.56 3.012.749.749 0 0 1-.885.954.752.752 0 0 1-.549-.514 3.507 3.507 0 0 0-2.522-2.372.75.75 0 0 1-.574-.73v-.352a.75.75 0 0 1 .416-.672A1.5 1.5 0 0 0 11 5.5.75.75 0 0 1 11 4Zm-5.5-.5a2 2 0 1 0-.001 3.999A2 2 0 0 0 5.5 3.5Z"></path>
</svg>
        </span>
      
        <span data-view-component="true" class="ActionListItem-label">
          GitHub Support
</span></a>
  
  
</li>

        
          <li role="presentation" aria-hidden="true" data-view-component="true" class="ActionList-sectionDivider"></li>
        
          
<li data-targets="nav-list.items nav-list.items" data-item-id="" data-view-component="true" class="ActionListItem">
    
    <a data-analytics-event="{&quot;category&quot;:&quot;Global navigation&quot;,&quot;action&quot;:&quot;LOGOUT&quot;,&quot;label&quot;:null}" id="item-75ae9d28-c2d1-4d09-a4f5-040aa0acfea6" href="/logout" data-view-component="true" class="ActionListContent">
      
        <span data-view-component="true" class="ActionListItem-label">
          Sign out
</span></a>
  
  
</li>

</ul>  </nav-list>
</nav>


</div>
</div>
      </scrollable-region>
      
</dialog></dialog-helper>
  </user-drawer-side-panel>

  </include-fragment>
</deferred-side-panel>
          
        </div>

        <div class="position-absolute mt-2">
            
<site-header-logged-in-user-menu>

</site-header-logged-in-user-menu>

        </div>
      </div>
    </div>


      <div class="AppHeader-localBar" >
        <nav data-pjax="#js-repo-pjax-container" aria-label="Repository" data-view-component="true" class="js-repo-nav js-sidenav-container-pjax js-responsive-underlinenav overflow-hidden UnderlineNav">

  <ul data-view-component="true" class="UnderlineNav-body list-style-none">
      <li data-view-component="true" class="d-inline-flex">
  <a id="code-tab" href="/katarina74/ml_lessons" data-tab-item="i0code-tab" data-selected-links="repo_source repo_downloads repo_commits repo_releases repo_tags repo_branches repo_packages repo_deployments repo_attestations /katarina74/ml_lessons" data-pjax="#repo-content-pjax-container" data-turbo-frame="repo-content-turbo-frame" data-hotkey="g c" data-analytics-event="{&quot;category&quot;:&quot;Underline navbar&quot;,&quot;action&quot;:&quot;Click tab&quot;,&quot;label&quot;:&quot;Code&quot;,&quot;target&quot;:&quot;UNDERLINE_NAV.TAB&quot;}" data-view-component="true" class="UnderlineNav-item no-wrap js-responsive-underlinenav-item js-selected-navigation-item">
    
              <svg aria-hidden="true" height="16" viewBox="0 0 16 16" version="1.1" width="16" data-view-component="true" class="octicon octicon-code UnderlineNav-octicon d-none d-sm-inline">
    <path d="m11.28 3.22 4.25 4.25a.75.75 0 0 1 0 1.06l-4.25 4.25a.749.749 0 0 1-1.275-.326.749.749 0 0 1 .215-.734L13.94 8l-3.72-3.72a.749.749 0 0 1 .326-1.275.749.749 0 0 1 .734.215Zm-6.56 0a.751.751 0 0 1 1.042.018.751.751 0 0 1 .018 1.042L2.06 8l3.72 3.72a.749.749 0 0 1-.326 1.275.749.749 0 0 1-.734-.215L.47 8.53a.75.75 0 0 1 0-1.06Z"></path>
</svg>
        <span data-content="Code">Code</span>
          <span id="code-repo-tab-count" data-pjax-replace="" data-turbo-replace="" title="Not available" data-view-component="true" class="Counter"></span>


    
</a></li>
      <li data-view-component="true" class="d-inline-flex">
  <a id="issues-tab" href="/katarina74/ml_lessons/issues" data-tab-item="i1issues-tab" data-selected-links="repo_issues repo_labels repo_milestones /katarina74/ml_lessons/issues" data-pjax="#repo-content-pjax-container" data-turbo-frame="repo-content-turbo-frame" data-hotkey="g i" data-analytics-event="{&quot;category&quot;:&quot;Underline navbar&quot;,&quot;action&quot;:&quot;Click tab&quot;,&quot;label&quot;:&quot;Issues&quot;,&quot;target&quot;:&quot;UNDERLINE_NAV.TAB&quot;}" data-view-component="true" class="UnderlineNav-item no-wrap js-responsive-underlinenav-item js-selected-navigation-item">
    
              <svg aria-hidden="true" height="16" viewBox="0 0 16 16" version="1.1" width="16" data-view-component="true" class="octicon octicon-issue-opened UnderlineNav-octicon d-none d-sm-inline">
    <path d="M8 9.5a1.5 1.5 0 1 0 0-3 1.5 1.5 0 0 0 0 3Z"></path><path d="M8 0a8 8 0 1 1 0 16A8 8 0 0 1 8 0ZM1.5 8a6.5 6.5 0 1 0 13 0 6.5 6.5 0 0 0-13 0Z"></path>
</svg>
        <span data-content="Issues">Issues</span>
          <span id="issues-repo-tab-count" data-pjax-replace="" data-turbo-replace="" title="0" hidden="hidden" data-view-component="true" class="Counter">0</span>


    
</a></li>
      <li data-view-component="true" class="d-inline-flex">
  <a id="pull-requests-tab" href="/katarina74/ml_lessons/pulls" data-tab-item="i2pull-requests-tab" data-selected-links="repo_pulls checks /katarina74/ml_lessons/pulls" data-pjax="#repo-content-pjax-container" data-turbo-frame="repo-content-turbo-frame" data-hotkey="g p" data-analytics-event="{&quot;category&quot;:&quot;Underline navbar&quot;,&quot;action&quot;:&quot;Click tab&quot;,&quot;label&quot;:&quot;Pull requests&quot;,&quot;target&quot;:&quot;UNDERLINE_NAV.TAB&quot;}" data-view-component="true" class="UnderlineNav-item no-wrap js-responsive-underlinenav-item js-selected-navigation-item">
    
              <svg aria-hidden="true" height="16" viewBox="0 0 16 16" version="1.1" width="16" data-view-component="true" class="octicon octicon-git-pull-request UnderlineNav-octicon d-none d-sm-inline">
    <path d="M1.5 3.25a2.25 2.25 0 1 1 3 2.122v5.256a2.251 2.251 0 1 1-1.5 0V5.372A2.25 2.25 0 0 1 1.5 3.25Zm5.677-.177L9.573.677A.25.25 0 0 1 10 .854V2.5h1A2.5 2.5 0 0 1 13.5 5v5.628a2.251 2.251 0 1 1-1.5 0V5a1 1 0 0 0-1-1h-1v1.646a.25.25 0 0 1-.427.177L7.177 3.427a.25.25 0 0 1 0-.354ZM3.75 2.5a.75.75 0 1 0 0 1.5.75.75 0 0 0 0-1.5Zm0 9.5a.75.75 0 1 0 0 1.5.75.75 0 0 0 0-1.5Zm8.25.75a.75.75 0 1 0 1.5 0 .75.75 0 0 0-1.5 0Z"></path>
</svg>
        <span data-content="Pull requests">Pull requests</span>
          <span id="pull-requests-repo-tab-count" data-pjax-replace="" data-turbo-replace="" title="0" hidden="hidden" data-view-component="true" class="Counter">0</span>


    
</a></li>
      <li data-view-component="true" class="d-inline-flex">
  <a id="actions-tab" href="/katarina74/ml_lessons/actions" data-tab-item="i3actions-tab" data-selected-links="repo_actions /katarina74/ml_lessons/actions" data-pjax="#repo-content-pjax-container" data-turbo-frame="repo-content-turbo-frame" data-hotkey="g a" data-analytics-event="{&quot;category&quot;:&quot;Underline navbar&quot;,&quot;action&quot;:&quot;Click tab&quot;,&quot;label&quot;:&quot;Actions&quot;,&quot;target&quot;:&quot;UNDERLINE_NAV.TAB&quot;}" data-view-component="true" class="UnderlineNav-item no-wrap js-responsive-underlinenav-item js-selected-navigation-item">
    
              <svg aria-hidden="true" height="16" viewBox="0 0 16 16" version="1.1" width="16" data-view-component="true" class="octicon octicon-play UnderlineNav-octicon d-none d-sm-inline">
    <path d="M8 0a8 8 0 1 1 0 16A8 8 0 0 1 8 0ZM1.5 8a6.5 6.5 0 1 0 13 0 6.5 6.5 0 0 0-13 0Zm4.879-2.773 4.264 2.559a.25.25 0 0 1 0 .428l-4.264 2.559A.25.25 0 0 1 6 10.559V5.442a.25.25 0 0 1 .379-.215Z"></path>
</svg>
        <span data-content="Actions">Actions</span>
          <span id="actions-repo-tab-count" data-pjax-replace="" data-turbo-replace="" title="Not available" data-view-component="true" class="Counter"></span>


    
</a></li>
      <li data-view-component="true" class="d-inline-flex">
  <a id="projects-tab" href="/katarina74/ml_lessons/projects" data-tab-item="i4projects-tab" data-selected-links="repo_projects new_repo_project repo_project /katarina74/ml_lessons/projects" data-pjax="#repo-content-pjax-container" data-turbo-frame="repo-content-turbo-frame" data-hotkey="g b" data-analytics-event="{&quot;category&quot;:&quot;Underline navbar&quot;,&quot;action&quot;:&quot;Click tab&quot;,&quot;label&quot;:&quot;Projects&quot;,&quot;target&quot;:&quot;UNDERLINE_NAV.TAB&quot;}" data-view-component="true" class="UnderlineNav-item no-wrap js-responsive-underlinenav-item js-selected-navigation-item">
    
              <svg aria-hidden="true" height="16" viewBox="0 0 16 16" version="1.1" width="16" data-view-component="true" class="octicon octicon-table UnderlineNav-octicon d-none d-sm-inline">
    <path d="M0 1.75C0 .784.784 0 1.75 0h12.5C15.216 0 16 .784 16 1.75v12.5A1.75 1.75 0 0 1 14.25 16H1.75A1.75 1.75 0 0 1 0 14.25ZM6.5 6.5v8h7.75a.25.25 0 0 0 .25-.25V6.5Zm8-1.5V1.75a.25.25 0 0 0-.25-.25H6.5V5Zm-13 1.5v7.75c0 .138.112.25.25.25H5v-8ZM5 5V1.5H1.75a.25.25 0 0 0-.25.25V5Z"></path>
</svg>
        <span data-content="Projects">Projects</span>
          <span id="projects-repo-tab-count" data-pjax-replace="" data-turbo-replace="" title="0" hidden="hidden" data-view-component="true" class="Counter">0</span>


    
</a></li>
      <li data-view-component="true" class="d-inline-flex">
  <a id="security-tab" href="/katarina74/ml_lessons/security" data-tab-item="i5security-tab" data-selected-links="security overview alerts policy token_scanning code_scanning /katarina74/ml_lessons/security" data-pjax="#repo-content-pjax-container" data-turbo-frame="repo-content-turbo-frame" data-hotkey="g s" data-analytics-event="{&quot;category&quot;:&quot;Underline navbar&quot;,&quot;action&quot;:&quot;Click tab&quot;,&quot;label&quot;:&quot;Security&quot;,&quot;target&quot;:&quot;UNDERLINE_NAV.TAB&quot;}" data-view-component="true" class="UnderlineNav-item no-wrap js-responsive-underlinenav-item js-selected-navigation-item">
    
              <svg aria-hidden="true" height="16" viewBox="0 0 16 16" version="1.1" width="16" data-view-component="true" class="octicon octicon-shield UnderlineNav-octicon d-none d-sm-inline">
    <path d="M7.467.133a1.748 1.748 0 0 1 1.066 0l5.25 1.68A1.75 1.75 0 0 1 15 3.48V7c0 1.566-.32 3.182-1.303 4.682-.983 1.498-2.585 2.813-5.032 3.855a1.697 1.697 0 0 1-1.33 0c-2.447-1.042-4.049-2.357-5.032-3.855C1.32 10.182 1 8.566 1 7V3.48a1.75 1.75 0 0 1 1.217-1.667Zm.61 1.429a.25.25 0 0 0-.153 0l-5.25 1.68a.25.25 0 0 0-.174.238V7c0 1.358.275 2.666 1.057 3.86.784 1.194 2.121 2.34 4.366 3.297a.196.196 0 0 0 .154 0c2.245-.956 3.582-2.104 4.366-3.298C13.225 9.666 13.5 8.36 13.5 7V3.48a.251.251 0 0 0-.174-.237l-5.25-1.68ZM8.75 4.75v3a.75.75 0 0 1-1.5 0v-3a.75.75 0 0 1 1.5 0ZM9 10.5a1 1 0 1 1-2 0 1 1 0 0 1 2 0Z"></path>
</svg>
        <span data-content="Security">Security</span>
          <include-fragment src="/katarina74/ml_lessons/security/overall-count" accept="text/fragment+html"></include-fragment>

    
</a></li>
      <li data-view-component="true" class="d-inline-flex">
  <a id="insights-tab" href="/katarina74/ml_lessons/pulse" data-tab-item="i6insights-tab" data-selected-links="repo_graphs repo_contributors dependency_graph dependabot_updates pulse people community /katarina74/ml_lessons/pulse" data-pjax="#repo-content-pjax-container" data-turbo-frame="repo-content-turbo-frame" data-analytics-event="{&quot;category&quot;:&quot;Underline navbar&quot;,&quot;action&quot;:&quot;Click tab&quot;,&quot;label&quot;:&quot;Insights&quot;,&quot;target&quot;:&quot;UNDERLINE_NAV.TAB&quot;}" data-view-component="true" class="UnderlineNav-item no-wrap js-responsive-underlinenav-item js-selected-navigation-item">
    
              <svg aria-hidden="true" height="16" viewBox="0 0 16 16" version="1.1" width="16" data-view-component="true" class="octicon octicon-graph UnderlineNav-octicon d-none d-sm-inline">
    <path d="M1.5 1.75V13.5h13.75a.75.75 0 0 1 0 1.5H.75a.75.75 0 0 1-.75-.75V1.75a.75.75 0 0 1 1.5 0Zm14.28 2.53-5.25 5.25a.75.75 0 0 1-1.06 0L7 7.06 4.28 9.78a.751.751 0 0 1-1.042-.018.751.751 0 0 1-.018-1.042l3.25-3.25a.75.75 0 0 1 1.06 0L10 7.94l4.72-4.72a.751.751 0 0 1 1.042.018.751.751 0 0 1 .018 1.042Z"></path>
</svg>
        <span data-content="Insights">Insights</span>
          <span id="insights-repo-tab-count" data-pjax-replace="" data-turbo-replace="" title="Not available" data-view-component="true" class="Counter"></span>


    
</a></li>
</ul>
    <div style="visibility:hidden;" data-view-component="true" class="UnderlineNav-actions js-responsive-underlinenav-overflow position-absolute pr-3 pr-md-4 pr-lg-5 right-0">      <action-menu data-select-variant="none" data-view-component="true">
  <focus-group direction="vertical" mnemonics retain>
    <button id="action-menu-e97595c3-3377-429b-a68f-c6e0a3bf9882-button" popovertarget="action-menu-e97595c3-3377-429b-a68f-c6e0a3bf9882-overlay" aria-controls="action-menu-e97595c3-3377-429b-a68f-c6e0a3bf9882-list" aria-haspopup="true" aria-labelledby="tooltip-84f60214-7454-4337-ae65-c5976bb7ff42" type="button" data-view-component="true" class="Button Button--iconOnly Button--secondary Button--medium UnderlineNav-item">  <svg aria-hidden="true" height="16" viewBox="0 0 16 16" version="1.1" width="16" data-view-component="true" class="octicon octicon-kebab-horizontal Button-visual">
    <path d="M8 9a1.5 1.5 0 1 0 0-3 1.5 1.5 0 0 0 0 3ZM1.5 9a1.5 1.5 0 1 0 0-3 1.5 1.5 0 0 0 0 3Zm13 0a1.5 1.5 0 1 0 0-3 1.5 1.5 0 0 0 0 3Z"></path>
</svg>
</button><tool-tip id="tooltip-84f60214-7454-4337-ae65-c5976bb7ff42" for="action-menu-e97595c3-3377-429b-a68f-c6e0a3bf9882-button" popover="manual" data-direction="s" data-type="label" data-view-component="true" class="sr-only position-absolute">Additional navigation options</tool-tip>


<anchored-position id="action-menu-e97595c3-3377-429b-a68f-c6e0a3bf9882-overlay" anchor="action-menu-e97595c3-3377-429b-a68f-c6e0a3bf9882-button" align="start" side="outside-bottom" anchor-offset="normal" popover="auto" data-view-component="true">
  <div data-view-component="true" class="Overlay Overlay--size-auto">
    
      <div data-view-component="true" class="Overlay-body Overlay-body--paddingNone">          <div data-view-component="true">
  <ul aria-labelledby="action-menu-e97595c3-3377-429b-a68f-c6e0a3bf9882-button" id="action-menu-e97595c3-3377-429b-a68f-c6e0a3bf9882-list" role="menu" data-view-component="true" class="ActionListWrap--inset ActionListWrap">
      <li hidden="hidden" data-menu-item="i0code-tab" data-targets="action-list.items action-list.items" role="none" data-view-component="true" class="ActionListItem">
    
    <a tabindex="-1" id="item-deb52992-e11b-4c20-b7dd-eb7300e58658" href="/katarina74/ml_lessons" role="menuitem" data-view-component="true" class="ActionListContent ActionListContent--visual16">
        <span class="ActionListItem-visual ActionListItem-visual--leading">
          <svg aria-hidden="true" height="16" viewBox="0 0 16 16" version="1.1" width="16" data-view-component="true" class="octicon octicon-code">
    <path d="m11.28 3.22 4.25 4.25a.75.75 0 0 1 0 1.06l-4.25 4.25a.749.749 0 0 1-1.275-.326.749.749 0 0 1 .215-.734L13.94 8l-3.72-3.72a.749.749 0 0 1 .326-1.275.749.749 0 0 1 .734.215Zm-6.56 0a.751.751 0 0 1 1.042.018.751.751 0 0 1 .018 1.042L2.06 8l3.72 3.72a.749.749 0 0 1-.326 1.275.749.749 0 0 1-.734-.215L.47 8.53a.75.75 0 0 1 0-1.06Z"></path>
</svg>
        </span>
      
        <span data-view-component="true" class="ActionListItem-label">
          Code
</span></a>
  
  
</li>
      <li hidden="hidden" data-menu-item="i1issues-tab" data-targets="action-list.items action-list.items" role="none" data-view-component="true" class="ActionListItem">
    
    <a tabindex="-1" id="item-8ddd8505-f105-4dc6-9a36-6bd5700b4e4d" href="/katarina74/ml_lessons/issues" role="menuitem" data-view-component="true" class="ActionListContent ActionListContent--visual16">
        <span class="ActionListItem-visual ActionListItem-visual--leading">
          <svg aria-hidden="true" height="16" viewBox="0 0 16 16" version="1.1" width="16" data-view-component="true" class="octicon octicon-issue-opened">
    <path d="M8 9.5a1.5 1.5 0 1 0 0-3 1.5 1.5 0 0 0 0 3Z"></path><path d="M8 0a8 8 0 1 1 0 16A8 8 0 0 1 8 0ZM1.5 8a6.5 6.5 0 1 0 13 0 6.5 6.5 0 0 0-13 0Z"></path>
</svg>
        </span>
      
        <span data-view-component="true" class="ActionListItem-label">
          Issues
</span></a>
  
  
</li>
      <li hidden="hidden" data-menu-item="i2pull-requests-tab" data-targets="action-list.items action-list.items" role="none" data-view-component="true" class="ActionListItem">
    
    <a tabindex="-1" id="item-dc535d67-5ffc-4acd-af20-2c6b44f38abc" href="/katarina74/ml_lessons/pulls" role="menuitem" data-view-component="true" class="ActionListContent ActionListContent--visual16">
        <span class="ActionListItem-visual ActionListItem-visual--leading">
          <svg aria-hidden="true" height="16" viewBox="0 0 16 16" version="1.1" width="16" data-view-component="true" class="octicon octicon-git-pull-request">
    <path d="M1.5 3.25a2.25 2.25 0 1 1 3 2.122v5.256a2.251 2.251 0 1 1-1.5 0V5.372A2.25 2.25 0 0 1 1.5 3.25Zm5.677-.177L9.573.677A.25.25 0 0 1 10 .854V2.5h1A2.5 2.5 0 0 1 13.5 5v5.628a2.251 2.251 0 1 1-1.5 0V5a1 1 0 0 0-1-1h-1v1.646a.25.25 0 0 1-.427.177L7.177 3.427a.25.25 0 0 1 0-.354ZM3.75 2.5a.75.75 0 1 0 0 1.5.75.75 0 0 0 0-1.5Zm0 9.5a.75.75 0 1 0 0 1.5.75.75 0 0 0 0-1.5Zm8.25.75a.75.75 0 1 0 1.5 0 .75.75 0 0 0-1.5 0Z"></path>
</svg>
        </span>
      
        <span data-view-component="true" class="ActionListItem-label">
          Pull requests
</span></a>
  
  
</li>
      <li hidden="hidden" data-menu-item="i3actions-tab" data-targets="action-list.items action-list.items" role="none" data-view-component="true" class="ActionListItem">
    
    <a tabindex="-1" id="item-c54a0c18-4612-499f-bf90-15f270cc597e" href="/katarina74/ml_lessons/actions" role="menuitem" data-view-component="true" class="ActionListContent ActionListContent--visual16">
        <span class="ActionListItem-visual ActionListItem-visual--leading">
          <svg aria-hidden="true" height="16" viewBox="0 0 16 16" version="1.1" width="16" data-view-component="true" class="octicon octicon-play">
    <path d="M8 0a8 8 0 1 1 0 16A8 8 0 0 1 8 0ZM1.5 8a6.5 6.5 0 1 0 13 0 6.5 6.5 0 0 0-13 0Zm4.879-2.773 4.264 2.559a.25.25 0 0 1 0 .428l-4.264 2.559A.25.25 0 0 1 6 10.559V5.442a.25.25 0 0 1 .379-.215Z"></path>
</svg>
        </span>
      
        <span data-view-component="true" class="ActionListItem-label">
          Actions
</span></a>
  
  
</li>
      <li hidden="hidden" data-menu-item="i4projects-tab" data-targets="action-list.items action-list.items" role="none" data-view-component="true" class="ActionListItem">
    
    <a tabindex="-1" id="item-fa802ccf-30a9-4400-b6f6-a43599af6c1c" href="/katarina74/ml_lessons/projects" role="menuitem" data-view-component="true" class="ActionListContent ActionListContent--visual16">
        <span class="ActionListItem-visual ActionListItem-visual--leading">
          <svg aria-hidden="true" height="16" viewBox="0 0 16 16" version="1.1" width="16" data-view-component="true" class="octicon octicon-table">
    <path d="M0 1.75C0 .784.784 0 1.75 0h12.5C15.216 0 16 .784 16 1.75v12.5A1.75 1.75 0 0 1 14.25 16H1.75A1.75 1.75 0 0 1 0 14.25ZM6.5 6.5v8h7.75a.25.25 0 0 0 .25-.25V6.5Zm8-1.5V1.75a.25.25 0 0 0-.25-.25H6.5V5Zm-13 1.5v7.75c0 .138.112.25.25.25H5v-8ZM5 5V1.5H1.75a.25.25 0 0 0-.25.25V5Z"></path>
</svg>
        </span>
      
        <span data-view-component="true" class="ActionListItem-label">
          Projects
</span></a>
  
  
</li>
      <li hidden="hidden" data-menu-item="i5security-tab" data-targets="action-list.items action-list.items" role="none" data-view-component="true" class="ActionListItem">
    
    <a tabindex="-1" id="item-3664ee87-2832-41dd-8ce5-2183a2454dd5" href="/katarina74/ml_lessons/security" role="menuitem" data-view-component="true" class="ActionListContent ActionListContent--visual16">
        <span class="ActionListItem-visual ActionListItem-visual--leading">
          <svg aria-hidden="true" height="16" viewBox="0 0 16 16" version="1.1" width="16" data-view-component="true" class="octicon octicon-shield">
    <path d="M7.467.133a1.748 1.748 0 0 1 1.066 0l5.25 1.68A1.75 1.75 0 0 1 15 3.48V7c0 1.566-.32 3.182-1.303 4.682-.983 1.498-2.585 2.813-5.032 3.855a1.697 1.697 0 0 1-1.33 0c-2.447-1.042-4.049-2.357-5.032-3.855C1.32 10.182 1 8.566 1 7V3.48a1.75 1.75 0 0 1 1.217-1.667Zm.61 1.429a.25.25 0 0 0-.153 0l-5.25 1.68a.25.25 0 0 0-.174.238V7c0 1.358.275 2.666 1.057 3.86.784 1.194 2.121 2.34 4.366 3.297a.196.196 0 0 0 .154 0c2.245-.956 3.582-2.104 4.366-3.298C13.225 9.666 13.5 8.36 13.5 7V3.48a.251.251 0 0 0-.174-.237l-5.25-1.68ZM8.75 4.75v3a.75.75 0 0 1-1.5 0v-3a.75.75 0 0 1 1.5 0ZM9 10.5a1 1 0 1 1-2 0 1 1 0 0 1 2 0Z"></path>
</svg>
        </span>
      
        <span data-view-component="true" class="ActionListItem-label">
          Security
</span></a>
  
  
</li>
      <li hidden="hidden" data-menu-item="i6insights-tab" data-targets="action-list.items action-list.items" role="none" data-view-component="true" class="ActionListItem">
    
    <a tabindex="-1" id="item-0f1f41e9-e9fe-40fd-856d-13bf1d77d4a9" href="/katarina74/ml_lessons/pulse" role="menuitem" data-view-component="true" class="ActionListContent ActionListContent--visual16">
        <span class="ActionListItem-visual ActionListItem-visual--leading">
          <svg aria-hidden="true" height="16" viewBox="0 0 16 16" version="1.1" width="16" data-view-component="true" class="octicon octicon-graph">
    <path d="M1.5 1.75V13.5h13.75a.75.75 0 0 1 0 1.5H.75a.75.75 0 0 1-.75-.75V1.75a.75.75 0 0 1 1.5 0Zm14.28 2.53-5.25 5.25a.75.75 0 0 1-1.06 0L7 7.06 4.28 9.78a.751.751 0 0 1-1.042-.018.751.751 0 0 1-.018-1.042l3.25-3.25a.75.75 0 0 1 1.06 0L10 7.94l4.72-4.72a.751.751 0 0 1 1.042.018.751.751 0 0 1 .018 1.042Z"></path>
</svg>
        </span>
      
        <span data-view-component="true" class="ActionListItem-label">
          Insights
</span></a>
  
  
</li>
</ul>  
</div>

</div>
      
</div></anchored-position>  </focus-group>
</action-menu></div>
</nav>
      </div>
</header>


      <div hidden="hidden" data-view-component="true" class="js-stale-session-flash stale-session-flash flash flash-warn flash-full mb-3">
  
        <svg aria-hidden="true" height="16" viewBox="0 0 16 16" version="1.1" width="16" data-view-component="true" class="octicon octicon-alert">
    <path d="M6.457 1.047c.659-1.234 2.427-1.234 3.086 0l6.082 11.378A1.75 1.75 0 0 1 14.082 15H1.918a1.75 1.75 0 0 1-1.543-2.575Zm1.763.707a.25.25 0 0 0-.44 0L1.698 13.132a.25.25 0 0 0 .22.368h12.164a.25.25 0 0 0 .22-.368Zm.53 3.996v2.5a.75.75 0 0 1-1.5 0v-2.5a.75.75 0 0 1 1.5 0ZM9 11a1 1 0 1 1-2 0 1 1 0 0 1 2 0Z"></path>
</svg>
        <span class="js-stale-session-flash-signed-in" hidden>You signed in with another tab or window. <a class="Link--inTextBlock" href="">Reload</a> to refresh your session.</span>
        <span class="js-stale-session-flash-signed-out" hidden>You signed out in another tab or window. <a class="Link--inTextBlock" href="">Reload</a> to refresh your session.</span>
        <span class="js-stale-session-flash-switched" hidden>You switched accounts on another tab or window. <a class="Link--inTextBlock" href="">Reload</a> to refresh your session.</span>

    <button id="icon-button-73f88ae3-59fc-4767-82a1-f265757f067a" aria-labelledby="tooltip-be7a8ad7-8dcf-4d7f-86d2-0b58818bee3d" type="button" data-view-component="true" class="Button Button--iconOnly Button--invisible Button--medium flash-close js-flash-close">  <svg aria-hidden="true" height="16" viewBox="0 0 16 16" version="1.1" width="16" data-view-component="true" class="octicon octicon-x Button-visual">
    <path d="M3.72 3.72a.75.75 0 0 1 1.06 0L8 6.94l3.22-3.22a.749.749 0 0 1 1.275.326.749.749 0 0 1-.215.734L9.06 8l3.22 3.22a.749.749 0 0 1-.326 1.275.749.749 0 0 1-.734-.215L8 9.06l-3.22 3.22a.751.751 0 0 1-1.042-.018.751.751 0 0 1-.018-1.042L6.94 8 3.72 4.78a.75.75 0 0 1 0-1.06Z"></path>
</svg>
</button><tool-tip id="tooltip-be7a8ad7-8dcf-4d7f-86d2-0b58818bee3d" for="icon-button-73f88ae3-59fc-4767-82a1-f265757f067a" popover="manual" data-direction="s" data-type="label" data-view-component="true" class="sr-only position-absolute">Dismiss alert</tool-tip>


  
</div>
          
    </div>

  <div id="start-of-content" class="show-on-focus"></div>








    <div id="js-flash-container" data-turbo-replace>





  <template class="js-flash-template">
    
<div class="flash flash-full   {{ className }}">
  <div class="px-2" >
    <button autofocus class="flash-close js-flash-close" type="button" aria-label="Dismiss this message">
      <svg aria-hidden="true" height="16" viewBox="0 0 16 16" version="1.1" width="16" data-view-component="true" class="octicon octicon-x">
    <path d="M3.72 3.72a.75.75 0 0 1 1.06 0L8 6.94l3.22-3.22a.749.749 0 0 1 1.275.326.749.749 0 0 1-.215.734L9.06 8l3.22 3.22a.749.749 0 0 1-.326 1.275.749.749 0 0 1-.734-.215L8 9.06l-3.22 3.22a.751.751 0 0 1-1.042-.018.751.751 0 0 1-.018-1.042L6.94 8 3.72 4.78a.75.75 0 0 1 0-1.06Z"></path>
</svg>
    </button>
    <div aria-atomic="true" role="alert" class="js-flash-alert">
      
      <div>{{ message }}</div>

    </div>
  </div>
</div>
  </template>
</div>


    
    <notification-shelf-watcher data-base-url="https://github.com/notifications/beta/shelf" data-channel="eyJjIjoibm90aWZpY2F0aW9uLWNoYW5nZWQ6MTMyOTA4OTYxIiwidCI6MTcwNzg5OTkyMn0=--d2e30c5b77b9fbd03e8df20ecff33a586902a991f312ba1babf94da215962d96" data-view-component="true" class="js-socket-channel"></notification-shelf-watcher>
  <div hidden data-initial data-target="notification-shelf-watcher.placeholder"></div>






      <details
  class="details-reset details-overlay details-overlay-dark js-command-palette-dialog"
  id="command-palette-pjax-container"
  data-turbo-replace
>
  <summary aria-label="Command palette trigger" tabindex="-1"></summary>
  <details-dialog class="command-palette-details-dialog d-flex flex-column flex-justify-center height-fit" aria-label="Command palette">
    <command-palette
      class="command-palette color-bg-default rounded-3 border color-shadow-small"
      return-to=/katarina74/ml_lessons/blob/main/lesson_2/lesson_2.ipynb
      user-id="132908961"
      activation-hotkey="Mod+k,Mod+Alt+k"
      command-mode-hotkey="Mod+Shift+K"
      data-action="
        command-palette-input-ready:command-palette#inputReady
        command-palette-page-stack-updated:command-palette#updateInputScope
        itemsUpdated:command-palette#itemsUpdated
        keydown:command-palette#onKeydown
        loadingStateChanged:command-palette#loadingStateChanged
        selectedItemChanged:command-palette#selectedItemChanged
        pageFetchError:command-palette#pageFetchError
      ">

        <command-palette-mode
          data-char="#"
            data-scope-types="[&quot;&quot;]"
            data-placeholder="Search issues and pull requests"
        ></command-palette-mode>
        <command-palette-mode
          data-char="#"
            data-scope-types="[&quot;owner&quot;,&quot;repository&quot;]"
            data-placeholder="Search issues, pull requests, discussions, and projects"
        ></command-palette-mode>
        <command-palette-mode
          data-char="!"
            data-scope-types="[&quot;owner&quot;,&quot;repository&quot;]"
            data-placeholder="Search projects"
        ></command-palette-mode>
        <command-palette-mode
          data-char="@"
            data-scope-types="[&quot;&quot;]"
            data-placeholder="Search or jump to a user, organization, or repository"
        ></command-palette-mode>
        <command-palette-mode
          data-char="@"
            data-scope-types="[&quot;owner&quot;]"
            data-placeholder="Search or jump to a repository"
        ></command-palette-mode>
        <command-palette-mode
          data-char="/"
            data-scope-types="[&quot;repository&quot;]"
            data-placeholder="Search files"
        ></command-palette-mode>
        <command-palette-mode
          data-char="?"
        ></command-palette-mode>
        <command-palette-mode
          data-char="&gt;"
            data-placeholder="Run a command"
        ></command-palette-mode>
        <command-palette-mode
          data-char=""
            data-scope-types="[&quot;&quot;]"
            data-placeholder="Search or jump to..."
        ></command-palette-mode>
        <command-palette-mode
          data-char=""
            data-scope-types="[&quot;owner&quot;]"
            data-placeholder="Search or jump to..."
        ></command-palette-mode>
      <command-palette-mode
        class="js-command-palette-default-mode"
        data-char=""
        data-placeholder="Search or jump to..."
      ></command-palette-mode>

      <command-palette-input placeholder="Search or jump to..."

        data-action="
          command-palette-input:command-palette#onInput
          command-palette-select:command-palette#onSelect
          command-palette-descope:command-palette#onDescope
          command-palette-cleared:command-palette#onInputClear
        "
      >
        <div class="js-search-icon d-flex flex-items-center mr-2" style="height: 26px">
          <svg aria-hidden="true" height="16" viewBox="0 0 16 16" version="1.1" width="16" data-view-component="true" class="octicon octicon-search color-fg-muted">
    <path d="M10.68 11.74a6 6 0 0 1-7.922-8.982 6 6 0 0 1 8.982 7.922l3.04 3.04a.749.749 0 0 1-.326 1.275.749.749 0 0 1-.734-.215ZM11.5 7a4.499 4.499 0 1 0-8.997 0A4.499 4.499 0 0 0 11.5 7Z"></path>
</svg>
        </div>
        <div class="js-spinner d-flex flex-items-center mr-2 color-fg-muted" hidden>
          <svg aria-label="Loading" class="anim-rotate" viewBox="0 0 16 16" fill="none" width="16" height="16">
            <circle
              cx="8"
              cy="8"
              r="7"
              stroke="currentColor"
              stroke-opacity="0.25"
              stroke-width="2"
              vector-effect="non-scaling-stroke"
            ></circle>
            <path
              d="M15 8a7.002 7.002 0 00-7-7"
              stroke="currentColor"
              stroke-width="2"
              stroke-linecap="round"
              vector-effect="non-scaling-stroke"
            ></path>
          </svg>
        </div>
        <command-palette-scope >
          <div data-target="command-palette-scope.placeholder" hidden class="color-fg-subtle">/&nbsp;&nbsp;<span class="text-semibold color-fg-default">...</span>&nbsp;&nbsp;/&nbsp;&nbsp;</div>
              <command-palette-token
                data-text="katarina74"
                data-id="MDQ6VXNlcjU1NTM1ODk2"
                data-type="owner"
                data-value="katarina74"
                data-targets="command-palette-scope.tokens"
                class="color-fg-default text-semibold"
                style="white-space:nowrap;line-height:20px;"
                >katarina74<span class="color-fg-subtle text-normal">&nbsp;&nbsp;/&nbsp;&nbsp;</span></command-palette-token>
              <command-palette-token
                data-text="ml_lessons"
                data-id="R_kgDOLRWarg"
                data-type="repository"
                data-value="ml_lessons"
                data-targets="command-palette-scope.tokens"
                class="color-fg-default text-semibold"
                style="white-space:nowrap;line-height:20px;"
                >ml_lessons<span class="color-fg-subtle text-normal">&nbsp;&nbsp;/&nbsp;&nbsp;</span></command-palette-token>
        </command-palette-scope>
        <div class="command-palette-input-group flex-1 form-control border-0 box-shadow-none" style="z-index: 0">
          <div class="command-palette-typeahead position-absolute d-flex flex-items-center Truncate">
            <span class="typeahead-segment input-mirror" data-target="command-palette-input.mirror"></span>
            <span class="Truncate-text" data-target="command-palette-input.typeaheadText"></span>
            <span class="typeahead-segment" data-target="command-palette-input.typeaheadPlaceholder"></span>
          </div>
          <input
            class="js-overlay-input typeahead-input d-none"
            disabled
            tabindex="-1"
            aria-label="Hidden input for typeahead"
          >
          <input
            type="text"
            autocomplete="off"
            autocorrect="off"
            autocapitalize="off"
            spellcheck="false"
            class="js-input typeahead-input form-control border-0 box-shadow-none input-block width-full no-focus-indicator"
            aria-label="Command palette input"
            aria-haspopup="listbox"
            aria-expanded="false"
            aria-autocomplete="list"
            aria-controls="command-palette-page-stack"
            role="combobox"
            data-action="
              input:command-palette-input#onInput
              keydown:command-palette-input#onKeydown
            "
          >
        </div>
          <div data-view-component="true" class="position-relative d-inline-block">
    <button aria-keyshortcuts="Control+Backspace" data-action="click:command-palette-input#onClear keypress:command-palette-input#onClear" data-target="command-palette-input.clearButton" id="command-palette-clear-button" hidden="hidden" type="button" data-view-component="true" class="btn-octicon command-palette-input-clear-button">      <svg aria-hidden="true" height="16" viewBox="0 0 16 16" version="1.1" width="16" data-view-component="true" class="octicon octicon-x-circle-fill">
    <path d="M2.343 13.657A8 8 0 1 1 13.658 2.343 8 8 0 0 1 2.343 13.657ZM6.03 4.97a.751.751 0 0 0-1.042.018.751.751 0 0 0-.018 1.042L6.94 8 4.97 9.97a.749.749 0 0 0 .326 1.275.749.749 0 0 0 .734-.215L8 9.06l1.97 1.97a.749.749 0 0 0 1.275-.326.749.749 0 0 0-.215-.734L9.06 8l1.97-1.97a.749.749 0 0 0-.326-1.275.749.749 0 0 0-.734.215L8 6.94Z"></path>
</svg>
</button>    <tool-tip id="tooltip-e26c4396-e189-4101-b5b2-0ce4921d5e4c" for="command-palette-clear-button" popover="manual" data-direction="w" data-type="label" data-view-component="true" class="sr-only position-absolute">Clear Command Palette</tool-tip>
</div>
      </command-palette-input>

      <command-palette-page-stack
        data-default-scope-id="R_kgDOLRWarg"
        data-default-scope-type="Repository"
        data-action="command-palette-page-octicons-cached:command-palette-page-stack#cacheOcticons"
      >
          <command-palette-tip
            class="color-fg-muted f6 px-3 py-1 my-2"
              data-scope-types="[&quot;&quot;,&quot;owner&quot;,&quot;repository&quot;]"
            data-mode=""
            data-value="">
            <div class="d-flex flex-items-start flex-justify-between">
              <div>
                <span class="text-bold">Tip:</span>
                  Type <kbd class="hx_kbd">#</kbd> to search pull requests
              </div>
              <div class="ml-2 flex-shrink-0">
                Type <kbd class="hx_kbd">?</kbd> for help and tips
              </div>
            </div>
          </command-palette-tip>
          <command-palette-tip
            class="color-fg-muted f6 px-3 py-1 my-2"
              data-scope-types="[&quot;&quot;,&quot;owner&quot;,&quot;repository&quot;]"
            data-mode=""
            data-value="">
            <div class="d-flex flex-items-start flex-justify-between">
              <div>
                <span class="text-bold">Tip:</span>
                  Type <kbd class="hx_kbd">#</kbd> to search issues
              </div>
              <div class="ml-2 flex-shrink-0">
                Type <kbd class="hx_kbd">?</kbd> for help and tips
              </div>
            </div>
          </command-palette-tip>
          <command-palette-tip
            class="color-fg-muted f6 px-3 py-1 my-2"
              data-scope-types="[&quot;owner&quot;,&quot;repository&quot;]"
            data-mode=""
            data-value="">
            <div class="d-flex flex-items-start flex-justify-between">
              <div>
                <span class="text-bold">Tip:</span>
                  Type <kbd class="hx_kbd">#</kbd> to search discussions
              </div>
              <div class="ml-2 flex-shrink-0">
                Type <kbd class="hx_kbd">?</kbd> for help and tips
              </div>
            </div>
          </command-palette-tip>
          <command-palette-tip
            class="color-fg-muted f6 px-3 py-1 my-2"
              data-scope-types="[&quot;owner&quot;,&quot;repository&quot;]"
            data-mode=""
            data-value="">
            <div class="d-flex flex-items-start flex-justify-between">
              <div>
                <span class="text-bold">Tip:</span>
                  Type <kbd class="hx_kbd">!</kbd> to search projects
              </div>
              <div class="ml-2 flex-shrink-0">
                Type <kbd class="hx_kbd">?</kbd> for help and tips
              </div>
            </div>
          </command-palette-tip>
          <command-palette-tip
            class="color-fg-muted f6 px-3 py-1 my-2"
              data-scope-types="[&quot;owner&quot;]"
            data-mode=""
            data-value="">
            <div class="d-flex flex-items-start flex-justify-between">
              <div>
                <span class="text-bold">Tip:</span>
                  Type <kbd class="hx_kbd">@</kbd> to search teams
              </div>
              <div class="ml-2 flex-shrink-0">
                Type <kbd class="hx_kbd">?</kbd> for help and tips
              </div>
            </div>
          </command-palette-tip>
          <command-palette-tip
            class="color-fg-muted f6 px-3 py-1 my-2"
              data-scope-types="[&quot;&quot;]"
            data-mode=""
            data-value="">
            <div class="d-flex flex-items-start flex-justify-between">
              <div>
                <span class="text-bold">Tip:</span>
                  Type <kbd class="hx_kbd">@</kbd> to search people and organizations
              </div>
              <div class="ml-2 flex-shrink-0">
                Type <kbd class="hx_kbd">?</kbd> for help and tips
              </div>
            </div>
          </command-palette-tip>
          <command-palette-tip
            class="color-fg-muted f6 px-3 py-1 my-2"
              data-scope-types="[&quot;&quot;,&quot;owner&quot;,&quot;repository&quot;]"
            data-mode=""
            data-value="">
            <div class="d-flex flex-items-start flex-justify-between">
              <div>
                <span class="text-bold">Tip:</span>
                  Type <kbd class="hx_kbd">&gt;</kbd> to activate command mode
              </div>
              <div class="ml-2 flex-shrink-0">
                Type <kbd class="hx_kbd">?</kbd> for help and tips
              </div>
            </div>
          </command-palette-tip>
          <command-palette-tip
            class="color-fg-muted f6 px-3 py-1 my-2"
              data-scope-types="[&quot;&quot;,&quot;owner&quot;,&quot;repository&quot;]"
            data-mode=""
            data-value="">
            <div class="d-flex flex-items-start flex-justify-between">
              <div>
                <span class="text-bold">Tip:</span>
                  Go to your accessibility settings to change your keyboard shortcuts
              </div>
              <div class="ml-2 flex-shrink-0">
                Type <kbd class="hx_kbd">?</kbd> for help and tips
              </div>
            </div>
          </command-palette-tip>
          <command-palette-tip
            class="color-fg-muted f6 px-3 py-1 my-2"
              data-scope-types="[&quot;&quot;,&quot;owner&quot;,&quot;repository&quot;]"
            data-mode="#"
            data-value="">
            <div class="d-flex flex-items-start flex-justify-between">
              <div>
                <span class="text-bold">Tip:</span>
                  Type author:@me to search your content
              </div>
              <div class="ml-2 flex-shrink-0">
                Type <kbd class="hx_kbd">?</kbd> for help and tips
              </div>
            </div>
          </command-palette-tip>
          <command-palette-tip
            class="color-fg-muted f6 px-3 py-1 my-2"
              data-scope-types="[&quot;&quot;,&quot;owner&quot;,&quot;repository&quot;]"
            data-mode="#"
            data-value="">
            <div class="d-flex flex-items-start flex-justify-between">
              <div>
                <span class="text-bold">Tip:</span>
                  Type is:pr to filter to pull requests
              </div>
              <div class="ml-2 flex-shrink-0">
                Type <kbd class="hx_kbd">?</kbd> for help and tips
              </div>
            </div>
          </command-palette-tip>
          <command-palette-tip
            class="color-fg-muted f6 px-3 py-1 my-2"
              data-scope-types="[&quot;&quot;,&quot;owner&quot;,&quot;repository&quot;]"
            data-mode="#"
            data-value="">
            <div class="d-flex flex-items-start flex-justify-between">
              <div>
                <span class="text-bold">Tip:</span>
                  Type is:issue to filter to issues
              </div>
              <div class="ml-2 flex-shrink-0">
                Type <kbd class="hx_kbd">?</kbd> for help and tips
              </div>
            </div>
          </command-palette-tip>
          <command-palette-tip
            class="color-fg-muted f6 px-3 py-1 my-2"
              data-scope-types="[&quot;owner&quot;,&quot;repository&quot;]"
            data-mode="#"
            data-value="">
            <div class="d-flex flex-items-start flex-justify-between">
              <div>
                <span class="text-bold">Tip:</span>
                  Type is:project to filter to projects
              </div>
              <div class="ml-2 flex-shrink-0">
                Type <kbd class="hx_kbd">?</kbd> for help and tips
              </div>
            </div>
          </command-palette-tip>
          <command-palette-tip
            class="color-fg-muted f6 px-3 py-1 my-2"
              data-scope-types="[&quot;&quot;,&quot;owner&quot;,&quot;repository&quot;]"
            data-mode="#"
            data-value="">
            <div class="d-flex flex-items-start flex-justify-between">
              <div>
                <span class="text-bold">Tip:</span>
                  Type is:open to filter to open content
              </div>
              <div class="ml-2 flex-shrink-0">
                Type <kbd class="hx_kbd">?</kbd> for help and tips
              </div>
            </div>
          </command-palette-tip>
        <command-palette-tip class="mx-3 my-2 flash flash-error d-flex flex-items-center" data-scope-types="*" data-on-error>
          <div>
            <svg aria-hidden="true" height="16" viewBox="0 0 16 16" version="1.1" width="16" data-view-component="true" class="octicon octicon-alert">
    <path d="M6.457 1.047c.659-1.234 2.427-1.234 3.086 0l6.082 11.378A1.75 1.75 0 0 1 14.082 15H1.918a1.75 1.75 0 0 1-1.543-2.575Zm1.763.707a.25.25 0 0 0-.44 0L1.698 13.132a.25.25 0 0 0 .22.368h12.164a.25.25 0 0 0 .22-.368Zm.53 3.996v2.5a.75.75 0 0 1-1.5 0v-2.5a.75.75 0 0 1 1.5 0ZM9 11a1 1 0 1 1-2 0 1 1 0 0 1 2 0Z"></path>
</svg>
          </div>
          <div class="px-2">
            We’ve encountered an error and some results aren't available at this time. Type a new search or try again later.
          </div>
        </command-palette-tip>
        <command-palette-tip class="h4 color-fg-default pl-3 pb-2 pt-3" data-on-empty data-scope-types="*" data-match-mode="[^?]|^$">
          No results matched your search
        </command-palette-tip>

        <div hidden>

            <div data-targets="command-palette-page-stack.localOcticons" data-octicon-id="arrow-right-color-fg-muted">
              <svg height="16" class="octicon octicon-arrow-right color-fg-muted" viewBox="0 0 16 16" version="1.1" width="16" aria-hidden="true"><path d="M8.22 2.97a.75.75 0 0 1 1.06 0l4.25 4.25a.75.75 0 0 1 0 1.06l-4.25 4.25a.751.751 0 0 1-1.042-.018.751.751 0 0 1-.018-1.042l2.97-2.97H3.75a.75.75 0 0 1 0-1.5h7.44L8.22 4.03a.75.75 0 0 1 0-1.06Z"></path></svg>
            </div>
            <div data-targets="command-palette-page-stack.localOcticons" data-octicon-id="arrow-right-color-fg-default">
              <svg height="16" class="octicon octicon-arrow-right color-fg-default" viewBox="0 0 16 16" version="1.1" width="16" aria-hidden="true"><path d="M8.22 2.97a.75.75 0 0 1 1.06 0l4.25 4.25a.75.75 0 0 1 0 1.06l-4.25 4.25a.751.751 0 0 1-1.042-.018.751.751 0 0 1-.018-1.042l2.97-2.97H3.75a.75.75 0 0 1 0-1.5h7.44L8.22 4.03a.75.75 0 0 1 0-1.06Z"></path></svg>
            </div>
            <div data-targets="command-palette-page-stack.localOcticons" data-octicon-id="codespaces-color-fg-muted">
              <svg height="16" class="octicon octicon-codespaces color-fg-muted" viewBox="0 0 16 16" version="1.1" width="16" aria-hidden="true"><path d="M0 11.25c0-.966.784-1.75 1.75-1.75h12.5c.966 0 1.75.784 1.75 1.75v3A1.75 1.75 0 0 1 14.25 16H1.75A1.75 1.75 0 0 1 0 14.25Zm2-9.5C2 .784 2.784 0 3.75 0h8.5C13.216 0 14 .784 14 1.75v5a1.75 1.75 0 0 1-1.75 1.75h-8.5A1.75 1.75 0 0 1 2 6.75Zm1.75-.25a.25.25 0 0 0-.25.25v5c0 .138.112.25.25.25h8.5a.25.25 0 0 0 .25-.25v-5a.25.25 0 0 0-.25-.25Zm-2 9.5a.25.25 0 0 0-.25.25v3c0 .138.112.25.25.25h12.5a.25.25 0 0 0 .25-.25v-3a.25.25 0 0 0-.25-.25Z"></path><path d="M7 12.75a.75.75 0 0 1 .75-.75h4.5a.75.75 0 0 1 0 1.5h-4.5a.75.75 0 0 1-.75-.75Zm-4 0a.75.75 0 0 1 .75-.75h.5a.75.75 0 0 1 0 1.5h-.5a.75.75 0 0 1-.75-.75Z"></path></svg>
            </div>
            <div data-targets="command-palette-page-stack.localOcticons" data-octicon-id="copy-color-fg-muted">
              <svg height="16" class="octicon octicon-copy color-fg-muted" viewBox="0 0 16 16" version="1.1" width="16" aria-hidden="true"><path d="M0 6.75C0 5.784.784 5 1.75 5h1.5a.75.75 0 0 1 0 1.5h-1.5a.25.25 0 0 0-.25.25v7.5c0 .138.112.25.25.25h7.5a.25.25 0 0 0 .25-.25v-1.5a.75.75 0 0 1 1.5 0v1.5A1.75 1.75 0 0 1 9.25 16h-7.5A1.75 1.75 0 0 1 0 14.25Z"></path><path d="M5 1.75C5 .784 5.784 0 6.75 0h7.5C15.216 0 16 .784 16 1.75v7.5A1.75 1.75 0 0 1 14.25 11h-7.5A1.75 1.75 0 0 1 5 9.25Zm1.75-.25a.25.25 0 0 0-.25.25v7.5c0 .138.112.25.25.25h7.5a.25.25 0 0 0 .25-.25v-7.5a.25.25 0 0 0-.25-.25Z"></path></svg>
            </div>
            <div data-targets="command-palette-page-stack.localOcticons" data-octicon-id="dash-color-fg-muted">
              <svg height="16" class="octicon octicon-dash color-fg-muted" viewBox="0 0 16 16" version="1.1" width="16" aria-hidden="true"><path d="M2 7.75A.75.75 0 0 1 2.75 7h10a.75.75 0 0 1 0 1.5h-10A.75.75 0 0 1 2 7.75Z"></path></svg>
            </div>
            <div data-targets="command-palette-page-stack.localOcticons" data-octicon-id="file-color-fg-muted">
              <svg height="16" class="octicon octicon-file color-fg-muted" viewBox="0 0 16 16" version="1.1" width="16" aria-hidden="true"><path d="M2 1.75C2 .784 2.784 0 3.75 0h6.586c.464 0 .909.184 1.237.513l2.914 2.914c.329.328.513.773.513 1.237v9.586A1.75 1.75 0 0 1 13.25 16h-9.5A1.75 1.75 0 0 1 2 14.25Zm1.75-.25a.25.25 0 0 0-.25.25v12.5c0 .138.112.25.25.25h9.5a.25.25 0 0 0 .25-.25V6h-2.75A1.75 1.75 0 0 1 9 4.25V1.5Zm6.75.062V4.25c0 .138.112.25.25.25h2.688l-.011-.013-2.914-2.914-.013-.011Z"></path></svg>
            </div>
            <div data-targets="command-palette-page-stack.localOcticons" data-octicon-id="gear-color-fg-muted">
              <svg height="16" class="octicon octicon-gear color-fg-muted" viewBox="0 0 16 16" version="1.1" width="16" aria-hidden="true"><path d="M8 0a8.2 8.2 0 0 1 .701.031C9.444.095 9.99.645 10.16 1.29l.288 1.107c.018.066.079.158.212.224.231.114.454.243.668.386.123.082.233.09.299.071l1.103-.303c.644-.176 1.392.021 1.82.63.27.385.506.792.704 1.218.315.675.111 1.422-.364 1.891l-.814.806c-.049.048-.098.147-.088.294.016.257.016.515 0 .772-.01.147.038.246.088.294l.814.806c.475.469.679 1.216.364 1.891a7.977 7.977 0 0 1-.704 1.217c-.428.61-1.176.807-1.82.63l-1.102-.302c-.067-.019-.177-.011-.3.071a5.909 5.909 0 0 1-.668.386c-.133.066-.194.158-.211.224l-.29 1.106c-.168.646-.715 1.196-1.458 1.26a8.006 8.006 0 0 1-1.402 0c-.743-.064-1.289-.614-1.458-1.26l-.289-1.106c-.018-.066-.079-.158-.212-.224a5.738 5.738 0 0 1-.668-.386c-.123-.082-.233-.09-.299-.071l-1.103.303c-.644.176-1.392-.021-1.82-.63a8.12 8.12 0 0 1-.704-1.218c-.315-.675-.111-1.422.363-1.891l.815-.806c.05-.048.098-.147.088-.294a6.214 6.214 0 0 1 0-.772c.01-.147-.038-.246-.088-.294l-.815-.806C.635 6.045.431 5.298.746 4.623a7.92 7.92 0 0 1 .704-1.217c.428-.61 1.176-.807 1.82-.63l1.102.302c.067.019.177.011.3-.071.214-.143.437-.272.668-.386.133-.066.194-.158.211-.224l.29-1.106C6.009.645 6.556.095 7.299.03 7.53.01 7.764 0 8 0Zm-.571 1.525c-.036.003-.108.036-.137.146l-.289 1.105c-.147.561-.549.967-.998 1.189-.173.086-.34.183-.5.29-.417.278-.97.423-1.529.27l-1.103-.303c-.109-.03-.175.016-.195.045-.22.312-.412.644-.573.99-.014.031-.021.11.059.19l.815.806c.411.406.562.957.53 1.456a4.709 4.709 0 0 0 0 .582c.032.499-.119 1.05-.53 1.456l-.815.806c-.081.08-.073.159-.059.19.162.346.353.677.573.989.02.03.085.076.195.046l1.102-.303c.56-.153 1.113-.008 1.53.27.161.107.328.204.501.29.447.222.85.629.997 1.189l.289 1.105c.029.109.101.143.137.146a6.6 6.6 0 0 0 1.142 0c.036-.003.108-.036.137-.146l.289-1.105c.147-.561.549-.967.998-1.189.173-.086.34-.183.5-.29.417-.278.97-.423 1.529-.27l1.103.303c.109.029.175-.016.195-.045.22-.313.411-.644.573-.99.014-.031.021-.11-.059-.19l-.815-.806c-.411-.406-.562-.957-.53-1.456a4.709 4.709 0 0 0 0-.582c-.032-.499.119-1.05.53-1.456l.815-.806c.081-.08.073-.159.059-.19a6.464 6.464 0 0 0-.573-.989c-.02-.03-.085-.076-.195-.046l-1.102.303c-.56.153-1.113.008-1.53-.27a4.44 4.44 0 0 0-.501-.29c-.447-.222-.85-.629-.997-1.189l-.289-1.105c-.029-.11-.101-.143-.137-.146a6.6 6.6 0 0 0-1.142 0ZM11 8a3 3 0 1 1-6 0 3 3 0 0 1 6 0ZM9.5 8a1.5 1.5 0 1 0-3.001.001A1.5 1.5 0 0 0 9.5 8Z"></path></svg>
            </div>
            <div data-targets="command-palette-page-stack.localOcticons" data-octicon-id="lock-color-fg-muted">
              <svg height="16" class="octicon octicon-lock color-fg-muted" viewBox="0 0 16 16" version="1.1" width="16" aria-hidden="true"><path d="M4 4a4 4 0 0 1 8 0v2h.25c.966 0 1.75.784 1.75 1.75v5.5A1.75 1.75 0 0 1 12.25 15h-8.5A1.75 1.75 0 0 1 2 13.25v-5.5C2 6.784 2.784 6 3.75 6H4Zm8.25 3.5h-8.5a.25.25 0 0 0-.25.25v5.5c0 .138.112.25.25.25h8.5a.25.25 0 0 0 .25-.25v-5.5a.25.25 0 0 0-.25-.25ZM10.5 6V4a2.5 2.5 0 1 0-5 0v2Z"></path></svg>
            </div>
            <div data-targets="command-palette-page-stack.localOcticons" data-octicon-id="moon-color-fg-muted">
              <svg height="16" class="octicon octicon-moon color-fg-muted" viewBox="0 0 16 16" version="1.1" width="16" aria-hidden="true"><path d="M9.598 1.591a.749.749 0 0 1 .785-.175 7.001 7.001 0 1 1-8.967 8.967.75.75 0 0 1 .961-.96 5.5 5.5 0 0 0 7.046-7.046.75.75 0 0 1 .175-.786Zm1.616 1.945a7 7 0 0 1-7.678 7.678 5.499 5.499 0 1 0 7.678-7.678Z"></path></svg>
            </div>
            <div data-targets="command-palette-page-stack.localOcticons" data-octicon-id="person-color-fg-muted">
              <svg height="16" class="octicon octicon-person color-fg-muted" viewBox="0 0 16 16" version="1.1" width="16" aria-hidden="true"><path d="M10.561 8.073a6.005 6.005 0 0 1 3.432 5.142.75.75 0 1 1-1.498.07 4.5 4.5 0 0 0-8.99 0 .75.75 0 0 1-1.498-.07 6.004 6.004 0 0 1 3.431-5.142 3.999 3.999 0 1 1 5.123 0ZM10.5 5a2.5 2.5 0 1 0-5 0 2.5 2.5 0 0 0 5 0Z"></path></svg>
            </div>
            <div data-targets="command-palette-page-stack.localOcticons" data-octicon-id="pencil-color-fg-muted">
              <svg height="16" class="octicon octicon-pencil color-fg-muted" viewBox="0 0 16 16" version="1.1" width="16" aria-hidden="true"><path d="M11.013 1.427a1.75 1.75 0 0 1 2.474 0l1.086 1.086a1.75 1.75 0 0 1 0 2.474l-8.61 8.61c-.21.21-.47.364-.756.445l-3.251.93a.75.75 0 0 1-.927-.928l.929-3.25c.081-.286.235-.547.445-.758l8.61-8.61Zm.176 4.823L9.75 4.81l-6.286 6.287a.253.253 0 0 0-.064.108l-.558 1.953 1.953-.558a.253.253 0 0 0 .108-.064Zm1.238-3.763a.25.25 0 0 0-.354 0L10.811 3.75l1.439 1.44 1.263-1.263a.25.25 0 0 0 0-.354Z"></path></svg>
            </div>
            <div data-targets="command-palette-page-stack.localOcticons" data-octicon-id="issue-opened-open">
              <svg height="16" class="octicon octicon-issue-opened open" viewBox="0 0 16 16" version="1.1" width="16" aria-hidden="true"><path d="M8 9.5a1.5 1.5 0 1 0 0-3 1.5 1.5 0 0 0 0 3Z"></path><path d="M8 0a8 8 0 1 1 0 16A8 8 0 0 1 8 0ZM1.5 8a6.5 6.5 0 1 0 13 0 6.5 6.5 0 0 0-13 0Z"></path></svg>
            </div>
            <div data-targets="command-palette-page-stack.localOcticons" data-octicon-id="git-pull-request-draft-color-fg-muted">
              <svg height="16" class="octicon octicon-git-pull-request-draft color-fg-muted" viewBox="0 0 16 16" version="1.1" width="16" aria-hidden="true"><path d="M3.25 1A2.25 2.25 0 0 1 4 5.372v5.256a2.251 2.251 0 1 1-1.5 0V5.372A2.251 2.251 0 0 1 3.25 1Zm9.5 14a2.25 2.25 0 1 1 0-4.5 2.25 2.25 0 0 1 0 4.5ZM2.5 3.25a.75.75 0 1 0 1.5 0 .75.75 0 0 0-1.5 0ZM3.25 12a.75.75 0 1 0 0 1.5.75.75 0 0 0 0-1.5Zm9.5 0a.75.75 0 1 0 0 1.5.75.75 0 0 0 0-1.5ZM14 7.5a1.25 1.25 0 1 1-2.5 0 1.25 1.25 0 0 1 2.5 0Zm0-4.25a1.25 1.25 0 1 1-2.5 0 1.25 1.25 0 0 1 2.5 0Z"></path></svg>
            </div>
            <div data-targets="command-palette-page-stack.localOcticons" data-octicon-id="search-color-fg-muted">
              <svg height="16" class="octicon octicon-search color-fg-muted" viewBox="0 0 16 16" version="1.1" width="16" aria-hidden="true"><path d="M10.68 11.74a6 6 0 0 1-7.922-8.982 6 6 0 0 1 8.982 7.922l3.04 3.04a.749.749 0 0 1-.326 1.275.749.749 0 0 1-.734-.215ZM11.5 7a4.499 4.499 0 1 0-8.997 0A4.499 4.499 0 0 0 11.5 7Z"></path></svg>
            </div>
            <div data-targets="command-palette-page-stack.localOcticons" data-octicon-id="sun-color-fg-muted">
              <svg height="16" class="octicon octicon-sun color-fg-muted" viewBox="0 0 16 16" version="1.1" width="16" aria-hidden="true"><path d="M8 12a4 4 0 1 1 0-8 4 4 0 0 1 0 8Zm0-1.5a2.5 2.5 0 1 0 0-5 2.5 2.5 0 0 0 0 5Zm5.657-8.157a.75.75 0 0 1 0 1.061l-1.061 1.06a.749.749 0 0 1-1.275-.326.749.749 0 0 1 .215-.734l1.06-1.06a.75.75 0 0 1 1.06 0Zm-9.193 9.193a.75.75 0 0 1 0 1.06l-1.06 1.061a.75.75 0 1 1-1.061-1.06l1.06-1.061a.75.75 0 0 1 1.061 0ZM8 0a.75.75 0 0 1 .75.75v1.5a.75.75 0 0 1-1.5 0V.75A.75.75 0 0 1 8 0ZM3 8a.75.75 0 0 1-.75.75H.75a.75.75 0 0 1 0-1.5h1.5A.75.75 0 0 1 3 8Zm13 0a.75.75 0 0 1-.75.75h-1.5a.75.75 0 0 1 0-1.5h1.5A.75.75 0 0 1 16 8Zm-8 5a.75.75 0 0 1 .75.75v1.5a.75.75 0 0 1-1.5 0v-1.5A.75.75 0 0 1 8 13Zm3.536-1.464a.75.75 0 0 1 1.06 0l1.061 1.06a.75.75 0 0 1-1.06 1.061l-1.061-1.06a.75.75 0 0 1 0-1.061ZM2.343 2.343a.75.75 0 0 1 1.061 0l1.06 1.061a.751.751 0 0 1-.018 1.042.751.751 0 0 1-1.042.018l-1.06-1.06a.75.75 0 0 1 0-1.06Z"></path></svg>
            </div>
            <div data-targets="command-palette-page-stack.localOcticons" data-octicon-id="sync-color-fg-muted">
              <svg height="16" class="octicon octicon-sync color-fg-muted" viewBox="0 0 16 16" version="1.1" width="16" aria-hidden="true"><path d="M1.705 8.005a.75.75 0 0 1 .834.656 5.5 5.5 0 0 0 9.592 2.97l-1.204-1.204a.25.25 0 0 1 .177-.427h3.646a.25.25 0 0 1 .25.25v3.646a.25.25 0 0 1-.427.177l-1.38-1.38A7.002 7.002 0 0 1 1.05 8.84a.75.75 0 0 1 .656-.834ZM8 2.5a5.487 5.487 0 0 0-4.131 1.869l1.204 1.204A.25.25 0 0 1 4.896 6H1.25A.25.25 0 0 1 1 5.75V2.104a.25.25 0 0 1 .427-.177l1.38 1.38A7.002 7.002 0 0 1 14.95 7.16a.75.75 0 0 1-1.49.178A5.5 5.5 0 0 0 8 2.5Z"></path></svg>
            </div>
            <div data-targets="command-palette-page-stack.localOcticons" data-octicon-id="trash-color-fg-muted">
              <svg height="16" class="octicon octicon-trash color-fg-muted" viewBox="0 0 16 16" version="1.1" width="16" aria-hidden="true"><path d="M11 1.75V3h2.25a.75.75 0 0 1 0 1.5H2.75a.75.75 0 0 1 0-1.5H5V1.75C5 .784 5.784 0 6.75 0h2.5C10.216 0 11 .784 11 1.75ZM4.496 6.675l.66 6.6a.25.25 0 0 0 .249.225h5.19a.25.25 0 0 0 .249-.225l.66-6.6a.75.75 0 0 1 1.492.149l-.66 6.6A1.748 1.748 0 0 1 10.595 15h-5.19a1.75 1.75 0 0 1-1.741-1.575l-.66-6.6a.75.75 0 1 1 1.492-.15ZM6.5 1.75V3h3V1.75a.25.25 0 0 0-.25-.25h-2.5a.25.25 0 0 0-.25.25Z"></path></svg>
            </div>
            <div data-targets="command-palette-page-stack.localOcticons" data-octicon-id="key-color-fg-muted">
              <svg height="16" class="octicon octicon-key color-fg-muted" viewBox="0 0 16 16" version="1.1" width="16" aria-hidden="true"><path d="M10.5 0a5.499 5.499 0 1 1-1.288 10.848l-.932.932a.749.749 0 0 1-.53.22H7v.75a.749.749 0 0 1-.22.53l-.5.5a.749.749 0 0 1-.53.22H5v.75a.749.749 0 0 1-.22.53l-.5.5a.749.749 0 0 1-.53.22h-2A1.75 1.75 0 0 1 0 14.25v-2c0-.199.079-.389.22-.53l4.932-4.932A5.5 5.5 0 0 1 10.5 0Zm-4 5.5c-.001.431.069.86.205 1.269a.75.75 0 0 1-.181.768L1.5 12.56v1.69c0 .138.112.25.25.25h1.69l.06-.06v-1.19a.75.75 0 0 1 .75-.75h1.19l.06-.06v-1.19a.75.75 0 0 1 .75-.75h1.19l1.023-1.025a.75.75 0 0 1 .768-.18A4 4 0 1 0 6.5 5.5ZM11 6a1 1 0 1 1 0-2 1 1 0 0 1 0 2Z"></path></svg>
            </div>
            <div data-targets="command-palette-page-stack.localOcticons" data-octicon-id="comment-discussion-color-fg-muted">
              <svg height="16" class="octicon octicon-comment-discussion color-fg-muted" viewBox="0 0 16 16" version="1.1" width="16" aria-hidden="true"><path d="M1.75 1h8.5c.966 0 1.75.784 1.75 1.75v5.5A1.75 1.75 0 0 1 10.25 10H7.061l-2.574 2.573A1.458 1.458 0 0 1 2 11.543V10h-.25A1.75 1.75 0 0 1 0 8.25v-5.5C0 1.784.784 1 1.75 1ZM1.5 2.75v5.5c0 .138.112.25.25.25h1a.75.75 0 0 1 .75.75v2.19l2.72-2.72a.749.749 0 0 1 .53-.22h3.5a.25.25 0 0 0 .25-.25v-5.5a.25.25 0 0 0-.25-.25h-8.5a.25.25 0 0 0-.25.25Zm13 2a.25.25 0 0 0-.25-.25h-.5a.75.75 0 0 1 0-1.5h.5c.966 0 1.75.784 1.75 1.75v5.5A1.75 1.75 0 0 1 14.25 12H14v1.543a1.458 1.458 0 0 1-2.487 1.03L9.22 12.28a.749.749 0 0 1 .326-1.275.749.749 0 0 1 .734.215l2.22 2.22v-2.19a.75.75 0 0 1 .75-.75h1a.25.25 0 0 0 .25-.25Z"></path></svg>
            </div>
            <div data-targets="command-palette-page-stack.localOcticons" data-octicon-id="bell-color-fg-muted">
              <svg height="16" class="octicon octicon-bell color-fg-muted" viewBox="0 0 16 16" version="1.1" width="16" aria-hidden="true"><path d="M8 16a2 2 0 0 0 1.985-1.75c.017-.137-.097-.25-.235-.25h-3.5c-.138 0-.252.113-.235.25A2 2 0 0 0 8 16ZM3 5a5 5 0 0 1 10 0v2.947c0 .05.015.098.042.139l1.703 2.555A1.519 1.519 0 0 1 13.482 13H2.518a1.516 1.516 0 0 1-1.263-2.36l1.703-2.554A.255.255 0 0 0 3 7.947Zm5-3.5A3.5 3.5 0 0 0 4.5 5v2.947c0 .346-.102.683-.294.97l-1.703 2.556a.017.017 0 0 0-.003.01l.001.006c0 .002.002.004.004.006l.006.004.007.001h10.964l.007-.001.006-.004.004-.006.001-.007a.017.017 0 0 0-.003-.01l-1.703-2.554a1.745 1.745 0 0 1-.294-.97V5A3.5 3.5 0 0 0 8 1.5Z"></path></svg>
            </div>
            <div data-targets="command-palette-page-stack.localOcticons" data-octicon-id="bell-slash-color-fg-muted">
              <svg height="16" class="octicon octicon-bell-slash color-fg-muted" viewBox="0 0 16 16" version="1.1" width="16" aria-hidden="true"><path d="m4.182 4.31.016.011 10.104 7.316.013.01 1.375.996a.75.75 0 1 1-.88 1.214L13.626 13H2.518a1.516 1.516 0 0 1-1.263-2.36l1.703-2.554A.255.255 0 0 0 3 7.947V5.305L.31 3.357a.75.75 0 1 1 .88-1.214Zm7.373 7.19L4.5 6.391v1.556c0 .346-.102.683-.294.97l-1.703 2.556a.017.017 0 0 0-.003.01c0 .005.002.009.005.012l.006.004.007.001ZM8 1.5c-.997 0-1.895.416-2.534 1.086A.75.75 0 1 1 4.38 1.55 5 5 0 0 1 13 5v2.373a.75.75 0 0 1-1.5 0V5A3.5 3.5 0 0 0 8 1.5ZM8 16a2 2 0 0 1-1.985-1.75c-.017-.137.097-.25.235-.25h3.5c.138 0 .252.113.235.25A2 2 0 0 1 8 16Z"></path></svg>
            </div>
            <div data-targets="command-palette-page-stack.localOcticons" data-octicon-id="paintbrush-color-fg-muted">
              <svg height="16" class="octicon octicon-paintbrush color-fg-muted" viewBox="0 0 16 16" version="1.1" width="16" aria-hidden="true"><path d="M11.134 1.535c.7-.509 1.416-.942 2.076-1.155.649-.21 1.463-.267 2.069.34.603.601.568 1.411.368 2.07-.202.668-.624 1.39-1.125 2.096-1.011 1.424-2.496 2.987-3.775 4.249-1.098 1.084-2.132 1.839-3.04 2.3a3.744 3.744 0 0 1-1.055 3.217c-.431.431-1.065.691-1.657.861-.614.177-1.294.287-1.914.357A21.151 21.151 0 0 1 .797 16H.743l.007-.75H.749L.742 16a.75.75 0 0 1-.743-.742l.743-.008-.742.007v-.054a21.25 21.25 0 0 1 .13-2.284c.067-.647.187-1.287.358-1.914.17-.591.43-1.226.86-1.657a3.746 3.746 0 0 1 3.227-1.054c.466-.893 1.225-1.907 2.314-2.982 1.271-1.255 2.833-2.75 4.245-3.777ZM1.62 13.089c-.051.464-.086.929-.104 1.395.466-.018.932-.053 1.396-.104a10.511 10.511 0 0 0 1.668-.309c.526-.151.856-.325 1.011-.48a2.25 2.25 0 1 0-3.182-3.182c-.155.155-.329.485-.48 1.01a10.515 10.515 0 0 0-.309 1.67Zm10.396-10.34c-1.224.89-2.605 2.189-3.822 3.384l1.718 1.718c1.21-1.205 2.51-2.597 3.387-3.833.47-.662.78-1.227.912-1.662.134-.444.032-.551.009-.575h-.001V1.78c-.014-.014-.113-.113-.548.027-.432.14-.995.462-1.655.942Zm-4.832 7.266-.001.001a9.859 9.859 0 0 0 1.63-1.142L7.155 7.216a9.7 9.7 0 0 0-1.161 1.607c.482.302.889.71 1.19 1.192Z"></path></svg>
            </div>

            <command-palette-item-group
              data-group-id="top"
              data-group-title="Top result"
              data-group-hint=""
              data-group-limits="{}"
              data-default-priority="0"
            >
            </command-palette-item-group>
            <command-palette-item-group
              data-group-id="commands"
              data-group-title="Commands"
              data-group-hint="Type &gt; to filter"
              data-group-limits="{&quot;static_items_page&quot;:50,&quot;issue&quot;:50,&quot;pull_request&quot;:50,&quot;discussion&quot;:50}"
              data-default-priority="1"
            >
            </command-palette-item-group>
            <command-palette-item-group
              data-group-id="global_commands"
              data-group-title="Global Commands"
              data-group-hint="Type &gt; to filter"
              data-group-limits="{&quot;issue&quot;:0,&quot;pull_request&quot;:0,&quot;discussion&quot;:0}"
              data-default-priority="2"
            >
            </command-palette-item-group>
            <command-palette-item-group
              data-group-id="this_page"
              data-group-title="This Page"
              data-group-hint=""
              data-group-limits="{}"
              data-default-priority="3"
            >
            </command-palette-item-group>
            <command-palette-item-group
              data-group-id="files"
              data-group-title="Files"
              data-group-hint=""
              data-group-limits="{}"
              data-default-priority="4"
            >
            </command-palette-item-group>
            <command-palette-item-group
              data-group-id="default"
              data-group-title="Default"
              data-group-hint=""
              data-group-limits="{&quot;static_items_page&quot;:50}"
              data-default-priority="5"
            >
            </command-palette-item-group>
            <command-palette-item-group
              data-group-id="pages"
              data-group-title="Pages"
              data-group-hint=""
              data-group-limits="{&quot;repository&quot;:10}"
              data-default-priority="6"
            >
            </command-palette-item-group>
            <command-palette-item-group
              data-group-id="access_policies"
              data-group-title="Access Policies"
              data-group-hint=""
              data-group-limits="{}"
              data-default-priority="7"
            >
            </command-palette-item-group>
            <command-palette-item-group
              data-group-id="organizations"
              data-group-title="Organizations"
              data-group-hint=""
              data-group-limits="{}"
              data-default-priority="8"
            >
            </command-palette-item-group>
            <command-palette-item-group
              data-group-id="repositories"
              data-group-title="Repositories"
              data-group-hint=""
              data-group-limits="{}"
              data-default-priority="9"
            >
            </command-palette-item-group>
            <command-palette-item-group
              data-group-id="references"
              data-group-title="Issues, pull requests, and discussions"
              data-group-hint="Type # to filter"
              data-group-limits="{}"
              data-default-priority="10"
            >
            </command-palette-item-group>
            <command-palette-item-group
              data-group-id="teams"
              data-group-title="Teams"
              data-group-hint=""
              data-group-limits="{}"
              data-default-priority="11"
            >
            </command-palette-item-group>
            <command-palette-item-group
              data-group-id="users"
              data-group-title="Users"
              data-group-hint=""
              data-group-limits="{}"
              data-default-priority="12"
            >
            </command-palette-item-group>
            <command-palette-item-group
              data-group-id="memex_projects"
              data-group-title="Projects"
              data-group-hint=""
              data-group-limits="{}"
              data-default-priority="13"
            >
            </command-palette-item-group>
            <command-palette-item-group
              data-group-id="projects"
              data-group-title="Projects (classic)"
              data-group-hint=""
              data-group-limits="{}"
              data-default-priority="14"
            >
            </command-palette-item-group>
            <command-palette-item-group
              data-group-id="footer"
              data-group-title="Footer"
              data-group-hint=""
              data-group-limits="{}"
              data-default-priority="15"
            >
            </command-palette-item-group>
            <command-palette-item-group
              data-group-id="modes_help"
              data-group-title="Modes"
              data-group-hint=""
              data-group-limits="{}"
              data-default-priority="16"
            >
            </command-palette-item-group>
            <command-palette-item-group
              data-group-id="filters_help"
              data-group-title="Use filters in issues, pull requests, discussions, and projects"
              data-group-hint=""
              data-group-limits="{}"
              data-default-priority="17"
            >
            </command-palette-item-group>

            <command-palette-page
              data-page-title="katarina74"
              data-scope-id="MDQ6VXNlcjU1NTM1ODk2"
              data-scope-type="owner"
              data-targets="command-palette-page-stack.defaultPages"
              hidden
            >
            </command-palette-page>
            <command-palette-page
              data-page-title="ml_lessons"
              data-scope-id="R_kgDOLRWarg"
              data-scope-type="repository"
              data-targets="command-palette-page-stack.defaultPages"
              hidden
            >
            </command-palette-page>
        </div>

        <command-palette-page data-is-root>
        </command-palette-page>
          <command-palette-page
            data-page-title="katarina74"
            data-scope-id="MDQ6VXNlcjU1NTM1ODk2"
            data-scope-type="owner"
          >
          </command-palette-page>
          <command-palette-page
            data-page-title="ml_lessons"
            data-scope-id="R_kgDOLRWarg"
            data-scope-type="repository"
          >
          </command-palette-page>
      </command-palette-page-stack>

      <server-defined-provider data-type="search-links" data-targets="command-palette.serverDefinedProviderElements"></server-defined-provider>
      <server-defined-provider data-type="help" data-targets="command-palette.serverDefinedProviderElements">
          <command-palette-help
            data-group="modes_help"
              data-prefix="#"
              data-scope-types="[&quot;&quot;]"
          >
            <span data-target="command-palette-help.titleElement">Search for <strong>issues</strong> and <strong>pull requests</strong></span>
              <span data-target="command-palette-help.hintElement">
                <kbd class="hx_kbd">#</kbd>
              </span>
          </command-palette-help>
          <command-palette-help
            data-group="modes_help"
              data-prefix="#"
              data-scope-types="[&quot;owner&quot;,&quot;repository&quot;]"
          >
            <span data-target="command-palette-help.titleElement">Search for <strong>issues, pull requests, discussions,</strong> and <strong>projects</strong></span>
              <span data-target="command-palette-help.hintElement">
                <kbd class="hx_kbd">#</kbd>
              </span>
          </command-palette-help>
          <command-palette-help
            data-group="modes_help"
              data-prefix="@"
              data-scope-types="[&quot;&quot;]"
          >
            <span data-target="command-palette-help.titleElement">Search for <strong>organizations, repositories,</strong> and <strong>users</strong></span>
              <span data-target="command-palette-help.hintElement">
                <kbd class="hx_kbd">@</kbd>
              </span>
          </command-palette-help>
          <command-palette-help
            data-group="modes_help"
              data-prefix="!"
              data-scope-types="[&quot;owner&quot;,&quot;repository&quot;]"
          >
            <span data-target="command-palette-help.titleElement">Search for <strong>projects</strong></span>
              <span data-target="command-palette-help.hintElement">
                <kbd class="hx_kbd">!</kbd>
              </span>
          </command-palette-help>
          <command-palette-help
            data-group="modes_help"
              data-prefix="/"
              data-scope-types="[&quot;repository&quot;]"
          >
            <span data-target="command-palette-help.titleElement">Search for <strong>files</strong></span>
              <span data-target="command-palette-help.hintElement">
                <kbd class="hx_kbd">/</kbd>
              </span>
          </command-palette-help>
          <command-palette-help
            data-group="modes_help"
              data-prefix="&gt;"
          >
            <span data-target="command-palette-help.titleElement">Activate <strong>command mode</strong></span>
              <span data-target="command-palette-help.hintElement">
                <kbd class="hx_kbd">&gt;</kbd>
              </span>
          </command-palette-help>
          <command-palette-help
            data-group="filters_help"
              data-prefix="# author:@me"
          >
            <span data-target="command-palette-help.titleElement">Search your issues, pull requests, and discussions</span>
              <span data-target="command-palette-help.hintElement">
                <kbd class="hx_kbd"># author:@me</kbd>
              </span>
          </command-palette-help>
          <command-palette-help
            data-group="filters_help"
              data-prefix="# author:@me"
          >
            <span data-target="command-palette-help.titleElement">Search your issues, pull requests, and discussions</span>
              <span data-target="command-palette-help.hintElement">
                <kbd class="hx_kbd"># author:@me</kbd>
              </span>
          </command-palette-help>
          <command-palette-help
            data-group="filters_help"
              data-prefix="# is:pr"
          >
            <span data-target="command-palette-help.titleElement">Filter to pull requests</span>
              <span data-target="command-palette-help.hintElement">
                <kbd class="hx_kbd"># is:pr</kbd>
              </span>
          </command-palette-help>
          <command-palette-help
            data-group="filters_help"
              data-prefix="# is:issue"
          >
            <span data-target="command-palette-help.titleElement">Filter to issues</span>
              <span data-target="command-palette-help.hintElement">
                <kbd class="hx_kbd"># is:issue</kbd>
              </span>
          </command-palette-help>
          <command-palette-help
            data-group="filters_help"
              data-prefix="# is:discussion"
              data-scope-types="[&quot;owner&quot;,&quot;repository&quot;]"
          >
            <span data-target="command-palette-help.titleElement">Filter to discussions</span>
              <span data-target="command-palette-help.hintElement">
                <kbd class="hx_kbd"># is:discussion</kbd>
              </span>
          </command-palette-help>
          <command-palette-help
            data-group="filters_help"
              data-prefix="# is:project"
              data-scope-types="[&quot;owner&quot;,&quot;repository&quot;]"
          >
            <span data-target="command-palette-help.titleElement">Filter to projects</span>
              <span data-target="command-palette-help.hintElement">
                <kbd class="hx_kbd"># is:project</kbd>
              </span>
          </command-palette-help>
          <command-palette-help
            data-group="filters_help"
              data-prefix="# is:open"
          >
            <span data-target="command-palette-help.titleElement">Filter to open issues, pull requests, and discussions</span>
              <span data-target="command-palette-help.hintElement">
                <kbd class="hx_kbd"># is:open</kbd>
              </span>
          </command-palette-help>
      </server-defined-provider>

        <server-defined-provider
          data-type="commands"
          data-fetch-debounce="0"
            data-src="/command_palette/commands"
          data-supported-modes="[]"
            data-supports-commands
          
          data-targets="command-palette.serverDefinedProviderElements"
          ></server-defined-provider>
        <server-defined-provider
          data-type="prefetched"
          data-fetch-debounce="0"
            data-src="/command_palette/jump_to_page_navigation"
          data-supported-modes="[&quot;&quot;]"
            data-supported-scope-types="[&quot;&quot;,&quot;owner&quot;,&quot;repository&quot;]"
          
          data-targets="command-palette.serverDefinedProviderElements"
          ></server-defined-provider>
        <server-defined-provider
          data-type="remote"
          data-fetch-debounce="200"
            data-src="/command_palette/issues"
          data-supported-modes="[&quot;#&quot;,&quot;#&quot;]"
            data-supported-scope-types="[&quot;owner&quot;,&quot;repository&quot;,&quot;&quot;]"
          
          data-targets="command-palette.serverDefinedProviderElements"
          ></server-defined-provider>
        <server-defined-provider
          data-type="remote"
          data-fetch-debounce="200"
            data-src="/command_palette/jump_to"
          data-supported-modes="[&quot;@&quot;,&quot;@&quot;]"
            data-supported-scope-types="[&quot;&quot;,&quot;owner&quot;]"
          
          data-targets="command-palette.serverDefinedProviderElements"
          ></server-defined-provider>
        <server-defined-provider
          data-type="remote"
          data-fetch-debounce="200"
            data-src="/command_palette/jump_to_members_only"
          data-supported-modes="[&quot;@&quot;,&quot;@&quot;,&quot;&quot;,&quot;&quot;]"
            data-supported-scope-types="[&quot;&quot;,&quot;owner&quot;]"
          
          data-targets="command-palette.serverDefinedProviderElements"
          ></server-defined-provider>
        <server-defined-provider
          data-type="prefetched"
          data-fetch-debounce="0"
            data-src="/command_palette/jump_to_members_only_prefetched"
          data-supported-modes="[&quot;@&quot;,&quot;@&quot;,&quot;&quot;,&quot;&quot;]"
            data-supported-scope-types="[&quot;&quot;,&quot;owner&quot;]"
          
          data-targets="command-palette.serverDefinedProviderElements"
          ></server-defined-provider>
        <server-defined-provider
          data-type="files"
          data-fetch-debounce="0"
            data-src="/command_palette/files"
          data-supported-modes="[&quot;/&quot;]"
            data-supported-scope-types="[&quot;repository&quot;]"
          
          data-targets="command-palette.serverDefinedProviderElements"
          ></server-defined-provider>
        <server-defined-provider
          data-type="remote"
          data-fetch-debounce="200"
            data-src="/command_palette/discussions"
          data-supported-modes="[&quot;#&quot;]"
            data-supported-scope-types="[&quot;owner&quot;,&quot;repository&quot;]"
          
          data-targets="command-palette.serverDefinedProviderElements"
          ></server-defined-provider>
        <server-defined-provider
          data-type="remote"
          data-fetch-debounce="200"
            data-src="/command_palette/projects"
          data-supported-modes="[&quot;#&quot;,&quot;!&quot;]"
            data-supported-scope-types="[&quot;owner&quot;,&quot;repository&quot;]"
          
          data-targets="command-palette.serverDefinedProviderElements"
          ></server-defined-provider>
        <server-defined-provider
          data-type="prefetched"
          data-fetch-debounce="0"
            data-src="/command_palette/recent_issues"
          data-supported-modes="[&quot;#&quot;,&quot;#&quot;]"
            data-supported-scope-types="[&quot;owner&quot;,&quot;repository&quot;,&quot;&quot;]"
          
          data-targets="command-palette.serverDefinedProviderElements"
          ></server-defined-provider>
        <server-defined-provider
          data-type="remote"
          data-fetch-debounce="200"
            data-src="/command_palette/teams"
          data-supported-modes="[&quot;@&quot;,&quot;&quot;]"
            data-supported-scope-types="[&quot;owner&quot;]"
          
          data-targets="command-palette.serverDefinedProviderElements"
          ></server-defined-provider>
        <server-defined-provider
          data-type="remote"
          data-fetch-debounce="200"
            data-src="/command_palette/name_with_owner_repository"
          data-supported-modes="[&quot;@&quot;,&quot;@&quot;,&quot;&quot;,&quot;&quot;]"
            data-supported-scope-types="[&quot;&quot;,&quot;owner&quot;]"
          
          data-targets="command-palette.serverDefinedProviderElements"
          ></server-defined-provider>
    </command-palette>
  </details-dialog>
</details>

<div class="position-fixed bottom-0 left-0 ml-5 mb-5 js-command-palette-toasts" style="z-index: 1000">
  <div hidden class="Toast Toast--loading">
    <span class="Toast-icon">
      <svg class="Toast--spinner" viewBox="0 0 32 32" width="18" height="18" aria-hidden="true">
        <path
          fill="#959da5"
          d="M16 0 A16 16 0 0 0 16 32 A16 16 0 0 0 16 0 M16 4 A12 12 0 0 1 16 28 A12 12 0 0 1 16 4"
        />
        <path fill="#ffffff" d="M16 0 A16 16 0 0 1 32 16 L28 16 A12 12 0 0 0 16 4z"></path>
      </svg>
    </span>
    <span class="Toast-content"></span>
  </div>

  <div hidden class="anim-fade-in fast Toast Toast--error">
    <span class="Toast-icon">
      <svg aria-hidden="true" height="16" viewBox="0 0 16 16" version="1.1" width="16" data-view-component="true" class="octicon octicon-stop">
    <path d="M4.47.22A.749.749 0 0 1 5 0h6c.199 0 .389.079.53.22l4.25 4.25c.141.14.22.331.22.53v6a.749.749 0 0 1-.22.53l-4.25 4.25A.749.749 0 0 1 11 16H5a.749.749 0 0 1-.53-.22L.22 11.53A.749.749 0 0 1 0 11V5c0-.199.079-.389.22-.53Zm.84 1.28L1.5 5.31v5.38l3.81 3.81h5.38l3.81-3.81V5.31L10.69 1.5ZM8 4a.75.75 0 0 1 .75.75v3.5a.75.75 0 0 1-1.5 0v-3.5A.75.75 0 0 1 8 4Zm0 8a1 1 0 1 1 0-2 1 1 0 0 1 0 2Z"></path>
</svg>
    </span>
    <span class="Toast-content"></span>
  </div>

  <div hidden class="anim-fade-in fast Toast Toast--warning">
    <span class="Toast-icon">
      <svg aria-hidden="true" height="16" viewBox="0 0 16 16" version="1.1" width="16" data-view-component="true" class="octicon octicon-alert">
    <path d="M6.457 1.047c.659-1.234 2.427-1.234 3.086 0l6.082 11.378A1.75 1.75 0 0 1 14.082 15H1.918a1.75 1.75 0 0 1-1.543-2.575Zm1.763.707a.25.25 0 0 0-.44 0L1.698 13.132a.25.25 0 0 0 .22.368h12.164a.25.25 0 0 0 .22-.368Zm.53 3.996v2.5a.75.75 0 0 1-1.5 0v-2.5a.75.75 0 0 1 1.5 0ZM9 11a1 1 0 1 1-2 0 1 1 0 0 1 2 0Z"></path>
</svg>
    </span>
    <span class="Toast-content"></span>
  </div>


  <div hidden class="anim-fade-in fast Toast Toast--success">
    <span class="Toast-icon">
      <svg aria-hidden="true" height="16" viewBox="0 0 16 16" version="1.1" width="16" data-view-component="true" class="octicon octicon-check">
    <path d="M13.78 4.22a.75.75 0 0 1 0 1.06l-7.25 7.25a.75.75 0 0 1-1.06 0L2.22 9.28a.751.751 0 0 1 .018-1.042.751.751 0 0 1 1.042-.018L6 10.94l6.72-6.72a.75.75 0 0 1 1.06 0Z"></path>
</svg>
    </span>
    <span class="Toast-content"></span>
  </div>

  <div hidden class="anim-fade-in fast Toast">
    <span class="Toast-icon">
      <svg aria-hidden="true" height="16" viewBox="0 0 16 16" version="1.1" width="16" data-view-component="true" class="octicon octicon-info">
    <path d="M0 8a8 8 0 1 1 16 0A8 8 0 0 1 0 8Zm8-6.5a6.5 6.5 0 1 0 0 13 6.5 6.5 0 0 0 0-13ZM6.5 7.75A.75.75 0 0 1 7.25 7h1a.75.75 0 0 1 .75.75v2.75h.25a.75.75 0 0 1 0 1.5h-2a.75.75 0 0 1 0-1.5h.25v-2h-.25a.75.75 0 0 1-.75-.75ZM8 6a1 1 0 1 1 0-2 1 1 0 0 1 0 2Z"></path>
</svg>
    </span>
    <span class="Toast-content"></span>
  </div>
</div>


  <div
    class="application-main "
    data-commit-hovercards-enabled
    data-discussion-hovercards-enabled
    data-issue-and-pr-hovercards-enabled
  >
        <div itemscope itemtype="http://schema.org/SoftwareSourceCode" class="">
    <main id="js-repo-pjax-container" >
      
      






    
  <div id="repository-container-header" data-turbo-replace hidden></div>




<turbo-frame id="repo-content-turbo-frame" target="_top" data-turbo-action="advance" class="">
    <div id="repo-content-pjax-container" class="repository-content " >
      <a href="https://github.dev/" class="d-none js-github-dev-shortcut" data-hotkey=".,Mod+Alt+.">Open in github.dev</a>
  <a href="https://github.dev/" class="d-none js-github-dev-new-tab-shortcut" data-hotkey="Shift+.,Shift+&gt;,&gt;" target="_blank" rel="noopener noreferrer">Open in a new github.dev tab</a>
    <a class="d-none" data-hotkey=",,Mod+Alt+," target="_blank" href="/codespaces/new/katarina74/ml_lessons/tree/main?resume=1">Open in codespace</a>



    
      
    





<react-app
  app-name="react-code-view"
  initial-path="/katarina74/ml_lessons/blob/main/lesson_2/lesson_2.ipynb"
  style="min-height: calc(100vh - 64px)" 
  data-ssr="true"
  data-lazy="false"
  data-alternate="false"
>
  
  <script type="application/json" data-target="react-app.embeddedData">{"payload":{"allShortcutsEnabled":true,"fileTree":{"lesson_2":{"items":[{"name":"data","path":"lesson_2/data","contentType":"directory"},{"name":"lesson_2.ipynb","path":"lesson_2/lesson_2.ipynb","contentType":"file"}],"totalCount":2},"":{"items":[{"name":"lesson_1","path":"lesson_1","contentType":"directory"},{"name":"lesson_2","path":"lesson_2","contentType":"directory"},{"name":"README.md","path":"README.md","contentType":"file"}],"totalCount":3}},"fileTreeProcessingTime":2.952169,"foldersToFetch":[],"repo":{"id":756390574,"defaultBranch":"main","name":"ml_lessons","ownerLogin":"katarina74","currentUserCanPush":false,"isFork":false,"isEmpty":false,"createdAt":"2024-02-12T18:20:00.000+03:00","ownerAvatar":"https://avatars.githubusercontent.com/u/55535896?v=4","public":true,"private":false,"isOrgOwned":false},"symbolsExpanded":false,"treeExpanded":true,"refInfo":{"name":"main","listCacheKey":"v0:1707890245.0","canEdit":true,"refType":"branch","currentOid":"ac653f2b2ed438ba416d65754247e7a16f5d8e94"},"path":"lesson_2/lesson_2.ipynb","currentUser":{"id":132908961,"login":"TomirisN","userEmail":"tomanamozova@gmail.com"},"blob":{"rawLines":["{"," \"cells\": [","  {","   \"cell_type\": \"code\",","   \"execution_count\": 1,","   \"id\": \"d6f21652-af89-4349-8aea-ef11a02e3bf0\",","   \"metadata\": {},","   \"outputs\": [],","   \"source\": [","    \"import numpy as np\\n\",","    \"import pandas as pd\\n\",","    \"import matplotlib.pyplot as plt  \\n\",","    \"import seaborn as sns\\n\",","    \"\\n\",","    \"%matplotlib inline \"","   ]","  },","  {","   \"cell_type\": \"markdown\",","   \"id\": \"8d76a186-b98e-42d6-b25d-ba8a4695d61d\",","   \"metadata\": {},","   \"source\": [","    \"# Удаление дубликатов в данных\"","   ]","  },","  {","   \"cell_type\": \"code\",","   \"execution_count\": 51,","   \"id\": \"98d48bd8-57a1-4930-b5c1-8d332d471f64\",","   \"metadata\": {},","   \"outputs\": [","    {","     \"data\": {","      \"text/html\": [","       \"\u003cdiv\u003e\\n\",","       \"\u003cstyle scoped\u003e\\n\",","       \"    .dataframe tbody tr th:only-of-type {\\n\",","       \"        vertical-align: middle;\\n\",","       \"    }\\n\",","       \"\\n\",","       \"    .dataframe tbody tr th {\\n\",","       \"        vertical-align: top;\\n\",","       \"    }\\n\",","       \"\\n\",","       \"    .dataframe thead th {\\n\",","       \"        text-align: right;\\n\",","       \"    }\\n\",","       \"\u003c/style\u003e\\n\",","       \"\u003ctable border=\\\"1\\\" class=\\\"dataframe\\\"\u003e\\n\",","       \"  \u003cthead\u003e\\n\",","       \"    \u003ctr style=\\\"text-align: right;\\\"\u003e\\n\",","       \"      \u003cth\u003e\u003c/th\u003e\\n\",","       \"      \u003cth\u003ek1\u003c/th\u003e\\n\",","       \"      \u003cth\u003ek2\u003c/th\u003e\\n\",","       \"      \u003cth\u003ek3\u003c/th\u003e\\n\",","       \"      \u003cth\u003ek4\u003c/th\u003e\\n\",","       \"    \u003c/tr\u003e\\n\",","       \"  \u003c/thead\u003e\\n\",","       \"  \u003ctbody\u003e\\n\",","       \"    \u003ctr\u003e\\n\",","       \"      \u003cth\u003e0\u003c/th\u003e\\n\",","       \"      \u003ctd\u003eone\u003c/td\u003e\\n\",","       \"      \u003ctd\u003e1\u003c/td\u003e\\n\",","       \"      \u003ctd\u003e1\u003c/td\u003e\\n\",","       \"      \u003ctd\u003e1\u003c/td\u003e\\n\",","       \"    \u003c/tr\u003e\\n\",","       \"    \u003ctr\u003e\\n\",","       \"      \u003cth\u003e1\u003c/th\u003e\\n\",","       \"      \u003ctd\u003etwo\u003c/td\u003e\\n\",","       \"      \u003ctd\u003e1\u003c/td\u003e\\n\",","       \"      \u003ctd\u003e1\u003c/td\u003e\\n\",","       \"      \u003ctd\u003e1\u003c/td\u003e\\n\",","       \"    \u003c/tr\u003e\\n\",","       \"    \u003ctr\u003e\\n\",","       \"      \u003cth\u003e2\u003c/th\u003e\\n\",","       \"      \u003ctd\u003eone\u003c/td\u003e\\n\",","       \"      \u003ctd\u003e2\u003c/td\u003e\\n\",","       \"      \u003ctd\u003e2\u003c/td\u003e\\n\",","       \"      \u003ctd\u003e1\u003c/td\u003e\\n\",","       \"    \u003c/tr\u003e\\n\",","       \"    \u003ctr\u003e\\n\",","       \"      \u003cth\u003e3\u003c/th\u003e\\n\",","       \"      \u003ctd\u003etwo\u003c/td\u003e\\n\",","       \"      \u003ctd\u003e3\u003c/td\u003e\\n\",","       \"      \u003ctd\u003e3\u003c/td\u003e\\n\",","       \"      \u003ctd\u003e1\u003c/td\u003e\\n\",","       \"    \u003c/tr\u003e\\n\",","       \"    \u003ctr\u003e\\n\",","       \"      \u003cth\u003e4\u003c/th\u003e\\n\",","       \"      \u003ctd\u003eone\u003c/td\u003e\\n\",","       \"      \u003ctd\u003e3\u003c/td\u003e\\n\",","       \"      \u003ctd\u003e3\u003c/td\u003e\\n\",","       \"      \u003ctd\u003e1\u003c/td\u003e\\n\",","       \"    \u003c/tr\u003e\\n\",","       \"    \u003ctr\u003e\\n\",","       \"      \u003cth\u003e5\u003c/th\u003e\\n\",","       \"      \u003ctd\u003etwo\u003c/td\u003e\\n\",","       \"      \u003ctd\u003e4\u003c/td\u003e\\n\",","       \"      \u003ctd\u003e4\u003c/td\u003e\\n\",","       \"      \u003ctd\u003e1\u003c/td\u003e\\n\",","       \"    \u003c/tr\u003e\\n\",","       \"    \u003ctr\u003e\\n\",","       \"      \u003cth\u003e6\u003c/th\u003e\\n\",","       \"      \u003ctd\u003etwo\u003c/td\u003e\\n\",","       \"      \u003ctd\u003e4\u003c/td\u003e\\n\",","       \"      \u003ctd\u003e4\u003c/td\u003e\\n\",","       \"      \u003ctd\u003e1\u003c/td\u003e\\n\",","       \"    \u003c/tr\u003e\\n\",","       \"  \u003c/tbody\u003e\\n\",","       \"\u003c/table\u003e\\n\",","       \"\u003c/div\u003e\"","      ],","      \"text/plain\": [","       \"    k1  k2  k3  k4\\n\",","       \"0  one   1   1   1\\n\",","       \"1  two   1   1   1\\n\",","       \"2  one   2   2   1\\n\",","       \"3  two   3   3   1\\n\",","       \"4  one   3   3   1\\n\",","       \"5  two   4   4   1\\n\",","       \"6  two   4   4   1\"","      ]","     },","     \"execution_count\": 51,","     \"metadata\": {},","     \"output_type\": \"execute_result\"","    }","   ],","   \"source\": [","    \"data = pd.DataFrame({\\\"k1\\\": [\\\"one\\\", \\\"two\\\"] * 3 + [\\\"two\\\"], \\\"k2\\\": [1, 1, 2, 3, 3, 4, 4], \\n\",","    \"                     \\\"k3\\\": [1, 1, 2, 3, 3, 4, 4], \\\"k4\\\":[1, 1, 1, 1, 1, 1, 1]})\\n\",","    \"data\"","   ]","  },","  {","   \"cell_type\": \"code\",","   \"execution_count\": 52,","   \"id\": \"bb74a899-e100-4b5b-8739-d4d3588d8b26\",","   \"metadata\": {},","   \"outputs\": [","    {","     \"data\": {","      \"text/plain\": [","       \"0    False\\n\",","       \"1    False\\n\",","       \"2    False\\n\",","       \"3    False\\n\",","       \"4    False\\n\",","       \"5    False\\n\",","       \"6     True\\n\",","       \"dtype: bool\"","      ]","     },","     \"execution_count\": 52,","     \"metadata\": {},","     \"output_type\": \"execute_result\"","    }","   ],","   \"source\": [","    \"data.duplicated()\"","   ]","  },","  {","   \"cell_type\": \"code\",","   \"execution_count\": 54,","   \"id\": \"cef50624-aac3-4f64-b835-e47931da670e\",","   \"metadata\": {},","   \"outputs\": [","    {","     \"data\": {","      \"text/html\": [","       \"\u003cdiv\u003e\\n\",","       \"\u003cstyle scoped\u003e\\n\",","       \"    .dataframe tbody tr th:only-of-type {\\n\",","       \"        vertical-align: middle;\\n\",","       \"    }\\n\",","       \"\\n\",","       \"    .dataframe tbody tr th {\\n\",","       \"        vertical-align: top;\\n\",","       \"    }\\n\",","       \"\\n\",","       \"    .dataframe thead th {\\n\",","       \"        text-align: right;\\n\",","       \"    }\\n\",","       \"\u003c/style\u003e\\n\",","       \"\u003ctable border=\\\"1\\\" class=\\\"dataframe\\\"\u003e\\n\",","       \"  \u003cthead\u003e\\n\",","       \"    \u003ctr style=\\\"text-align: right;\\\"\u003e\\n\",","       \"      \u003cth\u003e\u003c/th\u003e\\n\",","       \"      \u003cth\u003ek1\u003c/th\u003e\\n\",","       \"      \u003cth\u003ek2\u003c/th\u003e\\n\",","       \"      \u003cth\u003ek3\u003c/th\u003e\\n\",","       \"      \u003cth\u003ek4\u003c/th\u003e\\n\",","       \"    \u003c/tr\u003e\\n\",","       \"  \u003c/thead\u003e\\n\",","       \"  \u003ctbody\u003e\\n\",","       \"    \u003ctr\u003e\\n\",","       \"      \u003cth\u003e0\u003c/th\u003e\\n\",","       \"      \u003ctd\u003eone\u003c/td\u003e\\n\",","       \"      \u003ctd\u003e1\u003c/td\u003e\\n\",","       \"      \u003ctd\u003e1\u003c/td\u003e\\n\",","       \"      \u003ctd\u003e1\u003c/td\u003e\\n\",","       \"    \u003c/tr\u003e\\n\",","       \"    \u003ctr\u003e\\n\",","       \"      \u003cth\u003e1\u003c/th\u003e\\n\",","       \"      \u003ctd\u003etwo\u003c/td\u003e\\n\",","       \"      \u003ctd\u003e1\u003c/td\u003e\\n\",","       \"      \u003ctd\u003e1\u003c/td\u003e\\n\",","       \"      \u003ctd\u003e1\u003c/td\u003e\\n\",","       \"    \u003c/tr\u003e\\n\",","       \"    \u003ctr\u003e\\n\",","       \"      \u003cth\u003e2\u003c/th\u003e\\n\",","       \"      \u003ctd\u003eone\u003c/td\u003e\\n\",","       \"      \u003ctd\u003e2\u003c/td\u003e\\n\",","       \"      \u003ctd\u003e2\u003c/td\u003e\\n\",","       \"      \u003ctd\u003e1\u003c/td\u003e\\n\",","       \"    \u003c/tr\u003e\\n\",","       \"    \u003ctr\u003e\\n\",","       \"      \u003cth\u003e3\u003c/th\u003e\\n\",","       \"      \u003ctd\u003etwo\u003c/td\u003e\\n\",","       \"      \u003ctd\u003e3\u003c/td\u003e\\n\",","       \"      \u003ctd\u003e3\u003c/td\u003e\\n\",","       \"      \u003ctd\u003e1\u003c/td\u003e\\n\",","       \"    \u003c/tr\u003e\\n\",","       \"    \u003ctr\u003e\\n\",","       \"      \u003cth\u003e4\u003c/th\u003e\\n\",","       \"      \u003ctd\u003eone\u003c/td\u003e\\n\",","       \"      \u003ctd\u003e3\u003c/td\u003e\\n\",","       \"      \u003ctd\u003e3\u003c/td\u003e\\n\",","       \"      \u003ctd\u003e1\u003c/td\u003e\\n\",","       \"    \u003c/tr\u003e\\n\",","       \"    \u003ctr\u003e\\n\",","       \"      \u003cth\u003e5\u003c/th\u003e\\n\",","       \"      \u003ctd\u003etwo\u003c/td\u003e\\n\",","       \"      \u003ctd\u003e4\u003c/td\u003e\\n\",","       \"      \u003ctd\u003e4\u003c/td\u003e\\n\",","       \"      \u003ctd\u003e1\u003c/td\u003e\\n\",","       \"    \u003c/tr\u003e\\n\",","       \"  \u003c/tbody\u003e\\n\",","       \"\u003c/table\u003e\\n\",","       \"\u003c/div\u003e\"","      ],","      \"text/plain\": [","       \"    k1  k2  k3  k4\\n\",","       \"0  one   1   1   1\\n\",","       \"1  two   1   1   1\\n\",","       \"2  one   2   2   1\\n\",","       \"3  two   3   3   1\\n\",","       \"4  one   3   3   1\\n\",","       \"5  two   4   4   1\"","      ]","     },","     \"execution_count\": 54,","     \"metadata\": {},","     \"output_type\": \"execute_result\"","    }","   ],","   \"source\": [","    \"data.drop_duplicates()\"","   ]","  },","  {","   \"cell_type\": \"code\",","   \"execution_count\": 55,","   \"id\": \"00f18e5b-97d2-4728-8993-fb28590196a2\",","   \"metadata\": {},","   \"outputs\": [","    {","     \"data\": {","      \"text/html\": [","       \"\u003cdiv\u003e\\n\",","       \"\u003cstyle scoped\u003e\\n\",","       \"    .dataframe tbody tr th:only-of-type {\\n\",","       \"        vertical-align: middle;\\n\",","       \"    }\\n\",","       \"\\n\",","       \"    .dataframe tbody tr th {\\n\",","       \"        vertical-align: top;\\n\",","       \"    }\\n\",","       \"\\n\",","       \"    .dataframe thead th {\\n\",","       \"        text-align: right;\\n\",","       \"    }\\n\",","       \"\u003c/style\u003e\\n\",","       \"\u003ctable border=\\\"1\\\" class=\\\"dataframe\\\"\u003e\\n\",","       \"  \u003cthead\u003e\\n\",","       \"    \u003ctr style=\\\"text-align: right;\\\"\u003e\\n\",","       \"      \u003cth\u003e\u003c/th\u003e\\n\",","       \"      \u003cth\u003ek1\u003c/th\u003e\\n\",","       \"      \u003cth\u003ek2\u003c/th\u003e\\n\",","       \"      \u003cth\u003ek4\u003c/th\u003e\\n\",","       \"    \u003c/tr\u003e\\n\",","       \"  \u003c/thead\u003e\\n\",","       \"  \u003ctbody\u003e\\n\",","       \"    \u003ctr\u003e\\n\",","       \"      \u003cth\u003e0\u003c/th\u003e\\n\",","       \"      \u003ctd\u003eone\u003c/td\u003e\\n\",","       \"      \u003ctd\u003e1\u003c/td\u003e\\n\",","       \"      \u003ctd\u003e1\u003c/td\u003e\\n\",","       \"    \u003c/tr\u003e\\n\",","       \"    \u003ctr\u003e\\n\",","       \"      \u003cth\u003e1\u003c/th\u003e\\n\",","       \"      \u003ctd\u003etwo\u003c/td\u003e\\n\",","       \"      \u003ctd\u003e1\u003c/td\u003e\\n\",","       \"      \u003ctd\u003e1\u003c/td\u003e\\n\",","       \"    \u003c/tr\u003e\\n\",","       \"    \u003ctr\u003e\\n\",","       \"      \u003cth\u003e2\u003c/th\u003e\\n\",","       \"      \u003ctd\u003eone\u003c/td\u003e\\n\",","       \"      \u003ctd\u003e2\u003c/td\u003e\\n\",","       \"      \u003ctd\u003e1\u003c/td\u003e\\n\",","       \"    \u003c/tr\u003e\\n\",","       \"    \u003ctr\u003e\\n\",","       \"      \u003cth\u003e3\u003c/th\u003e\\n\",","       \"      \u003ctd\u003etwo\u003c/td\u003e\\n\",","       \"      \u003ctd\u003e3\u003c/td\u003e\\n\",","       \"      \u003ctd\u003e1\u003c/td\u003e\\n\",","       \"    \u003c/tr\u003e\\n\",","       \"    \u003ctr\u003e\\n\",","       \"      \u003cth\u003e4\u003c/th\u003e\\n\",","       \"      \u003ctd\u003eone\u003c/td\u003e\\n\",","       \"      \u003ctd\u003e3\u003c/td\u003e\\n\",","       \"      \u003ctd\u003e1\u003c/td\u003e\\n\",","       \"    \u003c/tr\u003e\\n\",","       \"    \u003ctr\u003e\\n\",","       \"      \u003cth\u003e5\u003c/th\u003e\\n\",","       \"      \u003ctd\u003etwo\u003c/td\u003e\\n\",","       \"      \u003ctd\u003e4\u003c/td\u003e\\n\",","       \"      \u003ctd\u003e1\u003c/td\u003e\\n\",","       \"    \u003c/tr\u003e\\n\",","       \"    \u003ctr\u003e\\n\",","       \"      \u003cth\u003e6\u003c/th\u003e\\n\",","       \"      \u003ctd\u003etwo\u003c/td\u003e\\n\",","       \"      \u003ctd\u003e4\u003c/td\u003e\\n\",","       \"      \u003ctd\u003e1\u003c/td\u003e\\n\",","       \"    \u003c/tr\u003e\\n\",","       \"  \u003c/tbody\u003e\\n\",","       \"\u003c/table\u003e\\n\",","       \"\u003c/div\u003e\"","      ],","      \"text/plain\": [","       \"    k1 k2 k4\\n\",","       \"0  one  1  1\\n\",","       \"1  two  1  1\\n\",","       \"2  one  2  1\\n\",","       \"3  two  3  1\\n\",","       \"4  one  3  1\\n\",","       \"5  two  4  1\\n\",","       \"6  two  4  1\"","      ]","     },","     \"execution_count\": 55,","     \"metadata\": {},","     \"output_type\": \"execute_result\"","    }","   ],","   \"source\": [","    \"data.T.drop_duplicates().T\"","   ]","  },","  {","   \"cell_type\": \"code\",","   \"execution_count\": 60,","   \"id\": \"82e65c60-6af0-4531-b097-c70fe60a8fae\",","   \"metadata\": {},","   \"outputs\": [","    {","     \"data\": {","      \"text/html\": [","       \"\u003cdiv\u003e\\n\",","       \"\u003cstyle scoped\u003e\\n\",","       \"    .dataframe tbody tr th:only-of-type {\\n\",","       \"        vertical-align: middle;\\n\",","       \"    }\\n\",","       \"\\n\",","       \"    .dataframe tbody tr th {\\n\",","       \"        vertical-align: top;\\n\",","       \"    }\\n\",","       \"\\n\",","       \"    .dataframe thead th {\\n\",","       \"        text-align: right;\\n\",","       \"    }\\n\",","       \"\u003c/style\u003e\\n\",","       \"\u003ctable border=\\\"1\\\" class=\\\"dataframe\\\"\u003e\\n\",","       \"  \u003cthead\u003e\\n\",","       \"    \u003ctr style=\\\"text-align: right;\\\"\u003e\\n\",","       \"      \u003cth\u003e\u003c/th\u003e\\n\",","       \"      \u003cth\u003ek1\u003c/th\u003e\\n\",","       \"      \u003cth\u003ek2\u003c/th\u003e\\n\",","       \"      \u003cth\u003ek3\u003c/th\u003e\\n\",","       \"    \u003c/tr\u003e\\n\",","       \"  \u003c/thead\u003e\\n\",","       \"  \u003ctbody\u003e\\n\",","       \"    \u003ctr\u003e\\n\",","       \"      \u003cth\u003e0\u003c/th\u003e\\n\",","       \"      \u003ctd\u003eone\u003c/td\u003e\\n\",","       \"      \u003ctd\u003e1\u003c/td\u003e\\n\",","       \"      \u003ctd\u003e1\u003c/td\u003e\\n\",","       \"    \u003c/tr\u003e\\n\",","       \"    \u003ctr\u003e\\n\",","       \"      \u003cth\u003e1\u003c/th\u003e\\n\",","       \"      \u003ctd\u003etwo\u003c/td\u003e\\n\",","       \"      \u003ctd\u003e1\u003c/td\u003e\\n\",","       \"      \u003ctd\u003e1\u003c/td\u003e\\n\",","       \"    \u003c/tr\u003e\\n\",","       \"    \u003ctr\u003e\\n\",","       \"      \u003cth\u003e2\u003c/th\u003e\\n\",","       \"      \u003ctd\u003eone\u003c/td\u003e\\n\",","       \"      \u003ctd\u003e2\u003c/td\u003e\\n\",","       \"      \u003ctd\u003e2\u003c/td\u003e\\n\",","       \"    \u003c/tr\u003e\\n\",","       \"    \u003ctr\u003e\\n\",","       \"      \u003cth\u003e3\u003c/th\u003e\\n\",","       \"      \u003ctd\u003etwo\u003c/td\u003e\\n\",","       \"      \u003ctd\u003e3\u003c/td\u003e\\n\",","       \"      \u003ctd\u003e3\u003c/td\u003e\\n\",","       \"    \u003c/tr\u003e\\n\",","       \"    \u003ctr\u003e\\n\",","       \"      \u003cth\u003e4\u003c/th\u003e\\n\",","       \"      \u003ctd\u003eone\u003c/td\u003e\\n\",","       \"      \u003ctd\u003e3\u003c/td\u003e\\n\",","       \"      \u003ctd\u003e3\u003c/td\u003e\\n\",","       \"    \u003c/tr\u003e\\n\",","       \"    \u003ctr\u003e\\n\",","       \"      \u003cth\u003e5\u003c/th\u003e\\n\",","       \"      \u003ctd\u003etwo\u003c/td\u003e\\n\",","       \"      \u003ctd\u003e4\u003c/td\u003e\\n\",","       \"      \u003ctd\u003e4\u003c/td\u003e\\n\",","       \"    \u003c/tr\u003e\\n\",","       \"    \u003ctr\u003e\\n\",","       \"      \u003cth\u003e6\u003c/th\u003e\\n\",","       \"      \u003ctd\u003etwo\u003c/td\u003e\\n\",","       \"      \u003ctd\u003e4\u003c/td\u003e\\n\",","       \"      \u003ctd\u003e4\u003c/td\u003e\\n\",","       \"    \u003c/tr\u003e\\n\",","       \"  \u003c/tbody\u003e\\n\",","       \"\u003c/table\u003e\\n\",","       \"\u003c/div\u003e\"","      ],","      \"text/plain\": [","       \"    k1  k2  k3\\n\",","       \"0  one   1   1\\n\",","       \"1  two   1   1\\n\",","       \"2  one   2   2\\n\",","       \"3  two   3   3\\n\",","       \"4  one   3   3\\n\",","       \"5  two   4   4\\n\",","       \"6  two   4   4\"","      ]","     },","     \"execution_count\": 60,","     \"metadata\": {},","     \"output_type\": \"execute_result\"","    }","   ],","   \"source\": [","    \"data.drop(data.columns[data.nunique() == 1], axis=1)\"","   ]","  },","  {","   \"cell_type\": \"markdown\",","   \"id\": \"f86cc3cf-80d7-4654-965a-19ab2a28c23a\",","   \"metadata\": {},","   \"source\": [","    \"# Заполнение пропусков в данных\"","   ]","  },","  {","   \"cell_type\": \"markdown\",","   \"id\": \"113ff682-faec-4756-9583-89508f76d3a1\",","   \"metadata\": {},","   \"source\": [","    \"Nan - маркер отсутствия данных.\"","   ]","  },","  {","   \"cell_type\": \"code\",","   \"execution_count\": 8,","   \"id\": \"0d21c1b4-3c74-44b4-90dd-5979bb3b3678\",","   \"metadata\": {},","   \"outputs\": [","    {","     \"data\": {","      \"text/plain\": [","       \"0    1.2\\n\",","       \"1   -3.5\\n\",","       \"2    NaN\\n\",","       \"3    0.0\\n\",","       \"dtype: float64\"","      ]","     },","     \"execution_count\": 8,","     \"metadata\": {},","     \"output_type\": \"execute_result\"","    }","   ],","   \"source\": [","    \"float_data = pd.Series([1.2, -3.5, np.nan, 0])\\n\",","    \"float_data\"","   ]","  },","  {","   \"cell_type\": \"code\",","   \"execution_count\": 9,","   \"id\": \"b4a12528-8045-4fb7-8df0-a310b3f0460d\",","   \"metadata\": {},","   \"outputs\": [","    {","     \"data\": {","      \"text/plain\": [","       \"0    False\\n\",","       \"1    False\\n\",","       \"2     True\\n\",","       \"3    False\\n\",","       \"dtype: bool\"","      ]","     },","     \"execution_count\": 9,","     \"metadata\": {},","     \"output_type\": \"execute_result\"","    }","   ],","   \"source\": [","    \"float_data.isna()\"","   ]","  },","  {","   \"cell_type\": \"code\",","   \"execution_count\": 10,","   \"id\": \"46e16862-037d-447b-be6a-cc499dd36c90\",","   \"metadata\": {},","   \"outputs\": [","    {","     \"data\": {","      \"text/plain\": [","       \"0     True\\n\",","       \"1     True\\n\",","       \"2    False\\n\",","       \"3     True\\n\",","       \"dtype: bool\"","      ]","     },","     \"execution_count\": 10,","     \"metadata\": {},","     \"output_type\": \"execute_result\"","    }","   ],","   \"source\": [","    \"float_data.notna()\"","   ]","  },","  {","   \"cell_type\": \"markdown\",","   \"id\": \"6870fbfb-24ef-4ead-9ee8-ca78d77f3af9\",","   \"metadata\": {},","   \"source\": [","    \"Удаление данных с пропусками\"","   ]","  },","  {","   \"cell_type\": \"code\",","   \"execution_count\": 20,","   \"id\": \"f93e2d65-3c75-4968-863f-453a93229ec0\",","   \"metadata\": {},","   \"outputs\": [","    {","     \"data\": {","      \"text/html\": [","       \"\u003cdiv\u003e\\n\",","       \"\u003cstyle scoped\u003e\\n\",","       \"    .dataframe tbody tr th:only-of-type {\\n\",","       \"        vertical-align: middle;\\n\",","       \"    }\\n\",","       \"\\n\",","       \"    .dataframe tbody tr th {\\n\",","       \"        vertical-align: top;\\n\",","       \"    }\\n\",","       \"\\n\",","       \"    .dataframe thead th {\\n\",","       \"        text-align: right;\\n\",","       \"    }\\n\",","       \"\u003c/style\u003e\\n\",","       \"\u003ctable border=\\\"1\\\" class=\\\"dataframe\\\"\u003e\\n\",","       \"  \u003cthead\u003e\\n\",","       \"    \u003ctr style=\\\"text-align: right;\\\"\u003e\\n\",","       \"      \u003cth\u003e\u003c/th\u003e\\n\",","       \"      \u003cth\u003e0\u003c/th\u003e\\n\",","       \"      \u003cth\u003e1\u003c/th\u003e\\n\",","       \"      \u003cth\u003e2\u003c/th\u003e\\n\",","       \"      \u003cth\u003e3\u003c/th\u003e\\n\",","       \"    \u003c/tr\u003e\\n\",","       \"  \u003c/thead\u003e\\n\",","       \"  \u003ctbody\u003e\\n\",","       \"    \u003ctr\u003e\\n\",","       \"      \u003cth\u003e0\u003c/th\u003e\\n\",","       \"      \u003ctd\u003e1.0\u003c/td\u003e\\n\",","       \"      \u003ctd\u003e6.5\u003c/td\u003e\\n\",","       \"      \u003ctd\u003e3.0\u003c/td\u003e\\n\",","       \"      \u003ctd\u003eNaN\u003c/td\u003e\\n\",","       \"    \u003c/tr\u003e\\n\",","       \"    \u003ctr\u003e\\n\",","       \"      \u003cth\u003e1\u003c/th\u003e\\n\",","       \"      \u003ctd\u003e1.0\u003c/td\u003e\\n\",","       \"      \u003ctd\u003eNaN\u003c/td\u003e\\n\",","       \"      \u003ctd\u003eNaN\u003c/td\u003e\\n\",","       \"      \u003ctd\u003eNaN\u003c/td\u003e\\n\",","       \"    \u003c/tr\u003e\\n\",","       \"    \u003ctr\u003e\\n\",","       \"      \u003cth\u003e2\u003c/th\u003e\\n\",","       \"      \u003ctd\u003eNaN\u003c/td\u003e\\n\",","       \"      \u003ctd\u003eNaN\u003c/td\u003e\\n\",","       \"      \u003ctd\u003eNaN\u003c/td\u003e\\n\",","       \"      \u003ctd\u003eNaN\u003c/td\u003e\\n\",","       \"    \u003c/tr\u003e\\n\",","       \"    \u003ctr\u003e\\n\",","       \"      \u003cth\u003e3\u003c/th\u003e\\n\",","       \"      \u003ctd\u003eNaN\u003c/td\u003e\\n\",","       \"      \u003ctd\u003e6.5\u003c/td\u003e\\n\",","       \"      \u003ctd\u003e3.0\u003c/td\u003e\\n\",","       \"      \u003ctd\u003eNaN\u003c/td\u003e\\n\",","       \"    \u003c/tr\u003e\\n\",","       \"  \u003c/tbody\u003e\\n\",","       \"\u003c/table\u003e\\n\",","       \"\u003c/div\u003e\"","      ],","      \"text/plain\": [","       \"     0    1    2   3\\n\",","       \"0  1.0  6.5  3.0 NaN\\n\",","       \"1  1.0  NaN  NaN NaN\\n\",","       \"2  NaN  NaN  NaN NaN\\n\",","       \"3  NaN  6.5  3.0 NaN\"","      ]","     },","     \"execution_count\": 20,","     \"metadata\": {},","     \"output_type\": \"execute_result\"","    }","   ],","   \"source\": [","    \"data = pd.DataFrame([[1., 6.5, 3., np.nan], [1., np.nan, np.nan, np.nan], [np.nan, np.nan, np.nan, np.nan], \\n\",","    \"                     [np.nan, 6.5, 3., np.nan]])\\n\",","    \"data\"","   ]","  },","  {","   \"cell_type\": \"code\",","   \"execution_count\": 21,","   \"id\": \"a29a6793-8569-4091-a442-aeffa6aed226\",","   \"metadata\": {},","   \"outputs\": [","    {","     \"data\": {","      \"text/html\": [","       \"\u003cdiv\u003e\\n\",","       \"\u003cstyle scoped\u003e\\n\",","       \"    .dataframe tbody tr th:only-of-type {\\n\",","       \"        vertical-align: middle;\\n\",","       \"    }\\n\",","       \"\\n\",","       \"    .dataframe tbody tr th {\\n\",","       \"        vertical-align: top;\\n\",","       \"    }\\n\",","       \"\\n\",","       \"    .dataframe thead th {\\n\",","       \"        text-align: right;\\n\",","       \"    }\\n\",","       \"\u003c/style\u003e\\n\",","       \"\u003ctable border=\\\"1\\\" class=\\\"dataframe\\\"\u003e\\n\",","       \"  \u003cthead\u003e\\n\",","       \"    \u003ctr style=\\\"text-align: right;\\\"\u003e\\n\",","       \"      \u003cth\u003e\u003c/th\u003e\\n\",","       \"      \u003cth\u003e0\u003c/th\u003e\\n\",","       \"      \u003cth\u003e1\u003c/th\u003e\\n\",","       \"      \u003cth\u003e2\u003c/th\u003e\\n\",","       \"      \u003cth\u003e3\u003c/th\u003e\\n\",","       \"    \u003c/tr\u003e\\n\",","       \"  \u003c/thead\u003e\\n\",","       \"  \u003ctbody\u003e\\n\",","       \"  \u003c/tbody\u003e\\n\",","       \"\u003c/table\u003e\\n\",","       \"\u003c/div\u003e\"","      ],","      \"text/plain\": [","       \"Empty DataFrame\\n\",","       \"Columns: [0, 1, 2, 3]\\n\",","       \"Index: []\"","      ]","     },","     \"execution_count\": 21,","     \"metadata\": {},","     \"output_type\": \"execute_result\"","    }","   ],","   \"source\": [","    \"data.dropna()\"","   ]","  },","  {","   \"cell_type\": \"code\",","   \"execution_count\": 22,","   \"id\": \"edd894b5-d32d-455f-a293-edd7c8b2fa26\",","   \"metadata\": {},","   \"outputs\": [","    {","     \"data\": {","      \"text/html\": [","       \"\u003cdiv\u003e\\n\",","       \"\u003cstyle scoped\u003e\\n\",","       \"    .dataframe tbody tr th:only-of-type {\\n\",","       \"        vertical-align: middle;\\n\",","       \"    }\\n\",","       \"\\n\",","       \"    .dataframe tbody tr th {\\n\",","       \"        vertical-align: top;\\n\",","       \"    }\\n\",","       \"\\n\",","       \"    .dataframe thead th {\\n\",","       \"        text-align: right;\\n\",","       \"    }\\n\",","       \"\u003c/style\u003e\\n\",","       \"\u003ctable border=\\\"1\\\" class=\\\"dataframe\\\"\u003e\\n\",","       \"  \u003cthead\u003e\\n\",","       \"    \u003ctr style=\\\"text-align: right;\\\"\u003e\\n\",","       \"      \u003cth\u003e\u003c/th\u003e\\n\",","       \"      \u003cth\u003e0\u003c/th\u003e\\n\",","       \"      \u003cth\u003e1\u003c/th\u003e\\n\",","       \"      \u003cth\u003e2\u003c/th\u003e\\n\",","       \"      \u003cth\u003e3\u003c/th\u003e\\n\",","       \"    \u003c/tr\u003e\\n\",","       \"  \u003c/thead\u003e\\n\",","       \"  \u003ctbody\u003e\\n\",","       \"    \u003ctr\u003e\\n\",","       \"      \u003cth\u003e0\u003c/th\u003e\\n\",","       \"      \u003ctd\u003e1.0\u003c/td\u003e\\n\",","       \"      \u003ctd\u003e6.5\u003c/td\u003e\\n\",","       \"      \u003ctd\u003e3.0\u003c/td\u003e\\n\",","       \"      \u003ctd\u003eNaN\u003c/td\u003e\\n\",","       \"    \u003c/tr\u003e\\n\",","       \"    \u003ctr\u003e\\n\",","       \"      \u003cth\u003e1\u003c/th\u003e\\n\",","       \"      \u003ctd\u003e1.0\u003c/td\u003e\\n\",","       \"      \u003ctd\u003eNaN\u003c/td\u003e\\n\",","       \"      \u003ctd\u003eNaN\u003c/td\u003e\\n\",","       \"      \u003ctd\u003eNaN\u003c/td\u003e\\n\",","       \"    \u003c/tr\u003e\\n\",","       \"    \u003ctr\u003e\\n\",","       \"      \u003cth\u003e3\u003c/th\u003e\\n\",","       \"      \u003ctd\u003eNaN\u003c/td\u003e\\n\",","       \"      \u003ctd\u003e6.5\u003c/td\u003e\\n\",","       \"      \u003ctd\u003e3.0\u003c/td\u003e\\n\",","       \"      \u003ctd\u003eNaN\u003c/td\u003e\\n\",","       \"    \u003c/tr\u003e\\n\",","       \"  \u003c/tbody\u003e\\n\",","       \"\u003c/table\u003e\\n\",","       \"\u003c/div\u003e\"","      ],","      \"text/plain\": [","       \"     0    1    2   3\\n\",","       \"0  1.0  6.5  3.0 NaN\\n\",","       \"1  1.0  NaN  NaN NaN\\n\",","       \"3  NaN  6.5  3.0 NaN\"","      ]","     },","     \"execution_count\": 22,","     \"metadata\": {},","     \"output_type\": \"execute_result\"","    }","   ],","   \"source\": [","    \"data.dropna(how=\\\"all\\\")\"","   ]","  },","  {","   \"cell_type\": \"code\",","   \"execution_count\": 23,","   \"id\": \"e00385ee-c272-46b0-9ef7-6fd73ba4b441\",","   \"metadata\": {},","   \"outputs\": [","    {","     \"data\": {","      \"text/html\": [","       \"\u003cdiv\u003e\\n\",","       \"\u003cstyle scoped\u003e\\n\",","       \"    .dataframe tbody tr th:only-of-type {\\n\",","       \"        vertical-align: middle;\\n\",","       \"    }\\n\",","       \"\\n\",","       \"    .dataframe tbody tr th {\\n\",","       \"        vertical-align: top;\\n\",","       \"    }\\n\",","       \"\\n\",","       \"    .dataframe thead th {\\n\",","       \"        text-align: right;\\n\",","       \"    }\\n\",","       \"\u003c/style\u003e\\n\",","       \"\u003ctable border=\\\"1\\\" class=\\\"dataframe\\\"\u003e\\n\",","       \"  \u003cthead\u003e\\n\",","       \"    \u003ctr style=\\\"text-align: right;\\\"\u003e\\n\",","       \"      \u003cth\u003e\u003c/th\u003e\\n\",","       \"      \u003cth\u003e0\u003c/th\u003e\\n\",","       \"      \u003cth\u003e1\u003c/th\u003e\\n\",","       \"      \u003cth\u003e2\u003c/th\u003e\\n\",","       \"    \u003c/tr\u003e\\n\",","       \"  \u003c/thead\u003e\\n\",","       \"  \u003ctbody\u003e\\n\",","       \"    \u003ctr\u003e\\n\",","       \"      \u003cth\u003e0\u003c/th\u003e\\n\",","       \"      \u003ctd\u003e1.0\u003c/td\u003e\\n\",","       \"      \u003ctd\u003e6.5\u003c/td\u003e\\n\",","       \"      \u003ctd\u003e3.0\u003c/td\u003e\\n\",","       \"    \u003c/tr\u003e\\n\",","       \"    \u003ctr\u003e\\n\",","       \"      \u003cth\u003e1\u003c/th\u003e\\n\",","       \"      \u003ctd\u003e1.0\u003c/td\u003e\\n\",","       \"      \u003ctd\u003eNaN\u003c/td\u003e\\n\",","       \"      \u003ctd\u003eNaN\u003c/td\u003e\\n\",","       \"    \u003c/tr\u003e\\n\",","       \"    \u003ctr\u003e\\n\",","       \"      \u003cth\u003e2\u003c/th\u003e\\n\",","       \"      \u003ctd\u003eNaN\u003c/td\u003e\\n\",","       \"      \u003ctd\u003eNaN\u003c/td\u003e\\n\",","       \"      \u003ctd\u003eNaN\u003c/td\u003e\\n\",","       \"    \u003c/tr\u003e\\n\",","       \"    \u003ctr\u003e\\n\",","       \"      \u003cth\u003e3\u003c/th\u003e\\n\",","       \"      \u003ctd\u003eNaN\u003c/td\u003e\\n\",","       \"      \u003ctd\u003e6.5\u003c/td\u003e\\n\",","       \"      \u003ctd\u003e3.0\u003c/td\u003e\\n\",","       \"    \u003c/tr\u003e\\n\",","       \"  \u003c/tbody\u003e\\n\",","       \"\u003c/table\u003e\\n\",","       \"\u003c/div\u003e\"","      ],","      \"text/plain\": [","       \"     0    1    2\\n\",","       \"0  1.0  6.5  3.0\\n\",","       \"1  1.0  NaN  NaN\\n\",","       \"2  NaN  NaN  NaN\\n\",","       \"3  NaN  6.5  3.0\"","      ]","     },","     \"execution_count\": 23,","     \"metadata\": {},","     \"output_type\": \"execute_result\"","    }","   ],","   \"source\": [","    \"data.dropna(axis=\\\"columns\\\", how=\\\"all\\\")\"","   ]","  },","  {","   \"cell_type\": \"code\",","   \"execution_count\": 25,","   \"id\": \"6c821de0-5430-412b-9a5d-caaa2e4dfcee\",","   \"metadata\": {},","   \"outputs\": [","    {","     \"data\": {","      \"text/html\": [","       \"\u003cdiv\u003e\\n\",","       \"\u003cstyle scoped\u003e\\n\",","       \"    .dataframe tbody tr th:only-of-type {\\n\",","       \"        vertical-align: middle;\\n\",","       \"    }\\n\",","       \"\\n\",","       \"    .dataframe tbody tr th {\\n\",","       \"        vertical-align: top;\\n\",","       \"    }\\n\",","       \"\\n\",","       \"    .dataframe thead th {\\n\",","       \"        text-align: right;\\n\",","       \"    }\\n\",","       \"\u003c/style\u003e\\n\",","       \"\u003ctable border=\\\"1\\\" class=\\\"dataframe\\\"\u003e\\n\",","       \"  \u003cthead\u003e\\n\",","       \"    \u003ctr style=\\\"text-align: right;\\\"\u003e\\n\",","       \"      \u003cth\u003e\u003c/th\u003e\\n\",","       \"      \u003cth\u003e0\u003c/th\u003e\\n\",","       \"      \u003cth\u003e1\u003c/th\u003e\\n\",","       \"      \u003cth\u003e2\u003c/th\u003e\\n\",","       \"      \u003cth\u003e3\u003c/th\u003e\\n\",","       \"    \u003c/tr\u003e\\n\",","       \"  \u003c/thead\u003e\\n\",","       \"  \u003ctbody\u003e\\n\",","       \"    \u003ctr\u003e\\n\",","       \"      \u003cth\u003e0\u003c/th\u003e\\n\",","       \"      \u003ctd\u003e1.0\u003c/td\u003e\\n\",","       \"      \u003ctd\u003e6.5\u003c/td\u003e\\n\",","       \"      \u003ctd\u003e3.0\u003c/td\u003e\\n\",","       \"      \u003ctd\u003eNaN\u003c/td\u003e\\n\",","       \"    \u003c/tr\u003e\\n\",","       \"    \u003ctr\u003e\\n\",","       \"      \u003cth\u003e3\u003c/th\u003e\\n\",","       \"      \u003ctd\u003eNaN\u003c/td\u003e\\n\",","       \"      \u003ctd\u003e6.5\u003c/td\u003e\\n\",","       \"      \u003ctd\u003e3.0\u003c/td\u003e\\n\",","       \"      \u003ctd\u003eNaN\u003c/td\u003e\\n\",","       \"    \u003c/tr\u003e\\n\",","       \"  \u003c/tbody\u003e\\n\",","       \"\u003c/table\u003e\\n\",","       \"\u003c/div\u003e\"","      ],","      \"text/plain\": [","       \"     0    1    2   3\\n\",","       \"0  1.0  6.5  3.0 NaN\\n\",","       \"3  NaN  6.5  3.0 NaN\"","      ]","     },","     \"execution_count\": 25,","     \"metadata\": {},","     \"output_type\": \"execute_result\"","    }","   ],","   \"source\": [","    \"data.dropna(thresh=2)\"","   ]","  },","  {","   \"cell_type\": \"markdown\",","   \"id\": \"b925f4eb-7124-46b1-857f-78c523c348b9\",","   \"metadata\": {},","   \"source\": [","    \"Восполнение отсутствующих данных\"","   ]","  },","  {","   \"cell_type\": \"code\",","   \"execution_count\": 26,","   \"id\": \"4c424068-b7fd-4d96-bf31-243247781413\",","   \"metadata\": {},","   \"outputs\": [","    {","     \"data\": {","      \"text/html\": [","       \"\u003cdiv\u003e\\n\",","       \"\u003cstyle scoped\u003e\\n\",","       \"    .dataframe tbody tr th:only-of-type {\\n\",","       \"        vertical-align: middle;\\n\",","       \"    }\\n\",","       \"\\n\",","       \"    .dataframe tbody tr th {\\n\",","       \"        vertical-align: top;\\n\",","       \"    }\\n\",","       \"\\n\",","       \"    .dataframe thead th {\\n\",","       \"        text-align: right;\\n\",","       \"    }\\n\",","       \"\u003c/style\u003e\\n\",","       \"\u003ctable border=\\\"1\\\" class=\\\"dataframe\\\"\u003e\\n\",","       \"  \u003cthead\u003e\\n\",","       \"    \u003ctr style=\\\"text-align: right;\\\"\u003e\\n\",","       \"      \u003cth\u003e\u003c/th\u003e\\n\",","       \"      \u003cth\u003e0\u003c/th\u003e\\n\",","       \"      \u003cth\u003e1\u003c/th\u003e\\n\",","       \"      \u003cth\u003e2\u003c/th\u003e\\n\",","       \"    \u003c/tr\u003e\\n\",","       \"  \u003c/thead\u003e\\n\",","       \"  \u003ctbody\u003e\\n\",","       \"    \u003ctr\u003e\\n\",","       \"      \u003cth\u003e0\u003c/th\u003e\\n\",","       \"      \u003ctd\u003e-0.554254\u003c/td\u003e\\n\",","       \"      \u003ctd\u003eNaN\u003c/td\u003e\\n\",","       \"      \u003ctd\u003eNaN\u003c/td\u003e\\n\",","       \"    \u003c/tr\u003e\\n\",","       \"    \u003ctr\u003e\\n\",","       \"      \u003cth\u003e1\u003c/th\u003e\\n\",","       \"      \u003ctd\u003e2.044001\u003c/td\u003e\\n\",","       \"      \u003ctd\u003eNaN\u003c/td\u003e\\n\",","       \"      \u003ctd\u003eNaN\u003c/td\u003e\\n\",","       \"    \u003c/tr\u003e\\n\",","       \"    \u003ctr\u003e\\n\",","       \"      \u003cth\u003e2\u003c/th\u003e\\n\",","       \"      \u003ctd\u003e-0.406626\u003c/td\u003e\\n\",","       \"      \u003ctd\u003eNaN\u003c/td\u003e\\n\",","       \"      \u003ctd\u003e0.328056\u003c/td\u003e\\n\",","       \"    \u003c/tr\u003e\\n\",","       \"    \u003ctr\u003e\\n\",","       \"      \u003cth\u003e3\u003c/th\u003e\\n\",","       \"      \u003ctd\u003e1.049602\u003c/td\u003e\\n\",","       \"      \u003ctd\u003eNaN\u003c/td\u003e\\n\",","       \"      \u003ctd\u003e0.622102\u003c/td\u003e\\n\",","       \"    \u003c/tr\u003e\\n\",","       \"    \u003ctr\u003e\\n\",","       \"      \u003cth\u003e4\u003c/th\u003e\\n\",","       \"      \u003ctd\u003e1.905355\u003c/td\u003e\\n\",","       \"      \u003ctd\u003e-0.260140\u003c/td\u003e\\n\",","       \"      \u003ctd\u003e0.442188\u003c/td\u003e\\n\",","       \"    \u003c/tr\u003e\\n\",","       \"    \u003ctr\u003e\\n\",","       \"      \u003cth\u003e5\u003c/th\u003e\\n\",","       \"      \u003ctd\u003e-1.217356\u003c/td\u003e\\n\",","       \"      \u003ctd\u003e-0.355152\u003c/td\u003e\\n\",","       \"      \u003ctd\u003e0.162520\u003c/td\u003e\\n\",","       \"    \u003c/tr\u003e\\n\",","       \"    \u003ctr\u003e\\n\",","       \"      \u003cth\u003e6\u003c/th\u003e\\n\",","       \"      \u003ctd\u003e0.744739\u003c/td\u003e\\n\",","       \"      \u003ctd\u003e0.532442\u003c/td\u003e\\n\",","       \"      \u003ctd\u003e0.946928\u003c/td\u003e\\n\",","       \"    \u003c/tr\u003e\\n\",","       \"  \u003c/tbody\u003e\\n\",","       \"\u003c/table\u003e\\n\",","       \"\u003c/div\u003e\"","      ],","      \"text/plain\": [","       \"          0         1         2\\n\",","       \"0 -0.554254       NaN       NaN\\n\",","       \"1  2.044001       NaN       NaN\\n\",","       \"2 -0.406626       NaN  0.328056\\n\",","       \"3  1.049602       NaN  0.622102\\n\",","       \"4  1.905355 -0.260140  0.442188\\n\",","       \"5 -1.217356 -0.355152  0.162520\\n\",","       \"6  0.744739  0.532442  0.946928\"","      ]","     },","     \"execution_count\": 26,","     \"metadata\": {},","     \"output_type\": \"execute_result\"","    }","   ],","   \"source\": [","    \"df = pd.DataFrame(np.random.standard_normal((7, 3)))\\n\",","    \"df.iloc[:4, 1] = np.nan\\n\",","    \"df.iloc[:2, 2] = np.nan\\n\",","    \"df\"","   ]","  },","  {","   \"cell_type\": \"code\",","   \"execution_count\": 27,","   \"id\": \"9bc012b2-2d3d-40aa-9f47-7805574c11f3\",","   \"metadata\": {},","   \"outputs\": [","    {","     \"data\": {","      \"text/html\": [","       \"\u003cdiv\u003e\\n\",","       \"\u003cstyle scoped\u003e\\n\",","       \"    .dataframe tbody tr th:only-of-type {\\n\",","       \"        vertical-align: middle;\\n\",","       \"    }\\n\",","       \"\\n\",","       \"    .dataframe tbody tr th {\\n\",","       \"        vertical-align: top;\\n\",","       \"    }\\n\",","       \"\\n\",","       \"    .dataframe thead th {\\n\",","       \"        text-align: right;\\n\",","       \"    }\\n\",","       \"\u003c/style\u003e\\n\",","       \"\u003ctable border=\\\"1\\\" class=\\\"dataframe\\\"\u003e\\n\",","       \"  \u003cthead\u003e\\n\",","       \"    \u003ctr style=\\\"text-align: right;\\\"\u003e\\n\",","       \"      \u003cth\u003e\u003c/th\u003e\\n\",","       \"      \u003cth\u003e0\u003c/th\u003e\\n\",","       \"      \u003cth\u003e1\u003c/th\u003e\\n\",","       \"      \u003cth\u003e2\u003c/th\u003e\\n\",","       \"    \u003c/tr\u003e\\n\",","       \"  \u003c/thead\u003e\\n\",","       \"  \u003ctbody\u003e\\n\",","       \"    \u003ctr\u003e\\n\",","       \"      \u003cth\u003e0\u003c/th\u003e\\n\",","       \"      \u003ctd\u003e-0.554254\u003c/td\u003e\\n\",","       \"      \u003ctd\u003e0.000000\u003c/td\u003e\\n\",","       \"      \u003ctd\u003e0.000000\u003c/td\u003e\\n\",","       \"    \u003c/tr\u003e\\n\",","       \"    \u003ctr\u003e\\n\",","       \"      \u003cth\u003e1\u003c/th\u003e\\n\",","       \"      \u003ctd\u003e2.044001\u003c/td\u003e\\n\",","       \"      \u003ctd\u003e0.000000\u003c/td\u003e\\n\",","       \"      \u003ctd\u003e0.000000\u003c/td\u003e\\n\",","       \"    \u003c/tr\u003e\\n\",","       \"    \u003ctr\u003e\\n\",","       \"      \u003cth\u003e2\u003c/th\u003e\\n\",","       \"      \u003ctd\u003e-0.406626\u003c/td\u003e\\n\",","       \"      \u003ctd\u003e0.000000\u003c/td\u003e\\n\",","       \"      \u003ctd\u003e0.328056\u003c/td\u003e\\n\",","       \"    \u003c/tr\u003e\\n\",","       \"    \u003ctr\u003e\\n\",","       \"      \u003cth\u003e3\u003c/th\u003e\\n\",","       \"      \u003ctd\u003e1.049602\u003c/td\u003e\\n\",","       \"      \u003ctd\u003e0.000000\u003c/td\u003e\\n\",","       \"      \u003ctd\u003e0.622102\u003c/td\u003e\\n\",","       \"    \u003c/tr\u003e\\n\",","       \"    \u003ctr\u003e\\n\",","       \"      \u003cth\u003e4\u003c/th\u003e\\n\",","       \"      \u003ctd\u003e1.905355\u003c/td\u003e\\n\",","       \"      \u003ctd\u003e-0.260140\u003c/td\u003e\\n\",","       \"      \u003ctd\u003e0.442188\u003c/td\u003e\\n\",","       \"    \u003c/tr\u003e\\n\",","       \"    \u003ctr\u003e\\n\",","       \"      \u003cth\u003e5\u003c/th\u003e\\n\",","       \"      \u003ctd\u003e-1.217356\u003c/td\u003e\\n\",","       \"      \u003ctd\u003e-0.355152\u003c/td\u003e\\n\",","       \"      \u003ctd\u003e0.162520\u003c/td\u003e\\n\",","       \"    \u003c/tr\u003e\\n\",","       \"    \u003ctr\u003e\\n\",","       \"      \u003cth\u003e6\u003c/th\u003e\\n\",","       \"      \u003ctd\u003e0.744739\u003c/td\u003e\\n\",","       \"      \u003ctd\u003e0.532442\u003c/td\u003e\\n\",","       \"      \u003ctd\u003e0.946928\u003c/td\u003e\\n\",","       \"    \u003c/tr\u003e\\n\",","       \"  \u003c/tbody\u003e\\n\",","       \"\u003c/table\u003e\\n\",","       \"\u003c/div\u003e\"","      ],","      \"text/plain\": [","       \"          0         1         2\\n\",","       \"0 -0.554254  0.000000  0.000000\\n\",","       \"1  2.044001  0.000000  0.000000\\n\",","       \"2 -0.406626  0.000000  0.328056\\n\",","       \"3  1.049602  0.000000  0.622102\\n\",","       \"4  1.905355 -0.260140  0.442188\\n\",","       \"5 -1.217356 -0.355152  0.162520\\n\",","       \"6  0.744739  0.532442  0.946928\"","      ]","     },","     \"execution_count\": 27,","     \"metadata\": {},","     \"output_type\": \"execute_result\"","    }","   ],","   \"source\": [","    \"df.fillna(0)\"","   ]","  },","  {","   \"cell_type\": \"code\",","   \"execution_count\": 29,","   \"id\": \"b8312838-7afb-475a-9db6-13aee9113c93\",","   \"metadata\": {},","   \"outputs\": [","    {","     \"data\": {","      \"text/html\": [","       \"\u003cdiv\u003e\\n\",","       \"\u003cstyle scoped\u003e\\n\",","       \"    .dataframe tbody tr th:only-of-type {\\n\",","       \"        vertical-align: middle;\\n\",","       \"    }\\n\",","       \"\\n\",","       \"    .dataframe tbody tr th {\\n\",","       \"        vertical-align: top;\\n\",","       \"    }\\n\",","       \"\\n\",","       \"    .dataframe thead th {\\n\",","       \"        text-align: right;\\n\",","       \"    }\\n\",","       \"\u003c/style\u003e\\n\",","       \"\u003ctable border=\\\"1\\\" class=\\\"dataframe\\\"\u003e\\n\",","       \"  \u003cthead\u003e\\n\",","       \"    \u003ctr style=\\\"text-align: right;\\\"\u003e\\n\",","       \"      \u003cth\u003e\u003c/th\u003e\\n\",","       \"      \u003cth\u003e0\u003c/th\u003e\\n\",","       \"      \u003cth\u003e1\u003c/th\u003e\\n\",","       \"      \u003cth\u003e2\u003c/th\u003e\\n\",","       \"    \u003c/tr\u003e\\n\",","       \"  \u003c/thead\u003e\\n\",","       \"  \u003ctbody\u003e\\n\",","       \"    \u003ctr\u003e\\n\",","       \"      \u003cth\u003e0\u003c/th\u003e\\n\",","       \"      \u003ctd\u003e-0.554254\u003c/td\u003e\\n\",","       \"      \u003ctd\u003e0.500000\u003c/td\u003e\\n\",","       \"      \u003ctd\u003e0.000000\u003c/td\u003e\\n\",","       \"    \u003c/tr\u003e\\n\",","       \"    \u003ctr\u003e\\n\",","       \"      \u003cth\u003e1\u003c/th\u003e\\n\",","       \"      \u003ctd\u003e2.044001\u003c/td\u003e\\n\",","       \"      \u003ctd\u003e0.500000\u003c/td\u003e\\n\",","       \"      \u003ctd\u003e0.000000\u003c/td\u003e\\n\",","       \"    \u003c/tr\u003e\\n\",","       \"    \u003ctr\u003e\\n\",","       \"      \u003cth\u003e2\u003c/th\u003e\\n\",","       \"      \u003ctd\u003e-0.406626\u003c/td\u003e\\n\",","       \"      \u003ctd\u003e0.500000\u003c/td\u003e\\n\",","       \"      \u003ctd\u003e0.328056\u003c/td\u003e\\n\",","       \"    \u003c/tr\u003e\\n\",","       \"    \u003ctr\u003e\\n\",","       \"      \u003cth\u003e3\u003c/th\u003e\\n\",","       \"      \u003ctd\u003e1.049602\u003c/td\u003e\\n\",","       \"      \u003ctd\u003e0.500000\u003c/td\u003e\\n\",","       \"      \u003ctd\u003e0.622102\u003c/td\u003e\\n\",","       \"    \u003c/tr\u003e\\n\",","       \"    \u003ctr\u003e\\n\",","       \"      \u003cth\u003e4\u003c/th\u003e\\n\",","       \"      \u003ctd\u003e1.905355\u003c/td\u003e\\n\",","       \"      \u003ctd\u003e-0.260140\u003c/td\u003e\\n\",","       \"      \u003ctd\u003e0.442188\u003c/td\u003e\\n\",","       \"    \u003c/tr\u003e\\n\",","       \"    \u003ctr\u003e\\n\",","       \"      \u003cth\u003e5\u003c/th\u003e\\n\",","       \"      \u003ctd\u003e-1.217356\u003c/td\u003e\\n\",","       \"      \u003ctd\u003e-0.355152\u003c/td\u003e\\n\",","       \"      \u003ctd\u003e0.162520\u003c/td\u003e\\n\",","       \"    \u003c/tr\u003e\\n\",","       \"    \u003ctr\u003e\\n\",","       \"      \u003cth\u003e6\u003c/th\u003e\\n\",","       \"      \u003ctd\u003e0.744739\u003c/td\u003e\\n\",","       \"      \u003ctd\u003e0.532442\u003c/td\u003e\\n\",","       \"      \u003ctd\u003e0.946928\u003c/td\u003e\\n\",","       \"    \u003c/tr\u003e\\n\",","       \"  \u003c/tbody\u003e\\n\",","       \"\u003c/table\u003e\\n\",","       \"\u003c/div\u003e\"","      ],","      \"text/plain\": [","       \"          0         1         2\\n\",","       \"0 -0.554254  0.500000  0.000000\\n\",","       \"1  2.044001  0.500000  0.000000\\n\",","       \"2 -0.406626  0.500000  0.328056\\n\",","       \"3  1.049602  0.500000  0.622102\\n\",","       \"4  1.905355 -0.260140  0.442188\\n\",","       \"5 -1.217356 -0.355152  0.162520\\n\",","       \"6  0.744739  0.532442  0.946928\"","      ]","     },","     \"execution_count\": 29,","     \"metadata\": {},","     \"output_type\": \"execute_result\"","    }","   ],","   \"source\": [","    \"df.fillna({1: 0.5, 2: 0})\"","   ]","  },","  {","   \"cell_type\": \"code\",","   \"execution_count\": 31,","   \"id\": \"ed02158e-bd5f-46e0-973c-023d6a8aabc1\",","   \"metadata\": {},","   \"outputs\": [","    {","     \"data\": {","      \"text/html\": [","       \"\u003cdiv\u003e\\n\",","       \"\u003cstyle scoped\u003e\\n\",","       \"    .dataframe tbody tr th:only-of-type {\\n\",","       \"        vertical-align: middle;\\n\",","       \"    }\\n\",","       \"\\n\",","       \"    .dataframe tbody tr th {\\n\",","       \"        vertical-align: top;\\n\",","       \"    }\\n\",","       \"\\n\",","       \"    .dataframe thead th {\\n\",","       \"        text-align: right;\\n\",","       \"    }\\n\",","       \"\u003c/style\u003e\\n\",","       \"\u003ctable border=\\\"1\\\" class=\\\"dataframe\\\"\u003e\\n\",","       \"  \u003cthead\u003e\\n\",","       \"    \u003ctr style=\\\"text-align: right;\\\"\u003e\\n\",","       \"      \u003cth\u003e\u003c/th\u003e\\n\",","       \"      \u003cth\u003e0\u003c/th\u003e\\n\",","       \"      \u003cth\u003e1\u003c/th\u003e\\n\",","       \"      \u003cth\u003e2\u003c/th\u003e\\n\",","       \"    \u003c/tr\u003e\\n\",","       \"  \u003c/thead\u003e\\n\",","       \"  \u003ctbody\u003e\\n\",","       \"    \u003ctr\u003e\\n\",","       \"      \u003cth\u003e0\u003c/th\u003e\\n\",","       \"      \u003ctd\u003e-0.554254\u003c/td\u003e\\n\",","       \"      \u003ctd\u003e-0.260140\u003c/td\u003e\\n\",","       \"      \u003ctd\u003e0.328056\u003c/td\u003e\\n\",","       \"    \u003c/tr\u003e\\n\",","       \"    \u003ctr\u003e\\n\",","       \"      \u003cth\u003e1\u003c/th\u003e\\n\",","       \"      \u003ctd\u003e2.044001\u003c/td\u003e\\n\",","       \"      \u003ctd\u003e-0.260140\u003c/td\u003e\\n\",","       \"      \u003ctd\u003e0.328056\u003c/td\u003e\\n\",","       \"    \u003c/tr\u003e\\n\",","       \"    \u003ctr\u003e\\n\",","       \"      \u003cth\u003e2\u003c/th\u003e\\n\",","       \"      \u003ctd\u003e-0.406626\u003c/td\u003e\\n\",","       \"      \u003ctd\u003e-0.260140\u003c/td\u003e\\n\",","       \"      \u003ctd\u003e0.328056\u003c/td\u003e\\n\",","       \"    \u003c/tr\u003e\\n\",","       \"    \u003ctr\u003e\\n\",","       \"      \u003cth\u003e3\u003c/th\u003e\\n\",","       \"      \u003ctd\u003e1.049602\u003c/td\u003e\\n\",","       \"      \u003ctd\u003e-0.260140\u003c/td\u003e\\n\",","       \"      \u003ctd\u003e0.622102\u003c/td\u003e\\n\",","       \"    \u003c/tr\u003e\\n\",","       \"    \u003ctr\u003e\\n\",","       \"      \u003cth\u003e4\u003c/th\u003e\\n\",","       \"      \u003ctd\u003e1.905355\u003c/td\u003e\\n\",","       \"      \u003ctd\u003e-0.260140\u003c/td\u003e\\n\",","       \"      \u003ctd\u003e0.442188\u003c/td\u003e\\n\",","       \"    \u003c/tr\u003e\\n\",","       \"    \u003ctr\u003e\\n\",","       \"      \u003cth\u003e5\u003c/th\u003e\\n\",","       \"      \u003ctd\u003e-1.217356\u003c/td\u003e\\n\",","       \"      \u003ctd\u003e-0.355152\u003c/td\u003e\\n\",","       \"      \u003ctd\u003e0.162520\u003c/td\u003e\\n\",","       \"    \u003c/tr\u003e\\n\",","       \"    \u003ctr\u003e\\n\",","       \"      \u003cth\u003e6\u003c/th\u003e\\n\",","       \"      \u003ctd\u003e0.744739\u003c/td\u003e\\n\",","       \"      \u003ctd\u003e0.532442\u003c/td\u003e\\n\",","       \"      \u003ctd\u003e0.946928\u003c/td\u003e\\n\",","       \"    \u003c/tr\u003e\\n\",","       \"  \u003c/tbody\u003e\\n\",","       \"\u003c/table\u003e\\n\",","       \"\u003c/div\u003e\"","      ],","      \"text/plain\": [","       \"          0         1         2\\n\",","       \"0 -0.554254 -0.260140  0.328056\\n\",","       \"1  2.044001 -0.260140  0.328056\\n\",","       \"2 -0.406626 -0.260140  0.328056\\n\",","       \"3  1.049602 -0.260140  0.622102\\n\",","       \"4  1.905355 -0.260140  0.442188\\n\",","       \"5 -1.217356 -0.355152  0.162520\\n\",","       \"6  0.744739  0.532442  0.946928\"","      ]","     },","     \"execution_count\": 31,","     \"metadata\": {},","     \"output_type\": \"execute_result\"","    }","   ],","   \"source\": [","    \"df.fillna(method=\\\"bfill\\\")\"","   ]","  },","  {","   \"cell_type\": \"code\",","   \"execution_count\": 32,","   \"id\": \"ff16c212-310c-4287-8318-81050cb0adcf\",","   \"metadata\": {},","   \"outputs\": [","    {","     \"data\": {","      \"text/html\": [","       \"\u003cdiv\u003e\\n\",","       \"\u003cstyle scoped\u003e\\n\",","       \"    .dataframe tbody tr th:only-of-type {\\n\",","       \"        vertical-align: middle;\\n\",","       \"    }\\n\",","       \"\\n\",","       \"    .dataframe tbody tr th {\\n\",","       \"        vertical-align: top;\\n\",","       \"    }\\n\",","       \"\\n\",","       \"    .dataframe thead th {\\n\",","       \"        text-align: right;\\n\",","       \"    }\\n\",","       \"\u003c/style\u003e\\n\",","       \"\u003ctable border=\\\"1\\\" class=\\\"dataframe\\\"\u003e\\n\",","       \"  \u003cthead\u003e\\n\",","       \"    \u003ctr style=\\\"text-align: right;\\\"\u003e\\n\",","       \"      \u003cth\u003e\u003c/th\u003e\\n\",","       \"      \u003cth\u003e0\u003c/th\u003e\\n\",","       \"      \u003cth\u003e1\u003c/th\u003e\\n\",","       \"      \u003cth\u003e2\u003c/th\u003e\\n\",","       \"    \u003c/tr\u003e\\n\",","       \"  \u003c/thead\u003e\\n\",","       \"  \u003ctbody\u003e\\n\",","       \"    \u003ctr\u003e\\n\",","       \"      \u003cth\u003e0\u003c/th\u003e\\n\",","       \"      \u003ctd\u003e-0.554254\u003c/td\u003e\\n\",","       \"      \u003ctd\u003eNaN\u003c/td\u003e\\n\",","       \"      \u003ctd\u003e0.328056\u003c/td\u003e\\n\",","       \"    \u003c/tr\u003e\\n\",","       \"    \u003ctr\u003e\\n\",","       \"      \u003cth\u003e1\u003c/th\u003e\\n\",","       \"      \u003ctd\u003e2.044001\u003c/td\u003e\\n\",","       \"      \u003ctd\u003eNaN\u003c/td\u003e\\n\",","       \"      \u003ctd\u003e0.328056\u003c/td\u003e\\n\",","       \"    \u003c/tr\u003e\\n\",","       \"    \u003ctr\u003e\\n\",","       \"      \u003cth\u003e2\u003c/th\u003e\\n\",","       \"      \u003ctd\u003e-0.406626\u003c/td\u003e\\n\",","       \"      \u003ctd\u003e-0.260140\u003c/td\u003e\\n\",","       \"      \u003ctd\u003e0.328056\u003c/td\u003e\\n\",","       \"    \u003c/tr\u003e\\n\",","       \"    \u003ctr\u003e\\n\",","       \"      \u003cth\u003e3\u003c/th\u003e\\n\",","       \"      \u003ctd\u003e1.049602\u003c/td\u003e\\n\",","       \"      \u003ctd\u003e-0.260140\u003c/td\u003e\\n\",","       \"      \u003ctd\u003e0.622102\u003c/td\u003e\\n\",","       \"    \u003c/tr\u003e\\n\",","       \"    \u003ctr\u003e\\n\",","       \"      \u003cth\u003e4\u003c/th\u003e\\n\",","       \"      \u003ctd\u003e1.905355\u003c/td\u003e\\n\",","       \"      \u003ctd\u003e-0.260140\u003c/td\u003e\\n\",","       \"      \u003ctd\u003e0.442188\u003c/td\u003e\\n\",","       \"    \u003c/tr\u003e\\n\",","       \"    \u003ctr\u003e\\n\",","       \"      \u003cth\u003e5\u003c/th\u003e\\n\",","       \"      \u003ctd\u003e-1.217356\u003c/td\u003e\\n\",","       \"      \u003ctd\u003e-0.355152\u003c/td\u003e\\n\",","       \"      \u003ctd\u003e0.162520\u003c/td\u003e\\n\",","       \"    \u003c/tr\u003e\\n\",","       \"    \u003ctr\u003e\\n\",","       \"      \u003cth\u003e6\u003c/th\u003e\\n\",","       \"      \u003ctd\u003e0.744739\u003c/td\u003e\\n\",","       \"      \u003ctd\u003e0.532442\u003c/td\u003e\\n\",","       \"      \u003ctd\u003e0.946928\u003c/td\u003e\\n\",","       \"    \u003c/tr\u003e\\n\",","       \"  \u003c/tbody\u003e\\n\",","       \"\u003c/table\u003e\\n\",","       \"\u003c/div\u003e\"","      ],","      \"text/plain\": [","       \"          0         1         2\\n\",","       \"0 -0.554254       NaN  0.328056\\n\",","       \"1  2.044001       NaN  0.328056\\n\",","       \"2 -0.406626 -0.260140  0.328056\\n\",","       \"3  1.049602 -0.260140  0.622102\\n\",","       \"4  1.905355 -0.260140  0.442188\\n\",","       \"5 -1.217356 -0.355152  0.162520\\n\",","       \"6  0.744739  0.532442  0.946928\"","      ]","     },","     \"execution_count\": 32,","     \"metadata\": {},","     \"output_type\": \"execute_result\"","    }","   ],","   \"source\": [","    \"df.fillna(method=\\\"bfill\\\", limit=2)\"","   ]","  },","  {","   \"cell_type\": \"code\",","   \"execution_count\": 34,","   \"id\": \"471c602b-8ebb-4b86-b56c-889bb8d6f88e\",","   \"metadata\": {},","   \"outputs\": [","    {","     \"data\": {","      \"text/html\": [","       \"\u003cdiv\u003e\\n\",","       \"\u003cstyle scoped\u003e\\n\",","       \"    .dataframe tbody tr th:only-of-type {\\n\",","       \"        vertical-align: middle;\\n\",","       \"    }\\n\",","       \"\\n\",","       \"    .dataframe tbody tr th {\\n\",","       \"        vertical-align: top;\\n\",","       \"    }\\n\",","       \"\\n\",","       \"    .dataframe thead th {\\n\",","       \"        text-align: right;\\n\",","       \"    }\\n\",","       \"\u003c/style\u003e\\n\",","       \"\u003ctable border=\\\"1\\\" class=\\\"dataframe\\\"\u003e\\n\",","       \"  \u003cthead\u003e\\n\",","       \"    \u003ctr style=\\\"text-align: right;\\\"\u003e\\n\",","       \"      \u003cth\u003e\u003c/th\u003e\\n\",","       \"      \u003cth\u003e0\u003c/th\u003e\\n\",","       \"      \u003cth\u003e1\u003c/th\u003e\\n\",","       \"      \u003cth\u003e2\u003c/th\u003e\\n\",","       \"    \u003c/tr\u003e\\n\",","       \"  \u003c/thead\u003e\\n\",","       \"  \u003ctbody\u003e\\n\",","       \"    \u003ctr\u003e\\n\",","       \"      \u003cth\u003e0\u003c/th\u003e\\n\",","       \"      \u003ctd\u003e-0.554254\u003c/td\u003e\\n\",","       \"      \u003ctd\u003e6.500000\u003c/td\u003e\\n\",","       \"      \u003ctd\u003e3.000000\u003c/td\u003e\\n\",","       \"    \u003c/tr\u003e\\n\",","       \"    \u003ctr\u003e\\n\",","       \"      \u003cth\u003e1\u003c/th\u003e\\n\",","       \"      \u003ctd\u003e2.044001\u003c/td\u003e\\n\",","       \"      \u003ctd\u003e6.500000\u003c/td\u003e\\n\",","       \"      \u003ctd\u003e3.000000\u003c/td\u003e\\n\",","       \"    \u003c/tr\u003e\\n\",","       \"    \u003ctr\u003e\\n\",","       \"      \u003cth\u003e2\u003c/th\u003e\\n\",","       \"      \u003ctd\u003e-0.406626\u003c/td\u003e\\n\",","       \"      \u003ctd\u003e6.500000\u003c/td\u003e\\n\",","       \"      \u003ctd\u003e0.328056\u003c/td\u003e\\n\",","       \"    \u003c/tr\u003e\\n\",","       \"    \u003ctr\u003e\\n\",","       \"      \u003cth\u003e3\u003c/th\u003e\\n\",","       \"      \u003ctd\u003e1.049602\u003c/td\u003e\\n\",","       \"      \u003ctd\u003e6.500000\u003c/td\u003e\\n\",","       \"      \u003ctd\u003e0.622102\u003c/td\u003e\\n\",","       \"    \u003c/tr\u003e\\n\",","       \"    \u003ctr\u003e\\n\",","       \"      \u003cth\u003e4\u003c/th\u003e\\n\",","       \"      \u003ctd\u003e1.905355\u003c/td\u003e\\n\",","       \"      \u003ctd\u003e-0.260140\u003c/td\u003e\\n\",","       \"      \u003ctd\u003e0.442188\u003c/td\u003e\\n\",","       \"    \u003c/tr\u003e\\n\",","       \"    \u003ctr\u003e\\n\",","       \"      \u003cth\u003e5\u003c/th\u003e\\n\",","       \"      \u003ctd\u003e-1.217356\u003c/td\u003e\\n\",","       \"      \u003ctd\u003e-0.355152\u003c/td\u003e\\n\",","       \"      \u003ctd\u003e0.162520\u003c/td\u003e\\n\",","       \"    \u003c/tr\u003e\\n\",","       \"    \u003ctr\u003e\\n\",","       \"      \u003cth\u003e6\u003c/th\u003e\\n\",","       \"      \u003ctd\u003e0.744739\u003c/td\u003e\\n\",","       \"      \u003ctd\u003e0.532442\u003c/td\u003e\\n\",","       \"      \u003ctd\u003e0.946928\u003c/td\u003e\\n\",","       \"    \u003c/tr\u003e\\n\",","       \"  \u003c/tbody\u003e\\n\",","       \"\u003c/table\u003e\\n\",","       \"\u003c/div\u003e\"","      ],","      \"text/plain\": [","       \"          0         1         2\\n\",","       \"0 -0.554254  6.500000  3.000000\\n\",","       \"1  2.044001  6.500000  3.000000\\n\",","       \"2 -0.406626  6.500000  0.328056\\n\",","       \"3  1.049602  6.500000  0.622102\\n\",","       \"4  1.905355 -0.260140  0.442188\\n\",","       \"5 -1.217356 -0.355152  0.162520\\n\",","       \"6  0.744739  0.532442  0.946928\"","      ]","     },","     \"execution_count\": 34,","     \"metadata\": {},","     \"output_type\": \"execute_result\"","    }","   ],","   \"source\": [","    \"df.fillna(data.mean())\"","   ]","  },","  {","   \"cell_type\": \"code\",","   \"execution_count\": 35,","   \"id\": \"19d916b9-2097-48e9-8cd3-36744c37f8a1\",","   \"metadata\": {},","   \"outputs\": [","    {","     \"data\": {","      \"text/html\": [","       \"\u003cdiv\u003e\\n\",","       \"\u003cstyle scoped\u003e\\n\",","       \"    .dataframe tbody tr th:only-of-type {\\n\",","       \"        vertical-align: middle;\\n\",","       \"    }\\n\",","       \"\\n\",","       \"    .dataframe tbody tr th {\\n\",","       \"        vertical-align: top;\\n\",","       \"    }\\n\",","       \"\\n\",","       \"    .dataframe thead th {\\n\",","       \"        text-align: right;\\n\",","       \"    }\\n\",","       \"\u003c/style\u003e\\n\",","       \"\u003ctable border=\\\"1\\\" class=\\\"dataframe\\\"\u003e\\n\",","       \"  \u003cthead\u003e\\n\",","       \"    \u003ctr style=\\\"text-align: right;\\\"\u003e\\n\",","       \"      \u003cth\u003e\u003c/th\u003e\\n\",","       \"      \u003cth\u003e0\u003c/th\u003e\\n\",","       \"      \u003cth\u003e1\u003c/th\u003e\\n\",","       \"      \u003cth\u003e2\u003c/th\u003e\\n\",","       \"    \u003c/tr\u003e\\n\",","       \"  \u003c/thead\u003e\\n\",","       \"  \u003ctbody\u003e\\n\",","       \"    \u003ctr\u003e\\n\",","       \"      \u003cth\u003e0\u003c/th\u003e\\n\",","       \"      \u003ctd\u003e-0.554254\u003c/td\u003e\\n\",","       \"      \u003ctd\u003e6.500000\u003c/td\u003e\\n\",","       \"      \u003ctd\u003e3.000000\u003c/td\u003e\\n\",","       \"    \u003c/tr\u003e\\n\",","       \"    \u003ctr\u003e\\n\",","       \"      \u003cth\u003e1\u003c/th\u003e\\n\",","       \"      \u003ctd\u003e2.044001\u003c/td\u003e\\n\",","       \"      \u003ctd\u003e6.500000\u003c/td\u003e\\n\",","       \"      \u003ctd\u003e3.000000\u003c/td\u003e\\n\",","       \"    \u003c/tr\u003e\\n\",","       \"    \u003ctr\u003e\\n\",","       \"      \u003cth\u003e2\u003c/th\u003e\\n\",","       \"      \u003ctd\u003e-0.406626\u003c/td\u003e\\n\",","       \"      \u003ctd\u003e6.500000\u003c/td\u003e\\n\",","       \"      \u003ctd\u003e0.328056\u003c/td\u003e\\n\",","       \"    \u003c/tr\u003e\\n\",","       \"    \u003ctr\u003e\\n\",","       \"      \u003cth\u003e3\u003c/th\u003e\\n\",","       \"      \u003ctd\u003e1.049602\u003c/td\u003e\\n\",","       \"      \u003ctd\u003e6.500000\u003c/td\u003e\\n\",","       \"      \u003ctd\u003e0.622102\u003c/td\u003e\\n\",","       \"    \u003c/tr\u003e\\n\",","       \"    \u003ctr\u003e\\n\",","       \"      \u003cth\u003e4\u003c/th\u003e\\n\",","       \"      \u003ctd\u003e1.905355\u003c/td\u003e\\n\",","       \"      \u003ctd\u003e-0.260140\u003c/td\u003e\\n\",","       \"      \u003ctd\u003e0.442188\u003c/td\u003e\\n\",","       \"    \u003c/tr\u003e\\n\",","       \"    \u003ctr\u003e\\n\",","       \"      \u003cth\u003e5\u003c/th\u003e\\n\",","       \"      \u003ctd\u003e-1.217356\u003c/td\u003e\\n\",","       \"      \u003ctd\u003e-0.355152\u003c/td\u003e\\n\",","       \"      \u003ctd\u003e0.162520\u003c/td\u003e\\n\",","       \"    \u003c/tr\u003e\\n\",","       \"    \u003ctr\u003e\\n\",","       \"      \u003cth\u003e6\u003c/th\u003e\\n\",","       \"      \u003ctd\u003e0.744739\u003c/td\u003e\\n\",","       \"      \u003ctd\u003e0.532442\u003c/td\u003e\\n\",","       \"      \u003ctd\u003e0.946928\u003c/td\u003e\\n\",","       \"    \u003c/tr\u003e\\n\",","       \"  \u003c/tbody\u003e\\n\",","       \"\u003c/table\u003e\\n\",","       \"\u003c/div\u003e\"","      ],","      \"text/plain\": [","       \"          0         1         2\\n\",","       \"0 -0.554254  6.500000  3.000000\\n\",","       \"1  2.044001  6.500000  3.000000\\n\",","       \"2 -0.406626  6.500000  0.328056\\n\",","       \"3  1.049602  6.500000  0.622102\\n\",","       \"4  1.905355 -0.260140  0.442188\\n\",","       \"5 -1.217356 -0.355152  0.162520\\n\",","       \"6  0.744739  0.532442  0.946928\"","      ]","     },","     \"execution_count\": 35,","     \"metadata\": {},","     \"output_type\": \"execute_result\"","    }","   ],","   \"source\": [","    \"df.fillna(data.median())\"","   ]","  },","  {","   \"cell_type\": \"markdown\",","   \"id\": \"f54a6fa0-7850-44c5-ac95-4919c9c34543\",","   \"metadata\": {},","   \"source\": [","    \"Медиана более устойчива к выбросам\"","   ]","  },","  {","   \"cell_type\": \"code\",","   \"execution_count\": 108,","   \"id\": \"5d3e0083-0e42-4cba-89f2-5a849028bd45\",","   \"metadata\": {},","   \"outputs\": [],","   \"source\": [","    \"data_all = []\\n\",","    \"for i in range(1000):\\n\",","    \"    data = []\\n\",","    \"    for i in range(1000):\\n\",","    \"        if np.random.random() \u003e= 0.90:\\n\",","    \"            data.append(np.random.normal(1, 1, 1)[0])\\n\",","    \"        else:\\n\",","    \"            data.append(np.random.normal(1, 10, 1)[0])\\n\",","    \"    data_all.append(data)\\n\",","    \"    \\n\",","    \"data_all = np.array(data_all)\"","   ]","  },","  {","   \"cell_type\": \"code\",","   \"execution_count\": 109,","   \"id\": \"0f121112-c46d-4685-b4f0-f740a3f694da\",","   \"metadata\": {},","   \"outputs\": [","    {","     \"data\": {","      \"text/plain\": [","       \"\u003cAxesSubplot:\u003e\"","      ]","     },","     \"execution_count\": 109,","     \"metadata\": {},","     \"output_type\": \"execute_result\"","    },","    {","     \"data\": {","      \"image/png\": \"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\\n\",","      \"text/plain\": [","       \"\u003cFigure size 640x480 with 1 Axes\u003e\"","      ]","     },","     \"metadata\": {},","     \"output_type\": \"display_data\"","    }","   ],","   \"source\": [","    \"res = pd.DataFrame({\\\"mean\\\": data_all.mean(axis=1), \\\"median\\\": np.median(data_all, axis=1)})\\n\",","    \"res.boxplot()\"","   ]","  },","  {","   \"cell_type\": \"markdown\",","   \"id\": \"0a66f3df-3654-4e95-b1c3-581b79a03d8e\",","   \"metadata\": {},","   \"source\": [","    \"Создание дополнительного признака\"","   ]","  },","  {","   \"cell_type\": \"code\",","   \"execution_count\": 104,","   \"id\": \"f548a616-1c85-4a73-b970-4ab455e92fa9\",","   \"metadata\": {},","   \"outputs\": [","    {","     \"data\": {","      \"text/html\": [","       \"\u003cdiv\u003e\\n\",","       \"\u003cstyle scoped\u003e\\n\",","       \"    .dataframe tbody tr th:only-of-type {\\n\",","       \"        vertical-align: middle;\\n\",","       \"    }\\n\",","       \"\\n\",","       \"    .dataframe tbody tr th {\\n\",","       \"        vertical-align: top;\\n\",","       \"    }\\n\",","       \"\\n\",","       \"    .dataframe thead th {\\n\",","       \"        text-align: right;\\n\",","       \"    }\\n\",","       \"\u003c/style\u003e\\n\",","       \"\u003ctable border=\\\"1\\\" class=\\\"dataframe\\\"\u003e\\n\",","       \"  \u003cthead\u003e\\n\",","       \"    \u003ctr style=\\\"text-align: right;\\\"\u003e\\n\",","       \"      \u003cth\u003e\u003c/th\u003e\\n\",","       \"      \u003cth\u003e0\u003c/th\u003e\\n\",","       \"      \u003cth\u003e1\u003c/th\u003e\\n\",","       \"      \u003cth\u003e2\u003c/th\u003e\\n\",","       \"      \u003cth\u003e2 is nan\u003c/th\u003e\\n\",","       \"    \u003c/tr\u003e\\n\",","       \"  \u003c/thead\u003e\\n\",","       \"  \u003ctbody\u003e\\n\",","       \"    \u003ctr\u003e\\n\",","       \"      \u003cth\u003e0\u003c/th\u003e\\n\",","       \"      \u003ctd\u003e-0.554254\u003c/td\u003e\\n\",","       \"      \u003ctd\u003eNaN\u003c/td\u003e\\n\",","       \"      \u003ctd\u003eNaN\u003c/td\u003e\\n\",","       \"      \u003ctd\u003e1\u003c/td\u003e\\n\",","       \"    \u003c/tr\u003e\\n\",","       \"    \u003ctr\u003e\\n\",","       \"      \u003cth\u003e1\u003c/th\u003e\\n\",","       \"      \u003ctd\u003e2.044001\u003c/td\u003e\\n\",","       \"      \u003ctd\u003eNaN\u003c/td\u003e\\n\",","       \"      \u003ctd\u003eNaN\u003c/td\u003e\\n\",","       \"      \u003ctd\u003e1\u003c/td\u003e\\n\",","       \"    \u003c/tr\u003e\\n\",","       \"    \u003ctr\u003e\\n\",","       \"      \u003cth\u003e2\u003c/th\u003e\\n\",","       \"      \u003ctd\u003e-0.406626\u003c/td\u003e\\n\",","       \"      \u003ctd\u003eNaN\u003c/td\u003e\\n\",","       \"      \u003ctd\u003e0.328056\u003c/td\u003e\\n\",","       \"      \u003ctd\u003e0\u003c/td\u003e\\n\",","       \"    \u003c/tr\u003e\\n\",","       \"    \u003ctr\u003e\\n\",","       \"      \u003cth\u003e3\u003c/th\u003e\\n\",","       \"      \u003ctd\u003e1.049602\u003c/td\u003e\\n\",","       \"      \u003ctd\u003eNaN\u003c/td\u003e\\n\",","       \"      \u003ctd\u003e0.622102\u003c/td\u003e\\n\",","       \"      \u003ctd\u003e0\u003c/td\u003e\\n\",","       \"    \u003c/tr\u003e\\n\",","       \"    \u003ctr\u003e\\n\",","       \"      \u003cth\u003e4\u003c/th\u003e\\n\",","       \"      \u003ctd\u003e1.905355\u003c/td\u003e\\n\",","       \"      \u003ctd\u003e-0.260140\u003c/td\u003e\\n\",","       \"      \u003ctd\u003e0.442188\u003c/td\u003e\\n\",","       \"      \u003ctd\u003e0\u003c/td\u003e\\n\",","       \"    \u003c/tr\u003e\\n\",","       \"    \u003ctr\u003e\\n\",","       \"      \u003cth\u003e5\u003c/th\u003e\\n\",","       \"      \u003ctd\u003e-1.217356\u003c/td\u003e\\n\",","       \"      \u003ctd\u003e-0.355152\u003c/td\u003e\\n\",","       \"      \u003ctd\u003e0.162520\u003c/td\u003e\\n\",","       \"      \u003ctd\u003e0\u003c/td\u003e\\n\",","       \"    \u003c/tr\u003e\\n\",","       \"    \u003ctr\u003e\\n\",","       \"      \u003cth\u003e6\u003c/th\u003e\\n\",","       \"      \u003ctd\u003e0.744739\u003c/td\u003e\\n\",","       \"      \u003ctd\u003e0.532442\u003c/td\u003e\\n\",","       \"      \u003ctd\u003e0.946928\u003c/td\u003e\\n\",","       \"      \u003ctd\u003e0\u003c/td\u003e\\n\",","       \"    \u003c/tr\u003e\\n\",","       \"  \u003c/tbody\u003e\\n\",","       \"\u003c/table\u003e\\n\",","       \"\u003c/div\u003e\"","      ],","      \"text/plain\": [","       \"          0         1         2  2 is nan\\n\",","       \"0 -0.554254       NaN       NaN         1\\n\",","       \"1  2.044001       NaN       NaN         1\\n\",","       \"2 -0.406626       NaN  0.328056         0\\n\",","       \"3  1.049602       NaN  0.622102         0\\n\",","       \"4  1.905355 -0.260140  0.442188         0\\n\",","       \"5 -1.217356 -0.355152  0.162520         0\\n\",","       \"6  0.744739  0.532442  0.946928         0\"","      ]","     },","     \"execution_count\": 104,","     \"metadata\": {},","     \"output_type\": \"execute_result\"","    }","   ],","   \"source\": [","    \"df[\\\"2 is nan\\\"] = df[2].isna().astype(np.int32)\\n\",","    \"df\"","   ]","  },","  {","   \"cell_type\": \"markdown\",","   \"id\": \"dd342e89-1cf2-4e65-8a94-a47d2294ecfa\",","   \"metadata\": {},","   \"source\": [","    \"Замена значений\"","   ]","  },","  {","   \"cell_type\": \"code\",","   \"execution_count\": 39,","   \"id\": \"964206d0-a401-4142-b794-5a96bcabb24b\",","   \"metadata\": {},","   \"outputs\": [","    {","     \"data\": {","      \"text/plain\": [","       \"0      1.0\\n\",","       \"1   -999.0\\n\",","       \"2      2.0\\n\",","       \"3   -999.0\\n\",","       \"4      4.0\\n\",","       \"5      3.0\\n\",","       \"dtype: float64\"","      ]","     },","     \"execution_count\": 39,","     \"metadata\": {},","     \"output_type\": \"execute_result\"","    }","   ],","   \"source\": [","    \"data = pd.Series([1., -999., 2., -999., 4., 3.])\\n\",","    \"data\"","   ]","  },","  {","   \"cell_type\": \"code\",","   \"execution_count\": 41,","   \"id\": \"211e1cb6-1d23-41b7-bb82-96b75ddef704\",","   \"metadata\": {},","   \"outputs\": [","    {","     \"data\": {","      \"text/plain\": [","       \"0    1.0\\n\",","       \"1    NaN\\n\",","       \"2    2.0\\n\",","       \"3    NaN\\n\",","       \"4    4.0\\n\",","       \"5    3.0\\n\",","       \"dtype: float64\"","      ]","     },","     \"execution_count\": 41,","     \"metadata\": {},","     \"output_type\": \"execute_result\"","    }","   ],","   \"source\": [","    \"data.replace(-999, np.nan)\"","   ]","  },","  {","   \"cell_type\": \"markdown\",","   \"id\": \"ae76bafb-1bea-47af-9887-3b2e7a2cd8b0\",","   \"metadata\": {},","   \"source\": [","    \"# Кодирование признаков\"","   ]","  },","  {","   \"cell_type\": \"markdown\",","   \"id\": \"f7da2248-a7dd-49b4-a211-0541757bdb09\",","   \"metadata\": {},","   \"source\": [","    \"Бинарные факторы: False == 0, True == 1\"","   ]","  },","  {","   \"cell_type\": \"code\",","   \"execution_count\": 118,","   \"id\": \"a8bea040-07c9-4ca3-99c5-ff1cd94051ea\",","   \"metadata\": {},","   \"outputs\": [","    {","     \"data\": {","      \"text/plain\": [","       \"0       male\\n\",","       \"1       male\\n\",","       \"2       male\\n\",","       \"3       male\\n\",","       \"4       male\\n\",","       \"5       male\\n\",","       \"6       male\\n\",","       \"7       male\\n\",","       \"8       male\\n\",","       \"9       male\\n\",","       \"10    female\\n\",","       \"11    female\\n\",","       \"12    female\\n\",","       \"13    female\\n\",","       \"14    female\\n\",","       \"dtype: object\"","      ]","     },","     \"execution_count\": 118,","     \"metadata\": {},","     \"output_type\": \"execute_result\"","    }","   ],","   \"source\": [","    \"data = pd.Series([\\\"male\\\"]*10 + [\\\"female\\\"]*5) \\n\",","    \"data\"","   ]","  },","  {","   \"cell_type\": \"code\",","   \"execution_count\": 122,","   \"id\": \"543531c9-cb85-46bd-8c24-a611bf713d9a\",","   \"metadata\": {},","   \"outputs\": [","    {","     \"data\": {","      \"text/plain\": [","       \"0     1\\n\",","       \"1     1\\n\",","       \"2     1\\n\",","       \"3     1\\n\",","       \"4     1\\n\",","       \"5     1\\n\",","       \"6     1\\n\",","       \"7     1\\n\",","       \"8     1\\n\",","       \"9     1\\n\",","       \"10    0\\n\",","       \"11    0\\n\",","       \"12    0\\n\",","       \"13    0\\n\",","       \"14    0\\n\",","       \"dtype: int32\"","      ]","     },","     \"execution_count\": 122,","     \"metadata\": {},","     \"output_type\": \"execute_result\"","    }","   ],","   \"source\": [","    \"(data == \\\"male\\\").astype(np.int32)\"","   ]","  },","  {","   \"cell_type\": \"markdown\",","   \"id\": \"5efd9dd7-1e25-4a32-8715-4b7ab26c302d\",","   \"metadata\": {},","   \"source\": [","    \"Категориальные факторы: разбиваем по порядку\\n\"","   ]","  },","  {","   \"cell_type\": \"code\",","   \"execution_count\": 139,","   \"id\": \"df80c7f5-70a3-45a4-9949-a77c9b6bdbcc\",","   \"metadata\": {},","   \"outputs\": [","    {","     \"data\": {","      \"text/html\": [","       \"\u003cdiv\u003e\\n\",","       \"\u003cstyle scoped\u003e\\n\",","       \"    .dataframe tbody tr th:only-of-type {\\n\",","       \"        vertical-align: middle;\\n\",","       \"    }\\n\",","       \"\\n\",","       \"    .dataframe tbody tr th {\\n\",","       \"        vertical-align: top;\\n\",","       \"    }\\n\",","       \"\\n\",","       \"    .dataframe thead th {\\n\",","       \"        text-align: right;\\n\",","       \"    }\\n\",","       \"\u003c/style\u003e\\n\",","       \"\u003ctable border=\\\"1\\\" class=\\\"dataframe\\\"\u003e\\n\",","       \"  \u003cthead\u003e\\n\",","       \"    \u003ctr style=\\\"text-align: right;\\\"\u003e\\n\",","       \"      \u003cth\u003e\u003c/th\u003e\\n\",","       \"      \u003cth\u003e0\u003c/th\u003e\\n\",","       \"    \u003c/tr\u003e\\n\",","       \"  \u003c/thead\u003e\\n\",","       \"  \u003ctbody\u003e\\n\",","       \"    \u003ctr\u003e\\n\",","       \"      \u003cth\u003e0\u003c/th\u003e\\n\",","       \"      \u003ctd\u003emoscow\u003c/td\u003e\\n\",","       \"    \u003c/tr\u003e\\n\",","       \"    \u003ctr\u003e\\n\",","       \"      \u003cth\u003e1\u003c/th\u003e\\n\",","       \"      \u003ctd\u003espb\u003c/td\u003e\\n\",","       \"    \u003c/tr\u003e\\n\",","       \"    \u003ctr\u003e\\n\",","       \"      \u003cth\u003e2\u003c/th\u003e\\n\",","       \"      \u003ctd\u003emoscow\u003c/td\u003e\\n\",","       \"    \u003c/tr\u003e\\n\",","       \"    \u003ctr\u003e\\n\",","       \"      \u003cth\u003e3\u003c/th\u003e\\n\",","       \"      \u003ctd\u003espb\u003c/td\u003e\\n\",","       \"    \u003c/tr\u003e\\n\",","       \"    \u003ctr\u003e\\n\",","       \"      \u003cth\u003e4\u003c/th\u003e\\n\",","       \"      \u003ctd\u003espb\u003c/td\u003e\\n\",","       \"    \u003c/tr\u003e\\n\",","       \"    \u003ctr\u003e\\n\",","       \"      \u003cth\u003e5\u003c/th\u003e\\n\",","       \"      \u003ctd\u003espb\u003c/td\u003e\\n\",","       \"    \u003c/tr\u003e\\n\",","       \"    \u003ctr\u003e\\n\",","       \"      \u003cth\u003e6\u003c/th\u003e\\n\",","       \"      \u003ctd\u003etomsk\u003c/td\u003e\\n\",","       \"    \u003c/tr\u003e\\n\",","       \"    \u003ctr\u003e\\n\",","       \"      \u003cth\u003e7\u003c/th\u003e\\n\",","       \"      \u003ctd\u003enovgorod\u003c/td\u003e\\n\",","       \"    \u003c/tr\u003e\\n\",","       \"    \u003ctr\u003e\\n\",","       \"      \u003cth\u003e8\u003c/th\u003e\\n\",","       \"      \u003ctd\u003esamara\u003c/td\u003e\\n\",","       \"    \u003c/tr\u003e\\n\",","       \"    \u003ctr\u003e\\n\",","       \"      \u003cth\u003e9\u003c/th\u003e\\n\",","       \"      \u003ctd\u003esaratov\u003c/td\u003e\\n\",","       \"    \u003c/tr\u003e\\n\",","       \"  \u003c/tbody\u003e\\n\",","       \"\u003c/table\u003e\\n\",","       \"\u003c/div\u003e\"","      ],","      \"text/plain\": [","       \"          0\\n\",","       \"0    moscow\\n\",","       \"1       spb\\n\",","       \"2    moscow\\n\",","       \"3       spb\\n\",","       \"4       spb\\n\",","       \"5       spb\\n\",","       \"6     tomsk\\n\",","       \"7  novgorod\\n\",","       \"8    samara\\n\",","       \"9   saratov\"","      ]","     },","     \"execution_count\": 139,","     \"metadata\": {},","     \"output_type\": \"execute_result\"","    }","   ],","   \"source\": [","    \"from sklearn.preprocessing import OrdinalEncoder, OneHotEncoder\\n\",","    \"\\n\",","    \"df = pd.DataFrame([\\\"moscow\\\", \\\"spb\\\", \\\"moscow\\\", \\\"spb\\\", \\\"spb\\\", \\\"spb\\\", \\\"tomsk\\\", \\\"novgorod\\\", \\\"samara\\\", \\\"saratov\\\"])\\n\",","    \"df\"","   ]","  },","  {","   \"cell_type\": \"code\",","   \"execution_count\": 128,","   \"id\": \"5e8c0002-8501-4b74-aeb9-f913b3285e33\",","   \"metadata\": {},","   \"outputs\": [","    {","     \"data\": {","      \"text/plain\": [","       \"array([[0.],\\n\",","       \"       [4.],\\n\",","       \"       [0.],\\n\",","       \"       [4.],\\n\",","       \"       [4.],\\n\",","       \"       [4.],\\n\",","       \"       [5.],\\n\",","       \"       [1.],\\n\",","       \"       [2.],\\n\",","       \"       [3.]])\"","      ]","     },","     \"execution_count\": 128,","     \"metadata\": {},","     \"output_type\": \"execute_result\"","    }","   ],","   \"source\": [","    \"enc = OrdinalEncoder()\\n\",","    \"enc.fit_transform(df)\"","   ]","  },","  {","   \"cell_type\": \"code\",","   \"execution_count\": 138,","   \"id\": \"7953eede-b601-4538-8f57-9f50c766e289\",","   \"metadata\": {},","   \"outputs\": [","    {","     \"data\": {","      \"text/plain\": [","       \"array([[0.],\\n\",","       \"       [4.],\\n\",","       \"       [0.],\\n\",","       \"       [4.],\\n\",","       \"       [4.],\\n\",","       \"       [4.],\\n\",","       \"       [5.],\\n\",","       \"       [1.],\\n\",","       \"       [2.],\\n\",","       \"       [3.]])\"","      ]","     },","     \"execution_count\": 138,","     \"metadata\": {},","     \"output_type\": \"execute_result\"","    }","   ],","   \"source\": [","    \"enc = OrdinalEncoder()\\n\",","    \"enc.fit_transform(df)\"","   ]","  },","  {","   \"cell_type\": \"markdown\",","   \"id\": \"9e0c4bd5-6a25-42c6-848d-7620991fdf10\",","   \"metadata\": {},","   \"source\": [","    \"Категориальные факторы: разбиваем на много бинарных (one hot encoding)\\n\",","    \"\\n\",","    \"city_is_moscow: 0/1, city_is_spb: 0/1, city_is_tomsk: 0/1 ... \"","   ]","  },","  {","   \"cell_type\": \"code\",","   \"execution_count\": 145,","   \"id\": \"06a71c60-938f-4f11-b39a-b654fd367ced\",","   \"metadata\": {},","   \"outputs\": [","    {","     \"data\": {","      \"text/plain\": [","       \"[array(['moscow', 'novgorod', 'samara', 'saratov', 'spb', 'tomsk'],\\n\",","       \"       dtype=object)]\"","      ]","     },","     \"execution_count\": 145,","     \"metadata\": {},","     \"output_type\": \"execute_result\"","    }","   ],","   \"source\": [","    \"ohe = OneHotEncoder()\\n\",","    \"ohe.fit(df)\\n\",","    \"ohe.categories_\"","   ]","  },","  {","   \"cell_type\": \"code\",","   \"execution_count\": 153,","   \"id\": \"351f24bc-19b1-482e-a25e-f876cd815ec0\",","   \"metadata\": {},","   \"outputs\": [","    {","     \"data\": {","      \"text/html\": [","       \"\u003cdiv\u003e\\n\",","       \"\u003cstyle scoped\u003e\\n\",","       \"    .dataframe tbody tr th:only-of-type {\\n\",","       \"        vertical-align: middle;\\n\",","       \"    }\\n\",","       \"\\n\",","       \"    .dataframe tbody tr th {\\n\",","       \"        vertical-align: top;\\n\",","       \"    }\\n\",","       \"\\n\",","       \"    .dataframe thead tr th {\\n\",","       \"        text-align: left;\\n\",","       \"    }\\n\",","       \"\u003c/style\u003e\\n\",","       \"\u003ctable border=\\\"1\\\" class=\\\"dataframe\\\"\u003e\\n\",","       \"  \u003cthead\u003e\\n\",","       \"    \u003ctr\u003e\\n\",","       \"      \u003cth\u003e\u003c/th\u003e\\n\",","       \"      \u003cth\u003emoscow\u003c/th\u003e\\n\",","       \"      \u003cth\u003enovgorod\u003c/th\u003e\\n\",","       \"      \u003cth\u003esamara\u003c/th\u003e\\n\",","       \"      \u003cth\u003esaratov\u003c/th\u003e\\n\",","       \"      \u003cth\u003espb\u003c/th\u003e\\n\",","       \"      \u003cth\u003etomsk\u003c/th\u003e\\n\",","       \"    \u003c/tr\u003e\\n\",","       \"  \u003c/thead\u003e\\n\",","       \"  \u003ctbody\u003e\\n\",","       \"    \u003ctr\u003e\\n\",","       \"      \u003cth\u003e0\u003c/th\u003e\\n\",","       \"      \u003ctd\u003e1.0\u003c/td\u003e\\n\",","       \"      \u003ctd\u003e0.0\u003c/td\u003e\\n\",","       \"      \u003ctd\u003e0.0\u003c/td\u003e\\n\",","       \"      \u003ctd\u003e0.0\u003c/td\u003e\\n\",","       \"      \u003ctd\u003e0.0\u003c/td\u003e\\n\",","       \"      \u003ctd\u003e0.0\u003c/td\u003e\\n\",","       \"    \u003c/tr\u003e\\n\",","       \"    \u003ctr\u003e\\n\",","       \"      \u003cth\u003e1\u003c/th\u003e\\n\",","       \"      \u003ctd\u003e0.0\u003c/td\u003e\\n\",","       \"      \u003ctd\u003e0.0\u003c/td\u003e\\n\",","       \"      \u003ctd\u003e0.0\u003c/td\u003e\\n\",","       \"      \u003ctd\u003e0.0\u003c/td\u003e\\n\",","       \"      \u003ctd\u003e1.0\u003c/td\u003e\\n\",","       \"      \u003ctd\u003e0.0\u003c/td\u003e\\n\",","       \"    \u003c/tr\u003e\\n\",","       \"    \u003ctr\u003e\\n\",","       \"      \u003cth\u003e2\u003c/th\u003e\\n\",","       \"      \u003ctd\u003e1.0\u003c/td\u003e\\n\",","       \"      \u003ctd\u003e0.0\u003c/td\u003e\\n\",","       \"      \u003ctd\u003e0.0\u003c/td\u003e\\n\",","       \"      \u003ctd\u003e0.0\u003c/td\u003e\\n\",","       \"      \u003ctd\u003e0.0\u003c/td\u003e\\n\",","       \"      \u003ctd\u003e0.0\u003c/td\u003e\\n\",","       \"    \u003c/tr\u003e\\n\",","       \"    \u003ctr\u003e\\n\",","       \"      \u003cth\u003e3\u003c/th\u003e\\n\",","       \"      \u003ctd\u003e0.0\u003c/td\u003e\\n\",","       \"      \u003ctd\u003e0.0\u003c/td\u003e\\n\",","       \"      \u003ctd\u003e0.0\u003c/td\u003e\\n\",","       \"      \u003ctd\u003e0.0\u003c/td\u003e\\n\",","       \"      \u003ctd\u003e1.0\u003c/td\u003e\\n\",","       \"      \u003ctd\u003e0.0\u003c/td\u003e\\n\",","       \"    \u003c/tr\u003e\\n\",","       \"    \u003ctr\u003e\\n\",","       \"      \u003cth\u003e4\u003c/th\u003e\\n\",","       \"      \u003ctd\u003e0.0\u003c/td\u003e\\n\",","       \"      \u003ctd\u003e0.0\u003c/td\u003e\\n\",","       \"      \u003ctd\u003e0.0\u003c/td\u003e\\n\",","       \"      \u003ctd\u003e0.0\u003c/td\u003e\\n\",","       \"      \u003ctd\u003e1.0\u003c/td\u003e\\n\",","       \"      \u003ctd\u003e0.0\u003c/td\u003e\\n\",","       \"    \u003c/tr\u003e\\n\",","       \"    \u003ctr\u003e\\n\",","       \"      \u003cth\u003e5\u003c/th\u003e\\n\",","       \"      \u003ctd\u003e0.0\u003c/td\u003e\\n\",","       \"      \u003ctd\u003e0.0\u003c/td\u003e\\n\",","       \"      \u003ctd\u003e0.0\u003c/td\u003e\\n\",","       \"      \u003ctd\u003e0.0\u003c/td\u003e\\n\",","       \"      \u003ctd\u003e1.0\u003c/td\u003e\\n\",","       \"      \u003ctd\u003e0.0\u003c/td\u003e\\n\",","       \"    \u003c/tr\u003e\\n\",","       \"    \u003ctr\u003e\\n\",","       \"      \u003cth\u003e6\u003c/th\u003e\\n\",","       \"      \u003ctd\u003e0.0\u003c/td\u003e\\n\",","       \"      \u003ctd\u003e0.0\u003c/td\u003e\\n\",","       \"      \u003ctd\u003e0.0\u003c/td\u003e\\n\",","       \"      \u003ctd\u003e0.0\u003c/td\u003e\\n\",","       \"      \u003ctd\u003e0.0\u003c/td\u003e\\n\",","       \"      \u003ctd\u003e1.0\u003c/td\u003e\\n\",","       \"    \u003c/tr\u003e\\n\",","       \"    \u003ctr\u003e\\n\",","       \"      \u003cth\u003e7\u003c/th\u003e\\n\",","       \"      \u003ctd\u003e0.0\u003c/td\u003e\\n\",","       \"      \u003ctd\u003e1.0\u003c/td\u003e\\n\",","       \"      \u003ctd\u003e0.0\u003c/td\u003e\\n\",","       \"      \u003ctd\u003e0.0\u003c/td\u003e\\n\",","       \"      \u003ctd\u003e0.0\u003c/td\u003e\\n\",","       \"      \u003ctd\u003e0.0\u003c/td\u003e\\n\",","       \"    \u003c/tr\u003e\\n\",","       \"    \u003ctr\u003e\\n\",","       \"      \u003cth\u003e8\u003c/th\u003e\\n\",","       \"      \u003ctd\u003e0.0\u003c/td\u003e\\n\",","       \"      \u003ctd\u003e0.0\u003c/td\u003e\\n\",","       \"      \u003ctd\u003e1.0\u003c/td\u003e\\n\",","       \"      \u003ctd\u003e0.0\u003c/td\u003e\\n\",","       \"      \u003ctd\u003e0.0\u003c/td\u003e\\n\",","       \"      \u003ctd\u003e0.0\u003c/td\u003e\\n\",","       \"    \u003c/tr\u003e\\n\",","       \"    \u003ctr\u003e\\n\",","       \"      \u003cth\u003e9\u003c/th\u003e\\n\",","       \"      \u003ctd\u003e0.0\u003c/td\u003e\\n\",","       \"      \u003ctd\u003e0.0\u003c/td\u003e\\n\",","       \"      \u003ctd\u003e0.0\u003c/td\u003e\\n\",","       \"      \u003ctd\u003e1.0\u003c/td\u003e\\n\",","       \"      \u003ctd\u003e0.0\u003c/td\u003e\\n\",","       \"      \u003ctd\u003e0.0\u003c/td\u003e\\n\",","       \"    \u003c/tr\u003e\\n\",","       \"  \u003c/tbody\u003e\\n\",","       \"\u003c/table\u003e\\n\",","       \"\u003c/div\u003e\"","      ],","      \"text/plain\": [","       \"  moscow novgorod samara saratov  spb tomsk\\n\",","       \"0    1.0      0.0    0.0     0.0  0.0   0.0\\n\",","       \"1    0.0      0.0    0.0     0.0  1.0   0.0\\n\",","       \"2    1.0      0.0    0.0     0.0  0.0   0.0\\n\",","       \"3    0.0      0.0    0.0     0.0  1.0   0.0\\n\",","       \"4    0.0      0.0    0.0     0.0  1.0   0.0\\n\",","       \"5    0.0      0.0    0.0     0.0  1.0   0.0\\n\",","       \"6    0.0      0.0    0.0     0.0  0.0   1.0\\n\",","       \"7    0.0      1.0    0.0     0.0  0.0   0.0\\n\",","       \"8    0.0      0.0    1.0     0.0  0.0   0.0\\n\",","       \"9    0.0      0.0    0.0     1.0  0.0   0.0\"","      ]","     },","     \"execution_count\": 153,","     \"metadata\": {},","     \"output_type\": \"execute_result\"","    }","   ],","   \"source\": [","    \"pd.DataFrame(ohe.transform(df).toarray(), columns=ohe.categories_)\"","   ]","  },","  {","   \"cell_type\": \"code\",","   \"execution_count\": 170,","   \"id\": \"676fc95b-dba2-431c-ba5e-6a816a60c465\",","   \"metadata\": {},","   \"outputs\": [","    {","     \"data\": {","      \"text/html\": [","       \"\u003cdiv\u003e\\n\",","       \"\u003cstyle scoped\u003e\\n\",","       \"    .dataframe tbody tr th:only-of-type {\\n\",","       \"        vertical-align: middle;\\n\",","       \"    }\\n\",","       \"\\n\",","       \"    .dataframe tbody tr th {\\n\",","       \"        vertical-align: top;\\n\",","       \"    }\\n\",","       \"\\n\",","       \"    .dataframe thead th {\\n\",","       \"        text-align: right;\\n\",","       \"    }\\n\",","       \"\u003c/style\u003e\\n\",","       \"\u003ctable border=\\\"1\\\" class=\\\"dataframe\\\"\u003e\\n\",","       \"  \u003cthead\u003e\\n\",","       \"    \u003ctr style=\\\"text-align: right;\\\"\u003e\\n\",","       \"      \u003cth\u003e\u003c/th\u003e\\n\",","       \"      \u003cth\u003e0_moscow\u003c/th\u003e\\n\",","       \"      \u003cth\u003e0_novgorod\u003c/th\u003e\\n\",","       \"      \u003cth\u003e0_samara\u003c/th\u003e\\n\",","       \"      \u003cth\u003e0_saratov\u003c/th\u003e\\n\",","       \"      \u003cth\u003e0_spb\u003c/th\u003e\\n\",","       \"      \u003cth\u003e0_tomsk\u003c/th\u003e\\n\",","       \"    \u003c/tr\u003e\\n\",","       \"  \u003c/thead\u003e\\n\",","       \"  \u003ctbody\u003e\\n\",","       \"    \u003ctr\u003e\\n\",","       \"      \u003cth\u003e0\u003c/th\u003e\\n\",","       \"      \u003ctd\u003e1\u003c/td\u003e\\n\",","       \"      \u003ctd\u003e0\u003c/td\u003e\\n\",","       \"      \u003ctd\u003e0\u003c/td\u003e\\n\",","       \"      \u003ctd\u003e0\u003c/td\u003e\\n\",","       \"      \u003ctd\u003e0\u003c/td\u003e\\n\",","       \"      \u003ctd\u003e0\u003c/td\u003e\\n\",","       \"    \u003c/tr\u003e\\n\",","       \"    \u003ctr\u003e\\n\",","       \"      \u003cth\u003e1\u003c/th\u003e\\n\",","       \"      \u003ctd\u003e0\u003c/td\u003e\\n\",","       \"      \u003ctd\u003e0\u003c/td\u003e\\n\",","       \"      \u003ctd\u003e0\u003c/td\u003e\\n\",","       \"      \u003ctd\u003e0\u003c/td\u003e\\n\",","       \"      \u003ctd\u003e1\u003c/td\u003e\\n\",","       \"      \u003ctd\u003e0\u003c/td\u003e\\n\",","       \"    \u003c/tr\u003e\\n\",","       \"    \u003ctr\u003e\\n\",","       \"      \u003cth\u003e2\u003c/th\u003e\\n\",","       \"      \u003ctd\u003e1\u003c/td\u003e\\n\",","       \"      \u003ctd\u003e0\u003c/td\u003e\\n\",","       \"      \u003ctd\u003e0\u003c/td\u003e\\n\",","       \"      \u003ctd\u003e0\u003c/td\u003e\\n\",","       \"      \u003ctd\u003e0\u003c/td\u003e\\n\",","       \"      \u003ctd\u003e0\u003c/td\u003e\\n\",","       \"    \u003c/tr\u003e\\n\",","       \"    \u003ctr\u003e\\n\",","       \"      \u003cth\u003e3\u003c/th\u003e\\n\",","       \"      \u003ctd\u003e0\u003c/td\u003e\\n\",","       \"      \u003ctd\u003e0\u003c/td\u003e\\n\",","       \"      \u003ctd\u003e0\u003c/td\u003e\\n\",","       \"      \u003ctd\u003e0\u003c/td\u003e\\n\",","       \"      \u003ctd\u003e1\u003c/td\u003e\\n\",","       \"      \u003ctd\u003e0\u003c/td\u003e\\n\",","       \"    \u003c/tr\u003e\\n\",","       \"    \u003ctr\u003e\\n\",","       \"      \u003cth\u003e4\u003c/th\u003e\\n\",","       \"      \u003ctd\u003e0\u003c/td\u003e\\n\",","       \"      \u003ctd\u003e0\u003c/td\u003e\\n\",","       \"      \u003ctd\u003e0\u003c/td\u003e\\n\",","       \"      \u003ctd\u003e0\u003c/td\u003e\\n\",","       \"      \u003ctd\u003e1\u003c/td\u003e\\n\",","       \"      \u003ctd\u003e0\u003c/td\u003e\\n\",","       \"    \u003c/tr\u003e\\n\",","       \"    \u003ctr\u003e\\n\",","       \"      \u003cth\u003e5\u003c/th\u003e\\n\",","       \"      \u003ctd\u003e0\u003c/td\u003e\\n\",","       \"      \u003ctd\u003e0\u003c/td\u003e\\n\",","       \"      \u003ctd\u003e0\u003c/td\u003e\\n\",","       \"      \u003ctd\u003e0\u003c/td\u003e\\n\",","       \"      \u003ctd\u003e1\u003c/td\u003e\\n\",","       \"      \u003ctd\u003e0\u003c/td\u003e\\n\",","       \"    \u003c/tr\u003e\\n\",","       \"    \u003ctr\u003e\\n\",","       \"      \u003cth\u003e6\u003c/th\u003e\\n\",","       \"      \u003ctd\u003e0\u003c/td\u003e\\n\",","       \"      \u003ctd\u003e0\u003c/td\u003e\\n\",","       \"      \u003ctd\u003e0\u003c/td\u003e\\n\",","       \"      \u003ctd\u003e0\u003c/td\u003e\\n\",","       \"      \u003ctd\u003e0\u003c/td\u003e\\n\",","       \"      \u003ctd\u003e1\u003c/td\u003e\\n\",","       \"    \u003c/tr\u003e\\n\",","       \"    \u003ctr\u003e\\n\",","       \"      \u003cth\u003e7\u003c/th\u003e\\n\",","       \"      \u003ctd\u003e0\u003c/td\u003e\\n\",","       \"      \u003ctd\u003e1\u003c/td\u003e\\n\",","       \"      \u003ctd\u003e0\u003c/td\u003e\\n\",","       \"      \u003ctd\u003e0\u003c/td\u003e\\n\",","       \"      \u003ctd\u003e0\u003c/td\u003e\\n\",","       \"      \u003ctd\u003e0\u003c/td\u003e\\n\",","       \"    \u003c/tr\u003e\\n\",","       \"    \u003ctr\u003e\\n\",","       \"      \u003cth\u003e8\u003c/th\u003e\\n\",","       \"      \u003ctd\u003e0\u003c/td\u003e\\n\",","       \"      \u003ctd\u003e0\u003c/td\u003e\\n\",","       \"      \u003ctd\u003e1\u003c/td\u003e\\n\",","       \"      \u003ctd\u003e0\u003c/td\u003e\\n\",","       \"      \u003ctd\u003e0\u003c/td\u003e\\n\",","       \"      \u003ctd\u003e0\u003c/td\u003e\\n\",","       \"    \u003c/tr\u003e\\n\",","       \"    \u003ctr\u003e\\n\",","       \"      \u003cth\u003e9\u003c/th\u003e\\n\",","       \"      \u003ctd\u003e0\u003c/td\u003e\\n\",","       \"      \u003ctd\u003e0\u003c/td\u003e\\n\",","       \"      \u003ctd\u003e0\u003c/td\u003e\\n\",","       \"      \u003ctd\u003e1\u003c/td\u003e\\n\",","       \"      \u003ctd\u003e0\u003c/td\u003e\\n\",","       \"      \u003ctd\u003e0\u003c/td\u003e\\n\",","       \"    \u003c/tr\u003e\\n\",","       \"  \u003c/tbody\u003e\\n\",","       \"\u003c/table\u003e\\n\",","       \"\u003c/div\u003e\"","      ],","      \"text/plain\": [","       \"   0_moscow  0_novgorod  0_samara  0_saratov  0_spb  0_tomsk\\n\",","       \"0         1           0         0          0      0        0\\n\",","       \"1         0           0         0          0      1        0\\n\",","       \"2         1           0         0          0      0        0\\n\",","       \"3         0           0         0          0      1        0\\n\",","       \"4         0           0         0          0      1        0\\n\",","       \"5         0           0         0          0      1        0\\n\",","       \"6         0           0         0          0      0        1\\n\",","       \"7         0           1         0          0      0        0\\n\",","       \"8         0           0         1          0      0        0\\n\",","       \"9         0           0         0          1      0        0\"","      ]","     },","     \"execution_count\": 170,","     \"metadata\": {},","     \"output_type\": \"execute_result\"","    }","   ],","   \"source\": [","    \"pd.get_dummies(df)\"","   ]","  },","  {","   \"cell_type\": \"markdown\",","   \"id\": \"4ac6376d-7104-47ec-9145-1b990a83ab04\",","   \"metadata\": {},","   \"source\": [","    \"Цикличные факторы: время дня =\u003e позиция на циферблате =\u003e sin, cos угла\"","   ]","  },","  {","   \"cell_type\": \"markdown\",","   \"id\": \"77eaa6ac-9c12-4927-a822-b53bd93fe492\",","   \"metadata\": {},","   \"source\": [","    \"# Создание новых признаков\"","   ]","  },","  {","   \"cell_type\": \"markdown\",","   \"id\": \"e8febd74-ba38-4fbe-ad6a-0b8a0763f3f6\",","   \"metadata\": {},","   \"source\": [","    \"Полиномиальные признаки\"","   ]","  },","  {","   \"cell_type\": \"code\",","   \"execution_count\": 154,","   \"id\": \"50f5925c-22c8-4899-9ff5-2dd2abbf8dfe\",","   \"metadata\": {},","   \"outputs\": [],","   \"source\": [","    \"from sklearn.preprocessing import PolynomialFeatures\"","   ]","  },","  {","   \"cell_type\": \"code\",","   \"execution_count\": 158,","   \"id\": \"0c66baa7-de9a-449b-9433-2d4cca7b8876\",","   \"metadata\": {},","   \"outputs\": [","    {","     \"data\": {","      \"text/plain\": [","       \"array([[0, 1],\\n\",","       \"       [2, 3],\\n\",","       \"       [4, 5]])\"","      ]","     },","     \"execution_count\": 158,","     \"metadata\": {},","     \"output_type\": \"execute_result\"","    }","   ],","   \"source\": [","    \"X = np.arange(6).reshape(3, 2)\\n\",","    \"X\"","   ]","  },","  {","   \"cell_type\": \"code\",","   \"execution_count\": 157,","   \"id\": \"c86a0668-e323-409d-bd54-8cbdb1947a2e\",","   \"metadata\": {},","   \"outputs\": [","    {","     \"data\": {","      \"text/plain\": [","       \"array([[ 1.,  0.,  1.,  0.,  0.,  1.],\\n\",","       \"       [ 1.,  2.,  3.,  4.,  6.,  9.],\\n\",","       \"       [ 1.,  4.,  5., 16., 20., 25.]])\"","      ]","     },","     \"execution_count\": 157,","     \"metadata\": {},","     \"output_type\": \"execute_result\"","    }","   ],","   \"source\": [","    \"poly = PolynomialFeatures(2)\\n\",","    \"poly.fit_transform(X)\"","   ]","  },","  {","   \"cell_type\": \"markdown\",","   \"id\": \"ac69912d-ee40-457f-b00a-cd27e098bd87\",","   \"metadata\": {},","   \"source\": [","    \"Другие преобразования: sin x, ln x\"","   ]","  },","  {","   \"cell_type\": \"markdown\",","   \"id\": \"32aa6592-4735-49b9-8e86-251e90c57ec8\",","   \"metadata\": {},","   \"source\": [","    \"Дискретизация и группировка по интервалам\"","   ]","  },","  {","   \"cell_type\": \"code\",","   \"execution_count\": 163,","   \"id\": \"3aa1155a-4039-4cfd-b688-74e8090b8311\",","   \"metadata\": {},","   \"outputs\": [","    {","     \"data\": {","      \"text/plain\": [","       \"array([[\u003cAxesSubplot:title={'center':'0'}\u003e]], dtype=object)\"","      ]","     },","     \"execution_count\": 163,","     \"metadata\": {},","     \"output_type\": \"execute_result\"","    },","    {","     \"data\": {","      \"image/png\": \"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\\n\",","      \"text/plain\": [","       \"\u003cFigure size 640x480 with 1 Axes\u003e\"","      ]","     },","     \"metadata\": {},","     \"output_type\": \"display_data\"","    }","   ],","   \"source\": [","    \"ages = [20, 22, 25, 27, 21, 23, 37, 31, 61, 45, 41, 32]\\n\",","    \"pd.DataFrame(ages).hist()\"","   ]","  },","  {","   \"cell_type\": \"code\",","   \"execution_count\": 167,","   \"id\": \"dca07e95-cb46-4c96-ac2e-6362f21a2369\",","   \"metadata\": {},","   \"outputs\": [","    {","     \"data\": {","      \"text/plain\": [","       \"[(18, 25], (18, 25], (18, 25], (25, 35], (18, 25], ..., (25, 35], (60, 100], (35, 60], (35, 60], (25, 35]]\\n\",","       \"Length: 12\\n\",","       \"Categories (4, interval[int64, right]): [(18, 25] \u003c (25, 35] \u003c (35, 60] \u003c (60, 100]]\"","      ]","     },","     \"execution_count\": 167,","     \"metadata\": {},","     \"output_type\": \"execute_result\"","    }","   ],","   \"source\": [","    \"bins = [18, 25, 35, 60, 100]\\n\",","    \"age_categories = pd.cut(ages, bins)\\n\",","    \"age_categories\"","   ]","  },","  {","   \"cell_type\": \"code\",","   \"execution_count\": 169,","   \"id\": \"baa240fe-6b8c-448b-b4da-18d031483166\",","   \"metadata\": {},","   \"outputs\": [","    {","     \"data\": {","      \"text/plain\": [","       \"array([0, 0, 0, 1, 0, 0, 2, 1, 3, 2, 2, 1], dtype=int8)\"","      ]","     },","     \"execution_count\": 169,","     \"metadata\": {},","     \"output_type\": \"execute_result\"","    }","   ],","   \"source\": [","    \"age_categories.codes\"","   ]","  },","  {","   \"cell_type\": \"markdown\",","   \"id\": \"585a6212-f38e-4075-9e22-4db4f63ff738\",","   \"metadata\": {},","   \"source\": [","    \"# Преобразование данных\"","   ]","  },","  {","   \"cell_type\": \"markdown\",","   \"id\": \"2d222c6f-ee6e-4041-9e8b-c25a50398a26\",","   \"metadata\": {},","   \"source\": [","    \"Приведение к единой шкале: StandardScaler, MinMaxScaler\"","   ]","  },","  {","   \"cell_type\": \"code\",","   \"execution_count\": 172,","   \"id\": \"b92a017c-843a-4bcf-afba-285402875a54\",","   \"metadata\": {},","   \"outputs\": [","    {","     \"data\": {","      \"text/plain\": [","       \"array([[0.  , 0.  ],\\n\",","       \"       [0.25, 0.25],\\n\",","       \"       [0.5 , 0.5 ],\\n\",","       \"       [1.  , 1.  ]])\"","      ]","     },","     \"execution_count\": 172,","     \"metadata\": {},","     \"output_type\": \"execute_result\"","    }","   ],","   \"source\": [","    \"from sklearn.preprocessing import MinMaxScaler, StandardScaler\\n\",","    \"data = [[-1, 2], [-0.5, 6], [0, 10], [1, 18]]\\n\",","    \"scaler = MinMaxScaler()\\n\",","    \"scaler.fit_transform(data)\"","   ]","  },","  {","   \"cell_type\": \"code\",","   \"execution_count\": 173,","   \"id\": \"ef46712e-8843-4541-be10-8d70f8ecfbaf\",","   \"metadata\": {},","   \"outputs\": [","    {","     \"data\": {","      \"text/plain\": [","       \"array([[-1.18321596, -1.18321596],\\n\",","       \"       [-0.50709255, -0.50709255],\\n\",","       \"       [ 0.16903085,  0.16903085],\\n\",","       \"       [ 1.52127766,  1.52127766]])\"","      ]","     },","     \"execution_count\": 173,","     \"metadata\": {},","     \"output_type\": \"execute_result\"","    }","   ],","   \"source\": [","    \"scaler = StandardScaler()\\n\",","    \"scaler.fit_transform(data)\"","   ]","  },","  {","   \"cell_type\": \"markdown\",","   \"id\": \"6bcbefe2-9c43-49e3-b8df-573e62d6423b\",","   \"metadata\": {},","   \"source\": [","    \"Логарифмирование, преобразование Бокса-Кокса\"","   ]","  },","  {","   \"cell_type\": \"code\",","   \"execution_count\": 176,","   \"id\": \"604e42de-1f57-41bf-ab4a-593edeeb7590\",","   \"metadata\": {},","   \"outputs\": [","    {","     \"name\": \"stderr\",","     \"output_type\": \"stream\",","     \"text\": [","      \"C:\\\\Users\\\\kotenok\\\\anaconda3\\\\lib\\\\site-packages\\\\seaborn\\\\distributions.py:2619: FutureWarning: `distplot` is a deprecated function and will be removed in a future version. Please adapt your code to use either `displot` (a figure-level function with similar flexibility) or `kdeplot` (an axes-level function for kernel density plots).\\n\",","      \"  warnings.warn(msg, FutureWarning)\\n\"","     ]","    },","    {","     \"data\": {","      \"text/plain\": [","       \"\u003cAxesSubplot:ylabel='Density'\u003e\"","      ]","     },","     \"execution_count\": 176,","     \"metadata\": {},","     \"output_type\": \"execute_result\"","    },","    {","     \"data\": {","      \"image/png\": \"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\\n\",","      \"text/plain\": [","       \"\u003cFigure size 640x480 with 1 Axes\u003e\"","      ]","     },","     \"metadata\": {},","     \"output_type\": \"display_data\"","    }","   ],","   \"source\": [","    \"from scipy. stats import boxcox \\n\",","    \"\\n\",","    \"data = np.random.exponential(size= 1000)\\n\",","    \"sns.distplot(data, hist= False, kde= True)\"","   ]","  },","  {","   \"cell_type\": \"code\",","   \"execution_count\": 179,","   \"id\": \"96781df3-e5ab-46e9-87bb-22a22e307dbb\",","   \"metadata\": {},","   \"outputs\": [","    {","     \"name\": \"stderr\",","     \"output_type\": \"stream\",","     \"text\": [","      \"C:\\\\Users\\\\kotenok\\\\anaconda3\\\\lib\\\\site-packages\\\\seaborn\\\\distributions.py:2619: FutureWarning: `distplot` is a deprecated function and will be removed in a future version. Please adapt your code to use either `displot` (a figure-level function with similar flexibility) or `kdeplot` (an axes-level function for kernel density plots).\\n\",","      \"  warnings.warn(msg, FutureWarning)\\n\"","     ]","    },","    {","     \"data\": {","      \"text/plain\": [","       \"\u003cAxesSubplot:ylabel='Density'\u003e\"","      ]","     },","     \"execution_count\": 179,","     \"metadata\": {},","     \"output_type\": \"execute_result\"","    },","    {","     \"data\": {","      \"image/png\": \"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\\n\",","      \"text/plain\": [","       \"\u003cFigure size 640x480 with 1 Axes\u003e\"","      ]","     },","     \"metadata\": {},","     \"output_type\": \"display_data\"","    }","   ],","   \"source\": [","    \"transformed_data = np.log(data) \\n\",","    \"sns.distplot(transformed_data, hist=False, kde=True)\"","   ]","  },","  {","   \"cell_type\": \"code\",","   \"execution_count\": 180,","   \"id\": \"9a13da8f-35f1-4d08-bc3a-3fb90b302bc2\",","   \"metadata\": {},","   \"outputs\": [","    {","     \"name\": \"stderr\",","     \"output_type\": \"stream\",","     \"text\": [","      \"C:\\\\Users\\\\kotenok\\\\anaconda3\\\\lib\\\\site-packages\\\\seaborn\\\\distributions.py:2619: FutureWarning: `distplot` is a deprecated function and will be removed in a future version. Please adapt your code to use either `displot` (a figure-level function with similar flexibility) or `kdeplot` (an axes-level function for kernel density plots).\\n\",","      \"  warnings.warn(msg, FutureWarning)\\n\"","     ]","    },","    {","     \"data\": {","      \"text/plain\": [","       \"\u003cAxesSubplot:ylabel='Density'\u003e\"","      ]","     },","     \"execution_count\": 180,","     \"metadata\": {},","     \"output_type\": \"execute_result\"","    },","    {","     \"data\": {","      \"image/png\": \"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\\n\",","      \"text/plain\": [","       \"\u003cFigure size 640x480 with 1 Axes\u003e\"","      ]","     },","     \"metadata\": {},","     \"output_type\": \"display_data\"","    }","   ],","   \"source\": [","    \"transformed_data, best_lambda = boxcox(data) \\n\",","    \"\\n\",","    \"sns.distplot(transformed_data, hist=False , kde=True)\"","   ]","  },","  {","   \"cell_type\": \"code\",","   \"execution_count\": 181,","   \"id\": \"e5cdd77b-ad3f-496c-9263-055f4caa1bc9\",","   \"metadata\": {},","   \"outputs\": [","    {","     \"data\": {","      \"text/plain\": [","       \"0.2762186885938159\"","      ]","     },","     \"execution_count\": 181,","     \"metadata\": {},","     \"output_type\": \"execute_result\"","    }","   ],","   \"source\": [","    \"best_lambda\"","   ]","  },","  {","   \"cell_type\": \"markdown\",","   \"id\": \"682fe102-6387-40c9-9dd1-51ce07fdf058\",","   \"metadata\": {},","   \"source\": [","    \"# Домашнее задание\"","   ]","  },","  {","   \"cell_type\": \"code\",","   \"execution_count\": 185,","   \"id\": \"b4fde0e8-d4c8-4c23-99d9-2d84a69425a6\",","   \"metadata\": {},","   \"outputs\": [],","   \"source\": [","    \"df = pd.read_csv(\\\"https://raw.githubusercontent.com/katarina74/ml_lessons/main/lesson_2/data/techparams_train.csv\\\")\"","   ]","  },","  {","   \"cell_type\": \"code\",","   \"execution_count\": 186,","   \"id\": \"2458e2b0-dbac-4061-8c54-6522aad198be\",","   \"metadata\": {},","   \"outputs\": [","    {","     \"data\": {","      \"text/html\": [","       \"\u003cdiv\u003e\\n\",","       \"\u003cstyle scoped\u003e\\n\",","       \"    .dataframe tbody tr th:only-of-type {\\n\",","       \"        vertical-align: middle;\\n\",","       \"    }\\n\",","       \"\\n\",","       \"    .dataframe tbody tr th {\\n\",","       \"        vertical-align: top;\\n\",","       \"    }\\n\",","       \"\\n\",","       \"    .dataframe thead th {\\n\",","       \"        text-align: right;\\n\",","       \"    }\\n\",","       \"\u003c/style\u003e\\n\",","       \"\u003ctable border=\\\"1\\\" class=\\\"dataframe\\\"\u003e\\n\",","       \"  \u003cthead\u003e\\n\",","       \"    \u003ctr style=\\\"text-align: right;\\\"\u003e\\n\",","       \"      \u003cth\u003e\u003c/th\u003e\\n\",","       \"      \u003cth\u003eindex\u003c/th\u003e\\n\",","       \"      \u003cth\u003eback-suspension\u003c/th\u003e\\n\",","       \"      \u003cth\u003ebattery-capacity\u003c/th\u003e\\n\",","       \"      \u003cth\u003echarge-time\u003c/th\u003e\\n\",","       \"      \u003cth\u003ecompression\u003c/th\u003e\\n\",","       \"      \u003cth\u003econsumption-mixed\u003c/th\u003e\\n\",","       \"      \u003cth\u003ecylinders-order\u003c/th\u003e\\n\",","       \"      \u003cth\u003ecylinders-value\u003c/th\u003e\\n\",","       \"      \u003cth\u003eengine-feeding\u003c/th\u003e\\n\",","       \"      \u003cth\u003eengine-start\u003c/th\u003e\\n\",","       \"      \u003cth\u003e...\u003c/th\u003e\\n\",","       \"      \u003cth\u003econfigurations_front-brake\u003c/th\u003e\\n\",","       \"      \u003cth\u003econfigurations_safety-rating\u003c/th\u003e\\n\",","       \"      \u003cth\u003econfigurations_seats\u003c/th\u003e\\n\",","       \"      \u003cth\u003econfigurations_tank-volume\u003c/th\u003e\\n\",","       \"      \u003cth\u003esupergen_year-stop\u003c/th\u003e\\n\",","       \"      \u003cth\u003emodels_country-from\u003c/th\u003e\\n\",","       \"      \u003cth\u003emodels_group\u003c/th\u003e\\n\",","       \"      \u003cth\u003emodels_light-and-commercial\u003c/th\u003e\\n\",","       \"      \u003cth\u003emodels_male\u003c/th\u003e\\n\",","       \"      \u003cth\u003etarget\u003c/th\u003e\\n\",","       \"    \u003c/tr\u003e\\n\",","       \"  \u003c/thead\u003e\\n\",","       \"  \u003ctbody\u003e\\n\",","       \"    \u003ctr\u003e\\n\",","       \"      \u003cth\u003e0\u003c/th\u003e\\n\",","       \"      \u003ctd\u003e0\u003c/td\u003e\\n\",","       \"      \u003ctd\u003e9\u003c/td\u003e\\n\",","       \"      \u003ctd\u003e-1.0\u003c/td\u003e\\n\",","       \"      \u003ctd\u003e36457\u003c/td\u003e\\n\",","       \"      \u003ctd\u003e9.0\u003c/td\u003e\\n\",","       \"      \u003ctd\u003e4.3\u003c/td\u003e\\n\",","       \"      \u003ctd\u003e0\u003c/td\u003e\\n\",","       \"      \u003ctd\u003e3\u003c/td\u003e\\n\",","       \"      \u003ctd\u003e4\u003c/td\u003e\\n\",","       \"      \u003ctd\u003e2006\u003c/td\u003e\\n\",","       \"      \u003ctd\u003e...\u003c/td\u003e\\n\",","       \"      \u003ctd\u003e1\u003c/td\u003e\\n\",","       \"      \u003ctd\u003e2\u003c/td\u003e\\n\",","       \"      \u003ctd\u003e13\u003c/td\u003e\\n\",","       \"      \u003ctd\u003e40.0\u003c/td\u003e\\n\",","       \"      \u003ctd\u003e2018.0\u003c/td\u003e\\n\",","       \"      \u003ctd\u003e16\u003c/td\u003e\\n\",","       \"      \u003ctd\u003e3\u003c/td\u003e\\n\",","       \"      \u003ctd\u003e0\u003c/td\u003e\\n\",","       \"      \u003ctd\u003e1\u003c/td\u003e\\n\",","       \"      \u003ctd\u003e2360\u003c/td\u003e\\n\",","       \"    \u003c/tr\u003e\\n\",","       \"    \u003ctr\u003e\\n\",","       \"      \u003cth\u003e1\u003c/th\u003e\\n\",","       \"      \u003ctd\u003e2\u003c/td\u003e\\n\",","       \"      \u003ctd\u003e3\u003c/td\u003e\\n\",","       \"      \u003ctd\u003e-1.0\u003c/td\u003e\\n\",","       \"      \u003ctd\u003e44872\u003c/td\u003e\\n\",","       \"      \u003ctd\u003e8.0\u003c/td\u003e\\n\",","       \"      \u003ctd\u003e-1.0\u003c/td\u003e\\n\",","       \"      \u003ctd\u003e3\u003c/td\u003e\\n\",","       \"      \u003ctd\u003e7\u003c/td\u003e\\n\",","       \"      \u003ctd\u003e4\u003c/td\u003e\\n\",","       \"      \u003ctd\u003e1982\u003c/td\u003e\\n\",","       \"      \u003ctd\u003e...\u003c/td\u003e\\n\",","       \"      \u003ctd\u003e4\u003c/td\u003e\\n\",","       \"      \u003ctd\u003e2\u003c/td\u003e\\n\",","       \"      \u003ctd\u003e13\u003c/td\u003e\\n\",","       \"      \u003ctd\u003e108.0\u003c/td\u003e\\n\",","       \"      \u003ctd\u003e1993.0\u003c/td\u003e\\n\",","       \"      \u003ctd\u003e34\u003c/td\u003e\\n\",","       \"      \u003ctd\u003e3\u003c/td\u003e\\n\",","       \"      \u003ctd\u003e0\u003c/td\u003e\\n\",","       \"      \u003ctd\u003e1\u003c/td\u003e\\n\",","       \"      \u003ctd\u003e3060\u003c/td\u003e\\n\",","       \"    \u003c/tr\u003e\\n\",","       \"    \u003ctr\u003e\\n\",","       \"      \u003cth\u003e2\u003c/th\u003e\\n\",","       \"      \u003ctd\u003e4\u003c/td\u003e\\n\",","       \"      \u003ctd\u003e3\u003c/td\u003e\\n\",","       \"      \u003ctd\u003e-1.0\u003c/td\u003e\\n\",","       \"      \u003ctd\u003e55927\u003c/td\u003e\\n\",","       \"      \u003ctd\u003e16.0\u003c/td\u003e\\n\",","       \"      \u003ctd\u003e4.2\u003c/td\u003e\\n\",","       \"      \u003ctd\u003e0\u003c/td\u003e\\n\",","       \"      \u003ctd\u003e4\u003c/td\u003e\\n\",","       \"      \u003ctd\u003e5\u003c/td\u003e\\n\",","       \"      \u003ctd\u003e2014\u003c/td\u003e\\n\",","       \"      \u003ctd\u003e...\u003c/td\u003e\\n\",","       \"      \u003ctd\u003e4\u003c/td\u003e\\n\",","       \"      \u003ctd\u003e2\u003c/td\u003e\\n\",","       \"      \u003ctd\u003e13\u003c/td\u003e\\n\",","       \"      \u003ctd\u003e55.0\u003c/td\u003e\\n\",","       \"      \u003ctd\u003e2019.0\u003c/td\u003e\\n\",","       \"      \u003ctd\u003e35\u003c/td\u003e\\n\",","       \"      \u003ctd\u003e3\u003c/td\u003e\\n\",","       \"      \u003ctd\u003e0\u003c/td\u003e\\n\",","       \"      \u003ctd\u003e1\u003c/td\u003e\\n\",","       \"      \u003ctd\u003e2648\u003c/td\u003e\\n\",","       \"    \u003c/tr\u003e\\n\",","       \"    \u003ctr\u003e\\n\",","       \"      \u003cth\u003e3\u003c/th\u003e\\n\",","       \"      \u003ctd\u003e5\u003c/td\u003e\\n\",","       \"      \u003ctd\u003e0\u003c/td\u003e\\n\",","       \"      \u003ctd\u003e-1.0\u003c/td\u003e\\n\",","       \"      \u003ctd\u003e41405\u003c/td\u003e\\n\",","       \"      \u003ctd\u003e10.3\u003c/td\u003e\\n\",","       \"      \u003ctd\u003e-1.0\u003c/td\u003e\\n\",","       \"      \u003ctd\u003e0\u003c/td\u003e\\n\",","       \"      \u003ctd\u003e4\u003c/td\u003e\\n\",","       \"      \u003ctd\u003e4\u003c/td\u003e\\n\",","       \"      \u003ctd\u003e2000\u003c/td\u003e\\n\",","       \"      \u003ctd\u003e...\u003c/td\u003e\\n\",","       \"      \u003ctd\u003e4\u003c/td\u003e\\n\",","       \"      \u003ctd\u003e2\u003c/td\u003e\\n\",","       \"      \u003ctd\u003e13\u003c/td\u003e\\n\",","       \"      \u003ctd\u003e55.0\u003c/td\u003e\\n\",","       \"      \u003ctd\u003e2003.0\u003c/td\u003e\\n\",","       \"      \u003ctd\u003e10\u003c/td\u003e\\n\",","       \"      \u003ctd\u003e3\u003c/td\u003e\\n\",","       \"      \u003ctd\u003e0\u003c/td\u003e\\n\",","       \"      \u003ctd\u003e1\u003c/td\u003e\\n\",","       \"      \u003ctd\u003e2513\u003c/td\u003e\\n\",","       \"    \u003c/tr\u003e\\n\",","       \"    \u003ctr\u003e\\n\",","       \"      \u003cth\u003e4\u003c/th\u003e\\n\",","       \"      \u003ctd\u003e7\u003c/td\u003e\\n\",","       \"      \u003ctd\u003e8\u003c/td\u003e\\n\",","       \"      \u003ctd\u003e-1.0\u003c/td\u003e\\n\",","       \"      \u003ctd\u003e22523\u003c/td\u003e\\n\",","       \"      \u003ctd\u003e19.0\u003c/td\u003e\\n\",","       \"      \u003ctd\u003e-1.0\u003c/td\u003e\\n\",","       \"      \u003ctd\u003e0\u003c/td\u003e\\n\",","       \"      \u003ctd\u003e4\u003c/td\u003e\\n\",","       \"      \u003ctd\u003e8\u003c/td\u003e\\n\",","       \"      \u003ctd\u003e2000\u003c/td\u003e\\n\",","       \"      \u003ctd\u003e...\u003c/td\u003e\\n\",","       \"      \u003ctd\u003e4\u003c/td\u003e\\n\",","       \"      \u003ctd\u003e1\u003c/td\u003e\\n\",","       \"      \u003ctd\u003e13\u003c/td\u003e\\n\",","       \"      \u003ctd\u003e62.0\u003c/td\u003e\\n\",","       \"      \u003ctd\u003e2005.0\u003c/td\u003e\\n\",","       \"      \u003ctd\u003e10\u003c/td\u003e\\n\",","       \"      \u003ctd\u003e3\u003c/td\u003e\\n\",","       \"      \u003ctd\u003e0\u003c/td\u003e\\n\",","       \"      \u003ctd\u003e1\u003c/td\u003e\\n\",","       \"      \u003ctd\u003e2703\u003c/td\u003e\\n\",","       \"    \u003c/tr\u003e\\n\",","       \"    \u003ctr\u003e\\n\",","       \"      \u003cth\u003e...\u003c/th\u003e\\n\",","       \"      \u003ctd\u003e...\u003c/td\u003e\\n\",","       \"      \u003ctd\u003e...\u003c/td\u003e\\n\",","       \"      \u003ctd\u003e...\u003c/td\u003e\\n\",","       \"      \u003ctd\u003e...\u003c/td\u003e\\n\",","       \"      \u003ctd\u003e...\u003c/td\u003e\\n\",","       \"      \u003ctd\u003e...\u003c/td\u003e\\n\",","       \"      \u003ctd\u003e...\u003c/td\u003e\\n\",","       \"      \u003ctd\u003e...\u003c/td\u003e\\n\",","       \"      \u003ctd\u003e...\u003c/td\u003e\\n\",","       \"      \u003ctd\u003e...\u003c/td\u003e\\n\",","       \"      \u003ctd\u003e...\u003c/td\u003e\\n\",","       \"      \u003ctd\u003e...\u003c/td\u003e\\n\",","       \"      \u003ctd\u003e...\u003c/td\u003e\\n\",","       \"      \u003ctd\u003e...\u003c/td\u003e\\n\",","       \"      \u003ctd\u003e...\u003c/td\u003e\\n\",","       \"      \u003ctd\u003e...\u003c/td\u003e\\n\",","       \"      \u003ctd\u003e...\u003c/td\u003e\\n\",","       \"      \u003ctd\u003e...\u003c/td\u003e\\n\",","       \"      \u003ctd\u003e...\u003c/td\u003e\\n\",","       \"      \u003ctd\u003e...\u003c/td\u003e\\n\",","       \"      \u003ctd\u003e...\u003c/td\u003e\\n\",","       \"    \u003c/tr\u003e\\n\",","       \"    \u003ctr\u003e\\n\",","       \"      \u003cth\u003e43240\u003c/th\u003e\\n\",","       \"      \u003ctd\u003e61224\u003c/td\u003e\\n\",","       \"      \u003ctd\u003e9\u003c/td\u003e\\n\",","       \"      \u003ctd\u003e-1.0\u003c/td\u003e\\n\",","       \"      \u003ctd\u003e34558\u003c/td\u003e\\n\",","       \"      \u003ctd\u003e11.2\u003c/td\u003e\\n\",","       \"      \u003ctd\u003e6.6\u003c/td\u003e\\n\",","       \"      \u003ctd\u003e0\u003c/td\u003e\\n\",","       \"      \u003ctd\u003e4\u003c/td\u003e\\n\",","       \"      \u003ctd\u003e4\u003c/td\u003e\\n\",","       \"      \u003ctd\u003e2004\u003c/td\u003e\\n\",","       \"      \u003ctd\u003e...\u003c/td\u003e\\n\",","       \"      \u003ctd\u003e1\u003c/td\u003e\\n\",","       \"      \u003ctd\u003e2\u003c/td\u003e\\n\",","       \"      \u003ctd\u003e13\u003c/td\u003e\\n\",","       \"      \u003ctd\u003e47.0\u003c/td\u003e\\n\",","       \"      \u003ctd\u003e2016.0\u003c/td\u003e\\n\",","       \"      \u003ctd\u003e15\u003c/td\u003e\\n\",","       \"      \u003ctd\u003e3\u003c/td\u003e\\n\",","       \"      \u003ctd\u003e0\u003c/td\u003e\\n\",","       \"      \u003ctd\u003e1\u003c/td\u003e\\n\",","       \"      \u003ctd\u003e2510\u003c/td\u003e\\n\",","       \"    \u003c/tr\u003e\\n\",","       \"    \u003ctr\u003e\\n\",","       \"      \u003cth\u003e43241\u003c/th\u003e\\n\",","       \"      \u003ctd\u003e61225\u003c/td\u003e\\n\",","       \"      \u003ctd\u003e3\u003c/td\u003e\\n\",","       \"      \u003ctd\u003e-1.0\u003c/td\u003e\\n\",","       \"      \u003ctd\u003e38268\u003c/td\u003e\\n\",","       \"      \u003ctd\u003e9.6\u003c/td\u003e\\n\",","       \"      \u003ctd\u003e5.8\u003c/td\u003e\\n\",","       \"      \u003ctd\u003e0\u003c/td\u003e\\n\",","       \"      \u003ctd\u003e4\u003c/td\u003e\\n\",","       \"      \u003ctd\u003e2\u003c/td\u003e\\n\",","       \"      \u003ctd\u003e2013\u003c/td\u003e\\n\",","       \"      \u003ctd\u003e...\u003c/td\u003e\\n\",","       \"      \u003ctd\u003e4\u003c/td\u003e\\n\",","       \"      \u003ctd\u003e2\u003c/td\u003e\\n\",","       \"      \u003ctd\u003e13\u003c/td\u003e\\n\",","       \"      \u003ctd\u003e65.0\u003c/td\u003e\\n\",","       \"      \u003ctd\u003e2015.0\u003c/td\u003e\\n\",","       \"      \u003ctd\u003e10\u003c/td\u003e\\n\",","       \"      \u003ctd\u003e3\u003c/td\u003e\\n\",","       \"      \u003ctd\u003e0\u003c/td\u003e\\n\",","       \"      \u003ctd\u003e1\u003c/td\u003e\\n\",","       \"      \u003ctd\u003e2808\u003c/td\u003e\\n\",","       \"    \u003c/tr\u003e\\n\",","       \"    \u003ctr\u003e\\n\",","       \"      \u003cth\u003e43242\u003c/th\u003e\\n\",","       \"      \u003ctd\u003e61226\u003c/td\u003e\\n\",","       \"      \u003ctd\u003e3\u003c/td\u003e\\n\",","       \"      \u003ctd\u003e-1.0\u003c/td\u003e\\n\",","       \"      \u003ctd\u003e8958\u003c/td\u003e\\n\",","       \"      \u003ctd\u003e10.0\u003c/td\u003e\\n\",","       \"      \u003ctd\u003e9.3\u003c/td\u003e\\n\",","       \"      \u003ctd\u003e0\u003c/td\u003e\\n\",","       \"      \u003ctd\u003e4\u003c/td\u003e\\n\",","       \"      \u003ctd\u003e4\u003c/td\u003e\\n\",","       \"      \u003ctd\u003e1991\u003c/td\u003e\\n\",","       \"      \u003ctd\u003e...\u003c/td\u003e\\n\",","       \"      \u003ctd\u003e4\u003c/td\u003e\\n\",","       \"      \u003ctd\u003e2\u003c/td\u003e\\n\",","       \"      \u003ctd\u003e13\u003c/td\u003e\\n\",","       \"      \u003ctd\u003e55.0\u003c/td\u003e\\n\",","       \"      \u003ctd\u003e1999.0\u003c/td\u003e\\n\",","       \"      \u003ctd\u003e16\u003c/td\u003e\\n\",","       \"      \u003ctd\u003e3\u003c/td\u003e\\n\",","       \"      \u003ctd\u003e0\u003c/td\u003e\\n\",","       \"      \u003ctd\u003e1\u003c/td\u003e\\n\",","       \"      \u003ctd\u003e2520\u003c/td\u003e\\n\",","       \"    \u003c/tr\u003e\\n\",","       \"    \u003ctr\u003e\\n\",","       \"      \u003cth\u003e43243\u003c/th\u003e\\n\",","       \"      \u003ctd\u003e61227\u003c/td\u003e\\n\",","       \"      \u003ctd\u003e3\u003c/td\u003e\\n\",","       \"      \u003ctd\u003e-1.0\u003c/td\u003e\\n\",","       \"      \u003ctd\u003e20293\u003c/td\u003e\\n\",","       \"      \u003ctd\u003e8.5\u003c/td\u003e\\n\",","       \"      \u003ctd\u003e-1.0\u003c/td\u003e\\n\",","       \"      \u003ctd\u003e0\u003c/td\u003e\\n\",","       \"      \u003ctd\u003e5\u003c/td\u003e\\n\",","       \"      \u003ctd\u003e4\u003c/td\u003e\\n\",","       \"      \u003ctd\u003e2002\u003c/td\u003e\\n\",","       \"      \u003ctd\u003e...\u003c/td\u003e\\n\",","       \"      \u003ctd\u003e1\u003c/td\u003e\\n\",","       \"      \u003ctd\u003e2\u003c/td\u003e\\n\",","       \"      \u003ctd\u003e13\u003c/td\u003e\\n\",","       \"      \u003ctd\u003e70.0\u003c/td\u003e\\n\",","       \"      \u003ctd\u003e2004.0\u003c/td\u003e\\n\",","       \"      \u003ctd\u003e28\u003c/td\u003e\\n\",","       \"      \u003ctd\u003e3\u003c/td\u003e\\n\",","       \"      \u003ctd\u003e0\u003c/td\u003e\\n\",","       \"      \u003ctd\u003e1\u003c/td\u003e\\n\",","       \"      \u003ctd\u003e2755\u003c/td\u003e\\n\",","       \"    \u003c/tr\u003e\\n\",","       \"    \u003ctr\u003e\\n\",","       \"      \u003cth\u003e43244\u003c/th\u003e\\n\",","       \"      \u003ctd\u003e61228\u003c/td\u003e\\n\",","       \"      \u003ctd\u003e10\u003c/td\u003e\\n\",","       \"      \u003ctd\u003e-1.0\u003c/td\u003e\\n\",","       \"      \u003ctd\u003e52459\u003c/td\u003e\\n\",","       \"      \u003ctd\u003e8.6\u003c/td\u003e\\n\",","       \"      \u003ctd\u003e-1.0\u003c/td\u003e\\n\",","       \"      \u003ctd\u003e0\u003c/td\u003e\\n\",","       \"      \u003ctd\u003e4\u003c/td\u003e\\n\",","       \"      \u003ctd\u003e4\u003c/td\u003e\\n\",","       \"      \u003ctd\u003e1982\u003c/td\u003e\\n\",","       \"      \u003ctd\u003e...\u003c/td\u003e\\n\",","       \"      \u003ctd\u003e1\u003c/td\u003e\\n\",","       \"      \u003ctd\u003e2\u003c/td\u003e\\n\",","       \"      \u003ctd\u003e8\u003c/td\u003e\\n\",","       \"      \u003ctd\u003e-1.0\u003c/td\u003e\\n\",","       \"      \u003ctd\u003e1987.0\u003c/td\u003e\\n\",","       \"      \u003ctd\u003e16\u003c/td\u003e\\n\",","       \"      \u003ctd\u003e3\u003c/td\u003e\\n\",","       \"      \u003ctd\u003e0\u003c/td\u003e\\n\",","       \"      \u003ctd\u003e0\u003c/td\u003e\\n\",","       \"      \u003ctd\u003e2620\u003c/td\u003e\\n\",","       \"    \u003c/tr\u003e\\n\",","       \"  \u003c/tbody\u003e\\n\",","       \"\u003c/table\u003e\\n\",","       \"\u003cp\u003e43245 rows × 32 columns\u003c/p\u003e\\n\",","       \"\u003c/div\u003e\"","      ],","      \"text/plain\": [","       \"       index  back-suspension  battery-capacity  charge-time  compression  \\\\\\n\",","       \"0          0                9              -1.0        36457          9.0   \\n\",","       \"1          2                3              -1.0        44872          8.0   \\n\",","       \"2          4                3              -1.0        55927         16.0   \\n\",","       \"3          5                0              -1.0        41405         10.3   \\n\",","       \"4          7                8              -1.0        22523         19.0   \\n\",","       \"...      ...              ...               ...          ...          ...   \\n\",","       \"43240  61224                9              -1.0        34558         11.2   \\n\",","       \"43241  61225                3              -1.0        38268          9.6   \\n\",","       \"43242  61226                3              -1.0         8958         10.0   \\n\",","       \"43243  61227                3              -1.0        20293          8.5   \\n\",","       \"43244  61228               10              -1.0        52459          8.6   \\n\",","       \"\\n\",","       \"       consumption-mixed  cylinders-order  cylinders-value  engine-feeding  \\\\\\n\",","       \"0                    4.3                0                3               4   \\n\",","       \"1                   -1.0                3                7               4   \\n\",","       \"2                    4.2                0                4               5   \\n\",","       \"3                   -1.0                0                4               4   \\n\",","       \"4                   -1.0                0                4               8   \\n\",","       \"...                  ...              ...              ...             ...   \\n\",","       \"43240                6.6                0                4               4   \\n\",","       \"43241                5.8                0                4               2   \\n\",","       \"43242                9.3                0                4               4   \\n\",","       \"43243               -1.0                0                5               4   \\n\",","       \"43244               -1.0                0                4               4   \\n\",","       \"\\n\",","       \"       engine-start  ...  configurations_front-brake  \\\\\\n\",","       \"0              2006  ...                           1   \\n\",","       \"1              1982  ...                           4   \\n\",","       \"2              2014  ...                           4   \\n\",","       \"3              2000  ...                           4   \\n\",","       \"4              2000  ...                           4   \\n\",","       \"...             ...  ...                         ...   \\n\",","       \"43240          2004  ...                           1   \\n\",","       \"43241          2013  ...                           4   \\n\",","       \"43242          1991  ...                           4   \\n\",","       \"43243          2002  ...                           1   \\n\",","       \"43244          1982  ...                           1   \\n\",","       \"\\n\",","       \"       configurations_safety-rating  configurations_seats  \\\\\\n\",","       \"0                                 2                    13   \\n\",","       \"1                                 2                    13   \\n\",","       \"2                                 2                    13   \\n\",","       \"3                                 2                    13   \\n\",","       \"4                                 1                    13   \\n\",","       \"...                             ...                   ...   \\n\",","       \"43240                             2                    13   \\n\",","       \"43241                             2                    13   \\n\",","       \"43242                             2                    13   \\n\",","       \"43243                             2                    13   \\n\",","       \"43244                             2                     8   \\n\",","       \"\\n\",","       \"       configurations_tank-volume  supergen_year-stop  models_country-from  \\\\\\n\",","       \"0                            40.0              2018.0                   16   \\n\",","       \"1                           108.0              1993.0                   34   \\n\",","       \"2                            55.0              2019.0                   35   \\n\",","       \"3                            55.0              2003.0                   10   \\n\",","       \"4                            62.0              2005.0                   10   \\n\",","       \"...                           ...                 ...                  ...   \\n\",","       \"43240                        47.0              2016.0                   15   \\n\",","       \"43241                        65.0              2015.0                   10   \\n\",","       \"43242                        55.0              1999.0                   16   \\n\",","       \"43243                        70.0              2004.0                   28   \\n\",","       \"43244                        -1.0              1987.0                   16   \\n\",","       \"\\n\",","       \"       models_group  models_light-and-commercial  models_male  target  \\n\",","       \"0                 3                            0            1    2360  \\n\",","       \"1                 3                            0            1    3060  \\n\",","       \"2                 3                            0            1    2648  \\n\",","       \"3                 3                            0            1    2513  \\n\",","       \"4                 3                            0            1    2703  \\n\",","       \"...             ...                          ...          ...     ...  \\n\",","       \"43240             3                            0            1    2510  \\n\",","       \"43241             3                            0            1    2808  \\n\",","       \"43242             3                            0            1    2520  \\n\",","       \"43243             3                            0            1    2755  \\n\",","       \"43244             3                            0            0    2620  \\n\",","       \"\\n\",","       \"[43245 rows x 32 columns]\"","      ]","     },","     \"execution_count\": 186,","     \"metadata\": {},","     \"output_type\": \"execute_result\"","    }","   ],","   \"source\": [","    \"df\"","   ]","  },","  {","   \"cell_type\": \"markdown\",","   \"id\": \"fdbe8986-3152-4eee-bc60-a83551afee1e\",","   \"metadata\": {},","   \"source\": [","    \"Данные: технические характеристики разных конфигураций автомобилей\\n\",","    \"\\n\",","    \"Таргет: длина колесной базы конфигурации (в миллиметрах).\"","   ]","  },","  {","   \"cell_type\": \"markdown\",","   \"id\": \"bc8d20f3-a6db-4e6c-be0c-d92bfbd393af\",","   \"metadata\": {},","   \"source\": [","    \"## Baseline\"","   ]","  },","  {","   \"cell_type\": \"code\",","   \"execution_count\": 206,","   \"id\": \"22039f8f-d6d8-4998-8ec1-3b83facf013f\",","   \"metadata\": {},","   \"outputs\": [],","   \"source\": [","    \"from sklearn.model_selection import train_test_split\\n\",","    \"from sklearn.linear_model import LinearRegression\\n\",","    \"from sklearn.metrics import mean_squared_error\\n\",","    \"from sklearn.model_selection import cross_validate\"","   ]","  },","  {","   \"cell_type\": \"code\",","   \"execution_count\": 195,","   \"id\": \"261c2445-1dd7-465c-8d43-54556629ff7c\",","   \"metadata\": {},","   \"outputs\": [],","   \"source\": [","    \"X = df.drop([\\\"target\\\"], axis=1)\\n\",","    \"y = df[[\\\"target\\\"]]\\n\",","    \"train_X, test_X, train_y, test_y = train_test_split(X, y, test_size=0.33, random_state=42)\"","   ]","  },","  {","   \"cell_type\": \"code\",","   \"execution_count\": 196,","   \"id\": \"9b2185ba-3b32-4aa6-bcde-6979aa1f3cdb\",","   \"metadata\": {},","   \"outputs\": [],","   \"source\": [","    \"reg = LinearRegression().fit(train_X, train_y)\"","   ]","  },","  {","   \"cell_type\": \"code\",","   \"execution_count\": 204,","   \"id\": \"0c088b49-4516-4abb-820a-aadaaf26b8c5\",","   \"metadata\": {},","   \"outputs\": [","    {","     \"data\": {","      \"text/plain\": [","       \"0.4555406785040046\"","      ]","     },","     \"execution_count\": 204,","     \"metadata\": {},","     \"output_type\": \"execute_result\"","    }","   ],","   \"source\": [","    \"reg.score(train_X, train_y)\"","   ]","  },","  {","   \"cell_type\": \"code\",","   \"execution_count\": 203,","   \"id\": \"06bd1b1d-3d5a-4c8b-aaf2-db6167e88c38\",","   \"metadata\": {},","   \"outputs\": [","    {","     \"data\": {","      \"text/plain\": [","       \"29840.121250865308\"","      ]","     },","     \"execution_count\": 203,","     \"metadata\": {},","     \"output_type\": \"execute_result\"","    }","   ],","   \"source\": [","    \"mean_squared_error(reg.predict(train_X), train_y)\"","   ]","  },","  {","   \"cell_type\": \"code\",","   \"execution_count\": 222,","   \"id\": \"c585389b-8f2a-43c2-82bc-54ce4b2567f8\",","   \"metadata\": {},","   \"outputs\": [],","   \"source\": [","    \"scores = cross_validate(reg, train_X, train_y, cv=3, \\n\",","    \"                        scoring=('neg_mean_squared_error'))\"","   ]","  },","  {","   \"cell_type\": \"code\",","   \"execution_count\": 223,","   \"id\": \"270f6960-1a6b-40f7-b096-8c1a6f28d1e1\",","   \"metadata\": {},","   \"outputs\": [","    {","     \"data\": {","      \"text/plain\": [","       \"{'fit_time': array([0.03420472, 0.03620672, 0.03729057]),\\n\",","       \" 'score_time': array([0.00800133, 0.01301384, 0.00933194]),\\n\",","       \" 'test_score': array([-29836.8590711 , -29618.75539267, -30344.6536926 ])}\"","      ]","     },","     \"execution_count\": 223,","     \"metadata\": {},","     \"output_type\": \"execute_result\"","    }","   ],","   \"source\": [","    \"scores\"","   ]","  },","  {","   \"cell_type\": \"code\",","   \"execution_count\": 224,","   \"id\": \"5d643c2b-41f4-47c8-8eb8-3c2d8aba6a33\",","   \"metadata\": {},","   \"outputs\": [","    {","     \"data\": {","      \"text/plain\": [","       \"31021.024399854454\"","      ]","     },","     \"execution_count\": 224,","     \"metadata\": {},","     \"output_type\": \"execute_result\"","    }","   ],","   \"source\": [","    \"mean_squared_error(reg.predict(test_X), test_y)\"","   ]","  },","  {","   \"cell_type\": \"code\",","   \"execution_count\": null,","   \"id\": \"0a52517d-4ce1-49da-97af-4bfcfa996382\",","   \"metadata\": {},","   \"outputs\": [],","   \"source\": []","  }"," ],"," \"metadata\": {","  \"kernelspec\": {","   \"display_name\": \"Python 3 (ipykernel)\",","   \"language\": \"python\",","   \"name\": \"python3\"","  },","  \"language_info\": {","   \"codemirror_mode\": {","    \"name\": \"ipython\",","    \"version\": 3","   },","   \"file_extension\": \".py\",","   \"mimetype\": \"text/x-python\",","   \"name\": \"python\",","   \"nbconvert_exporter\": \"python\",","   \"pygments_lexer\": \"ipython3\",","   \"version\": \"3.9.13\"","  }"," },"," \"nbformat\": 4,"," \"nbformat_minor\": 5","}"],"stylingDirectives":null,"csv":null,"csvError":null,"dependabotInfo":{"showConfigurationBanner":false,"configFilePath":null,"networkDependabotPath":"/katarina74/ml_lessons/network/updates","dismissConfigurationNoticePath":"/settings/dismiss-notice/dependabot_configuration_notice","configurationNoticeDismissed":false,"repoAlertsPath":"/katarina74/ml_lessons/security/dependabot","repoSecurityAndAnalysisPath":"/katarina74/ml_lessons/settings/security_analysis","repoOwnerIsOrg":false,"currentUserCanAdminRepo":false},"displayName":"lesson_2.ipynb","displayUrl":"https://notebooks.githubusercontent.com/view/ipynb?browser=yandex\u0026bypass_fastly=true\u0026color_mode=auto\u0026commit=ac653f2b2ed438ba416d65754247e7a16f5d8e94\u0026device=unknown_device\u0026docs_host=https%3A%2F%2Fdocs.github.com\u0026enc_url=68747470733a2f2f7261772e67697468756275736572636f6e74656e742e636f6d2f6b61746172696e6137342f6d6c5f6c6573736f6e732f616336353366326232656434333862613431366436353735343234376537613136663564386539342f6c6573736f6e5f322f6c6573736f6e5f322e6970796e62\u0026logged_in=true\u0026nwo=katarina74%2Fml_lessons\u0026path=lesson_2%2Flesson_2.ipynb\u0026platform=windows\u0026repository_id=756390574\u0026repository_type=Repository\u0026version=24","headerInfo":{"blobSize":"202 KB","deleteInfo":{"deleteTooltip":"Fork this repository and delete the file"},"editInfo":{"editTooltip":"Fork this repository and edit the file"},"ghDesktopPath":"x-github-client://openRepo/https://github.com/katarina74/ml_lessons?branch=main\u0026filepath=lesson_2%2Flesson_2.ipynb","gitLfsPath":null,"onBranch":true,"shortPath":"572516f","siteNavLoginPath":"/login?return_to=https%3A%2F%2Fgithub.com%2Fkatarina74%2Fml_lessons%2Fblob%2Fmain%2Flesson_2%2Flesson_2.ipynb","isCSV":false,"isRichtext":false,"toc":null,"lineInfo":{"truncatedLoc":"3466","truncatedSloc":"3466"},"mode":"file"},"image":false,"isCodeownersFile":null,"isPlain":false,"isValidLegacyIssueTemplate":false,"issueTemplateHelpUrl":"https://docs.github.com/articles/about-issue-and-pull-request-templates","issueTemplate":null,"discussionTemplate":null,"language":"Jupyter Notebook","languageID":185,"large":false,"loggedIn":true,"newDiscussionPath":"/katarina74/ml_lessons/discussions/new","newIssuePath":"/katarina74/ml_lessons/issues/new","planSupportInfo":{"repoIsFork":null,"repoOwnedByCurrentUser":null,"requestFullPath":"/katarina74/ml_lessons/blob/main/lesson_2/lesson_2.ipynb","showFreeOrgGatedFeatureMessage":null,"showPlanSupportBanner":null,"upgradeDataAttributes":null,"upgradePath":null},"publishBannersInfo":{"dismissActionNoticePath":"/settings/dismiss-notice/publish_action_from_dockerfile","releasePath":"/katarina74/ml_lessons/releases/new?marketplace=true","showPublishActionBanner":false},"rawBlobUrl":"https://github.com/katarina74/ml_lessons/raw/main/lesson_2/lesson_2.ipynb","renderImageOrRaw":false,"richText":null,"renderedFileInfo":{"identityUUID":"bb0dd26d-dd94-4772-a7ee-e4275e63c75e","renderFileType":"ipynb","size":207153},"shortPath":null,"symbolsEnabled":true,"tabSize":8,"topBannersInfo":{"overridingGlobalFundingFile":false,"globalPreferredFundingPath":null,"repoOwner":"katarina74","repoName":"ml_lessons","showInvalidCitationWarning":false,"citationHelpUrl":"https://docs.github.com/github/creating-cloning-and-archiving-repositories/creating-a-repository-on-github/about-citation-files","showDependabotConfigurationBanner":false,"actionsOnboardingTip":null},"truncated":false,"viewable":true,"workflowRedirectUrl":null,"symbols":{"timed_out":false,"not_analyzed":true,"symbols":[]}},"copilotInfo":{"documentationUrl":"https://docs.github.com/copilot/overview-of-github-copilot/about-github-copilot-for-individuals","notices":{"codeViewPopover":{"dismissed":false,"dismissPath":"/settings/dismiss-notice/code_view_copilot_popover"}},"userAccess":{"accessAllowed":false,"hasSubscriptionEnded":false,"orgHasCFBAccess":false,"userHasCFIAccess":false,"userHasOrgs":false,"userIsOrgAdmin":false,"userIsOrgMember":false,"business":null,"featureRequestInfo":null}},"copilotAccessAllowed":false,"csrf_tokens":{"/katarina74/ml_lessons/branches":{"post":"xmwOeryskAFxgsiwfbTK7PD8gYZbkv1iO84pNGhiJFneCIo4QaTudXJNa1i5PZnGr22P5iZOu-xAOdgRiCUD_A"},"/repos/preferences":{"post":"XQ8z2f0cw-emsBe59TYwbbtBb0cT9Esev_jBvz4vS-aA113F2JTZB9y71_5E0ajTPEWTCEKjYHNdrtsVqk8rUw"}}},"title":"ml_lessons/lesson_2/lesson_2.ipynb at main · katarina74/ml_lessons","appPayload":{"helpUrl":"https://docs.github.com","findFileWorkerPath":"/assets-cdn/worker/find-file-worker-32bb159cc57c.js","findInFileWorkerPath":"/assets-cdn/worker/find-in-file-worker-c6704d501c10.js","githubDevUrl":"https://github.dev/","enabled_features":{"code_nav_ui_events":false,"copilot_conversational_ux":false,"copilot_conversational_ux_embedding_update":false,"copilot_popover_file_editor_header":true,"copilot_smell_icebreaker_ux":false,"copilot_workspace":false}}}</script>
  <div data-target="react-app.reactRoot"><style data-styled="true" data-styled-version="5.3.6">.fNPcqd{font-weight:600;font-size:32px;margin:0;font-size:14px;}/*!sc*/
.imcwCi{font-weight:600;font-size:32px;margin:0;font-size:16px;margin-left:8px;}/*!sc*/
.cgQnMS{font-weight:600;font-size:32px;margin:0;}/*!sc*/
.diwsLq{font-weight:600;font-size:32px;margin:0;font-weight:600;display:inline-block;max-width:100%;font-size:16px;}/*!sc*/
.jAEDJk{font-weight:600;font-size:32px;margin:0;font-weight:600;display:inline-block;max-width:100%;font-size:14px;}/*!sc*/
data-styled.g1[id="Heading__StyledHeading-sc-1c1dgg0-0"]{content:"fNPcqd,imcwCi,cgQnMS,diwsLq,jAEDJk,"}/*!sc*/
.fSWWem{padding:0;}/*!sc*/
.kPPmzM{max-width:100%;margin-left:auto;margin-right:auto;display:-webkit-box;display:-webkit-flex;display:-ms-flexbox;display:flex;-webkit-flex-wrap:wrap;-ms-flex-wrap:wrap;flex-wrap:wrap;}/*!sc*/
.cIAPDV{display:-webkit-box;display:-webkit-flex;display:-ms-flexbox;display:flex;-webkit-flex:1 1 100%;-ms-flex:1 1 100%;flex:1 1 100%;-webkit-flex-wrap:wrap;-ms-flex-wrap:wrap;flex-wrap:wrap;max-width:100%;}/*!sc*/
.gvCnwW{width:100%;}/*!sc*/
@media screen and (min-width:544px){.gvCnwW{width:100%;}}/*!sc*/
@media screen and (min-width:768px){.gvCnwW{width:auto;}}/*!sc*/
.xEgty{display:-webkit-box;display:-webkit-flex;display:-ms-flexbox;display:flex;-webkit-order:1;-ms-flex-order:1;order:1;width:100%;margin-left:0;margin-right:0;-webkit-flex-direction:column;-ms-flex-direction:column;flex-direction:column;margin-bottom:0;min-width:0;}/*!sc*/
@media screen and (min-width:544px){.xEgty{-webkit-flex-direction:column;-ms-flex-direction:column;flex-direction:column;}}/*!sc*/
@media screen and (min-width:768px){.xEgty{width:auto;margin-top:0 !important;margin-bottom:0 !important;position:-webkit-sticky;position:sticky;top:0px;max-height:var(--sticky-pane-height);-webkit-flex-direction:row;-ms-flex-direction:row;flex-direction:row;margin-right:0;}}/*!sc*/
@media screen and (min-width:769px){.xEgty{height:100vh;max-height:100vh !important;}}/*!sc*/
@media print,screen and (max-width:1011px) and (min-width:768px){.xEgty{display:none;}}/*!sc*/
.eUyHuk{margin-left:0;margin-right:0;display:none;margin-top:0;}/*!sc*/
@media screen and (min-width:768px){.eUyHuk{margin-left:0 !important;margin-right:0 !important;}}/*!sc*/
.gNdDUH{--pane-min-width:256px;--pane-max-width-diff:511px;--pane-max-width:calc(100vw - var(--pane-max-width-diff));width:100%;padding:0;}/*!sc*/
@media screen and (min-width:544px){}/*!sc*/
@media screen and (min-width:768px){.gNdDUH{width:clamp(var(--pane-min-width),var(--pane-width),var(--pane-max-width));overflow:auto;}}/*!sc*/
@media screen and (min-width:1280px){.gNdDUH{--pane-max-width-diff:959px;}}/*!sc*/
.jywUSN{max-height:100%;height:100%;display:-webkit-box;display:-webkit-flex;display:-ms-flexbox;display:flex;-webkit-flex-direction:column;-ms-flex-direction:column;flex-direction:column;}/*!sc*/
@media screen and (max-width:768px){.jywUSN{display:none;}}/*!sc*/
@media screen and (min-width:768px){.jywUSN{max-height:100vh;height:100vh;}}/*!sc*/
.hBSSUC{display:-webkit-box;display:-webkit-flex;display:-ms-flexbox;display:flex;-webkit-flex-direction:column;-ms-flex-direction:column;flex-direction:column;-webkit-align-items:center;-webkit-box-align:center;-ms-flex-align:center;align-items:center;padding-left:16px;padding-right:16px;padding-bottom:8px;padding-top:16px;}/*!sc*/
.iPurHz{display:-webkit-box;display:-webkit-flex;display:-ms-flexbox;display:flex;width:100%;margin-bottom:16px;-webkit-align-items:center;-webkit-box-align:center;-ms-flex-align:center;align-items:center;}/*!sc*/
.kkrdEu{-webkit-box-pack:center;-webkit-justify-content:center;-ms-flex-pack:center;justify-content:center;}/*!sc*/
.trpoQ{display:-webkit-box;display:-webkit-flex;display:-ms-flexbox;display:flex;pointer-events:none;}/*!sc*/
.hVHHYa{margin-left:24px;margin-right:24px;display:-webkit-box;display:-webkit-flex;display:-ms-flexbox;display:flex;width:100%;}/*!sc*/
.idZfsJ{-webkit-box-flex:1;-webkit-flex-grow:1;-ms-flex-positive:1;flex-grow:1;}/*!sc*/
.bKgizp{display:-webkit-box;display:-webkit-flex;display:-ms-flexbox;display:flex;width:100%;}/*!sc*/
.dIAShY{margin-right:4px;color:var(--fgColor-muted,var(--color-fg-muted,#848d97));}/*!sc*/
.caeYDk{font-size:14px;min-width:0;overflow:hidden;text-overflow:ellipsis;white-space:nowrap;}/*!sc*/
.jahcnb{margin-left:8px;white-space:nowrap;}/*!sc*/
.jahcnb:hover button:not(:hover){border-left-color:var(--button-default-borderColor-hover,var(--color-btn-hover-border));}/*!sc*/
.ccToMy{margin-left:16px;margin-right:16px;margin-bottom:12px;}/*!sc*/
@media screen and (max-width:768px){.ccToMy{display:none;}}/*!sc*/
.cNvKlH{margin-right:-6px;}/*!sc*/
.cLfAnm{-webkit-box-flex:1;-webkit-flex-grow:1;-ms-flex-positive:1;flex-grow:1;max-height:100% !important;overflow-y:auto;-webkit-scrollbar-gutter:stable;-moz-scrollbar-gutter:stable;-ms-scrollbar-gutter:stable;scrollbar-gutter:stable;}/*!sc*/
@media screen and (max-width:768px){.cLfAnm{display:none;}}/*!sc*/
.erWCJP{padding-left:16px;padding-right:16px;padding-bottom:8px;}/*!sc*/
.hAeDYA{height:100%;position:relative;display:none;margin-left:0;}/*!sc*/
.bTSsYt{position:absolute;inset:0 -2px;cursor:col-resize;background-color:transparent;-webkit-transition-delay:0.1s;transition-delay:0.1s;}/*!sc*/
.bTSsYt:hover{background-color:var(--borderColor-neutral-muted,var(--color-neutral-muted,rgba(110,118,129,0.4)));}/*!sc*/
.emFMJu{display:-webkit-box;display:-webkit-flex;display:-ms-flexbox;display:flex;-webkit-flex-direction:column;-ms-flex-direction:column;flex-direction:column;-webkit-order:2;-ms-flex-order:2;order:2;-webkit-flex-basis:0;-ms-flex-preferred-size:0;flex-basis:0;-webkit-box-flex:1;-webkit-flex-grow:1;-ms-flex-positive:1;flex-grow:1;-webkit-flex-shrink:1;-ms-flex-negative:1;flex-shrink:1;min-width:1px;margin-right:auto;}/*!sc*/
@media print{.emFMJu{display:-webkit-box !important;display:-webkit-flex !important;display:-ms-flexbox !important;display:flex !important;}}/*!sc*/
.hlUAHL{width:100%;max-width:100%;margin-left:auto;margin-right:auto;-webkit-box-flex:1;-webkit-flex-grow:1;-ms-flex-positive:1;flex-grow:1;padding:0;}/*!sc*/
.iStsmI{margin-left:auto;margin-right:auto;-webkit-flex-direction:column;-ms-flex-direction:column;flex-direction:column;padding-bottom:40px;max-width:100%;margin-top:0;}/*!sc*/
.eIgvIk{display:inherit;}/*!sc*/
.eVFfWF{width:100%;}/*!sc*/
.kgXdnT{padding:16px;padding-bottom:0;}/*!sc*/
.kzTa-dF{display:-webkit-box;display:-webkit-flex;display:-ms-flexbox;display:flex;-webkit-flex-direction:column;-ms-flex-direction:column;flex-direction:column;-webkit-box-pack:justify;-webkit-justify-content:space-between;-ms-flex-pack:justify;justify-content:space-between;gap:16px;width:100%;}/*!sc*/
.bbXCl{display:-webkit-box;display:-webkit-flex;display:-ms-flexbox;display:flex;-webkit-flex-direction:row;-ms-flex-direction:row;flex-direction:row;-webkit-align-items:start;-webkit-box-align:start;-ms-flex-align:start;align-items:start;-webkit-box-pack:justify;-webkit-justify-content:space-between;-ms-flex-pack:justify;justify-content:space-between;}/*!sc*/
.hGGMNu{display:-webkit-box;display:-webkit-flex;display:-ms-flexbox;display:flex;-webkit-flex-direction:row;-ms-flex-direction:row;flex-direction:row;-webkit-align-items:start;-webkit-box-align:start;-ms-flex-align:start;align-items:start;-webkit-box-pack:justify;-webkit-justify-content:space-between;-ms-flex-pack:justify;justify-content:space-between;justify-self:flex-end;}/*!sc*/
.eHRrYV{margin-left:8px;margin-right:8px;}/*!sc*/
.dKmYfk{font-size:14px;min-width:0;max-width:125px;overflow:hidden;text-overflow:ellipsis;white-space:nowrap;}/*!sc*/
.hSNzKh{justify-self:end;max-width:100%;}/*!sc*/
.eTvGbF{display:-webkit-box;display:-webkit-flex;display:-ms-flexbox;display:flex;-webkit-flex-direction:row;-ms-flex-direction:row;flex-direction:row;font-size:16px;min-width:0;-webkit-flex-shrink:1;-ms-flex-negative:1;flex-shrink:1;-webkit-flex-wrap:wrap;-ms-flex-wrap:wrap;flex-wrap:wrap;max-width:100%;-webkit-align-items:center;-webkit-box-align:center;-ms-flex-align:center;align-items:center;}/*!sc*/
.kzRgrI{max-width:100%;}/*!sc*/
.cmAPIB{max-width:100%;list-style:none;display:inline-block;}/*!sc*/
.jwXCBK{display:inline-block;max-width:100%;}/*!sc*/
.bDwCYs{padding:16px;padding-bottom:0;padding-left:16px;padding-right:16px;}/*!sc*/
.fywjmm{display:-webkit-box;display:-webkit-flex;display:-ms-flexbox;display:flex;gap:8px;-webkit-flex-direction:column;-ms-flex-direction:column;flex-direction:column;width:100%;}/*!sc*/
.dyczTK{display:-webkit-box;display:-webkit-flex;display:-ms-flexbox;display:flex;-webkit-align-items:start;-webkit-box-align:start;-ms-flex-align:start;align-items:start;-webkit-box-pack:justify;-webkit-justify-content:space-between;-ms-flex-pack:justify;justify-content:space-between;gap:8px;}/*!sc*/
.kszRgZ{-webkit-align-self:center;-ms-flex-item-align:center;align-self:center;display:-webkit-box;display:-webkit-flex;display:-ms-flexbox;display:flex;padding-right:8px;min-width:0;}/*!sc*/
.gtBUEp{min-height:32px;display:-webkit-box;display:-webkit-flex;display:-ms-flexbox;display:flex;-webkit-align-items:start;-webkit-box-align:start;-ms-flex-align:start;align-items:start;}/*!sc*/
.hVZtwF{margin-left:16px;margin-right:16px;}/*!sc*/
.cMYnca{display:-webkit-box;display:-webkit-flex;display:-ms-flexbox;display:flex;-webkit-flex-direction:column;-ms-flex-direction:column;flex-direction:column;}/*!sc*/
.dPsqPZ{display:-webkit-box;display:-webkit-flex;display:-ms-flexbox;display:flex;-webkit-flex-direction:column;-ms-flex-direction:column;flex-direction:column;border:1px solid;border-color:var(--borderColor-default,var(--color-border-default,#30363d));border-radius:6px;margin-bottom:16px;}/*!sc*/
.eYedVD{display:-webkit-box;display:-webkit-flex;display:-ms-flexbox;display:flex;-webkit-flex-direction:row;-ms-flex-direction:row;flex-direction:row;-webkit-box-pack:justify;-webkit-justify-content:space-between;-ms-flex-pack:justify;justify-content:space-between;-webkit-align-items:center;-webkit-box-align:center;-ms-flex-align:center;align-items:center;gap:8px;min-width:273px;padding-right:8px;padding-left:16px;padding-top:8px;padding-bottom:8px;}/*!sc*/
.jGfYmh{display:-webkit-box;display:-webkit-flex;display:-ms-flexbox;display:flex;gap:8px;}/*!sc*/
.lhFvfi{display:-webkit-box;display:-webkit-flex;display:-ms-flexbox;display:flex;-webkit-align-items:center;-webkit-box-align:center;-ms-flex-align:center;align-items:center;}/*!sc*/
.bqgLjk{display:inherit;}/*!sc*/
@media screen and (min-width:544px){.bqgLjk{display:none;}}/*!sc*/
@media screen and (min-width:768px){.bqgLjk{display:none;}}/*!sc*/
.iJmJly{display:-webkit-box;display:-webkit-flex;display:-ms-flexbox;display:flex;-webkit-flex-direction:row;-ms-flex-direction:row;flex-direction:row;}/*!sc*/
.jACbi{width:100%;height:-webkit-fit-content;height:-moz-fit-content;height:fit-content;min-width:0;margin-right:0;}/*!sc*/
.gIJuDf{height:40px;padding-left:4px;padding-bottom:16px;}/*!sc*/
.fleZSW{-webkit-align-items:center;-webkit-box-align:center;-ms-flex-align:center;align-items:center;}/*!sc*/
.dVVHlo{font-size:12px;-webkit-flex:auto;-ms-flex:auto;flex:auto;padding-right:16px;color:var(--fgColor-muted,var(--color-fg-muted,#848d97));min-width:0;}/*!sc*/
.VHzRk{top:0px;z-index:4;background:var(--bgColor-default,var(--color-canvas-default));position:-webkit-sticky;position:sticky;}/*!sc*/
.ePiodO{display:-webkit-box;display:-webkit-flex;display:-ms-flexbox;display:flex;-webkit-flex-direction:column;-ms-flex-direction:column;flex-direction:column;width:100%;position:absolute;}/*!sc*/
.kQJlnf{display:none;min-width:0;padding-top:8px;padding-bottom:8px;}/*!sc*/
.gJICKO{margin-right:8px;margin-left:16px;text-overflow:ellipsis;overflow:hidden;display:-webkit-box;display:-webkit-flex;display:-ms-flexbox;display:flex;-webkit-flex-direction:row;-ms-flex-direction:row;flex-direction:row;-webkit-align-items:center;-webkit-box-align:center;-ms-flex-align:center;align-items:center;-webkit-box-pack:justify;-webkit-justify-content:space-between;-ms-flex-pack:justify;justify-content:space-between;width:100%;}/*!sc*/
.iZJewz{display:-webkit-box;display:-webkit-flex;display:-ms-flexbox;display:flex;-webkit-flex-direction:row;-ms-flex-direction:row;flex-direction:row;font-size:14px;min-width:0;-webkit-flex-shrink:1;-ms-flex-negative:1;flex-shrink:1;-webkit-flex-wrap:wrap;-ms-flex-wrap:wrap;flex-wrap:wrap;max-width:100%;-webkit-align-items:center;-webkit-box-align:center;-ms-flex-align:center;align-items:center;}/*!sc*/
.jtQniD{padding-left:8px;padding-top:8px;padding-bottom:8px;display:-webkit-box;display:-webkit-flex;display:-ms-flexbox;display:flex;-webkit-flex:1;-ms-flex:1;flex:1;-webkit-align-items:center;-webkit-box-align:center;-ms-flex-align:center;align-items:center;-webkit-box-pack:justify;-webkit-justify-content:space-between;-ms-flex-pack:justify;justify-content:space-between;background-color:var(--bgColor-muted,var(--color-canvas-subtle,#161b22));border:1px solid var(--borderColor-default,var(--color-border-default));border-radius:6px 6px 0px 0px;}/*!sc*/
.bfkNRF{display:-webkit-box;display:-webkit-flex;display:-ms-flexbox;display:flex;-webkit-align-items:center;-webkit-box-align:center;-ms-flex-align:center;align-items:center;gap:8px;min-width:0;}/*!sc*/
.fXBLEV{display:block;position:relative;-webkit-box-flex:1;-webkit-flex-grow:1;-ms-flex-positive:1;flex-grow:1;margin-top:-1px;margin-bottom:-1px;--separator-color:transparent;}/*!sc*/
.fXBLEV:not(:last-child){margin-right:1px;}/*!sc*/
.fXBLEV:not(:last-child):after{background-color:var(--separator-color);content:"";position:absolute;right:-2px;top:8px;bottom:8px;width:1px;}/*!sc*/
.fXBLEV:focus-within:has(:focus-visible){--separator-color:transparent;}/*!sc*/
.fXBLEV:first-child{margin-left:-1px;}/*!sc*/
.fXBLEV:last-child{margin-right:-1px;}/*!sc*/
.illvPQ{display:block;position:relative;-webkit-box-flex:1;-webkit-flex-grow:1;-ms-flex-positive:1;flex-grow:1;margin-top:-1px;margin-bottom:-1px;--separator-color:var(--borderColor-default,var(--color-border-default,#30363d));}/*!sc*/
.illvPQ:not(:last-child){margin-right:1px;}/*!sc*/
.illvPQ:not(:last-child):after{background-color:var(--separator-color);content:"";position:absolute;right:-2px;top:8px;bottom:8px;width:1px;}/*!sc*/
.illvPQ:focus-within:has(:focus-visible){--separator-color:transparent;}/*!sc*/
.illvPQ:first-child{margin-left:-1px;}/*!sc*/
.illvPQ:last-child{margin-right:-1px;}/*!sc*/
.iBylDf{display:-webkit-box;display:-webkit-flex;display:-ms-flexbox;display:flex;-webkit-align-items:center;-webkit-box-align:center;-ms-flex-align:center;align-items:center;gap:8px;margin-right:8px;}/*!sc*/
.kSGBPx{gap:8px;}/*!sc*/
.jMJFjm{border:1px solid;border-top:none;border-color:var(--borderColor-default,var(--color-border-default,#30363d));border-radius:0px 0px 6px 6px;min-width:273px;}/*!sc*/
.eJsjkT{background-color:var(--bgColor-default,var(--color-canvas-default));border:0px;border-width:0;border-radius:0px 0px 6px 6px;padding:0;min-width:0;margin-top:46px;overflow:auto;}/*!sc*/
.aZrVR{position:fixed;top:0;right:0;height:100%;width:15px;-webkit-transition:-webkit-transform 0.3s;-webkit-transition:transform 0.3s;transition:transform 0.3s;z-index:1;}/*!sc*/
.aZrVR:hover{-webkit-transform:scaleX(1.5);-ms-transform:scaleX(1.5);transform:scaleX(1.5);}/*!sc*/
.bAzdCq{display:-webkit-box;display:-webkit-flex;display:-ms-flexbox;display:flex;-webkit-flex-direction:column;-ms-flex-direction:column;flex-direction:column;-webkit-align-items:center;-webkit-box-align:center;-ms-flex-align:center;align-items:center;padding-top:16px;padding-bottom:16px;}/*!sc*/
data-styled.g2[id="Box-sc-g0xbh4-0"]{content:"fSWWem,kPPmzM,cIAPDV,gvCnwW,xEgty,eUyHuk,gNdDUH,jywUSN,hBSSUC,iPurHz,kkrdEu,trpoQ,hVHHYa,idZfsJ,bKgizp,dIAShY,caeYDk,jahcnb,ccToMy,cNvKlH,cLfAnm,erWCJP,hAeDYA,bTSsYt,emFMJu,hlUAHL,iStsmI,eIgvIk,eVFfWF,kgXdnT,kzTa-dF,bbXCl,hGGMNu,eHRrYV,dKmYfk,hSNzKh,eTvGbF,kzRgrI,cmAPIB,jwXCBK,bDwCYs,fywjmm,dyczTK,kszRgZ,gtBUEp,hVZtwF,cMYnca,dPsqPZ,eYedVD,jGfYmh,lhFvfi,bqgLjk,iJmJly,jACbi,gIJuDf,fleZSW,dVVHlo,VHzRk,ePiodO,kQJlnf,gJICKO,iZJewz,jtQniD,bfkNRF,fXBLEV,illvPQ,iBylDf,kSGBPx,jMJFjm,eJsjkT,aZrVR,bAzdCq,"}/*!sc*/
body[data-page-layout-dragging="true"]{cursor:col-resize;}/*!sc*/
body[data-page-layout-dragging="true"] *{-webkit-user-select:none;-moz-user-select:none;-ms-user-select:none;user-select:none;}/*!sc*/
data-styled.g3[id="sc-global-gbKrvU1"]{content:"sc-global-gbKrvU1,"}/*!sc*/
.bOMzPg{min-width:0;}/*!sc*/
.ePvrxx{padding-left:4px;padding-right:4px;font-weight:400;color:var(--fgColor-muted,var(--color-fg-muted,#848d97));font-size:16px;}/*!sc*/
.UrHoN{color:var(--fgColor-default,var(--color-fg-default,#e6edf3));}/*!sc*/
.fQxKLn{padding-left:4px;padding-right:4px;font-weight:400;color:var(--fgColor-muted,var(--color-fg-muted,#848d97));font-size:14px;}/*!sc*/
data-styled.g6[id="Text-sc-17v1xeu-0"]{content:"bOMzPg,ePvrxx,UrHoN,gPDEWA,fQxKLn,"}/*!sc*/
.dpowyu{color:var(--fgColor-accent,var(--color-accent-fg,#2f81f7));-webkit-text-decoration:none;text-decoration:none;font-weight:600;}/*!sc*/
[data-a11y-link-underlines='true'] .Link__StyledLink-sc-14289xe-0[data-inline='true']{-webkit-text-decoration:underline;text-decoration:underline;}/*!sc*/
.dpowyu:hover{-webkit-text-decoration:underline;text-decoration:underline;}/*!sc*/
.dpowyu:is(button){display:inline-block;padding:0;font-size:inherit;white-space:nowrap;cursor:pointer;-webkit-user-select:none;-moz-user-select:none;-ms-user-select:none;user-select:none;background-color:transparent;border:0;-webkit-appearance:none;-moz-appearance:none;appearance:none;}/*!sc*/
.csCkZA{color:var(--fgColor-accent,var(--color-accent-fg,#2f81f7));-webkit-text-decoration:none;text-decoration:none;font-weight:400;}/*!sc*/
[data-a11y-link-underlines='true'] .Link__StyledLink-sc-14289xe-0[data-inline='true']{-webkit-text-decoration:underline;text-decoration:underline;}/*!sc*/
.csCkZA:hover{-webkit-text-decoration:underline;text-decoration:underline;}/*!sc*/
.csCkZA:is(button){display:inline-block;padding:0;font-size:inherit;white-space:nowrap;cursor:pointer;-webkit-user-select:none;-moz-user-select:none;-ms-user-select:none;user-select:none;background-color:transparent;border:0;-webkit-appearance:none;-moz-appearance:none;appearance:none;}/*!sc*/
.elltiT{color:var(--fgColor-accent,var(--color-accent-fg,#2f81f7));-webkit-text-decoration:none;text-decoration:none;}/*!sc*/
[data-a11y-link-underlines='true'] .Link__StyledLink-sc-14289xe-0[data-inline='true']{-webkit-text-decoration:underline;text-decoration:underline;}/*!sc*/
.elltiT:hover{-webkit-text-decoration:underline;text-decoration:underline;}/*!sc*/
.elltiT:is(button){display:inline-block;padding:0;font-size:inherit;white-space:nowrap;cursor:pointer;-webkit-user-select:none;-moz-user-select:none;-ms-user-select:none;user-select:none;background-color:transparent;border:0;-webkit-appearance:none;-moz-appearance:none;appearance:none;}/*!sc*/
data-styled.g8[id="Link__StyledLink-sc-14289xe-0"]{content:"dpowyu,csCkZA,elltiT,"}/*!sc*/
.iKABXH{border-radius:6px;border:1px solid;border-color:transparent;font-family:inherit;font-weight:500;font-size:14px;cursor:pointer;-webkit-appearance:none;-moz-appearance:none;appearance:none;-webkit-user-select:none;-moz-user-select:none;-ms-user-select:none;user-select:none;-webkit-text-decoration:none;text-decoration:none;text-align:center;display:-webkit-box;display:-webkit-flex;display:-ms-flexbox;display:flex;-webkit-align-items:center;-webkit-box-align:center;-ms-flex-align:center;align-items:center;-webkit-box-pack:justify;-webkit-justify-content:space-between;-ms-flex-pack:justify;justify-content:space-between;height:32px;padding:0 12px;gap:8px;min-width:-webkit-max-content;min-width:-moz-max-content;min-width:max-content;-webkit-transition:80ms cubic-bezier(0.65,0,0.35,1);transition:80ms cubic-bezier(0.65,0,0.35,1);-webkit-transition-property:color,fill,background-color,border-color;transition-property:color,fill,background-color,border-color;color:var(--button-default-fgColor-rest,var(--color-btn-text,#c9d1d9));background-color:transparent;box-shadow:none;}/*!sc*/
.iKABXH:focus:not(:disabled){box-shadow:none;outline:2px solid var(--fgColor-accent,var(--color-accent-fg,#2f81f7));outline-offset:-2px;}/*!sc*/
.iKABXH:focus:not(:disabled):not(:focus-visible){outline:solid 1px transparent;}/*!sc*/
.iKABXH:focus-visible:not(:disabled){box-shadow:none;outline:2px solid var(--fgColor-accent,var(--color-accent-fg,#2f81f7));outline-offset:-2px;}/*!sc*/
.iKABXH[href]{display:-webkit-inline-box;display:-webkit-inline-flex;display:-ms-inline-flexbox;display:inline-flex;}/*!sc*/
.iKABXH[href]:hover{-webkit-text-decoration:none;text-decoration:none;}/*!sc*/
.iKABXH:hover{-webkit-transition-duration:80ms;transition-duration:80ms;}/*!sc*/
.iKABXH:active{-webkit-transition:none;transition:none;}/*!sc*/
.iKABXH[data-inactive]{cursor:auto;}/*!sc*/
.iKABXH:disabled{cursor:not-allowed;box-shadow:none;color:var(--fgColor-disabled,var(--color-primer-fg-disabled,#484f58));}/*!sc*/
.iKABXH:disabled [data-component=ButtonCounter],.iKABXH:disabled [data-component="leadingVisual"],.iKABXH:disabled [data-component="trailingAction"]{color:inherit;}/*!sc*/
@media (forced-colors:active){.iKABXH:focus{outline:solid 1px transparent;}}/*!sc*/
.iKABXH [data-component=ButtonCounter]{font-size:12px;}/*!sc*/
.iKABXH[data-component=IconButton]{display:inline-grid;padding:unset;place-content:center;width:32px;min-width:unset;}/*!sc*/
.iKABXH[data-size="small"]{padding:0 8px;height:28px;gap:4px;font-size:12px;}/*!sc*/
.iKABXH[data-size="small"] [data-component="text"]{line-height:calc(20 / 12);}/*!sc*/
.iKABXH[data-size="small"] [data-component=ButtonCounter]{font-size:12px;}/*!sc*/
.iKABXH[data-size="small"] [data-component="buttonContent"] > :not(:last-child){margin-right:4px;}/*!sc*/
.iKABXH[data-size="small"][data-component=IconButton]{width:28px;padding:unset;}/*!sc*/
.iKABXH[data-size="large"]{padding:0 16px;height:40px;gap:8px;}/*!sc*/
.iKABXH[data-size="large"] [data-component="buttonContent"] > :not(:last-child){margin-right:8px;}/*!sc*/
.iKABXH[data-size="large"][data-component=IconButton]{width:40px;padding:unset;}/*!sc*/
.iKABXH[data-block="block"]{width:100%;}/*!sc*/
.iKABXH[data-inactive]:not([disabled]){background-color:var(--button-inactive-bgColor,var(--button-inactive-bgColor-rest,var(--color-btn-inactive-bg,#21262d)));border-color:var(--button-inactive-bgColor,var(--button-inactive-bgColor-rest,var(--color-btn-inactive-bg,#21262d)));color:var(--button-inactive-fgColor,var(--button-inactive-fgColor-rest,var(--color-btn-inactive-text,#8b949e)));}/*!sc*/
.iKABXH[data-inactive]:not([disabled]):focus-visible{box-shadow:none;}/*!sc*/
.iKABXH [data-component="leadingVisual"]{grid-area:leadingVisual;color:var(--fgColor-muted,var(--color-fg-muted,#848d97));}/*!sc*/
.iKABXH [data-component="text"]{grid-area:text;line-height:calc(20/14);white-space:nowrap;}/*!sc*/
.iKABXH [data-component="trailingVisual"]{grid-area:trailingVisual;}/*!sc*/
.iKABXH [data-component="trailingAction"]{margin-right:-4px;color:var(--fgColor-muted,var(--color-fg-muted,#848d97));}/*!sc*/
.iKABXH [data-component="buttonContent"]{-webkit-flex:1 0 auto;-ms-flex:1 0 auto;flex:1 0 auto;display:grid;grid-template-areas:"leadingVisual text trailingVisual";grid-template-columns:min-content minmax(0,auto) min-content;-webkit-align-items:center;-webkit-box-align:center;-ms-flex-align:center;align-items:center;-webkit-align-content:center;-ms-flex-line-pack:center;align-content:center;}/*!sc*/
.iKABXH [data-component="buttonContent"] > :not(:last-child){margin-right:8px;}/*!sc*/
.iKABXH:hover:not([disabled]){background-color:var(--control-transparent-bgColor-hover,var(--color-action-list-item-default-hover-bg,rgba(177,186,196,0.12)));}/*!sc*/
.iKABXH:active:not([disabled]){background-color:var(--control-transparent-bgColor-active,var(--color-action-list-item-default-active-bg,rgba(177,186,196,0.2)));}/*!sc*/
.iKABXH[aria-expanded=true]{background-color:var(--control-transparent-bgColor-selected,var(--color-action-list-item-default-selected-bg,rgba(177,186,196,0.08)));}/*!sc*/
.iKABXH[data-component="IconButton"][data-no-visuals]{color:var(--fgColor-muted,var(--color-fg-muted,#848d97));}/*!sc*/
.iKABXH[data-no-visuals]{color:var(--fgColor-accent,var(--color-accent-fg,#2f81f7));}/*!sc*/
.iKABXH:has([data-component="ButtonCounter"]){color:var(--button-default-fgColor-rest,var(--color-btn-text,#c9d1d9));}/*!sc*/
.iKABXH:disabled[data-no-visuals]{color:var(--fgColor-disabled,var(--color-primer-fg-disabled,#484f58));}/*!sc*/
.iKABXH:disabled[data-no-visuals] [data-component=ButtonCounter]{color:inherit;}/*!sc*/
.iKABXH{color:var(--fgColor-muted,var(--color-fg-muted,#848d97));padding-left:8px;padding-right:8px;display:none;}/*!sc*/
@media screen and (max-width:768px){.iKABXH{display:block;}}/*!sc*/
.hfWObv{border-radius:6px;border:1px solid;border-color:transparent;font-family:inherit;font-weight:500;font-size:14px;cursor:pointer;-webkit-appearance:none;-moz-appearance:none;appearance:none;-webkit-user-select:none;-moz-user-select:none;-ms-user-select:none;user-select:none;-webkit-text-decoration:none;text-decoration:none;text-align:center;display:-webkit-box;display:-webkit-flex;display:-ms-flexbox;display:flex;-webkit-align-items:center;-webkit-box-align:center;-ms-flex-align:center;align-items:center;-webkit-box-pack:justify;-webkit-justify-content:space-between;-ms-flex-pack:justify;justify-content:space-between;height:32px;padding:0 12px;gap:8px;min-width:-webkit-max-content;min-width:-moz-max-content;min-width:max-content;-webkit-transition:80ms cubic-bezier(0.65,0,0.35,1);transition:80ms cubic-bezier(0.65,0,0.35,1);-webkit-transition-property:color,fill,background-color,border-color;transition-property:color,fill,background-color,border-color;color:var(--button-default-fgColor-rest,var(--color-btn-text,#c9d1d9));background-color:transparent;box-shadow:none;}/*!sc*/
.hfWObv:focus:not(:disabled){box-shadow:none;outline:2px solid var(--fgColor-accent,var(--color-accent-fg,#2f81f7));outline-offset:-2px;}/*!sc*/
.hfWObv:focus:not(:disabled):not(:focus-visible){outline:solid 1px transparent;}/*!sc*/
.hfWObv:focus-visible:not(:disabled){box-shadow:none;outline:2px solid var(--fgColor-accent,var(--color-accent-fg,#2f81f7));outline-offset:-2px;}/*!sc*/
.hfWObv[href]{display:-webkit-inline-box;display:-webkit-inline-flex;display:-ms-inline-flexbox;display:inline-flex;}/*!sc*/
.hfWObv[href]:hover{-webkit-text-decoration:none;text-decoration:none;}/*!sc*/
.hfWObv:hover{-webkit-transition-duration:80ms;transition-duration:80ms;}/*!sc*/
.hfWObv:active{-webkit-transition:none;transition:none;}/*!sc*/
.hfWObv[data-inactive]{cursor:auto;}/*!sc*/
.hfWObv:disabled{cursor:not-allowed;box-shadow:none;color:var(--fgColor-disabled,var(--color-primer-fg-disabled,#484f58));}/*!sc*/
.hfWObv:disabled [data-component=ButtonCounter],.hfWObv:disabled [data-component="leadingVisual"],.hfWObv:disabled [data-component="trailingAction"]{color:inherit;}/*!sc*/
@media (forced-colors:active){.hfWObv:focus{outline:solid 1px transparent;}}/*!sc*/
.hfWObv [data-component=ButtonCounter]{font-size:12px;}/*!sc*/
.hfWObv[data-component=IconButton]{display:inline-grid;padding:unset;place-content:center;width:32px;min-width:unset;}/*!sc*/
.hfWObv[data-size="small"]{padding:0 8px;height:28px;gap:4px;font-size:12px;}/*!sc*/
.hfWObv[data-size="small"] [data-component="text"]{line-height:calc(20 / 12);}/*!sc*/
.hfWObv[data-size="small"] [data-component=ButtonCounter]{font-size:12px;}/*!sc*/
.hfWObv[data-size="small"] [data-component="buttonContent"] > :not(:last-child){margin-right:4px;}/*!sc*/
.hfWObv[data-size="small"][data-component=IconButton]{width:28px;padding:unset;}/*!sc*/
.hfWObv[data-size="large"]{padding:0 16px;height:40px;gap:8px;}/*!sc*/
.hfWObv[data-size="large"] [data-component="buttonContent"] > :not(:last-child){margin-right:8px;}/*!sc*/
.hfWObv[data-size="large"][data-component=IconButton]{width:40px;padding:unset;}/*!sc*/
.hfWObv[data-block="block"]{width:100%;}/*!sc*/
.hfWObv[data-inactive]:not([disabled]){background-color:var(--button-inactive-bgColor,var(--button-inactive-bgColor-rest,var(--color-btn-inactive-bg,#21262d)));border-color:var(--button-inactive-bgColor,var(--button-inactive-bgColor-rest,var(--color-btn-inactive-bg,#21262d)));color:var(--button-inactive-fgColor,var(--button-inactive-fgColor-rest,var(--color-btn-inactive-text,#8b949e)));}/*!sc*/
.hfWObv[data-inactive]:not([disabled]):focus-visible{box-shadow:none;}/*!sc*/
.hfWObv [data-component="leadingVisual"]{grid-area:leadingVisual;color:var(--fgColor-muted,var(--color-fg-muted,#848d97));}/*!sc*/
.hfWObv [data-component="text"]{grid-area:text;line-height:calc(20/14);white-space:nowrap;}/*!sc*/
.hfWObv [data-component="trailingVisual"]{grid-area:trailingVisual;}/*!sc*/
.hfWObv [data-component="trailingAction"]{margin-right:-4px;color:var(--fgColor-muted,var(--color-fg-muted,#848d97));}/*!sc*/
.hfWObv [data-component="buttonContent"]{-webkit-flex:1 0 auto;-ms-flex:1 0 auto;flex:1 0 auto;display:grid;grid-template-areas:"leadingVisual text trailingVisual";grid-template-columns:min-content minmax(0,auto) min-content;-webkit-align-items:center;-webkit-box-align:center;-ms-flex-align:center;align-items:center;-webkit-align-content:center;-ms-flex-line-pack:center;align-content:center;}/*!sc*/
.hfWObv [data-component="buttonContent"] > :not(:last-child){margin-right:8px;}/*!sc*/
.hfWObv:hover:not([disabled]){background-color:var(--control-transparent-bgColor-hover,var(--color-action-list-item-default-hover-bg,rgba(177,186,196,0.12)));}/*!sc*/
.hfWObv:active:not([disabled]){background-color:var(--control-transparent-bgColor-active,var(--color-action-list-item-default-active-bg,rgba(177,186,196,0.2)));}/*!sc*/
.hfWObv[aria-expanded=true]{background-color:var(--control-transparent-bgColor-selected,var(--color-action-list-item-default-selected-bg,rgba(177,186,196,0.08)));}/*!sc*/
.hfWObv[data-component="IconButton"][data-no-visuals]{color:var(--fgColor-muted,var(--color-fg-muted,#848d97));}/*!sc*/
.hfWObv[data-no-visuals]{color:var(--fgColor-muted,var(--color-fg-muted,#848d97));height:32px;position:relative;}/*!sc*/
@media screen and (max-width:768px){.hfWObv[data-no-visuals]{display:none;}}/*!sc*/
.hfWObv:has([data-component="ButtonCounter"]){color:var(--button-default-fgColor-rest,var(--color-btn-text,#c9d1d9));}/*!sc*/
.hfWObv:disabled[data-no-visuals]{color:var(--fgColor-disabled,var(--color-primer-fg-disabled,#484f58));}/*!sc*/
.hfWObv:disabled[data-no-visuals] [data-component=ButtonCounter]{color:inherit;}/*!sc*/
.kkhncB{border-radius:6px;border:1px solid;border-color:var(--button-default-borderColor-rest,var(--button-default-borderColor-rest,var(--color-btn-border,rgba(240,246,252,0.1))));font-family:inherit;font-weight:500;font-size:14px;cursor:pointer;-webkit-appearance:none;-moz-appearance:none;appearance:none;-webkit-user-select:none;-moz-user-select:none;-ms-user-select:none;user-select:none;-webkit-text-decoration:none;text-decoration:none;text-align:center;display:-webkit-box;display:-webkit-flex;display:-ms-flexbox;display:flex;-webkit-align-items:center;-webkit-box-align:center;-ms-flex-align:center;align-items:center;-webkit-box-pack:justify;-webkit-justify-content:space-between;-ms-flex-pack:justify;justify-content:space-between;height:32px;padding:0 12px;gap:8px;min-width:-webkit-max-content;min-width:-moz-max-content;min-width:max-content;-webkit-transition:80ms cubic-bezier(0.65,0,0.35,1);transition:80ms cubic-bezier(0.65,0,0.35,1);-webkit-transition-property:color,fill,background-color,border-color;transition-property:color,fill,background-color,border-color;color:var(--button-default-fgColor-rest,var(--color-btn-text,#c9d1d9));background-color:var(--button-default-bgColor-rest,var(--color-btn-bg,#21262d));box-shadow:var(--button-default-shadow-resting,var(--color-btn-shadow,0 0 transparent)),var(--button-default-shadow-inset,var(--color-btn-inset-shadow,0 0 transparent));}/*!sc*/
.kkhncB:focus:not(:disabled){box-shadow:none;outline:2px solid var(--fgColor-accent,var(--color-accent-fg,#2f81f7));outline-offset:-2px;}/*!sc*/
.kkhncB:focus:not(:disabled):not(:focus-visible){outline:solid 1px transparent;}/*!sc*/
.kkhncB:focus-visible:not(:disabled){box-shadow:none;outline:2px solid var(--fgColor-accent,var(--color-accent-fg,#2f81f7));outline-offset:-2px;}/*!sc*/
.kkhncB[href]{display:-webkit-inline-box;display:-webkit-inline-flex;display:-ms-inline-flexbox;display:inline-flex;}/*!sc*/
.kkhncB[href]:hover{-webkit-text-decoration:none;text-decoration:none;}/*!sc*/
.kkhncB:hover{-webkit-transition-duration:80ms;transition-duration:80ms;}/*!sc*/
.kkhncB:active{-webkit-transition:none;transition:none;}/*!sc*/
.kkhncB[data-inactive]{cursor:auto;}/*!sc*/
.kkhncB:disabled{cursor:not-allowed;box-shadow:none;color:var(--fgColor-disabled,var(--color-primer-fg-disabled,#484f58));}/*!sc*/
.kkhncB:disabled [data-component=ButtonCounter]{color:inherit;}/*!sc*/
@media (forced-colors:active){.kkhncB:focus{outline:solid 1px transparent;}}/*!sc*/
.kkhncB [data-component=ButtonCounter]{font-size:12px;}/*!sc*/
.kkhncB[data-component=IconButton]{display:inline-grid;padding:unset;place-content:center;width:32px;min-width:unset;}/*!sc*/
.kkhncB[data-size="small"]{padding:0 8px;height:28px;gap:4px;font-size:12px;}/*!sc*/
.kkhncB[data-size="small"] [data-component="text"]{line-height:calc(20 / 12);}/*!sc*/
.kkhncB[data-size="small"] [data-component=ButtonCounter]{font-size:12px;}/*!sc*/
.kkhncB[data-size="small"] [data-component="buttonContent"] > :not(:last-child){margin-right:4px;}/*!sc*/
.kkhncB[data-size="small"][data-component=IconButton]{width:28px;padding:unset;}/*!sc*/
.kkhncB[data-size="large"]{padding:0 16px;height:40px;gap:8px;}/*!sc*/
.kkhncB[data-size="large"] [data-component="buttonContent"] > :not(:last-child){margin-right:8px;}/*!sc*/
.kkhncB[data-size="large"][data-component=IconButton]{width:40px;padding:unset;}/*!sc*/
.kkhncB[data-block="block"]{width:100%;}/*!sc*/
.kkhncB[data-inactive]:not([disabled]){background-color:var(--button-inactive-bgColor,var(--button-inactive-bgColor-rest,var(--color-btn-inactive-bg,#21262d)));border-color:var(--button-inactive-bgColor,var(--button-inactive-bgColor-rest,var(--color-btn-inactive-bg,#21262d)));color:var(--button-inactive-fgColor,var(--button-inactive-fgColor-rest,var(--color-btn-inactive-text,#8b949e)));}/*!sc*/
.kkhncB[data-inactive]:not([disabled]):focus-visible{box-shadow:none;}/*!sc*/
.kkhncB [data-component="leadingVisual"]{grid-area:leadingVisual;}/*!sc*/
.kkhncB [data-component="text"]{grid-area:text;line-height:calc(20/14);white-space:nowrap;}/*!sc*/
.kkhncB [data-component="trailingVisual"]{grid-area:trailingVisual;}/*!sc*/
.kkhncB [data-component="trailingAction"]{margin-right:-4px;}/*!sc*/
.kkhncB [data-component="buttonContent"]{-webkit-flex:1 0 auto;-ms-flex:1 0 auto;flex:1 0 auto;display:grid;grid-template-areas:"leadingVisual text trailingVisual";grid-template-columns:min-content minmax(0,auto) min-content;-webkit-align-items:center;-webkit-box-align:center;-ms-flex-align:center;align-items:center;-webkit-align-content:center;-ms-flex-line-pack:center;align-content:center;}/*!sc*/
.kkhncB [data-component="buttonContent"] > :not(:last-child){margin-right:8px;}/*!sc*/
.kkhncB:hover:not([disabled]):not([data-inactive]){background-color:var(--button-default-bgColor-hover,var(--color-btn-hover-bg,#30363d));border-color:var(--button-default-borderColor-hover,var(--button-default-borderColor-hover,var(--color-btn-hover-border,#8b949e)));}/*!sc*/
.kkhncB:active:not([disabled]):not([data-inactive]){background-color:var(--button-default-bgColor-active,var(--color-btn-active-bg,hsla(212,12%,18%,1)));border-color:var(--button-default-borderColor-active,var(--button-default-borderColor-active,var(--color-btn-active-border,#6e7681)));}/*!sc*/
.kkhncB[aria-expanded=true]{background-color:var(--button-default-bgColor-active,var(--color-btn-active-bg,hsla(212,12%,18%,1)));border-color:var(--button-default-borderColor-active,var(--button-default-borderColor-active,var(--color-btn-active-border,#6e7681)));}/*!sc*/
.kkhncB [data-component="leadingVisual"],.kkhncB [data-component="trailingVisual"],.kkhncB [data-component="trailingAction"]{color:var(--button-color,var(--fgColor-muted,var(--color-fg-muted,#848d97)));}/*!sc*/
.kkhncB{display:-webkit-box;display:-webkit-flex;display:-ms-flexbox;display:flex;min-width:0;}/*!sc*/
.kkhncB svg{color:var(--fgColor-muted,var(--color-fg-muted,#848d97));}/*!sc*/
.kkhncB > span{width:inherit;}/*!sc*/
.kQvhRC{border-radius:6px;border:1px solid;border-color:var(--button-default-borderColor-rest,var(--button-default-borderColor-rest,var(--color-btn-border,rgba(240,246,252,0.1))));font-family:inherit;font-weight:500;font-size:14px;cursor:pointer;-webkit-appearance:none;-moz-appearance:none;appearance:none;-webkit-user-select:none;-moz-user-select:none;-ms-user-select:none;user-select:none;-webkit-text-decoration:none;text-decoration:none;text-align:center;display:-webkit-box;display:-webkit-flex;display:-ms-flexbox;display:flex;-webkit-align-items:center;-webkit-box-align:center;-ms-flex-align:center;align-items:center;-webkit-box-pack:justify;-webkit-justify-content:space-between;-ms-flex-pack:justify;justify-content:space-between;height:32px;padding:0 12px;gap:8px;min-width:-webkit-max-content;min-width:-moz-max-content;min-width:max-content;-webkit-transition:80ms cubic-bezier(0.65,0,0.35,1);transition:80ms cubic-bezier(0.65,0,0.35,1);-webkit-transition-property:color,fill,background-color,border-color;transition-property:color,fill,background-color,border-color;color:var(--button-default-fgColor-rest,var(--color-btn-text,#c9d1d9));background-color:var(--button-default-bgColor-rest,var(--color-btn-bg,#21262d));box-shadow:var(--button-default-shadow-resting,var(--color-btn-shadow,0 0 transparent)),var(--button-default-shadow-inset,var(--color-btn-inset-shadow,0 0 transparent));}/*!sc*/
.kQvhRC:focus:not(:disabled){box-shadow:none;outline:2px solid var(--fgColor-accent,var(--color-accent-fg,#2f81f7));outline-offset:-2px;}/*!sc*/
.kQvhRC:focus:not(:disabled):not(:focus-visible){outline:solid 1px transparent;}/*!sc*/
.kQvhRC:focus-visible:not(:disabled){box-shadow:none;outline:2px solid var(--fgColor-accent,var(--color-accent-fg,#2f81f7));outline-offset:-2px;}/*!sc*/
.kQvhRC[href]{display:-webkit-inline-box;display:-webkit-inline-flex;display:-ms-inline-flexbox;display:inline-flex;}/*!sc*/
.kQvhRC[href]:hover{-webkit-text-decoration:none;text-decoration:none;}/*!sc*/
.kQvhRC:hover{-webkit-transition-duration:80ms;transition-duration:80ms;}/*!sc*/
.kQvhRC:active{-webkit-transition:none;transition:none;}/*!sc*/
.kQvhRC[data-inactive]{cursor:auto;}/*!sc*/
.kQvhRC:disabled{cursor:not-allowed;box-shadow:none;color:var(--fgColor-disabled,var(--color-primer-fg-disabled,#484f58));}/*!sc*/
.kQvhRC:disabled [data-component=ButtonCounter]{color:inherit;}/*!sc*/
@media (forced-colors:active){.kQvhRC:focus{outline:solid 1px transparent;}}/*!sc*/
.kQvhRC [data-component=ButtonCounter]{font-size:12px;}/*!sc*/
.kQvhRC[data-component=IconButton]{display:inline-grid;padding:unset;place-content:center;width:32px;min-width:unset;}/*!sc*/
.kQvhRC[data-size="small"]{padding:0 8px;height:28px;gap:4px;font-size:12px;}/*!sc*/
.kQvhRC[data-size="small"] [data-component="text"]{line-height:calc(20 / 12);}/*!sc*/
.kQvhRC[data-size="small"] [data-component=ButtonCounter]{font-size:12px;}/*!sc*/
.kQvhRC[data-size="small"] [data-component="buttonContent"] > :not(:last-child){margin-right:4px;}/*!sc*/
.kQvhRC[data-size="small"][data-component=IconButton]{width:28px;padding:unset;}/*!sc*/
.kQvhRC[data-size="large"]{padding:0 16px;height:40px;gap:8px;}/*!sc*/
.kQvhRC[data-size="large"] [data-component="buttonContent"] > :not(:last-child){margin-right:8px;}/*!sc*/
.kQvhRC[data-size="large"][data-component=IconButton]{width:40px;padding:unset;}/*!sc*/
.kQvhRC[data-block="block"]{width:100%;}/*!sc*/
.kQvhRC[data-inactive]:not([disabled]){background-color:var(--button-inactive-bgColor,var(--button-inactive-bgColor-rest,var(--color-btn-inactive-bg,#21262d)));border-color:var(--button-inactive-bgColor,var(--button-inactive-bgColor-rest,var(--color-btn-inactive-bg,#21262d)));color:var(--button-inactive-fgColor,var(--button-inactive-fgColor-rest,var(--color-btn-inactive-text,#8b949e)));}/*!sc*/
.kQvhRC[data-inactive]:not([disabled]):focus-visible{box-shadow:none;}/*!sc*/
.kQvhRC [data-component="leadingVisual"]{grid-area:leadingVisual;}/*!sc*/
.kQvhRC [data-component="text"]{grid-area:text;line-height:calc(20/14);white-space:nowrap;}/*!sc*/
.kQvhRC [data-component="trailingVisual"]{grid-area:trailingVisual;}/*!sc*/
.kQvhRC [data-component="trailingAction"]{margin-right:-4px;}/*!sc*/
.kQvhRC [data-component="buttonContent"]{-webkit-flex:1 0 auto;-ms-flex:1 0 auto;flex:1 0 auto;display:grid;grid-template-areas:"leadingVisual text trailingVisual";grid-template-columns:min-content minmax(0,auto) min-content;-webkit-align-items:center;-webkit-box-align:center;-ms-flex-align:center;align-items:center;-webkit-align-content:center;-ms-flex-line-pack:center;align-content:center;}/*!sc*/
.kQvhRC [data-component="buttonContent"] > :not(:last-child){margin-right:8px;}/*!sc*/
.kQvhRC:hover:not([disabled]):not([data-inactive]){background-color:var(--button-default-bgColor-hover,var(--color-btn-hover-bg,#30363d));border-color:var(--button-default-borderColor-hover,var(--button-default-borderColor-hover,var(--color-btn-hover-border,#8b949e)));}/*!sc*/
.kQvhRC:active:not([disabled]):not([data-inactive]){background-color:var(--button-default-bgColor-active,var(--color-btn-active-bg,hsla(212,12%,18%,1)));border-color:var(--button-default-borderColor-active,var(--button-default-borderColor-active,var(--color-btn-active-border,#6e7681)));}/*!sc*/
.kQvhRC[aria-expanded=true]{background-color:var(--button-default-bgColor-active,var(--color-btn-active-bg,hsla(212,12%,18%,1)));border-color:var(--button-default-borderColor-active,var(--button-default-borderColor-active,var(--color-btn-active-border,#6e7681)));}/*!sc*/
.kQvhRC [data-component="leadingVisual"],.kQvhRC [data-component="trailingVisual"],.kQvhRC [data-component="trailingAction"]{color:var(--button-color,var(--fgColor-muted,var(--color-fg-muted,#848d97)));}/*!sc*/
.kQvhRC[data-no-visuals]{color:var(--fgColor-muted,var(--color-fg-subtle,#6e7681));border-top-right-radius:0;border-bottom-right-radius:0;border-right:0;}/*!sc*/
.bPGRMc{border-radius:6px;border:1px solid;border-color:var(--button-default-borderColor-rest,var(--button-default-borderColor-rest,var(--color-btn-border,rgba(240,246,252,0.1))));font-family:inherit;font-weight:500;font-size:14px;cursor:pointer;-webkit-appearance:none;-moz-appearance:none;appearance:none;-webkit-user-select:none;-moz-user-select:none;-ms-user-select:none;user-select:none;-webkit-text-decoration:none;text-decoration:none;text-align:center;display:-webkit-box;display:-webkit-flex;display:-ms-flexbox;display:flex;-webkit-align-items:center;-webkit-box-align:center;-ms-flex-align:center;align-items:center;-webkit-box-pack:justify;-webkit-justify-content:space-between;-ms-flex-pack:justify;justify-content:space-between;height:32px;padding:0 12px;gap:8px;min-width:-webkit-max-content;min-width:-moz-max-content;min-width:max-content;-webkit-transition:80ms cubic-bezier(0.65,0,0.35,1);transition:80ms cubic-bezier(0.65,0,0.35,1);-webkit-transition-property:color,fill,background-color,border-color;transition-property:color,fill,background-color,border-color;color:var(--button-default-fgColor-rest,var(--color-btn-text,#c9d1d9));background-color:var(--button-default-bgColor-rest,var(--color-btn-bg,#21262d));box-shadow:var(--button-default-shadow-resting,var(--color-btn-shadow,0 0 transparent)),var(--button-default-shadow-inset,var(--color-btn-inset-shadow,0 0 transparent));}/*!sc*/
.bPGRMc:focus:not(:disabled){box-shadow:none;outline:2px solid var(--fgColor-accent,var(--color-accent-fg,#2f81f7));outline-offset:-2px;}/*!sc*/
.bPGRMc:focus:not(:disabled):not(:focus-visible){outline:solid 1px transparent;}/*!sc*/
.bPGRMc:focus-visible:not(:disabled){box-shadow:none;outline:2px solid var(--fgColor-accent,var(--color-accent-fg,#2f81f7));outline-offset:-2px;}/*!sc*/
.bPGRMc[href]{display:-webkit-inline-box;display:-webkit-inline-flex;display:-ms-inline-flexbox;display:inline-flex;}/*!sc*/
.bPGRMc[href]:hover{-webkit-text-decoration:none;text-decoration:none;}/*!sc*/
.bPGRMc:hover{-webkit-transition-duration:80ms;transition-duration:80ms;}/*!sc*/
.bPGRMc:active{-webkit-transition:none;transition:none;}/*!sc*/
.bPGRMc[data-inactive]{cursor:auto;}/*!sc*/
.bPGRMc:disabled{cursor:not-allowed;box-shadow:none;color:var(--fgColor-disabled,var(--color-primer-fg-disabled,#484f58));}/*!sc*/
.bPGRMc:disabled [data-component=ButtonCounter]{color:inherit;}/*!sc*/
@media (forced-colors:active){.bPGRMc:focus{outline:solid 1px transparent;}}/*!sc*/
.bPGRMc [data-component=ButtonCounter]{font-size:12px;}/*!sc*/
.bPGRMc[data-component=IconButton]{display:inline-grid;padding:unset;place-content:center;width:32px;min-width:unset;}/*!sc*/
.bPGRMc[data-size="small"]{padding:0 8px;height:28px;gap:4px;font-size:12px;}/*!sc*/
.bPGRMc[data-size="small"] [data-component="text"]{line-height:calc(20 / 12);}/*!sc*/
.bPGRMc[data-size="small"] [data-component=ButtonCounter]{font-size:12px;}/*!sc*/
.bPGRMc[data-size="small"] [data-component="buttonContent"] > :not(:last-child){margin-right:4px;}/*!sc*/
.bPGRMc[data-size="small"][data-component=IconButton]{width:28px;padding:unset;}/*!sc*/
.bPGRMc[data-size="large"]{padding:0 16px;height:40px;gap:8px;}/*!sc*/
.bPGRMc[data-size="large"] [data-component="buttonContent"] > :not(:last-child){margin-right:8px;}/*!sc*/
.bPGRMc[data-size="large"][data-component=IconButton]{width:40px;padding:unset;}/*!sc*/
.bPGRMc[data-block="block"]{width:100%;}/*!sc*/
.bPGRMc[data-inactive]:not([disabled]){background-color:var(--button-inactive-bgColor,var(--button-inactive-bgColor-rest,var(--color-btn-inactive-bg,#21262d)));border-color:var(--button-inactive-bgColor,var(--button-inactive-bgColor-rest,var(--color-btn-inactive-bg,#21262d)));color:var(--button-inactive-fgColor,var(--button-inactive-fgColor-rest,var(--color-btn-inactive-text,#8b949e)));}/*!sc*/
.bPGRMc[data-inactive]:not([disabled]):focus-visible{box-shadow:none;}/*!sc*/
.bPGRMc [data-component="leadingVisual"]{grid-area:leadingVisual;}/*!sc*/
.bPGRMc [data-component="text"]{grid-area:text;line-height:calc(20/14);white-space:nowrap;}/*!sc*/
.bPGRMc [data-component="trailingVisual"]{grid-area:trailingVisual;}/*!sc*/
.bPGRMc [data-component="trailingAction"]{margin-right:-4px;}/*!sc*/
.bPGRMc [data-component="buttonContent"]{-webkit-flex:1 0 auto;-ms-flex:1 0 auto;flex:1 0 auto;display:grid;grid-template-areas:"leadingVisual text trailingVisual";grid-template-columns:min-content minmax(0,auto) min-content;-webkit-align-items:center;-webkit-box-align:center;-ms-flex-align:center;align-items:center;-webkit-align-content:center;-ms-flex-line-pack:center;align-content:center;}/*!sc*/
.bPGRMc [data-component="buttonContent"] > :not(:last-child){margin-right:8px;}/*!sc*/
.bPGRMc:hover:not([disabled]):not([data-inactive]){background-color:var(--button-default-bgColor-hover,var(--color-btn-hover-bg,#30363d));border-color:var(--button-default-borderColor-hover,var(--button-default-borderColor-hover,var(--color-btn-hover-border,#8b949e)));}/*!sc*/
.bPGRMc:active:not([disabled]):not([data-inactive]){background-color:var(--button-default-bgColor-active,var(--color-btn-active-bg,hsla(212,12%,18%,1)));border-color:var(--button-default-borderColor-active,var(--button-default-borderColor-active,var(--color-btn-active-border,#6e7681)));}/*!sc*/
.bPGRMc[aria-expanded=true]{background-color:var(--button-default-bgColor-active,var(--color-btn-active-bg,hsla(212,12%,18%,1)));border-color:var(--button-default-borderColor-active,var(--button-default-borderColor-active,var(--color-btn-active-border,#6e7681)));}/*!sc*/
.bPGRMc [data-component="leadingVisual"],.bPGRMc [data-component="trailingVisual"],.bPGRMc [data-component="trailingAction"]{color:var(--button-color,var(--fgColor-muted,var(--color-fg-muted,#848d97)));}/*!sc*/
.bPGRMc[data-no-visuals]{color:var(--fgColor-muted,var(--color-fg-subtle,#6e7681));font-size:14px;font-weight:400;-webkit-flex-shrink:0;-ms-flex-negative:0;flex-shrink:0;border-top-left-radius:0;border-bottom-left-radius:0;}/*!sc*/
.gkinEB{border-radius:6px;border:1px solid;border-color:var(--button-default-borderColor-rest,var(--button-default-borderColor-rest,var(--color-btn-border,rgba(240,246,252,0.1))));font-family:inherit;font-weight:500;font-size:14px;cursor:pointer;-webkit-appearance:none;-moz-appearance:none;appearance:none;-webkit-user-select:none;-moz-user-select:none;-ms-user-select:none;user-select:none;-webkit-text-decoration:none;text-decoration:none;text-align:center;display:-webkit-box;display:-webkit-flex;display:-ms-flexbox;display:flex;-webkit-align-items:center;-webkit-box-align:center;-ms-flex-align:center;align-items:center;-webkit-box-pack:justify;-webkit-justify-content:space-between;-ms-flex-pack:justify;justify-content:space-between;height:32px;padding:0 12px;gap:8px;min-width:-webkit-max-content;min-width:-moz-max-content;min-width:max-content;-webkit-transition:80ms cubic-bezier(0.65,0,0.35,1);transition:80ms cubic-bezier(0.65,0,0.35,1);-webkit-transition-property:color,fill,background-color,border-color;transition-property:color,fill,background-color,border-color;color:var(--button-default-fgColor-rest,var(--color-btn-text,#c9d1d9));background-color:var(--button-default-bgColor-rest,var(--color-btn-bg,#21262d));box-shadow:var(--button-default-shadow-resting,var(--color-btn-shadow,0 0 transparent)),var(--button-default-shadow-inset,var(--color-btn-inset-shadow,0 0 transparent));}/*!sc*/
.gkinEB:focus:not(:disabled){box-shadow:none;outline:2px solid var(--fgColor-accent,var(--color-accent-fg,#2f81f7));outline-offset:-2px;}/*!sc*/
.gkinEB:focus:not(:disabled):not(:focus-visible){outline:solid 1px transparent;}/*!sc*/
.gkinEB:focus-visible:not(:disabled){box-shadow:none;outline:2px solid var(--fgColor-accent,var(--color-accent-fg,#2f81f7));outline-offset:-2px;}/*!sc*/
.gkinEB[href]{display:-webkit-inline-box;display:-webkit-inline-flex;display:-ms-inline-flexbox;display:inline-flex;}/*!sc*/
.gkinEB[href]:hover{-webkit-text-decoration:none;text-decoration:none;}/*!sc*/
.gkinEB:hover{-webkit-transition-duration:80ms;transition-duration:80ms;}/*!sc*/
.gkinEB:active{-webkit-transition:none;transition:none;}/*!sc*/
.gkinEB[data-inactive]{cursor:auto;}/*!sc*/
.gkinEB:disabled{cursor:not-allowed;box-shadow:none;color:var(--fgColor-disabled,var(--color-primer-fg-disabled,#484f58));}/*!sc*/
.gkinEB:disabled [data-component=ButtonCounter]{color:inherit;}/*!sc*/
@media (forced-colors:active){.gkinEB:focus{outline:solid 1px transparent;}}/*!sc*/
.gkinEB [data-component=ButtonCounter]{font-size:12px;}/*!sc*/
.gkinEB[data-component=IconButton]{display:inline-grid;padding:unset;place-content:center;width:32px;min-width:unset;}/*!sc*/
.gkinEB[data-size="small"]{padding:0 8px;height:28px;gap:4px;font-size:12px;}/*!sc*/
.gkinEB[data-size="small"] [data-component="text"]{line-height:calc(20 / 12);}/*!sc*/
.gkinEB[data-size="small"] [data-component=ButtonCounter]{font-size:12px;}/*!sc*/
.gkinEB[data-size="small"] [data-component="buttonContent"] > :not(:last-child){margin-right:4px;}/*!sc*/
.gkinEB[data-size="small"][data-component=IconButton]{width:28px;padding:unset;}/*!sc*/
.gkinEB[data-size="large"]{padding:0 16px;height:40px;gap:8px;}/*!sc*/
.gkinEB[data-size="large"] [data-component="buttonContent"] > :not(:last-child){margin-right:8px;}/*!sc*/
.gkinEB[data-size="large"][data-component=IconButton]{width:40px;padding:unset;}/*!sc*/
.gkinEB[data-block="block"]{width:100%;}/*!sc*/
.gkinEB[data-inactive]:not([disabled]){background-color:var(--button-inactive-bgColor,var(--button-inactive-bgColor-rest,var(--color-btn-inactive-bg,#21262d)));border-color:var(--button-inactive-bgColor,var(--button-inactive-bgColor-rest,var(--color-btn-inactive-bg,#21262d)));color:var(--button-inactive-fgColor,var(--button-inactive-fgColor-rest,var(--color-btn-inactive-text,#8b949e)));}/*!sc*/
.gkinEB[data-inactive]:not([disabled]):focus-visible{box-shadow:none;}/*!sc*/
.gkinEB [data-component="leadingVisual"]{grid-area:leadingVisual;}/*!sc*/
.gkinEB [data-component="text"]{grid-area:text;line-height:calc(20/14);white-space:nowrap;}/*!sc*/
.gkinEB [data-component="trailingVisual"]{grid-area:trailingVisual;}/*!sc*/
.gkinEB [data-component="trailingAction"]{margin-right:-4px;}/*!sc*/
.gkinEB [data-component="buttonContent"]{-webkit-flex:1 0 auto;-ms-flex:1 0 auto;flex:1 0 auto;display:grid;grid-template-areas:"leadingVisual text trailingVisual";grid-template-columns:min-content minmax(0,auto) min-content;-webkit-align-items:center;-webkit-box-align:center;-ms-flex-align:center;align-items:center;-webkit-align-content:center;-ms-flex-line-pack:center;align-content:center;}/*!sc*/
.gkinEB [data-component="buttonContent"] > :not(:last-child){margin-right:8px;}/*!sc*/
.gkinEB:hover:not([disabled]):not([data-inactive]){background-color:var(--button-default-bgColor-hover,var(--color-btn-hover-bg,#30363d));border-color:var(--button-default-borderColor-hover,var(--button-default-borderColor-hover,var(--color-btn-hover-border,#8b949e)));}/*!sc*/
.gkinEB:active:not([disabled]):not([data-inactive]){background-color:var(--button-default-bgColor-active,var(--color-btn-active-bg,hsla(212,12%,18%,1)));border-color:var(--button-default-borderColor-active,var(--button-default-borderColor-active,var(--color-btn-active-border,#6e7681)));}/*!sc*/
.gkinEB[aria-expanded=true]{background-color:var(--button-default-bgColor-active,var(--color-btn-active-bg,hsla(212,12%,18%,1)));border-color:var(--button-default-borderColor-active,var(--button-default-borderColor-active,var(--color-btn-active-border,#6e7681)));}/*!sc*/
.gkinEB [data-component="leadingVisual"],.gkinEB [data-component="trailingVisual"],.gkinEB [data-component="trailingAction"]{color:var(--button-color,var(--fgColor-muted,var(--color-fg-muted,#848d97)));}/*!sc*/
.gkinEB{display:-webkit-box;display:-webkit-flex;display:-ms-flexbox;display:flex;}/*!sc*/
.gkinEB svg{color:var(--fgColor-muted,var(--color-fg-muted,#848d97));}/*!sc*/
.gkinEB > span{width:inherit;}/*!sc*/
.bzquEC{border-radius:6px;border:1px solid;border-color:var(--button-default-borderColor-rest,var(--button-default-borderColor-rest,var(--color-btn-border,rgba(240,246,252,0.1))));font-family:inherit;font-weight:500;font-size:14px;cursor:pointer;-webkit-appearance:none;-moz-appearance:none;appearance:none;-webkit-user-select:none;-moz-user-select:none;-ms-user-select:none;user-select:none;-webkit-text-decoration:none;text-decoration:none;text-align:center;display:-webkit-box;display:-webkit-flex;display:-ms-flexbox;display:flex;-webkit-align-items:center;-webkit-box-align:center;-ms-flex-align:center;align-items:center;-webkit-box-pack:justify;-webkit-justify-content:space-between;-ms-flex-pack:justify;justify-content:space-between;height:32px;padding:0 12px;gap:8px;min-width:-webkit-max-content;min-width:-moz-max-content;min-width:max-content;-webkit-transition:80ms cubic-bezier(0.65,0,0.35,1);transition:80ms cubic-bezier(0.65,0,0.35,1);-webkit-transition-property:color,fill,background-color,border-color;transition-property:color,fill,background-color,border-color;color:var(--button-default-fgColor-rest,var(--color-btn-text,#c9d1d9));background-color:var(--button-default-bgColor-rest,var(--color-btn-bg,#21262d));box-shadow:var(--button-default-shadow-resting,var(--color-btn-shadow,0 0 transparent)),var(--button-default-shadow-inset,var(--color-btn-inset-shadow,0 0 transparent));}/*!sc*/
.bzquEC:focus:not(:disabled){box-shadow:none;outline:2px solid var(--fgColor-accent,var(--color-accent-fg,#2f81f7));outline-offset:-2px;}/*!sc*/
.bzquEC:focus:not(:disabled):not(:focus-visible){outline:solid 1px transparent;}/*!sc*/
.bzquEC:focus-visible:not(:disabled){box-shadow:none;outline:2px solid var(--fgColor-accent,var(--color-accent-fg,#2f81f7));outline-offset:-2px;}/*!sc*/
.bzquEC[href]{display:-webkit-inline-box;display:-webkit-inline-flex;display:-ms-inline-flexbox;display:inline-flex;}/*!sc*/
.bzquEC[href]:hover{-webkit-text-decoration:none;text-decoration:none;}/*!sc*/
.bzquEC:hover{-webkit-transition-duration:80ms;transition-duration:80ms;}/*!sc*/
.bzquEC:active{-webkit-transition:none;transition:none;}/*!sc*/
.bzquEC[data-inactive]{cursor:auto;}/*!sc*/
.bzquEC:disabled{cursor:not-allowed;box-shadow:none;color:var(--fgColor-disabled,var(--color-primer-fg-disabled,#484f58));}/*!sc*/
.bzquEC:disabled [data-component=ButtonCounter]{color:inherit;}/*!sc*/
@media (forced-colors:active){.bzquEC:focus{outline:solid 1px transparent;}}/*!sc*/
.bzquEC [data-component=ButtonCounter]{font-size:12px;}/*!sc*/
.bzquEC[data-component=IconButton]{display:inline-grid;padding:unset;place-content:center;width:32px;min-width:unset;}/*!sc*/
.bzquEC[data-size="small"]{padding:0 8px;height:28px;gap:4px;font-size:12px;}/*!sc*/
.bzquEC[data-size="small"] [data-component="text"]{line-height:calc(20 / 12);}/*!sc*/
.bzquEC[data-size="small"] [data-component=ButtonCounter]{font-size:12px;}/*!sc*/
.bzquEC[data-size="small"] [data-component="buttonContent"] > :not(:last-child){margin-right:4px;}/*!sc*/
.bzquEC[data-size="small"][data-component=IconButton]{width:28px;padding:unset;}/*!sc*/
.bzquEC[data-size="large"]{padding:0 16px;height:40px;gap:8px;}/*!sc*/
.bzquEC[data-size="large"] [data-component="buttonContent"] > :not(:last-child){margin-right:8px;}/*!sc*/
.bzquEC[data-size="large"][data-component=IconButton]{width:40px;padding:unset;}/*!sc*/
.bzquEC[data-block="block"]{width:100%;}/*!sc*/
.bzquEC[data-inactive]:not([disabled]){background-color:var(--button-inactive-bgColor,var(--button-inactive-bgColor-rest,var(--color-btn-inactive-bg,#21262d)));border-color:var(--button-inactive-bgColor,var(--button-inactive-bgColor-rest,var(--color-btn-inactive-bg,#21262d)));color:var(--button-inactive-fgColor,var(--button-inactive-fgColor-rest,var(--color-btn-inactive-text,#8b949e)));}/*!sc*/
.bzquEC[data-inactive]:not([disabled]):focus-visible{box-shadow:none;}/*!sc*/
.bzquEC [data-component="leadingVisual"]{grid-area:leadingVisual;}/*!sc*/
.bzquEC [data-component="text"]{grid-area:text;line-height:calc(20/14);white-space:nowrap;}/*!sc*/
.bzquEC [data-component="trailingVisual"]{grid-area:trailingVisual;}/*!sc*/
.bzquEC [data-component="trailingAction"]{margin-right:-4px;}/*!sc*/
.bzquEC [data-component="buttonContent"]{-webkit-flex:1 0 auto;-ms-flex:1 0 auto;flex:1 0 auto;display:grid;grid-template-areas:"leadingVisual text trailingVisual";grid-template-columns:min-content minmax(0,auto) min-content;-webkit-align-items:center;-webkit-box-align:center;-ms-flex-align:center;align-items:center;-webkit-align-content:center;-ms-flex-line-pack:center;align-content:center;}/*!sc*/
.bzquEC [data-component="buttonContent"] > :not(:last-child){margin-right:8px;}/*!sc*/
.bzquEC:hover:not([disabled]):not([data-inactive]){background-color:var(--button-default-bgColor-hover,var(--color-btn-hover-bg,#30363d));border-color:var(--button-default-borderColor-hover,var(--button-default-borderColor-hover,var(--color-btn-hover-border,#8b949e)));}/*!sc*/
.bzquEC:active:not([disabled]):not([data-inactive]){background-color:var(--button-default-bgColor-active,var(--color-btn-active-bg,hsla(212,12%,18%,1)));border-color:var(--button-default-borderColor-active,var(--button-default-borderColor-active,var(--color-btn-active-border,#6e7681)));}/*!sc*/
.bzquEC[aria-expanded=true]{background-color:var(--button-default-bgColor-active,var(--color-btn-active-bg,hsla(212,12%,18%,1)));border-color:var(--button-default-borderColor-active,var(--button-default-borderColor-active,var(--color-btn-active-border,#6e7681)));}/*!sc*/
.bzquEC [data-component="leadingVisual"],.bzquEC [data-component="trailingVisual"],.bzquEC [data-component="trailingAction"]{color:var(--button-color,var(--fgColor-muted,var(--color-fg-muted,#848d97)));}/*!sc*/
.bzquEC[data-no-visuals]{border-top-left-radius:0;border-bottom-left-radius:0;display:none;}/*!sc*/
.ecnbuT{border-radius:6px;border:1px solid;border-color:var(--button-default-borderColor-rest,var(--button-default-borderColor-rest,var(--color-btn-border,rgba(240,246,252,0.1))));font-family:inherit;font-weight:500;font-size:14px;cursor:pointer;-webkit-appearance:none;-moz-appearance:none;appearance:none;-webkit-user-select:none;-moz-user-select:none;-ms-user-select:none;user-select:none;-webkit-text-decoration:none;text-decoration:none;text-align:center;display:-webkit-box;display:-webkit-flex;display:-ms-flexbox;display:flex;-webkit-align-items:center;-webkit-box-align:center;-ms-flex-align:center;align-items:center;-webkit-box-pack:justify;-webkit-justify-content:space-between;-ms-flex-pack:justify;justify-content:space-between;height:32px;padding:0 12px;gap:8px;min-width:-webkit-max-content;min-width:-moz-max-content;min-width:max-content;-webkit-transition:80ms cubic-bezier(0.65,0,0.35,1);transition:80ms cubic-bezier(0.65,0,0.35,1);-webkit-transition-property:color,fill,background-color,border-color;transition-property:color,fill,background-color,border-color;color:var(--button-default-fgColor-rest,var(--color-btn-text,#c9d1d9));background-color:var(--button-default-bgColor-rest,var(--color-btn-bg,#21262d));box-shadow:var(--button-default-shadow-resting,var(--color-btn-shadow,0 0 transparent)),var(--button-default-shadow-inset,var(--color-btn-inset-shadow,0 0 transparent));}/*!sc*/
.ecnbuT:focus:not(:disabled){box-shadow:none;outline:2px solid var(--fgColor-accent,var(--color-accent-fg,#2f81f7));outline-offset:-2px;}/*!sc*/
.ecnbuT:focus:not(:disabled):not(:focus-visible){outline:solid 1px transparent;}/*!sc*/
.ecnbuT:focus-visible:not(:disabled){box-shadow:none;outline:2px solid var(--fgColor-accent,var(--color-accent-fg,#2f81f7));outline-offset:-2px;}/*!sc*/
.ecnbuT[href]{display:-webkit-inline-box;display:-webkit-inline-flex;display:-ms-inline-flexbox;display:inline-flex;}/*!sc*/
.ecnbuT[href]:hover{-webkit-text-decoration:none;text-decoration:none;}/*!sc*/
.ecnbuT:hover{-webkit-transition-duration:80ms;transition-duration:80ms;}/*!sc*/
.ecnbuT:active{-webkit-transition:none;transition:none;}/*!sc*/
.ecnbuT[data-inactive]{cursor:auto;}/*!sc*/
.ecnbuT:disabled{cursor:not-allowed;box-shadow:none;color:var(--fgColor-disabled,var(--color-primer-fg-disabled,#484f58));}/*!sc*/
.ecnbuT:disabled [data-component=ButtonCounter]{color:inherit;}/*!sc*/
@media (forced-colors:active){.ecnbuT:focus{outline:solid 1px transparent;}}/*!sc*/
.ecnbuT [data-component=ButtonCounter]{font-size:12px;}/*!sc*/
.ecnbuT[data-component=IconButton]{display:inline-grid;padding:unset;place-content:center;width:32px;min-width:unset;}/*!sc*/
.ecnbuT[data-size="small"]{padding:0 8px;height:28px;gap:4px;font-size:12px;}/*!sc*/
.ecnbuT[data-size="small"] [data-component="text"]{line-height:calc(20 / 12);}/*!sc*/
.ecnbuT[data-size="small"] [data-component=ButtonCounter]{font-size:12px;}/*!sc*/
.ecnbuT[data-size="small"] [data-component="buttonContent"] > :not(:last-child){margin-right:4px;}/*!sc*/
.ecnbuT[data-size="small"][data-component=IconButton]{width:28px;padding:unset;}/*!sc*/
.ecnbuT[data-size="large"]{padding:0 16px;height:40px;gap:8px;}/*!sc*/
.ecnbuT[data-size="large"] [data-component="buttonContent"] > :not(:last-child){margin-right:8px;}/*!sc*/
.ecnbuT[data-size="large"][data-component=IconButton]{width:40px;padding:unset;}/*!sc*/
.ecnbuT[data-block="block"]{width:100%;}/*!sc*/
.ecnbuT[data-inactive]:not([disabled]){background-color:var(--button-inactive-bgColor,var(--button-inactive-bgColor-rest,var(--color-btn-inactive-bg,#21262d)));border-color:var(--button-inactive-bgColor,var(--button-inactive-bgColor-rest,var(--color-btn-inactive-bg,#21262d)));color:var(--button-inactive-fgColor,var(--button-inactive-fgColor-rest,var(--color-btn-inactive-text,#8b949e)));}/*!sc*/
.ecnbuT[data-inactive]:not([disabled]):focus-visible{box-shadow:none;}/*!sc*/
.ecnbuT [data-component="leadingVisual"]{grid-area:leadingVisual;}/*!sc*/
.ecnbuT [data-component="text"]{grid-area:text;line-height:calc(20/14);white-space:nowrap;}/*!sc*/
.ecnbuT [data-component="trailingVisual"]{grid-area:trailingVisual;}/*!sc*/
.ecnbuT [data-component="trailingAction"]{margin-right:-4px;}/*!sc*/
.ecnbuT [data-component="buttonContent"]{-webkit-flex:1 0 auto;-ms-flex:1 0 auto;flex:1 0 auto;display:grid;grid-template-areas:"leadingVisual text trailingVisual";grid-template-columns:min-content minmax(0,auto) min-content;-webkit-align-items:center;-webkit-box-align:center;-ms-flex-align:center;align-items:center;-webkit-align-content:center;-ms-flex-line-pack:center;align-content:center;}/*!sc*/
.ecnbuT [data-component="buttonContent"] > :not(:last-child){margin-right:8px;}/*!sc*/
.ecnbuT:hover:not([disabled]):not([data-inactive]){background-color:var(--button-default-bgColor-hover,var(--color-btn-hover-bg,#30363d));border-color:var(--button-default-borderColor-hover,var(--button-default-borderColor-hover,var(--color-btn-hover-border,#8b949e)));}/*!sc*/
.ecnbuT:active:not([disabled]):not([data-inactive]){background-color:var(--button-default-bgColor-active,var(--color-btn-active-bg,hsla(212,12%,18%,1)));border-color:var(--button-default-borderColor-active,var(--button-default-borderColor-active,var(--color-btn-active-border,#6e7681)));}/*!sc*/
.ecnbuT[aria-expanded=true]{background-color:var(--button-default-bgColor-active,var(--color-btn-active-bg,hsla(212,12%,18%,1)));border-color:var(--button-default-borderColor-active,var(--button-default-borderColor-active,var(--color-btn-active-border,#6e7681)));}/*!sc*/
.ecnbuT [data-component="leadingVisual"],.ecnbuT [data-component="trailingVisual"],.ecnbuT [data-component="trailingAction"]{color:var(--button-color,var(--fgColor-muted,var(--color-fg-muted,#848d97)));}/*!sc*/
.ecnbuT[data-no-visuals]{color:var(--fgColor-muted,var(--color-fg-muted,#848d97));}/*!sc*/
.IIGly{border-radius:6px;border:1px solid;border-color:transparent;font-family:inherit;font-weight:500;font-size:14px;cursor:pointer;-webkit-appearance:none;-moz-appearance:none;appearance:none;-webkit-user-select:none;-moz-user-select:none;-ms-user-select:none;user-select:none;-webkit-text-decoration:none;text-decoration:none;text-align:center;display:-webkit-box;display:-webkit-flex;display:-ms-flexbox;display:flex;-webkit-align-items:center;-webkit-box-align:center;-ms-flex-align:center;align-items:center;-webkit-box-pack:justify;-webkit-justify-content:space-between;-ms-flex-pack:justify;justify-content:space-between;height:32px;padding:0 12px;gap:8px;min-width:-webkit-max-content;min-width:-moz-max-content;min-width:max-content;-webkit-transition:80ms cubic-bezier(0.65,0,0.35,1);transition:80ms cubic-bezier(0.65,0,0.35,1);-webkit-transition-property:color,fill,background-color,border-color;transition-property:color,fill,background-color,border-color;color:var(--button-default-fgColor-rest,var(--color-btn-text,#c9d1d9));background-color:transparent;box-shadow:none;}/*!sc*/
.IIGly:focus:not(:disabled){box-shadow:none;outline:2px solid var(--fgColor-accent,var(--color-accent-fg,#2f81f7));outline-offset:-2px;}/*!sc*/
.IIGly:focus:not(:disabled):not(:focus-visible){outline:solid 1px transparent;}/*!sc*/
.IIGly:focus-visible:not(:disabled){box-shadow:none;outline:2px solid var(--fgColor-accent,var(--color-accent-fg,#2f81f7));outline-offset:-2px;}/*!sc*/
.IIGly[href]{display:-webkit-inline-box;display:-webkit-inline-flex;display:-ms-inline-flexbox;display:inline-flex;}/*!sc*/
.IIGly[href]:hover{-webkit-text-decoration:none;text-decoration:none;}/*!sc*/
.IIGly:hover{-webkit-transition-duration:80ms;transition-duration:80ms;}/*!sc*/
.IIGly:active{-webkit-transition:none;transition:none;}/*!sc*/
.IIGly[data-inactive]{cursor:auto;}/*!sc*/
.IIGly:disabled{cursor:not-allowed;box-shadow:none;color:var(--fgColor-disabled,var(--color-primer-fg-disabled,#484f58));}/*!sc*/
.IIGly:disabled [data-component=ButtonCounter],.IIGly:disabled [data-component="leadingVisual"],.IIGly:disabled [data-component="trailingAction"]{color:inherit;}/*!sc*/
@media (forced-colors:active){.IIGly:focus{outline:solid 1px transparent;}}/*!sc*/
.IIGly [data-component=ButtonCounter]{font-size:12px;}/*!sc*/
.IIGly[data-component=IconButton]{display:inline-grid;padding:unset;place-content:center;width:32px;min-width:unset;}/*!sc*/
.IIGly[data-size="small"]{padding:0 8px;height:28px;gap:4px;font-size:12px;}/*!sc*/
.IIGly[data-size="small"] [data-component="text"]{line-height:calc(20 / 12);}/*!sc*/
.IIGly[data-size="small"] [data-component=ButtonCounter]{font-size:12px;}/*!sc*/
.IIGly[data-size="small"] [data-component="buttonContent"] > :not(:last-child){margin-right:4px;}/*!sc*/
.IIGly[data-size="small"][data-component=IconButton]{width:28px;padding:unset;}/*!sc*/
.IIGly[data-size="large"]{padding:0 16px;height:40px;gap:8px;}/*!sc*/
.IIGly[data-size="large"] [data-component="buttonContent"] > :not(:last-child){margin-right:8px;}/*!sc*/
.IIGly[data-size="large"][data-component=IconButton]{width:40px;padding:unset;}/*!sc*/
.IIGly[data-block="block"]{width:100%;}/*!sc*/
.IIGly[data-inactive]:not([disabled]){background-color:var(--button-inactive-bgColor,var(--button-inactive-bgColor-rest,var(--color-btn-inactive-bg,#21262d)));border-color:var(--button-inactive-bgColor,var(--button-inactive-bgColor-rest,var(--color-btn-inactive-bg,#21262d)));color:var(--button-inactive-fgColor,var(--button-inactive-fgColor-rest,var(--color-btn-inactive-text,#8b949e)));}/*!sc*/
.IIGly[data-inactive]:not([disabled]):focus-visible{box-shadow:none;}/*!sc*/
.IIGly [data-component="leadingVisual"]{grid-area:leadingVisual;color:var(--fgColor-muted,var(--color-fg-muted,#848d97));}/*!sc*/
.IIGly [data-component="text"]{grid-area:text;line-height:calc(20/14);white-space:nowrap;}/*!sc*/
.IIGly [data-component="trailingVisual"]{grid-area:trailingVisual;}/*!sc*/
.IIGly [data-component="trailingAction"]{margin-right:-4px;color:var(--fgColor-muted,var(--color-fg-muted,#848d97));}/*!sc*/
.IIGly [data-component="buttonContent"]{-webkit-flex:1 0 auto;-ms-flex:1 0 auto;flex:1 0 auto;display:grid;grid-template-areas:"leadingVisual text trailingVisual";grid-template-columns:min-content minmax(0,auto) min-content;-webkit-align-items:center;-webkit-box-align:center;-ms-flex-align:center;align-items:center;-webkit-align-content:center;-ms-flex-line-pack:center;align-content:center;}/*!sc*/
.IIGly [data-component="buttonContent"] > :not(:last-child){margin-right:8px;}/*!sc*/
.IIGly:hover:not([disabled]){background-color:var(--control-transparent-bgColor-hover,var(--color-action-list-item-default-hover-bg,rgba(177,186,196,0.12)));}/*!sc*/
.IIGly:active:not([disabled]){background-color:var(--control-transparent-bgColor-active,var(--color-action-list-item-default-active-bg,rgba(177,186,196,0.2)));}/*!sc*/
.IIGly[aria-expanded=true]{background-color:var(--control-transparent-bgColor-selected,var(--color-action-list-item-default-selected-bg,rgba(177,186,196,0.08)));}/*!sc*/
.IIGly[data-component="IconButton"][data-no-visuals]{color:var(--fgColor-muted,var(--color-fg-muted,#848d97));}/*!sc*/
.IIGly[data-no-visuals]{color:var(--fgColor-accent,var(--color-accent-fg,#2f81f7));}/*!sc*/
.IIGly:has([data-component="ButtonCounter"]){color:var(--button-default-fgColor-rest,var(--color-btn-text,#c9d1d9));}/*!sc*/
.IIGly:disabled[data-no-visuals]{color:var(--fgColor-disabled,var(--color-primer-fg-disabled,#484f58));}/*!sc*/
.IIGly:disabled[data-no-visuals] [data-component=ButtonCounter]{color:inherit;}/*!sc*/
.IIGly[data-size="small"][data-no-visuals]{margin-left:8px;}/*!sc*/
.saA-Dg{border-radius:6px;border:1px solid;border-color:transparent;font-family:inherit;font-weight:500;font-size:14px;cursor:pointer;-webkit-appearance:none;-moz-appearance:none;appearance:none;-webkit-user-select:none;-moz-user-select:none;-ms-user-select:none;user-select:none;-webkit-text-decoration:none;text-decoration:none;text-align:center;display:-webkit-box;display:-webkit-flex;display:-ms-flexbox;display:flex;-webkit-align-items:center;-webkit-box-align:center;-ms-flex-align:center;align-items:center;-webkit-box-pack:justify;-webkit-justify-content:space-between;-ms-flex-pack:justify;justify-content:space-between;height:32px;padding:0 12px;gap:8px;min-width:-webkit-max-content;min-width:-moz-max-content;min-width:max-content;-webkit-transition:80ms cubic-bezier(0.65,0,0.35,1);transition:80ms cubic-bezier(0.65,0,0.35,1);-webkit-transition-property:color,fill,background-color,border-color;transition-property:color,fill,background-color,border-color;color:var(--fgColor-default,var(--color-fg-default,#e6edf3));background-color:transparent;box-shadow:none;}/*!sc*/
.saA-Dg:focus:not(:disabled){box-shadow:none;outline:2px solid var(--fgColor-accent,var(--color-accent-fg,#2f81f7));outline-offset:-2px;}/*!sc*/
.saA-Dg:focus:not(:disabled):not(:focus-visible){outline:solid 1px transparent;}/*!sc*/
.saA-Dg:focus-visible:not(:disabled){box-shadow:none;outline:2px solid var(--fgColor-accent,var(--color-accent-fg,#2f81f7));outline-offset:-2px;}/*!sc*/
.saA-Dg[href]{display:-webkit-inline-box;display:-webkit-inline-flex;display:-ms-inline-flexbox;display:inline-flex;}/*!sc*/
.saA-Dg[href]:hover{-webkit-text-decoration:none;text-decoration:none;}/*!sc*/
.saA-Dg:hover{-webkit-transition-duration:80ms;transition-duration:80ms;}/*!sc*/
.saA-Dg:active{-webkit-transition:none;transition:none;}/*!sc*/
.saA-Dg[data-inactive]{cursor:auto;}/*!sc*/
.saA-Dg:disabled{cursor:not-allowed;box-shadow:none;color:var(--fgColor-disabled,var(--color-primer-fg-disabled,#484f58));}/*!sc*/
.saA-Dg:disabled [data-component=ButtonCounter],.saA-Dg:disabled [data-component="leadingVisual"],.saA-Dg:disabled [data-component="trailingAction"]{color:inherit;}/*!sc*/
@media (forced-colors:active){.saA-Dg:focus{outline:solid 1px transparent;}}/*!sc*/
.saA-Dg [data-component=ButtonCounter]{font-size:12px;}/*!sc*/
.saA-Dg[data-component=IconButton]{display:inline-grid;padding:unset;place-content:center;width:32px;min-width:unset;}/*!sc*/
.saA-Dg[data-size="small"]{padding:0 8px;height:28px;gap:4px;font-size:12px;}/*!sc*/
.saA-Dg[data-size="small"] [data-component="text"]{line-height:calc(20 / 12);}/*!sc*/
.saA-Dg[data-size="small"] [data-component=ButtonCounter]{font-size:12px;}/*!sc*/
.saA-Dg[data-size="small"] [data-component="buttonContent"] > :not(:last-child){margin-right:4px;}/*!sc*/
.saA-Dg[data-size="small"][data-component=IconButton]{width:28px;padding:unset;}/*!sc*/
.saA-Dg[data-size="large"]{padding:0 16px;height:40px;gap:8px;}/*!sc*/
.saA-Dg[data-size="large"] [data-component="buttonContent"] > :not(:last-child){margin-right:8px;}/*!sc*/
.saA-Dg[data-size="large"][data-component=IconButton]{width:40px;padding:unset;}/*!sc*/
.saA-Dg[data-block="block"]{width:100%;}/*!sc*/
.saA-Dg[data-inactive]:not([disabled]){background-color:var(--button-inactive-bgColor,var(--button-inactive-bgColor-rest,var(--color-btn-inactive-bg,#21262d)));border-color:var(--button-inactive-bgColor,var(--button-inactive-bgColor-rest,var(--color-btn-inactive-bg,#21262d)));color:var(--button-inactive-fgColor,var(--button-inactive-fgColor-rest,var(--color-btn-inactive-text,#8b949e)));}/*!sc*/
.saA-Dg[data-inactive]:not([disabled]):focus-visible{box-shadow:none;}/*!sc*/
.saA-Dg [data-component="leadingVisual"]{grid-area:leadingVisual;color:var(--fgColor-muted,var(--color-fg-muted,#848d97));}/*!sc*/
.saA-Dg [data-component="text"]{grid-area:text;line-height:calc(20/14);white-space:nowrap;}/*!sc*/
.saA-Dg [data-component="trailingVisual"]{grid-area:trailingVisual;}/*!sc*/
.saA-Dg [data-component="trailingAction"]{margin-right:-4px;color:var(--fgColor-muted,var(--color-fg-muted,#848d97));}/*!sc*/
.saA-Dg [data-component="buttonContent"]{-webkit-flex:1 0 auto;-ms-flex:1 0 auto;flex:1 0 auto;display:grid;grid-template-areas:"leadingVisual text trailingVisual";grid-template-columns:min-content minmax(0,auto) min-content;-webkit-align-items:center;-webkit-box-align:center;-ms-flex-align:center;align-items:center;-webkit-align-content:center;-ms-flex-line-pack:center;align-content:center;}/*!sc*/
.saA-Dg [data-component="buttonContent"] > :not(:last-child){margin-right:8px;}/*!sc*/
.saA-Dg:hover:not([disabled]){background-color:var(--control-transparent-bgColor-hover,var(--color-action-list-item-default-hover-bg,rgba(177,186,196,0.12)));-webkit-text-decoration:none;text-decoration:none;}/*!sc*/
.saA-Dg:active:not([disabled]){background-color:var(--control-transparent-bgColor-active,var(--color-action-list-item-default-active-bg,rgba(177,186,196,0.2)));-webkit-text-decoration:none;text-decoration:none;}/*!sc*/
.saA-Dg[aria-expanded=true]{background-color:var(--control-transparent-bgColor-selected,var(--color-action-list-item-default-selected-bg,rgba(177,186,196,0.08)));}/*!sc*/
.saA-Dg[data-component="IconButton"][data-no-visuals]{color:var(--fgColor-muted,var(--color-fg-muted,#848d97));}/*!sc*/
.saA-Dg[data-no-visuals]{color:var(--fgColor-accent,var(--color-accent-fg,#2f81f7));}/*!sc*/
.saA-Dg:has([data-component="ButtonCounter"]){color:var(--button-default-fgColor-rest,var(--color-btn-text,#c9d1d9));}/*!sc*/
.saA-Dg:disabled[data-no-visuals]{color:var(--fgColor-disabled,var(--color-primer-fg-disabled,#484f58));}/*!sc*/
.saA-Dg:disabled[data-no-visuals] [data-component=ButtonCounter]{color:inherit;}/*!sc*/
.saA-Dg:focus:not([disabled]){-webkit-text-decoration:none;text-decoration:none;}/*!sc*/
.hhunph{border-radius:6px;border:1px solid;border-color:transparent;font-family:inherit;font-weight:500;font-size:14px;cursor:pointer;-webkit-appearance:none;-moz-appearance:none;appearance:none;-webkit-user-select:none;-moz-user-select:none;-ms-user-select:none;user-select:none;-webkit-text-decoration:none;text-decoration:none;text-align:center;display:-webkit-box;display:-webkit-flex;display:-ms-flexbox;display:flex;-webkit-align-items:center;-webkit-box-align:center;-ms-flex-align:center;align-items:center;-webkit-box-pack:justify;-webkit-justify-content:space-between;-ms-flex-pack:justify;justify-content:space-between;height:32px;padding:0 12px;gap:8px;min-width:-webkit-max-content;min-width:-moz-max-content;min-width:max-content;-webkit-transition:80ms cubic-bezier(0.65,0,0.35,1);transition:80ms cubic-bezier(0.65,0,0.35,1);-webkit-transition-property:color,fill,background-color,border-color;transition-property:color,fill,background-color,border-color;color:var(--button-default-fgColor-rest,var(--color-btn-text,#c9d1d9));background-color:transparent;box-shadow:none;}/*!sc*/
.hhunph:focus:not(:disabled){box-shadow:none;outline:2px solid var(--fgColor-accent,var(--color-accent-fg,#2f81f7));outline-offset:-2px;}/*!sc*/
.hhunph:focus:not(:disabled):not(:focus-visible){outline:solid 1px transparent;}/*!sc*/
.hhunph:focus-visible:not(:disabled){box-shadow:none;outline:2px solid var(--fgColor-accent,var(--color-accent-fg,#2f81f7));outline-offset:-2px;}/*!sc*/
.hhunph[href]{display:-webkit-inline-box;display:-webkit-inline-flex;display:-ms-inline-flexbox;display:inline-flex;}/*!sc*/
.hhunph[href]:hover{-webkit-text-decoration:none;text-decoration:none;}/*!sc*/
.hhunph:hover{-webkit-transition-duration:80ms;transition-duration:80ms;}/*!sc*/
.hhunph:active{-webkit-transition:none;transition:none;}/*!sc*/
.hhunph[data-inactive]{cursor:auto;}/*!sc*/
.hhunph:disabled{cursor:not-allowed;box-shadow:none;color:var(--fgColor-disabled,var(--color-primer-fg-disabled,#484f58));}/*!sc*/
.hhunph:disabled [data-component=ButtonCounter],.hhunph:disabled [data-component="leadingVisual"],.hhunph:disabled [data-component="trailingAction"]{color:inherit;}/*!sc*/
@media (forced-colors:active){.hhunph:focus{outline:solid 1px transparent;}}/*!sc*/
.hhunph [data-component=ButtonCounter]{font-size:12px;}/*!sc*/
.hhunph[data-component=IconButton]{display:inline-grid;padding:unset;place-content:center;width:32px;min-width:unset;}/*!sc*/
.hhunph[data-size="small"]{padding:0 8px;height:28px;gap:4px;font-size:12px;color:var(--fgColor-default,var(--color-fg-default,#e6edf3));display:none;}/*!sc*/
.hhunph[data-size="small"] [data-component="text"]{line-height:calc(20 / 12);}/*!sc*/
.hhunph[data-size="small"] [data-component=ButtonCounter]{font-size:12px;}/*!sc*/
.hhunph[data-size="small"] [data-component="buttonContent"] > :not(:last-child){margin-right:4px;}/*!sc*/
.hhunph[data-size="small"][data-component=IconButton]{width:28px;padding:unset;}/*!sc*/
@media screen and (min-width:544px){.hhunph[data-size="small"]{display:none;}}/*!sc*/
@media screen and (min-width:768px){.hhunph[data-size="small"]{display:none;}}/*!sc*/
@media screen and (min-width:1012px){.hhunph[data-size="small"]{display:none;}}/*!sc*/
@media screen and (min-width:1280px){.hhunph[data-size="small"]{display:block;}}/*!sc*/
.hhunph[data-size="large"]{padding:0 16px;height:40px;gap:8px;}/*!sc*/
.hhunph[data-size="large"] [data-component="buttonContent"] > :not(:last-child){margin-right:8px;}/*!sc*/
.hhunph[data-size="large"][data-component=IconButton]{width:40px;padding:unset;}/*!sc*/
.hhunph[data-block="block"]{width:100%;}/*!sc*/
.hhunph[data-inactive]:not([disabled]){background-color:var(--button-inactive-bgColor,var(--button-inactive-bgColor-rest,var(--color-btn-inactive-bg,#21262d)));border-color:var(--button-inactive-bgColor,var(--button-inactive-bgColor-rest,var(--color-btn-inactive-bg,#21262d)));color:var(--button-inactive-fgColor,var(--button-inactive-fgColor-rest,var(--color-btn-inactive-text,#8b949e)));}/*!sc*/
.hhunph[data-inactive]:not([disabled]):focus-visible{box-shadow:none;}/*!sc*/
.hhunph [data-component="leadingVisual"]{grid-area:leadingVisual;color:var(--fgColor-muted,var(--color-fg-muted,#848d97));}/*!sc*/
.hhunph [data-component="text"]{grid-area:text;line-height:calc(20/14);white-space:nowrap;}/*!sc*/
.hhunph [data-component="trailingVisual"]{grid-area:trailingVisual;}/*!sc*/
.hhunph [data-component="trailingAction"]{margin-right:-4px;color:var(--fgColor-muted,var(--color-fg-muted,#848d97));}/*!sc*/
.hhunph [data-component="buttonContent"]{-webkit-flex:1 0 auto;-ms-flex:1 0 auto;flex:1 0 auto;display:grid;grid-template-areas:"leadingVisual text trailingVisual";grid-template-columns:min-content minmax(0,auto) min-content;-webkit-align-items:center;-webkit-box-align:center;-ms-flex-align:center;align-items:center;-webkit-align-content:center;-ms-flex-line-pack:center;align-content:center;}/*!sc*/
.hhunph [data-component="buttonContent"] > :not(:last-child){margin-right:8px;}/*!sc*/
.hhunph:hover:not([disabled]){background-color:var(--control-transparent-bgColor-hover,var(--color-action-list-item-default-hover-bg,rgba(177,186,196,0.12)));}/*!sc*/
.hhunph:active:not([disabled]){background-color:var(--control-transparent-bgColor-active,var(--color-action-list-item-default-active-bg,rgba(177,186,196,0.2)));}/*!sc*/
.hhunph[aria-expanded=true]{background-color:var(--control-transparent-bgColor-selected,var(--color-action-list-item-default-selected-bg,rgba(177,186,196,0.08)));}/*!sc*/
.hhunph[data-component="IconButton"][data-no-visuals]{color:var(--fgColor-muted,var(--color-fg-muted,#848d97));}/*!sc*/
.hhunph[data-no-visuals]{color:var(--fgColor-accent,var(--color-accent-fg,#2f81f7));}/*!sc*/
.hhunph:has([data-component="ButtonCounter"]){color:var(--button-default-fgColor-rest,var(--color-btn-text,#c9d1d9));}/*!sc*/
.hhunph:disabled[data-no-visuals]{color:var(--fgColor-disabled,var(--color-primer-fg-disabled,#484f58));}/*!sc*/
.hhunph:disabled[data-no-visuals] [data-component=ButtonCounter]{color:inherit;}/*!sc*/
.ecGgfP{border-radius:6px;border:1px solid;border-color:transparent;font-family:inherit;font-weight:500;font-size:14px;cursor:pointer;-webkit-appearance:none;-moz-appearance:none;appearance:none;-webkit-user-select:none;-moz-user-select:none;-ms-user-select:none;user-select:none;-webkit-text-decoration:none;text-decoration:none;text-align:center;display:-webkit-box;display:-webkit-flex;display:-ms-flexbox;display:flex;-webkit-align-items:center;-webkit-box-align:center;-ms-flex-align:center;align-items:center;-webkit-box-pack:justify;-webkit-justify-content:space-between;-ms-flex-pack:justify;justify-content:space-between;height:32px;padding:0 12px;gap:8px;min-width:-webkit-max-content;min-width:-moz-max-content;min-width:max-content;-webkit-transition:80ms cubic-bezier(0.65,0,0.35,1);transition:80ms cubic-bezier(0.65,0,0.35,1);-webkit-transition-property:color,fill,background-color,border-color;transition-property:color,fill,background-color,border-color;color:var(--button-default-fgColor-rest,var(--color-btn-text,#c9d1d9));background-color:transparent;box-shadow:none;}/*!sc*/
.ecGgfP:focus:not(:disabled){box-shadow:none;outline:2px solid var(--fgColor-accent,var(--color-accent-fg,#2f81f7));outline-offset:-2px;}/*!sc*/
.ecGgfP:focus:not(:disabled):not(:focus-visible){outline:solid 1px transparent;}/*!sc*/
.ecGgfP:focus-visible:not(:disabled){box-shadow:none;outline:2px solid var(--fgColor-accent,var(--color-accent-fg,#2f81f7));outline-offset:-2px;}/*!sc*/
.ecGgfP[href]{display:-webkit-inline-box;display:-webkit-inline-flex;display:-ms-inline-flexbox;display:inline-flex;}/*!sc*/
.ecGgfP[href]:hover{-webkit-text-decoration:none;text-decoration:none;}/*!sc*/
.ecGgfP:hover{-webkit-transition-duration:80ms;transition-duration:80ms;}/*!sc*/
.ecGgfP:active{-webkit-transition:none;transition:none;}/*!sc*/
.ecGgfP[data-inactive]{cursor:auto;}/*!sc*/
.ecGgfP:disabled{cursor:not-allowed;box-shadow:none;color:var(--fgColor-disabled,var(--color-primer-fg-disabled,#484f58));}/*!sc*/
.ecGgfP:disabled [data-component=ButtonCounter],.ecGgfP:disabled [data-component="leadingVisual"],.ecGgfP:disabled [data-component="trailingAction"]{color:inherit;}/*!sc*/
@media (forced-colors:active){.ecGgfP:focus{outline:solid 1px transparent;}}/*!sc*/
.ecGgfP [data-component=ButtonCounter]{font-size:12px;}/*!sc*/
.ecGgfP[data-component=IconButton]{display:inline-grid;padding:unset;place-content:center;width:32px;min-width:unset;}/*!sc*/
.ecGgfP[data-size="small"]{padding:0 8px;height:28px;gap:4px;font-size:12px;color:var(--fgColor-default,var(--color-fg-default,#e6edf3));margin-left:8px;}/*!sc*/
.ecGgfP[data-size="small"] [data-component="text"]{line-height:calc(20 / 12);}/*!sc*/
.ecGgfP[data-size="small"] [data-component=ButtonCounter]{font-size:12px;}/*!sc*/
.ecGgfP[data-size="small"] [data-component="buttonContent"] > :not(:last-child){margin-right:4px;}/*!sc*/
.ecGgfP[data-size="small"][data-component=IconButton]{width:28px;padding:unset;}/*!sc*/
.ecGgfP[data-size="large"]{padding:0 16px;height:40px;gap:8px;}/*!sc*/
.ecGgfP[data-size="large"] [data-component="buttonContent"] > :not(:last-child){margin-right:8px;}/*!sc*/
.ecGgfP[data-size="large"][data-component=IconButton]{width:40px;padding:unset;}/*!sc*/
.ecGgfP[data-block="block"]{width:100%;}/*!sc*/
.ecGgfP[data-inactive]:not([disabled]){background-color:var(--button-inactive-bgColor,var(--button-inactive-bgColor-rest,var(--color-btn-inactive-bg,#21262d)));border-color:var(--button-inactive-bgColor,var(--button-inactive-bgColor-rest,var(--color-btn-inactive-bg,#21262d)));color:var(--button-inactive-fgColor,var(--button-inactive-fgColor-rest,var(--color-btn-inactive-text,#8b949e)));}/*!sc*/
.ecGgfP[data-inactive]:not([disabled]):focus-visible{box-shadow:none;}/*!sc*/
.ecGgfP [data-component="leadingVisual"]{grid-area:leadingVisual;color:var(--fgColor-muted,var(--color-fg-muted,#848d97));}/*!sc*/
.ecGgfP [data-component="text"]{grid-area:text;line-height:calc(20/14);white-space:nowrap;}/*!sc*/
.ecGgfP [data-component="trailingVisual"]{grid-area:trailingVisual;}/*!sc*/
.ecGgfP [data-component="trailingAction"]{margin-right:-4px;color:var(--fgColor-muted,var(--color-fg-muted,#848d97));}/*!sc*/
.ecGgfP [data-component="buttonContent"]{-webkit-flex:1 0 auto;-ms-flex:1 0 auto;flex:1 0 auto;display:grid;grid-template-areas:"leadingVisual text trailingVisual";grid-template-columns:min-content minmax(0,auto) min-content;-webkit-align-items:center;-webkit-box-align:center;-ms-flex-align:center;align-items:center;-webkit-align-content:center;-ms-flex-line-pack:center;align-content:center;}/*!sc*/
.ecGgfP [data-component="buttonContent"] > :not(:last-child){margin-right:8px;}/*!sc*/
.ecGgfP:hover:not([disabled]){background-color:var(--control-transparent-bgColor-hover,var(--color-action-list-item-default-hover-bg,rgba(177,186,196,0.12)));}/*!sc*/
.ecGgfP:active:not([disabled]){background-color:var(--control-transparent-bgColor-active,var(--color-action-list-item-default-active-bg,rgba(177,186,196,0.2)));}/*!sc*/
.ecGgfP[aria-expanded=true]{background-color:var(--control-transparent-bgColor-selected,var(--color-action-list-item-default-selected-bg,rgba(177,186,196,0.08)));}/*!sc*/
.ecGgfP[data-component="IconButton"][data-no-visuals]{color:var(--fgColor-muted,var(--color-fg-muted,#848d97));}/*!sc*/
.ecGgfP[data-no-visuals]{color:var(--fgColor-accent,var(--color-accent-fg,#2f81f7));}/*!sc*/
.ecGgfP:has([data-component="ButtonCounter"]){color:var(--button-default-fgColor-rest,var(--color-btn-text,#c9d1d9));}/*!sc*/
.ecGgfP:disabled[data-no-visuals]{color:var(--fgColor-disabled,var(--color-primer-fg-disabled,#484f58));}/*!sc*/
.ecGgfP:disabled[data-no-visuals] [data-component=ButtonCounter]{color:inherit;}/*!sc*/
.ctvgFa{border-radius:6px;border:1px solid;border-color:var(--button-default-borderColor-rest,var(--button-default-borderColor-rest,var(--color-btn-border,rgba(240,246,252,0.1))));font-family:inherit;font-weight:500;font-size:14px;cursor:pointer;-webkit-appearance:none;-moz-appearance:none;appearance:none;-webkit-user-select:none;-moz-user-select:none;-ms-user-select:none;user-select:none;-webkit-text-decoration:none;text-decoration:none;text-align:center;display:-webkit-box;display:-webkit-flex;display:-ms-flexbox;display:flex;-webkit-align-items:center;-webkit-box-align:center;-ms-flex-align:center;align-items:center;-webkit-box-pack:justify;-webkit-justify-content:space-between;-ms-flex-pack:justify;justify-content:space-between;height:32px;padding:0 12px;gap:8px;min-width:-webkit-max-content;min-width:-moz-max-content;min-width:max-content;-webkit-transition:80ms cubic-bezier(0.65,0,0.35,1);transition:80ms cubic-bezier(0.65,0,0.35,1);-webkit-transition-property:color,fill,background-color,border-color;transition-property:color,fill,background-color,border-color;color:var(--button-default-fgColor-rest,var(--color-btn-text,#c9d1d9));background-color:var(--button-default-bgColor-rest,var(--color-btn-bg,#21262d));box-shadow:var(--button-default-shadow-resting,var(--color-btn-shadow,0 0 transparent)),var(--button-default-shadow-inset,var(--color-btn-inset-shadow,0 0 transparent));padding-left:8px;padding-right:8px;}/*!sc*/
.ctvgFa:focus:not(:disabled){box-shadow:none;outline:2px solid var(--fgColor-accent,var(--color-accent-fg,#2f81f7));outline-offset:-2px;}/*!sc*/
.ctvgFa:focus:not(:disabled):not(:focus-visible){outline:solid 1px transparent;}/*!sc*/
.ctvgFa:focus-visible:not(:disabled){box-shadow:none;outline:2px solid var(--fgColor-accent,var(--color-accent-fg,#2f81f7));outline-offset:-2px;}/*!sc*/
.ctvgFa[href]{display:-webkit-inline-box;display:-webkit-inline-flex;display:-ms-inline-flexbox;display:inline-flex;}/*!sc*/
.ctvgFa[href]:hover{-webkit-text-decoration:none;text-decoration:none;}/*!sc*/
.ctvgFa:hover{-webkit-transition-duration:80ms;transition-duration:80ms;}/*!sc*/
.ctvgFa:active{-webkit-transition:none;transition:none;}/*!sc*/
.ctvgFa[data-inactive]{cursor:auto;}/*!sc*/
.ctvgFa:disabled{cursor:not-allowed;box-shadow:none;color:var(--fgColor-disabled,var(--color-primer-fg-disabled,#484f58));}/*!sc*/
.ctvgFa:disabled [data-component=ButtonCounter]{color:inherit;}/*!sc*/
@media (forced-colors:active){.ctvgFa:focus{outline:solid 1px transparent;}}/*!sc*/
.ctvgFa [data-component=ButtonCounter]{font-size:12px;}/*!sc*/
.ctvgFa[data-component=IconButton]{display:inline-grid;padding:unset;place-content:center;width:32px;min-width:unset;}/*!sc*/
.ctvgFa[data-size="small"]{padding:0 8px;height:28px;gap:4px;font-size:12px;}/*!sc*/
.ctvgFa[data-size="small"] [data-component="text"]{line-height:calc(20 / 12);}/*!sc*/
.ctvgFa[data-size="small"] [data-component=ButtonCounter]{font-size:12px;}/*!sc*/
.ctvgFa[data-size="small"] [data-component="buttonContent"] > :not(:last-child){margin-right:4px;}/*!sc*/
.ctvgFa[data-size="small"][data-component=IconButton]{width:28px;padding:unset;}/*!sc*/
.ctvgFa[data-size="large"]{padding:0 16px;height:40px;gap:8px;}/*!sc*/
.ctvgFa[data-size="large"] [data-component="buttonContent"] > :not(:last-child){margin-right:8px;}/*!sc*/
.ctvgFa[data-size="large"][data-component=IconButton]{width:40px;padding:unset;}/*!sc*/
.ctvgFa[data-block="block"]{width:100%;}/*!sc*/
.ctvgFa[data-inactive]:not([disabled]){background-color:var(--button-inactive-bgColor,var(--button-inactive-bgColor-rest,var(--color-btn-inactive-bg,#21262d)));border-color:var(--button-inactive-bgColor,var(--button-inactive-bgColor-rest,var(--color-btn-inactive-bg,#21262d)));color:var(--button-inactive-fgColor,var(--button-inactive-fgColor-rest,var(--color-btn-inactive-text,#8b949e)));}/*!sc*/
.ctvgFa[data-inactive]:not([disabled]):focus-visible{box-shadow:none;}/*!sc*/
.ctvgFa [data-component="leadingVisual"]{grid-area:leadingVisual;}/*!sc*/
.ctvgFa [data-component="text"]{grid-area:text;line-height:calc(20/14);white-space:nowrap;}/*!sc*/
.ctvgFa [data-component="trailingVisual"]{grid-area:trailingVisual;}/*!sc*/
.ctvgFa [data-component="trailingAction"]{margin-right:-4px;}/*!sc*/
.ctvgFa [data-component="buttonContent"]{-webkit-flex:1 0 auto;-ms-flex:1 0 auto;flex:1 0 auto;display:grid;grid-template-areas:"leadingVisual text trailingVisual";grid-template-columns:min-content minmax(0,auto) min-content;-webkit-align-items:center;-webkit-box-align:center;-ms-flex-align:center;align-items:center;-webkit-align-content:center;-ms-flex-line-pack:center;align-content:center;}/*!sc*/
.ctvgFa [data-component="buttonContent"] > :not(:last-child){margin-right:8px;}/*!sc*/
.ctvgFa:hover:not([disabled]):not([data-inactive]){background-color:var(--button-default-bgColor-hover,var(--color-btn-hover-bg,#30363d));border-color:var(--button-default-borderColor-hover,var(--button-default-borderColor-hover,var(--color-btn-hover-border,#8b949e)));}/*!sc*/
.ctvgFa:active:not([disabled]):not([data-inactive]){background-color:var(--button-default-bgColor-active,var(--color-btn-active-bg,hsla(212,12%,18%,1)));border-color:var(--button-default-borderColor-active,var(--button-default-borderColor-active,var(--color-btn-active-border,#6e7681)));}/*!sc*/
.ctvgFa[aria-expanded=true]{background-color:var(--button-default-bgColor-active,var(--color-btn-active-bg,hsla(212,12%,18%,1)));border-color:var(--button-default-borderColor-active,var(--button-default-borderColor-active,var(--color-btn-active-border,#6e7681)));}/*!sc*/
.ctvgFa [data-component="leadingVisual"],.ctvgFa [data-component="trailingVisual"],.ctvgFa [data-component="trailingAction"]{color:var(--button-color,var(--fgColor-muted,var(--color-fg-muted,#848d97)));}/*!sc*/
.ctvgFa linkButtonSx:hover:not([disabled]){-webkit-text-decoration:none;text-decoration:none;}/*!sc*/
.ctvgFa linkButtonSx:focus:not([disabled]){-webkit-text-decoration:none;text-decoration:none;}/*!sc*/
.ctvgFa linkButtonSx:active:not([disabled]){-webkit-text-decoration:none;text-decoration:none;}/*!sc*/
.iqlNQz{border-radius:6px;border:1px solid;border-color:var(--button-default-borderColor-rest,var(--button-default-borderColor-rest,var(--color-btn-border,rgba(240,246,252,0.1))));font-family:inherit;font-weight:500;font-size:14px;cursor:pointer;-webkit-appearance:none;-moz-appearance:none;appearance:none;-webkit-user-select:none;-moz-user-select:none;-ms-user-select:none;user-select:none;-webkit-text-decoration:none;text-decoration:none;text-align:center;display:-webkit-box;display:-webkit-flex;display:-ms-flexbox;display:flex;-webkit-align-items:center;-webkit-box-align:center;-ms-flex-align:center;align-items:center;-webkit-box-pack:justify;-webkit-justify-content:space-between;-ms-flex-pack:justify;justify-content:space-between;height:32px;padding:0 12px;gap:8px;min-width:-webkit-max-content;min-width:-moz-max-content;min-width:max-content;-webkit-transition:80ms cubic-bezier(0.65,0,0.35,1);transition:80ms cubic-bezier(0.65,0,0.35,1);-webkit-transition-property:color,fill,background-color,border-color;transition-property:color,fill,background-color,border-color;color:var(--button-default-fgColor-rest,var(--color-btn-text,#c9d1d9));background-color:var(--button-default-bgColor-rest,var(--color-btn-bg,#21262d));box-shadow:var(--button-default-shadow-resting,var(--color-btn-shadow,0 0 transparent)),var(--button-default-shadow-inset,var(--color-btn-inset-shadow,0 0 transparent));}/*!sc*/
.iqlNQz:focus:not(:disabled){box-shadow:none;outline:2px solid var(--fgColor-accent,var(--color-accent-fg,#2f81f7));outline-offset:-2px;}/*!sc*/
.iqlNQz:focus:not(:disabled):not(:focus-visible){outline:solid 1px transparent;}/*!sc*/
.iqlNQz:focus-visible:not(:disabled){box-shadow:none;outline:2px solid var(--fgColor-accent,var(--color-accent-fg,#2f81f7));outline-offset:-2px;}/*!sc*/
.iqlNQz[href]{display:-webkit-inline-box;display:-webkit-inline-flex;display:-ms-inline-flexbox;display:inline-flex;}/*!sc*/
.iqlNQz[href]:hover{-webkit-text-decoration:none;text-decoration:none;}/*!sc*/
.iqlNQz:hover{-webkit-transition-duration:80ms;transition-duration:80ms;}/*!sc*/
.iqlNQz:active{-webkit-transition:none;transition:none;}/*!sc*/
.iqlNQz[data-inactive]{cursor:auto;}/*!sc*/
.iqlNQz:disabled{cursor:not-allowed;box-shadow:none;color:var(--fgColor-disabled,var(--color-primer-fg-disabled,#484f58));}/*!sc*/
.iqlNQz:disabled [data-component=ButtonCounter]{color:inherit;}/*!sc*/
@media (forced-colors:active){.iqlNQz:focus{outline:solid 1px transparent;}}/*!sc*/
.iqlNQz [data-component=ButtonCounter]{font-size:12px;}/*!sc*/
.iqlNQz[data-component=IconButton]{display:inline-grid;padding:unset;place-content:center;width:32px;min-width:unset;}/*!sc*/
.iqlNQz[data-size="small"]{padding:0 8px;height:28px;gap:4px;font-size:12px;}/*!sc*/
.iqlNQz[data-size="small"] [data-component="text"]{line-height:calc(20 / 12);}/*!sc*/
.iqlNQz[data-size="small"] [data-component=ButtonCounter]{font-size:12px;}/*!sc*/
.iqlNQz[data-size="small"] [data-component="buttonContent"] > :not(:last-child){margin-right:4px;}/*!sc*/
.iqlNQz[data-size="small"][data-component=IconButton]{width:28px;padding:unset;}/*!sc*/
.iqlNQz[data-size="large"]{padding:0 16px;height:40px;gap:8px;}/*!sc*/
.iqlNQz[data-size="large"] [data-component="buttonContent"] > :not(:last-child){margin-right:8px;}/*!sc*/
.iqlNQz[data-size="large"][data-component=IconButton]{width:40px;padding:unset;}/*!sc*/
.iqlNQz[data-block="block"]{width:100%;}/*!sc*/
.iqlNQz[data-inactive]:not([disabled]){background-color:var(--button-inactive-bgColor,var(--button-inactive-bgColor-rest,var(--color-btn-inactive-bg,#21262d)));border-color:var(--button-inactive-bgColor,var(--button-inactive-bgColor-rest,var(--color-btn-inactive-bg,#21262d)));color:var(--button-inactive-fgColor,var(--button-inactive-fgColor-rest,var(--color-btn-inactive-text,#8b949e)));}/*!sc*/
.iqlNQz[data-inactive]:not([disabled]):focus-visible{box-shadow:none;}/*!sc*/
.iqlNQz [data-component="leadingVisual"]{grid-area:leadingVisual;}/*!sc*/
.iqlNQz [data-component="text"]{grid-area:text;line-height:calc(20/14);white-space:nowrap;}/*!sc*/
.iqlNQz [data-component="trailingVisual"]{grid-area:trailingVisual;}/*!sc*/
.iqlNQz [data-component="trailingAction"]{margin-right:-4px;}/*!sc*/
.iqlNQz [data-component="buttonContent"]{-webkit-flex:1 0 auto;-ms-flex:1 0 auto;flex:1 0 auto;display:grid;grid-template-areas:"leadingVisual text trailingVisual";grid-template-columns:min-content minmax(0,auto) min-content;-webkit-align-items:center;-webkit-box-align:center;-ms-flex-align:center;align-items:center;-webkit-align-content:center;-ms-flex-line-pack:center;align-content:center;}/*!sc*/
.iqlNQz [data-component="buttonContent"] > :not(:last-child){margin-right:8px;}/*!sc*/
.iqlNQz:hover:not([disabled]):not([data-inactive]){background-color:var(--button-default-bgColor-hover,var(--color-btn-hover-bg,#30363d));border-color:var(--button-default-borderColor-hover,var(--button-default-borderColor-hover,var(--color-btn-hover-border,#8b949e)));}/*!sc*/
.iqlNQz:active:not([disabled]):not([data-inactive]){background-color:var(--button-default-bgColor-active,var(--color-btn-active-bg,hsla(212,12%,18%,1)));border-color:var(--button-default-borderColor-active,var(--button-default-borderColor-active,var(--color-btn-active-border,#6e7681)));}/*!sc*/
.iqlNQz[aria-expanded=true]{background-color:var(--button-default-bgColor-active,var(--color-btn-active-bg,hsla(212,12%,18%,1)));border-color:var(--button-default-borderColor-active,var(--button-default-borderColor-active,var(--color-btn-active-border,#6e7681)));}/*!sc*/
.iqlNQz [data-component="leadingVisual"],.iqlNQz [data-component="trailingVisual"],.iqlNQz [data-component="trailingAction"]{color:var(--button-color,var(--fgColor-muted,var(--color-fg-muted,#848d97)));}/*!sc*/
.jKmxIb{border-radius:6px;border:1px solid;border-color:var(--button-default-borderColor-rest,var(--button-default-borderColor-rest,var(--color-btn-border,rgba(240,246,252,0.1))));font-family:inherit;font-weight:500;font-size:14px;cursor:pointer;-webkit-appearance:none;-moz-appearance:none;appearance:none;-webkit-user-select:none;-moz-user-select:none;-ms-user-select:none;user-select:none;-webkit-text-decoration:none;text-decoration:none;text-align:center;display:-webkit-box;display:-webkit-flex;display:-ms-flexbox;display:flex;-webkit-align-items:center;-webkit-box-align:center;-ms-flex-align:center;align-items:center;-webkit-box-pack:justify;-webkit-justify-content:space-between;-ms-flex-pack:justify;justify-content:space-between;height:32px;padding:0 12px;gap:8px;min-width:-webkit-max-content;min-width:-moz-max-content;min-width:max-content;-webkit-transition:80ms cubic-bezier(0.65,0,0.35,1);transition:80ms cubic-bezier(0.65,0,0.35,1);-webkit-transition-property:color,fill,background-color,border-color;transition-property:color,fill,background-color,border-color;color:var(--button-default-fgColor-rest,var(--color-btn-text,#c9d1d9));background-color:var(--button-default-bgColor-rest,var(--color-btn-bg,#21262d));box-shadow:var(--button-default-shadow-resting,var(--color-btn-shadow,0 0 transparent)),var(--button-default-shadow-inset,var(--color-btn-inset-shadow,0 0 transparent));}/*!sc*/
.jKmxIb:focus:not(:disabled){box-shadow:none;outline:2px solid var(--fgColor-accent,var(--color-accent-fg,#2f81f7));outline-offset:-2px;}/*!sc*/
.jKmxIb:focus:not(:disabled):not(:focus-visible){outline:solid 1px transparent;}/*!sc*/
.jKmxIb:focus-visible:not(:disabled){box-shadow:none;outline:2px solid var(--fgColor-accent,var(--color-accent-fg,#2f81f7));outline-offset:-2px;}/*!sc*/
.jKmxIb[href]{display:-webkit-inline-box;display:-webkit-inline-flex;display:-ms-inline-flexbox;display:inline-flex;}/*!sc*/
.jKmxIb[href]:hover{-webkit-text-decoration:none;text-decoration:none;}/*!sc*/
.jKmxIb:hover{-webkit-transition-duration:80ms;transition-duration:80ms;}/*!sc*/
.jKmxIb:active{-webkit-transition:none;transition:none;}/*!sc*/
.jKmxIb[data-inactive]{cursor:auto;}/*!sc*/
.jKmxIb:disabled{cursor:not-allowed;box-shadow:none;color:var(--fgColor-disabled,var(--color-primer-fg-disabled,#484f58));}/*!sc*/
.jKmxIb:disabled [data-component=ButtonCounter]{color:inherit;}/*!sc*/
@media (forced-colors:active){.jKmxIb:focus{outline:solid 1px transparent;}}/*!sc*/
.jKmxIb [data-component=ButtonCounter]{font-size:12px;}/*!sc*/
.jKmxIb[data-component=IconButton]{display:inline-grid;padding:unset;place-content:center;width:32px;min-width:unset;}/*!sc*/
.jKmxIb[data-size="small"]{padding:0 8px;height:28px;gap:4px;font-size:12px;}/*!sc*/
.jKmxIb[data-size="small"] [data-component="text"]{line-height:calc(20 / 12);}/*!sc*/
.jKmxIb[data-size="small"] [data-component=ButtonCounter]{font-size:12px;}/*!sc*/
.jKmxIb[data-size="small"] [data-component="buttonContent"] > :not(:last-child){margin-right:4px;}/*!sc*/
.jKmxIb[data-size="small"][data-component=IconButton]{width:28px;padding:unset;}/*!sc*/
.jKmxIb[data-size="large"]{padding:0 16px;height:40px;gap:8px;}/*!sc*/
.jKmxIb[data-size="large"] [data-component="buttonContent"] > :not(:last-child){margin-right:8px;}/*!sc*/
.jKmxIb[data-size="large"][data-component=IconButton]{width:40px;padding:unset;}/*!sc*/
.jKmxIb[data-block="block"]{width:100%;}/*!sc*/
.jKmxIb[data-inactive]:not([disabled]){background-color:var(--button-inactive-bgColor,var(--button-inactive-bgColor-rest,var(--color-btn-inactive-bg,#21262d)));border-color:var(--button-inactive-bgColor,var(--button-inactive-bgColor-rest,var(--color-btn-inactive-bg,#21262d)));color:var(--button-inactive-fgColor,var(--button-inactive-fgColor-rest,var(--color-btn-inactive-text,#8b949e)));}/*!sc*/
.jKmxIb[data-inactive]:not([disabled]):focus-visible{box-shadow:none;}/*!sc*/
.jKmxIb [data-component="leadingVisual"]{grid-area:leadingVisual;}/*!sc*/
.jKmxIb [data-component="text"]{grid-area:text;line-height:calc(20/14);white-space:nowrap;}/*!sc*/
.jKmxIb [data-component="trailingVisual"]{grid-area:trailingVisual;}/*!sc*/
.jKmxIb [data-component="trailingAction"]{margin-right:-4px;}/*!sc*/
.jKmxIb [data-component="buttonContent"]{-webkit-flex:1 0 auto;-ms-flex:1 0 auto;flex:1 0 auto;display:grid;grid-template-areas:"leadingVisual text trailingVisual";grid-template-columns:min-content minmax(0,auto) min-content;-webkit-align-items:center;-webkit-box-align:center;-ms-flex-align:center;align-items:center;-webkit-align-content:center;-ms-flex-line-pack:center;align-content:center;}/*!sc*/
.jKmxIb [data-component="buttonContent"] > :not(:last-child){margin-right:8px;}/*!sc*/
.jKmxIb:hover:not([disabled]):not([data-inactive]){background-color:var(--button-default-bgColor-hover,var(--color-btn-hover-bg,#30363d));border-color:var(--button-default-borderColor-hover,var(--button-default-borderColor-hover,var(--color-btn-hover-border,#8b949e)));}/*!sc*/
.jKmxIb:active:not([disabled]):not([data-inactive]){background-color:var(--button-default-bgColor-active,var(--color-btn-active-bg,hsla(212,12%,18%,1)));border-color:var(--button-default-borderColor-active,var(--button-default-borderColor-active,var(--color-btn-active-border,#6e7681)));}/*!sc*/
.jKmxIb[aria-expanded=true]{background-color:var(--button-default-bgColor-active,var(--color-btn-active-bg,hsla(212,12%,18%,1)));border-color:var(--button-default-borderColor-active,var(--button-default-borderColor-active,var(--color-btn-active-border,#6e7681)));}/*!sc*/
.jKmxIb [data-component="leadingVisual"],.jKmxIb [data-component="trailingVisual"],.jKmxIb [data-component="trailingAction"]{color:var(--button-color,var(--fgColor-muted,var(--color-fg-muted,#848d97)));}/*!sc*/
.jKmxIb[data-size="small"][data-no-visuals]{border-top-left-radius:0;border-bottom-left-radius:0;}/*!sc*/
.iwejsh{border-radius:6px;border:1px solid;border-color:var(--button-default-borderColor-rest,var(--button-default-borderColor-rest,var(--color-btn-border,rgba(240,246,252,0.1))));font-family:inherit;font-weight:500;font-size:14px;cursor:pointer;-webkit-appearance:none;-moz-appearance:none;appearance:none;-webkit-user-select:none;-moz-user-select:none;-ms-user-select:none;user-select:none;-webkit-text-decoration:none;text-decoration:none;text-align:center;display:-webkit-box;display:-webkit-flex;display:-ms-flexbox;display:flex;-webkit-align-items:center;-webkit-box-align:center;-ms-flex-align:center;align-items:center;-webkit-box-pack:justify;-webkit-justify-content:space-between;-ms-flex-pack:justify;justify-content:space-between;height:32px;padding:0 12px;gap:8px;min-width:-webkit-max-content;min-width:-moz-max-content;min-width:max-content;-webkit-transition:80ms cubic-bezier(0.65,0,0.35,1);transition:80ms cubic-bezier(0.65,0,0.35,1);-webkit-transition-property:color,fill,background-color,border-color;transition-property:color,fill,background-color,border-color;color:var(--button-default-fgColor-rest,var(--color-btn-text,#c9d1d9));background-color:var(--button-default-bgColor-rest,var(--color-btn-bg,#21262d));box-shadow:var(--button-default-shadow-resting,var(--color-btn-shadow,0 0 transparent)),var(--button-default-shadow-inset,var(--color-btn-inset-shadow,0 0 transparent));}/*!sc*/
.iwejsh:focus:not(:disabled){box-shadow:none;outline:2px solid var(--fgColor-accent,var(--color-accent-fg,#2f81f7));outline-offset:-2px;}/*!sc*/
.iwejsh:focus:not(:disabled):not(:focus-visible){outline:solid 1px transparent;}/*!sc*/
.iwejsh:focus-visible:not(:disabled){box-shadow:none;outline:2px solid var(--fgColor-accent,var(--color-accent-fg,#2f81f7));outline-offset:-2px;}/*!sc*/
.iwejsh[href]{display:-webkit-inline-box;display:-webkit-inline-flex;display:-ms-inline-flexbox;display:inline-flex;}/*!sc*/
.iwejsh[href]:hover{-webkit-text-decoration:none;text-decoration:none;}/*!sc*/
.iwejsh:hover{-webkit-transition-duration:80ms;transition-duration:80ms;}/*!sc*/
.iwejsh:active{-webkit-transition:none;transition:none;}/*!sc*/
.iwejsh[data-inactive]{cursor:auto;}/*!sc*/
.iwejsh:disabled{cursor:not-allowed;box-shadow:none;color:var(--fgColor-disabled,var(--color-primer-fg-disabled,#484f58));}/*!sc*/
.iwejsh:disabled [data-component=ButtonCounter]{color:inherit;}/*!sc*/
@media (forced-colors:active){.iwejsh:focus{outline:solid 1px transparent;}}/*!sc*/
.iwejsh [data-component=ButtonCounter]{font-size:12px;}/*!sc*/
.iwejsh[data-component=IconButton]{display:inline-grid;padding:unset;place-content:center;width:32px;min-width:unset;}/*!sc*/
.iwejsh[data-size="small"]{padding:0 8px;height:28px;gap:4px;font-size:12px;}/*!sc*/
.iwejsh[data-size="small"] [data-component="text"]{line-height:calc(20 / 12);}/*!sc*/
.iwejsh[data-size="small"] [data-component=ButtonCounter]{font-size:12px;}/*!sc*/
.iwejsh[data-size="small"] [data-component="buttonContent"] > :not(:last-child){margin-right:4px;}/*!sc*/
.iwejsh[data-size="small"][data-component=IconButton]{width:28px;padding:unset;}/*!sc*/
.iwejsh[data-size="large"]{padding:0 16px;height:40px;gap:8px;}/*!sc*/
.iwejsh[data-size="large"] [data-component="buttonContent"] > :not(:last-child){margin-right:8px;}/*!sc*/
.iwejsh[data-size="large"][data-component=IconButton]{width:40px;padding:unset;}/*!sc*/
.iwejsh[data-block="block"]{width:100%;}/*!sc*/
.iwejsh[data-inactive]:not([disabled]){background-color:var(--button-inactive-bgColor,var(--button-inactive-bgColor-rest,var(--color-btn-inactive-bg,#21262d)));border-color:var(--button-inactive-bgColor,var(--button-inactive-bgColor-rest,var(--color-btn-inactive-bg,#21262d)));color:var(--button-inactive-fgColor,var(--button-inactive-fgColor-rest,var(--color-btn-inactive-text,#8b949e)));}/*!sc*/
.iwejsh[data-inactive]:not([disabled]):focus-visible{box-shadow:none;}/*!sc*/
.iwejsh [data-component="leadingVisual"]{grid-area:leadingVisual;}/*!sc*/
.iwejsh [data-component="text"]{grid-area:text;line-height:calc(20/14);white-space:nowrap;}/*!sc*/
.iwejsh [data-component="trailingVisual"]{grid-area:trailingVisual;}/*!sc*/
.iwejsh [data-component="trailingAction"]{margin-right:-4px;}/*!sc*/
.iwejsh [data-component="buttonContent"]{-webkit-flex:1 0 auto;-ms-flex:1 0 auto;flex:1 0 auto;display:grid;grid-template-areas:"leadingVisual text trailingVisual";grid-template-columns:min-content minmax(0,auto) min-content;-webkit-align-items:center;-webkit-box-align:center;-ms-flex-align:center;align-items:center;-webkit-align-content:center;-ms-flex-line-pack:center;align-content:center;}/*!sc*/
.iwejsh [data-component="buttonContent"] > :not(:last-child){margin-right:8px;}/*!sc*/
.iwejsh:hover:not([disabled]):not([data-inactive]){background-color:var(--button-default-bgColor-hover,var(--color-btn-hover-bg,#30363d));border-color:var(--button-default-borderColor-hover,var(--button-default-borderColor-hover,var(--color-btn-hover-border,#8b949e)));}/*!sc*/
.iwejsh:active:not([disabled]):not([data-inactive]){background-color:var(--button-default-bgColor-active,var(--color-btn-active-bg,hsla(212,12%,18%,1)));border-color:var(--button-default-borderColor-active,var(--button-default-borderColor-active,var(--color-btn-active-border,#6e7681)));}/*!sc*/
.iwejsh[aria-expanded=true]{background-color:var(--button-default-bgColor-active,var(--color-btn-active-bg,hsla(212,12%,18%,1)));border-color:var(--button-default-borderColor-active,var(--button-default-borderColor-active,var(--color-btn-active-border,#6e7681)));}/*!sc*/
.iwejsh [data-component="leadingVisual"],.iwejsh [data-component="trailingVisual"],.iwejsh [data-component="trailingAction"]{color:var(--button-color,var(--fgColor-muted,var(--color-fg-muted,#848d97)));}/*!sc*/
.iwejsh[data-size="small"][data-no-visuals]{border-top-right-radius:0;border-bottom-right-radius:0;border-right-width:0;}/*!sc*/
.iwejsh[data-size="small"][data-no-visuals]:hover:not([disabled]){-webkit-text-decoration:none;text-decoration:none;}/*!sc*/
.iwejsh[data-size="small"][data-no-visuals]:focus:not([disabled]){-webkit-text-decoration:none;text-decoration:none;}/*!sc*/
.iwejsh[data-size="small"][data-no-visuals]:active:not([disabled]){-webkit-text-decoration:none;text-decoration:none;}/*!sc*/
.htXhGX{border-radius:6px;border:1px solid;border-color:transparent;font-family:inherit;font-weight:500;font-size:14px;cursor:pointer;-webkit-appearance:none;-moz-appearance:none;appearance:none;-webkit-user-select:none;-moz-user-select:none;-ms-user-select:none;user-select:none;-webkit-text-decoration:none;text-decoration:none;text-align:center;display:-webkit-box;display:-webkit-flex;display:-ms-flexbox;display:flex;-webkit-align-items:center;-webkit-box-align:center;-ms-flex-align:center;align-items:center;-webkit-box-pack:justify;-webkit-justify-content:space-between;-ms-flex-pack:justify;justify-content:space-between;height:32px;padding:0 12px;gap:8px;min-width:-webkit-max-content;min-width:-moz-max-content;min-width:max-content;-webkit-transition:80ms cubic-bezier(0.65,0,0.35,1);transition:80ms cubic-bezier(0.65,0,0.35,1);-webkit-transition-property:color,fill,background-color,border-color;transition-property:color,fill,background-color,border-color;color:var(--button-default-fgColor-rest,var(--color-btn-text,#c9d1d9));background-color:transparent;box-shadow:none;}/*!sc*/
.htXhGX:focus:not(:disabled){box-shadow:none;outline:2px solid var(--fgColor-accent,var(--color-accent-fg,#2f81f7));outline-offset:-2px;}/*!sc*/
.htXhGX:focus:not(:disabled):not(:focus-visible){outline:solid 1px transparent;}/*!sc*/
.htXhGX:focus-visible:not(:disabled){box-shadow:none;outline:2px solid var(--fgColor-accent,var(--color-accent-fg,#2f81f7));outline-offset:-2px;}/*!sc*/
.htXhGX[href]{display:-webkit-inline-box;display:-webkit-inline-flex;display:-ms-inline-flexbox;display:inline-flex;}/*!sc*/
.htXhGX[href]:hover{-webkit-text-decoration:none;text-decoration:none;}/*!sc*/
.htXhGX:hover{-webkit-transition-duration:80ms;transition-duration:80ms;}/*!sc*/
.htXhGX:active{-webkit-transition:none;transition:none;}/*!sc*/
.htXhGX[data-inactive]{cursor:auto;}/*!sc*/
.htXhGX:disabled{cursor:not-allowed;box-shadow:none;color:var(--fgColor-disabled,var(--color-primer-fg-disabled,#484f58));}/*!sc*/
.htXhGX:disabled [data-component=ButtonCounter],.htXhGX:disabled [data-component="leadingVisual"],.htXhGX:disabled [data-component="trailingAction"]{color:inherit;}/*!sc*/
@media (forced-colors:active){.htXhGX:focus{outline:solid 1px transparent;}}/*!sc*/
.htXhGX [data-component=ButtonCounter]{font-size:12px;}/*!sc*/
.htXhGX[data-component=IconButton]{display:inline-grid;padding:unset;place-content:center;width:32px;min-width:unset;}/*!sc*/
.htXhGX[data-size="small"]{padding:0 8px;height:28px;gap:4px;font-size:12px;}/*!sc*/
.htXhGX[data-size="small"] [data-component="text"]{line-height:calc(20 / 12);}/*!sc*/
.htXhGX[data-size="small"] [data-component=ButtonCounter]{font-size:12px;}/*!sc*/
.htXhGX[data-size="small"] [data-component="buttonContent"] > :not(:last-child){margin-right:4px;}/*!sc*/
.htXhGX[data-size="small"][data-component=IconButton]{width:28px;padding:unset;}/*!sc*/
.htXhGX[data-size="large"]{padding:0 16px;height:40px;gap:8px;}/*!sc*/
.htXhGX[data-size="large"] [data-component="buttonContent"] > :not(:last-child){margin-right:8px;}/*!sc*/
.htXhGX[data-size="large"][data-component=IconButton]{width:40px;padding:unset;}/*!sc*/
.htXhGX[data-block="block"]{width:100%;}/*!sc*/
.htXhGX[data-inactive]:not([disabled]){background-color:var(--button-inactive-bgColor,var(--button-inactive-bgColor-rest,var(--color-btn-inactive-bg,#21262d)));border-color:var(--button-inactive-bgColor,var(--button-inactive-bgColor-rest,var(--color-btn-inactive-bg,#21262d)));color:var(--button-inactive-fgColor,var(--button-inactive-fgColor-rest,var(--color-btn-inactive-text,#8b949e)));}/*!sc*/
.htXhGX[data-inactive]:not([disabled]):focus-visible{box-shadow:none;}/*!sc*/
.htXhGX [data-component="leadingVisual"]{grid-area:leadingVisual;color:var(--fgColor-muted,var(--color-fg-muted,#848d97));}/*!sc*/
.htXhGX [data-component="text"]{grid-area:text;line-height:calc(20/14);white-space:nowrap;}/*!sc*/
.htXhGX [data-component="trailingVisual"]{grid-area:trailingVisual;}/*!sc*/
.htXhGX [data-component="trailingAction"]{margin-right:-4px;color:var(--fgColor-muted,var(--color-fg-muted,#848d97));}/*!sc*/
.htXhGX [data-component="buttonContent"]{-webkit-flex:1 0 auto;-ms-flex:1 0 auto;flex:1 0 auto;display:grid;grid-template-areas:"leadingVisual text trailingVisual";grid-template-columns:min-content minmax(0,auto) min-content;-webkit-align-items:center;-webkit-box-align:center;-ms-flex-align:center;align-items:center;-webkit-align-content:center;-ms-flex-line-pack:center;align-content:center;}/*!sc*/
.htXhGX [data-component="buttonContent"] > :not(:last-child){margin-right:8px;}/*!sc*/
.htXhGX:hover:not([disabled]){background-color:var(--control-transparent-bgColor-hover,var(--color-action-list-item-default-hover-bg,rgba(177,186,196,0.12)));}/*!sc*/
.htXhGX:active:not([disabled]){background-color:var(--control-transparent-bgColor-active,var(--color-action-list-item-default-active-bg,rgba(177,186,196,0.2)));}/*!sc*/
.htXhGX[aria-expanded=true]{background-color:var(--control-transparent-bgColor-selected,var(--color-action-list-item-default-selected-bg,rgba(177,186,196,0.08)));}/*!sc*/
.htXhGX[data-component="IconButton"][data-no-visuals]{color:var(--fgColor-muted,var(--color-fg-muted,#848d97));}/*!sc*/
.htXhGX[data-no-visuals]{color:var(--fgColor-accent,var(--color-accent-fg,#2f81f7));}/*!sc*/
.htXhGX:has([data-component="ButtonCounter"]){color:var(--button-default-fgColor-rest,var(--color-btn-text,#c9d1d9));}/*!sc*/
.htXhGX:disabled[data-no-visuals]{color:var(--fgColor-disabled,var(--color-primer-fg-disabled,#484f58));}/*!sc*/
.htXhGX:disabled[data-no-visuals] [data-component=ButtonCounter]{color:inherit;}/*!sc*/
.htXhGX[data-size="small"][data-no-visuals]{color:var(--fgColor-muted,var(--color-fg-muted,#848d97));}/*!sc*/
data-styled.g9[id="types__StyledButton-sc-ws60qy-0"]{content:"iKABXH,hfWObv,kkhncB,kQvhRC,bPGRMc,gkinEB,bzquEC,ecnbuT,IIGly,saA-Dg,hhunph,ecGgfP,ctvgFa,iqlNQz,jKmxIb,iwejsh,htXhGX,"}/*!sc*/
.rTZSs{position:absolute;width:1px;height:1px;padding:0;margin:-1px;overflow:hidden;-webkit-clip:rect(0,0,0,0);clip:rect(0,0,0,0);white-space:nowrap;border-width:0;}/*!sc*/
data-styled.g10[id="_VisuallyHidden__VisuallyHidden-sc-11jhm7a-0"]{content:"rTZSs,"}/*!sc*/
.fUpWeN{display:inline-block;overflow:hidden;text-overflow:ellipsis;vertical-align:top;white-space:nowrap;max-width:125px;max-width:100%;}/*!sc*/
data-styled.g15[id="Truncate__StyledTruncate-sc-23o1d2-0"]{content:"fUpWeN,"}/*!sc*/
.dkafbw{position:relative;display:inline-block;}/*!sc*/
.dkafbw::before{position:absolute;z-index:1000001;display:none;width:0px;height:0px;color:var(--bgColor-emphasis,var(--color-neutral-emphasis-plus,#6e7681));pointer-events:none;content:'';border:6px solid transparent;opacity:0;}/*!sc*/
.dkafbw::after{position:absolute;z-index:1000000;display:none;padding:0.5em 0.75em;font:normal normal 11px/1.5 -apple-system,BlinkMacSystemFont,"Segoe UI","Noto Sans",Helvetica,Arial,sans-serif,"Apple Color Emoji","Segoe UI Emoji";-webkit-font-smoothing:subpixel-antialiased;color:var(--fgColor-onEmphasis,var(--color-fg-on-emphasis,#ffffff));text-align:center;-webkit-text-decoration:none;text-decoration:none;text-shadow:none;text-transform:none;-webkit-letter-spacing:normal;-moz-letter-spacing:normal;-ms-letter-spacing:normal;letter-spacing:normal;word-wrap:break-word;white-space:pre;pointer-events:none;content:attr(aria-label);background:var(--bgColor-emphasis,var(--color-neutral-emphasis-plus,#6e7681));border-radius:3px;opacity:0;}/*!sc*/
@-webkit-keyframes tooltip-appear{from{opacity:0;}to{opacity:1;}}/*!sc*/
@keyframes tooltip-appear{from{opacity:0;}to{opacity:1;}}/*!sc*/
.dkafbw:hover::before,.dkafbw:active::before,.dkafbw:focus::before,.dkafbw:focus-within::before,.dkafbw:hover::after,.dkafbw:active::after,.dkafbw:focus::after,.dkafbw:focus-within::after{display:inline-block;-webkit-text-decoration:none;text-decoration:none;-webkit-animation-name:tooltip-appear;animation-name:tooltip-appear;-webkit-animation-duration:0.1s;animation-duration:0.1s;-webkit-animation-fill-mode:forwards;animation-fill-mode:forwards;-webkit-animation-timing-function:ease-in;animation-timing-function:ease-in;-webkit-animation-delay:0.4s;animation-delay:0.4s;}/*!sc*/
.dkafbw.tooltipped-no-delay:hover::before,.dkafbw.tooltipped-no-delay:active::before,.dkafbw.tooltipped-no-delay:focus::before,.dkafbw.tooltipped-no-delay:focus-within::before,.dkafbw.tooltipped-no-delay:hover::after,.dkafbw.tooltipped-no-delay:active::after,.dkafbw.tooltipped-no-delay:focus::after,.dkafbw.tooltipped-no-delay:focus-within::after{-webkit-animation-delay:0s;animation-delay:0s;}/*!sc*/
.dkafbw.tooltipped-multiline:hover::after,.dkafbw.tooltipped-multiline:active::after,.dkafbw.tooltipped-multiline:focus::after,.dkafbw.tooltipped-multiline:focus-within::after{display:table-cell;}/*!sc*/
.dkafbw.tooltipped-s::after,.dkafbw.tooltipped-se::after,.dkafbw.tooltipped-sw::after{top:100%;right:50%;margin-top:6px;}/*!sc*/
.dkafbw.tooltipped-s::before,.dkafbw.tooltipped-se::before,.dkafbw.tooltipped-sw::before{top:auto;right:50%;bottom:-7px;margin-right:-6px;border-bottom-color:var(--bgColor-emphasis,var(--color-neutral-emphasis-plus,#6e7681));}/*!sc*/
.dkafbw.tooltipped-se::after{right:auto;left:50%;margin-left:-16px;}/*!sc*/
.dkafbw.tooltipped-sw::after{margin-right:-16px;}/*!sc*/
.dkafbw.tooltipped-n::after,.dkafbw.tooltipped-ne::after,.dkafbw.tooltipped-nw::after{right:50%;bottom:100%;margin-bottom:6px;}/*!sc*/
.dkafbw.tooltipped-n::before,.dkafbw.tooltipped-ne::before,.dkafbw.tooltipped-nw::before{top:-7px;right:50%;bottom:auto;margin-right:-6px;border-top-color:var(--bgColor-emphasis,var(--color-neutral-emphasis-plus,#6e7681));}/*!sc*/
.dkafbw.tooltipped-ne::after{right:auto;left:50%;margin-left:-16px;}/*!sc*/
.dkafbw.tooltipped-nw::after{margin-right:-16px;}/*!sc*/
.dkafbw.tooltipped-s::after,.dkafbw.tooltipped-n::after{-webkit-transform:translateX(50%);-ms-transform:translateX(50%);transform:translateX(50%);}/*!sc*/
.dkafbw.tooltipped-w::after{right:100%;bottom:50%;margin-right:6px;-webkit-transform:translateY(50%);-ms-transform:translateY(50%);transform:translateY(50%);}/*!sc*/
.dkafbw.tooltipped-w::before{top:50%;bottom:50%;left:-7px;margin-top:-6px;border-left-color:var(--bgColor-emphasis,var(--color-neutral-emphasis-plus,#6e7681));}/*!sc*/
.dkafbw.tooltipped-e::after{bottom:50%;left:100%;margin-left:6px;-webkit-transform:translateY(50%);-ms-transform:translateY(50%);transform:translateY(50%);}/*!sc*/
.dkafbw.tooltipped-e::before{top:50%;right:-7px;bottom:50%;margin-top:-6px;border-right-color:var(--bgColor-emphasis,var(--color-neutral-emphasis-plus,#6e7681));}/*!sc*/
.dkafbw.tooltipped-multiline::after{width:-webkit-max-content;width:-moz-max-content;width:max-content;max-width:250px;word-wrap:break-word;white-space:pre-line;border-collapse:separate;}/*!sc*/
.dkafbw.tooltipped-multiline.tooltipped-s::after,.dkafbw.tooltipped-multiline.tooltipped-n::after{right:auto;left:50%;-webkit-transform:translateX(-50%);-ms-transform:translateX(-50%);transform:translateX(-50%);}/*!sc*/
.dkafbw.tooltipped-multiline.tooltipped-w::after,.dkafbw.tooltipped-multiline.tooltipped-e::after{right:100%;}/*!sc*/
.dkafbw.tooltipped-align-right-2::after{right:0;margin-right:0;}/*!sc*/
.dkafbw.tooltipped-align-right-2::before{right:15px;}/*!sc*/
.dkafbw.tooltipped-align-left-2::after{left:0;margin-left:0;}/*!sc*/
.dkafbw.tooltipped-align-left-2::before{left:10px;}/*!sc*/
data-styled.g18[id="Tooltip__TooltipBase-sc-17tf59c-0"]{content:"dkafbw,"}/*!sc*/
.hPEVNM{-webkit-animation:rotate-keyframes 1s linear infinite;animation:rotate-keyframes 1s linear infinite;}/*!sc*/
@-webkit-keyframes rotate-keyframes{100%{-webkit-transform:rotate(360deg);-ms-transform:rotate(360deg);transform:rotate(360deg);}}/*!sc*/
@keyframes rotate-keyframes{100%{-webkit-transform:rotate(360deg);-ms-transform:rotate(360deg);transform:rotate(360deg);}}/*!sc*/
data-styled.g28[id="Spinner__StyledSpinner-sc-1knt686-0"]{content:"hPEVNM,"}/*!sc*/
.bkmibs{font-size:14px;line-height:20px;color:var(--fgColor-default,var(--color-fg-default,#e6edf3));vertical-align:middle;background-color:var(--bgColor-default,var(--color-canvas-default,#0d1117));border:1px solid var(--control-borderColor-rest,var(--borderColor-default,var(--color-border-default,#30363d)));border-radius:6px;outline:none;box-shadow:var(--shadow-inset,var(--color-primer-shadow-inset,0 0 transparent));display:-webkit-inline-box;display:-webkit-inline-flex;display:-ms-inline-flexbox;display:inline-flex;-webkit-align-items:stretch;-webkit-box-align:stretch;-ms-flex-align:stretch;align-items:stretch;min-height:32px;overflow:hidden;display:-webkit-box;display:-webkit-flex;display:-ms-flexbox;display:flex;min-width:160px;}/*!sc*/
.bkmibs input,.bkmibs textarea{cursor:text;}/*!sc*/
.bkmibs select{cursor:pointer;}/*!sc*/
.bkmibs::-webkit-input-placeholder{color:var(--fgColor-muted,var(--color-fg-subtle,#6e7681));}/*!sc*/
.bkmibs::-moz-placeholder{color:var(--fgColor-muted,var(--color-fg-subtle,#6e7681));}/*!sc*/
.bkmibs:-ms-input-placeholder{color:var(--fgColor-muted,var(--color-fg-subtle,#6e7681));}/*!sc*/
.bkmibs::placeholder{color:var(--fgColor-muted,var(--color-fg-subtle,#6e7681));}/*!sc*/
.bkmibs:focus-within{border-color:var(--fgColor-accent,var(--color-accent-fg,#2f81f7));outline:2px solid var(--fgColor-accent,var(--color-accent-fg,#2f81f7));outline-offset:-1px;}/*!sc*/
.bkmibs > textarea{padding:12px;}/*!sc*/
@media (min-width:768px){.bkmibs{font-size:14px;}}/*!sc*/
data-styled.g37[id="TextInputWrapper__TextInputBaseWrapper-sc-1mqhpbi-0"]{content:"bkmibs,"}/*!sc*/
.jxgrJS{background-repeat:no-repeat;background-position:right 8px center;padding-left:12px;padding-right:12px;display:-webkit-box;display:-webkit-flex;display:-ms-flexbox;display:flex;min-width:160px;}/*!sc*/
.jxgrJS > :not(:last-child){margin-right:8px;}/*!sc*/
.jxgrJS .TextInput-icon,.jxgrJS .TextInput-action{-webkit-align-self:center;-ms-flex-item-align:center;align-self:center;color:var(--fgColor-muted,var(--color-fg-muted,#848d97));-webkit-flex-shrink:0;-ms-flex-negative:0;flex-shrink:0;}/*!sc*/
.jxgrJS > input,.jxgrJS > select{padding-left:0;padding-right:0;}/*!sc*/
data-styled.g38[id="TextInputWrapper-sc-1mqhpbi-1"]{content:"jxgrJS,"}/*!sc*/
.cDLBls{border:0;font-size:inherit;font-family:inherit;background-color:transparent;-webkit-appearance:none;color:inherit;width:100%;}/*!sc*/
.cDLBls:focus{outline:0;}/*!sc*/
data-styled.g39[id="UnstyledTextInput-sc-14ypya-0"]{content:"cDLBls,"}/*!sc*/
.NCWSJ{--segmented-control-button-inner-padding:12px;--segmented-control-button-bg-inset:4px;--segmented-control-outer-radius:6px;background-color:transparent;border-color:transparent;border-radius:var(--segmented-control-outer-radius);border-width:0;color:currentColor;cursor:pointer;font-family:inherit;font-size:inherit;font-weight:600;padding:0;height:100%;width:100%;}/*!sc*/
.NCWSJ .segmentedControl-content{-webkit-align-items:center;-webkit-box-align:center;-ms-flex-align:center;align-items:center;background-color:var(--controlKnob-bgColor-rest,var(--color-segmented-control-button-bg,#0d1117));border-color:var(--controlKnob-borderColor-rest,var(--color-segmented-control-button-selected-border,#6e7681));border-style:solid;border-width:1px;border-radius:var(--segmented-control-outer-radius);display:-webkit-box;display:-webkit-flex;display:-ms-flexbox;display:flex;height:100%;-webkit-box-pack:center;-webkit-justify-content:center;-ms-flex-pack:center;justify-content:center;padding-left:var(--segmented-control-button-inner-padding);padding-right:var(--segmented-control-button-inner-padding);}/*!sc*/
.NCWSJ svg{fill:var(--fgColor-muted,var(--color-fg-muted,#848d97));}/*!sc*/
.NCWSJ:focus:focus-visible:not(:last-child):after{width:0;}/*!sc*/
.NCWSJ .segmentedControl-text:after{content:"Preview";display:block;font-weight:600;height:0;overflow:hidden;pointer-events:none;-webkit-user-select:none;-moz-user-select:none;-ms-user-select:none;user-select:none;visibility:hidden;}/*!sc*/
@media (pointer:coarse){.NCWSJ:before{content:"";position:absolute;left:0;right:0;-webkit-transform:translateY(-50%);-ms-transform:translateY(-50%);transform:translateY(-50%);top:50%;min-height:44px;}}/*!sc*/
.lfqhlR{--segmented-control-button-inner-padding:12px;--segmented-control-button-bg-inset:4px;--segmented-control-outer-radius:6px;background-color:transparent;border-color:transparent;border-radius:var(--segmented-control-outer-radius);border-width:0;color:currentColor;cursor:pointer;font-family:inherit;font-size:inherit;font-weight:400;padding:var(--segmented-control-button-bg-inset);height:100%;width:100%;}/*!sc*/
.lfqhlR .segmentedControl-content{-webkit-align-items:center;-webkit-box-align:center;-ms-flex-align:center;align-items:center;background-color:transparent;border-color:transparent;border-style:solid;border-width:1px;border-radius:calc(var(--segmented-control-outer-radius) - var(--segmented-control-button-bg-inset) / 2);display:-webkit-box;display:-webkit-flex;display:-ms-flexbox;display:flex;height:100%;-webkit-box-pack:center;-webkit-justify-content:center;-ms-flex-pack:center;justify-content:center;padding-left:calc(var(--segmented-control-button-inner-padding) - var(--segmented-control-button-bg-inset));padding-right:calc(var(--segmented-control-button-inner-padding) - var(--segmented-control-button-bg-inset));}/*!sc*/
.lfqhlR svg{fill:var(--fgColor-muted,var(--color-fg-muted,#848d97));}/*!sc*/
.lfqhlR:hover .segmentedControl-content{background-color:var(--controlTrack-bgColor-hover,var(--color-segmented-control-button-hover-bg,#30363d));}/*!sc*/
.lfqhlR:active .segmentedControl-content{background-color:var(--controlTrack-bgColor-active,var(--color-segmented-control-button-active-bg,#21262d));}/*!sc*/
.lfqhlR:focus:focus-visible:not(:last-child):after{width:0;}/*!sc*/
.lfqhlR .segmentedControl-text:after{content:"Code";display:block;font-weight:600;height:0;overflow:hidden;pointer-events:none;-webkit-user-select:none;-moz-user-select:none;-ms-user-select:none;user-select:none;visibility:hidden;}/*!sc*/
@media (pointer:coarse){.lfqhlR:before{content:"";position:absolute;left:0;right:0;-webkit-transform:translateY(-50%);-ms-transform:translateY(-50%);transform:translateY(-50%);top:50%;min-height:44px;}}/*!sc*/
.iDBPxb{--segmented-control-button-inner-padding:12px;--segmented-control-button-bg-inset:4px;--segmented-control-outer-radius:6px;background-color:transparent;border-color:transparent;border-radius:var(--segmented-control-outer-radius);border-width:0;color:currentColor;cursor:pointer;font-family:inherit;font-size:inherit;font-weight:400;padding:var(--segmented-control-button-bg-inset);height:100%;width:100%;}/*!sc*/
.iDBPxb .segmentedControl-content{-webkit-align-items:center;-webkit-box-align:center;-ms-flex-align:center;align-items:center;background-color:transparent;border-color:transparent;border-style:solid;border-width:1px;border-radius:calc(var(--segmented-control-outer-radius) - var(--segmented-control-button-bg-inset) / 2);display:-webkit-box;display:-webkit-flex;display:-ms-flexbox;display:flex;height:100%;-webkit-box-pack:center;-webkit-justify-content:center;-ms-flex-pack:center;justify-content:center;padding-left:calc(var(--segmented-control-button-inner-padding) - var(--segmented-control-button-bg-inset));padding-right:calc(var(--segmented-control-button-inner-padding) - var(--segmented-control-button-bg-inset));}/*!sc*/
.iDBPxb svg{fill:var(--fgColor-muted,var(--color-fg-muted,#848d97));}/*!sc*/
.iDBPxb:hover .segmentedControl-content{background-color:var(--controlTrack-bgColor-hover,var(--color-segmented-control-button-hover-bg,#30363d));}/*!sc*/
.iDBPxb:active .segmentedControl-content{background-color:var(--controlTrack-bgColor-active,var(--color-segmented-control-button-active-bg,#21262d));}/*!sc*/
.iDBPxb:focus:focus-visible:not(:last-child):after{width:0;}/*!sc*/
.iDBPxb .segmentedControl-text:after{content:"Blame";display:block;font-weight:600;height:0;overflow:hidden;pointer-events:none;-webkit-user-select:none;-moz-user-select:none;-ms-user-select:none;user-select:none;visibility:hidden;}/*!sc*/
@media (pointer:coarse){.iDBPxb:before{content:"";position:absolute;left:0;right:0;-webkit-transform:translateY(-50%);-ms-transform:translateY(-50%);transform:translateY(-50%);top:50%;min-height:44px;}}/*!sc*/
data-styled.g69[id="SegmentedControlButton__SegmentedControlButtonStyled-sc-8lkgxl-0"]{content:"NCWSJ,lfqhlR,iDBPxb,"}/*!sc*/
.dlXtLG{background-color:var(--controlTrack-bgColor-rest,var(--color-segmented-control-bg,rgba(110,118,129,0.1)));border-radius:6px;display:-webkit-inline-box;display:-webkit-inline-flex;display:-ms-inline-flexbox;display:inline-flex;font-size:14px;height:28px;margin:0;padding:0;}/*!sc*/
data-styled.g71[id="SegmentedControl__SegmentedControlList-sc-1rzig82-0"]{content:"dlXtLG,"}/*!sc*/
.dcpVHE{list-style:none;padding:0;margin:0;}/*!sc*/
.dcpVHE .PRIVATE_TreeView-item{outline:none;}/*!sc*/
.dcpVHE .PRIVATE_TreeView-item:focus-visible > div,.dcpVHE .PRIVATE_TreeView-item.focus-visible > div{box-shadow:inset 0 0 0 2px var(--fgColor-accent,var(--color-accent-fg,#2f81f7));}/*!sc*/
@media (forced-colors:active){.dcpVHE .PRIVATE_TreeView-item:focus-visible > div,.dcpVHE .PRIVATE_TreeView-item.focus-visible > div{outline:2px solid HighlightText;outline-offset:-2;}}/*!sc*/
.dcpVHE .PRIVATE_TreeView-item-container{--level:1;--toggle-width:1rem;position:relative;display:grid;grid-template-columns:calc(calc(var(--level) - 1) * (var(--toggle-width) / 2)) var(--toggle-width) 1fr;grid-template-areas:'spacer toggle content';width:100%;min-height:2rem;font-size:14px;color:var(--fgColor-default,var(--color-fg-default,#e6edf3));border-radius:6px;cursor:pointer;}/*!sc*/
.dcpVHE .PRIVATE_TreeView-item-container:hover{background-color:var(--control-transparent-bgColor-hover,var(--color-action-list-item-default-hover-bg,rgba(177,186,196,0.12)));}/*!sc*/
@media (forced-colors:active){.dcpVHE .PRIVATE_TreeView-item-container:hover{outline:2px solid transparent;outline-offset:-2px;}}/*!sc*/
@media (pointer:coarse){.dcpVHE .PRIVATE_TreeView-item-container{--toggle-width:1.5rem;min-height:2.75rem;}}/*!sc*/
.dcpVHE .PRIVATE_TreeView-item-container:has(.PRIVATE_TreeView-item-skeleton):hover{background-color:transparent;cursor:default;}/*!sc*/
@media (forced-colors:active){.dcpVHE .PRIVATE_TreeView-item-container:has(.PRIVATE_TreeView-item-skeleton):hover{outline:none;}}/*!sc*/
.dcpVHE[data-omit-spacer='true'] .PRIVATE_TreeView-item-container{grid-template-columns:0 0 1fr;}/*!sc*/
.dcpVHE .PRIVATE_TreeView-item[aria-current='true'] > .PRIVATE_TreeView-item-container{background-color:var(--control-transparent-bgColor-selected,var(--color-action-list-item-default-selected-bg,rgba(177,186,196,0.08)));}/*!sc*/
.dcpVHE .PRIVATE_TreeView-item[aria-current='true'] > .PRIVATE_TreeView-item-container::after{content:'';position:absolute;top:calc(50% - 0.75rem);left:-8px;width:0.25rem;height:1.5rem;background-color:var(--fgColor-accent,var(--color-accent-fg,#2f81f7));border-radius:6px;}/*!sc*/
@media (forced-colors:active){.dcpVHE .PRIVATE_TreeView-item[aria-current='true'] > .PRIVATE_TreeView-item-container::after{background-color:HighlightText;}}/*!sc*/
.dcpVHE .PRIVATE_TreeView-item-toggle{grid-area:toggle;display:-webkit-box;display:-webkit-flex;display:-ms-flexbox;display:flex;-webkit-align-items:center;-webkit-box-align:center;-ms-flex-align:center;align-items:center;-webkit-box-pack:center;-webkit-justify-content:center;-ms-flex-pack:center;justify-content:center;height:100%;color:var(--fgColor-muted,var(--color-fg-muted,#848d97));}/*!sc*/
.dcpVHE .PRIVATE_TreeView-item-toggle--hover:hover{background-color:var(--control-transparent-bgColor-hover,var(--color-tree-view-item-chevron-hover-bg,rgba(177,186,196,0.12)));}/*!sc*/
.dcpVHE .PRIVATE_TreeView-item-toggle--end{border-top-left-radius:6px;border-bottom-left-radius:6px;}/*!sc*/
.dcpVHE .PRIVATE_TreeView-item-content{grid-area:content;display:-webkit-box;display:-webkit-flex;display:-ms-flexbox;display:flex;-webkit-align-items:center;-webkit-box-align:center;-ms-flex-align:center;align-items:center;height:100%;padding:0 8px;gap:8px;}/*!sc*/
.dcpVHE .PRIVATE_TreeView-item-content-text{-webkit-flex:1 1 auto;-ms-flex:1 1 auto;flex:1 1 auto;width:0;overflow:hidden;white-space:nowrap;text-overflow:ellipsis;}/*!sc*/
.dcpVHE .PRIVATE_TreeView-item-visual{display:-webkit-box;display:-webkit-flex;display:-ms-flexbox;display:flex;color:var(--fgColor-muted,var(--color-fg-muted,#848d97));}/*!sc*/
.dcpVHE .PRIVATE_TreeView-item-level-line{width:100%;height:100%;border-right:1px solid;border-color:var(--borderColor-muted,var(--color-border-subtle,rgba(240,246,252,0.1)));}/*!sc*/
@media (hover:hover){.dcpVHE .PRIVATE_TreeView-item-level-line{border-color:transparent;}.dcpVHE:hover .PRIVATE_TreeView-item-level-line,.dcpVHE:focus-within .PRIVATE_TreeView-item-level-line{border-color:var(--borderColor-muted,var(--color-border-subtle,rgba(240,246,252,0.1)));}}/*!sc*/
.dcpVHE .PRIVATE_TreeView-directory-icon{display:grid;color:var(--treeViewItem-leadingVisual-bgColor-rest,var(--color-tree-view-item-directory-fill,#848d97));}/*!sc*/
.dcpVHE .PRIVATE_VisuallyHidden{position:absolute;width:1px;height:1px;padding:0;margin:-1px;overflow:hidden;-webkit-clip:rect(0,0,0,0);clip:rect(0,0,0,0);white-space:nowrap;border-width:0;}/*!sc*/
data-styled.g85[id="TreeView__UlBox-sc-4ex6b6-0"]{content:"dcpVHE,"}/*!sc*/
.cjbBGq{display:-webkit-inline-box;display:-webkit-inline-flex;display:-ms-inline-flexbox;display:inline-flex;vertical-align:middle;isolation:isolate;}/*!sc*/
.cjbBGq.cjbBGq > *{margin-inline-end:-1px;position:relative;border-radius:0;}/*!sc*/
.cjbBGq.cjbBGq > *:first-child{border-top-left-radius:6px;border-bottom-left-radius:6px;}/*!sc*/
.cjbBGq.cjbBGq > *:last-child{border-top-right-radius:6px;border-bottom-right-radius:6px;}/*!sc*/
.cjbBGq.cjbBGq > *:focus,.cjbBGq.cjbBGq > *:active,.cjbBGq.cjbBGq > *:hover{z-index:1;}/*!sc*/
data-styled.g87[id="ButtonGroup-sc-1gxhls1-0"]{content:"cjbBGq,"}/*!sc*/
</style><meta data-hydrostats="publish"/> <!-- --> <!-- --> <!-- --> <button hidden="" data-testid="header-permalink-button" data-hotkey-scope="read-only-cursor-text-area"></button><button hidden=""></button><div class="Box-sc-g0xbh4-0"><div style="--sticky-pane-height:100vh" class="Box-sc-g0xbh4-0 fSWWem"><div class="Box-sc-g0xbh4-0 kPPmzM"><div class="Box-sc-g0xbh4-0 cIAPDV"><div tabindex="0" class="Box-sc-g0xbh4-0 gvCnwW"><div class="Box-sc-g0xbh4-0 xEgty"><div class="Box-sc-g0xbh4-0 eUyHuk"></div><div style="--pane-width:320px" class="Box-sc-g0xbh4-0 gNdDUH"><div class="Box-sc-g0xbh4-0 react-tree-pane-contents"><div id="repos-file-tree" class="Box-sc-g0xbh4-0 jywUSN"><div class="Box-sc-g0xbh4-0 hBSSUC"><div class="Box-sc-g0xbh4-0 iPurHz"><h2 class="Heading__StyledHeading-sc-1c1dgg0-0 fNPcqd"><button style="--button-color:fg.muted" type="button" aria-label="Expand file tree" data-testid="expand-file-tree-button-mobile" class="types__StyledButton-sc-ws60qy-0 iKABXH"><span data-component="buttonContent" class="Box-sc-g0xbh4-0 kkrdEu"><span data-component="leadingVisual" class="Box-sc-g0xbh4-0 trpoQ"><svg aria-hidden="true" focusable="false" role="img" class="octicon octicon-arrow-left" viewBox="0 0 16 16" width="16" height="16" fill="currentColor" style="display:inline-block;user-select:none;vertical-align:text-bottom;overflow:visible"><path d="M7.78 12.53a.75.75 0 0 1-1.06 0L2.47 8.28a.75.75 0 0 1 0-1.06l4.25-4.25a.751.751 0 0 1 1.042.018.751.751 0 0 1 .018 1.042L4.81 7h7.44a.75.75 0 0 1 0 1.5H4.81l2.97 2.97a.75.75 0 0 1 0 1.06Z"></path></svg></span><span data-component="text">Files</span></span></button><span role="tooltip" aria-label="Collapse file tree" id="expand-button-file-tree-button" class="Tooltip__TooltipBase-sc-17tf59c-0 dkafbw tooltipped-se"><button data-component="IconButton" type="button" data-testid="collapse-file-tree-button" aria-labelledby="expand-button-file-tree-button" aria-expanded="true" aria-controls="repos-file-tree" class="types__StyledButton-sc-ws60qy-0 hfWObv" data-no-visuals="true"><svg aria-hidden="true" focusable="false" role="img" class="octicon octicon-sidebar-expand" viewBox="0 0 16 16" width="16" height="16" fill="currentColor" style="display:inline-block;user-select:none;vertical-align:text-bottom;overflow:visible"><path d="m4.177 7.823 2.396-2.396A.25.25 0 0 1 7 5.604v4.792a.25.25 0 0 1-.427.177L4.177 8.177a.25.25 0 0 1 0-.354Z"></path><path d="M0 1.75C0 .784.784 0 1.75 0h12.5C15.216 0 16 .784 16 1.75v12.5A1.75 1.75 0 0 1 14.25 16H1.75A1.75 1.75 0 0 1 0 14.25Zm1.75-.25a.25.25 0 0 0-.25.25v12.5c0 .138.112.25.25.25H9.5v-13Zm12.5 13a.25.25 0 0 0 .25-.25V1.75a.25.25 0 0 0-.25-.25H11v13Z"></path></svg></button></span><button hidden="" data-testid="" data-hotkey-scope="read-only-cursor-text-area"></button></h2><h2 class="Heading__StyledHeading-sc-1c1dgg0-0 imcwCi">Files</h2></div><div class="Box-sc-g0xbh4-0 hVHHYa"><div class="Box-sc-g0xbh4-0 idZfsJ"><button type="button" id="branch-picker-repos-header-ref-selector" aria-haspopup="true" tabindex="0" aria-label="main branch" data-testid="anchor-button" class="types__StyledButton-sc-ws60qy-0 kkhncB react-repos-tree-pane-ref-selector width-full ref-selector-class"><span data-component="buttonContent" class="Box-sc-g0xbh4-0 kkrdEu"><span data-component="text"><div class="Box-sc-g0xbh4-0 bKgizp"><div class="Box-sc-g0xbh4-0 dIAShY"><svg aria-hidden="true" focusable="false" role="img" class="octicon octicon-git-branch" viewBox="0 0 16 16" width="16" height="16" fill="currentColor" style="display:inline-block;user-select:none;vertical-align:text-bottom;overflow:visible"><path d="M9.5 3.25a2.25 2.25 0 1 1 3 2.122V6A2.5 2.5 0 0 1 10 8.5H6a1 1 0 0 0-1 1v1.128a2.251 2.251 0 1 1-1.5 0V5.372a2.25 2.25 0 1 1 1.5 0v1.836A2.493 2.493 0 0 1 6 7h4a1 1 0 0 0 1-1v-.628A2.25 2.25 0 0 1 9.5 3.25Zm-6 0a.75.75 0 1 0 1.5 0 .75.75 0 0 0-1.5 0Zm8.25-.75a.75.75 0 1 0 0 1.5.75.75 0 0 0 0-1.5ZM4.25 12a.75.75 0 1 0 0 1.5.75.75 0 0 0 0-1.5Z"></path></svg></div><div class="Box-sc-g0xbh4-0 caeYDk ref-selector-button-text-container"><span class="Text-sc-17v1xeu-0 bOMzPg"> <!-- -->main</span></div></div></span><span data-component="trailingVisual" class="Box-sc-g0xbh4-0 trpoQ"><svg aria-hidden="true" focusable="false" role="img" class="octicon octicon-triangle-down" viewBox="0 0 16 16" width="16" height="16" fill="currentColor" style="display:inline-block;user-select:none;vertical-align:text-bottom;overflow:visible"><path d="m4.427 7.427 3.396 3.396a.25.25 0 0 0 .354 0l3.396-3.396A.25.25 0 0 0 11.396 7H4.604a.25.25 0 0 0-.177.427Z"></path></svg></span></span></button><button hidden="" data-hotkey-scope="read-only-cursor-text-area"></button></div><div class="Box-sc-g0xbh4-0 jahcnb"><span role="tooltip" aria-label="Add file" class="Tooltip__TooltipBase-sc-17tf59c-0 dkafbw tooltipped-s"><a sx="[object Object]" data-component="IconButton" type="button" aria-label="Add file" data-no-visuals="true" class="types__StyledButton-sc-ws60qy-0 kQvhRC" href="/katarina74/ml_lessons/new/main/lesson_2"><svg aria-hidden="true" focusable="false" role="img" class="octicon octicon-plus" viewBox="0 0 16 16" width="16" height="16" fill="currentColor" style="display:inline-block;user-select:none;vertical-align:text-bottom;overflow:visible"><path d="M7.75 2a.75.75 0 0 1 .75.75V7h4.25a.75.75 0 0 1 0 1.5H8.5v4.25a.75.75 0 0 1-1.5 0V8.5H2.75a.75.75 0 0 1 0-1.5H7V2.75A.75.75 0 0 1 7.75 2Z"></path></svg></a></span><button data-component="IconButton" type="button" aria-label="Search this repository" data-no-visuals="true" class="types__StyledButton-sc-ws60qy-0 bPGRMc"><svg aria-hidden="true" focusable="false" role="img" class="octicon octicon-search" viewBox="0 0 16 16" width="16" height="16" fill="currentColor" style="display:inline-block;user-select:none;vertical-align:text-bottom;overflow:visible"><path d="M10.68 11.74a6 6 0 0 1-7.922-8.982 6 6 0 0 1 8.982 7.922l3.04 3.04a.749.749 0 0 1-.326 1.275.749.749 0 0 1-.734-.215ZM11.5 7a4.499 4.499 0 1 0-8.997 0A4.499 4.499 0 0 0 11.5 7Z"></path></svg></button><button hidden="" data-testid="" data-hotkey-scope="read-only-cursor-text-area"></button></div></div></div><div class="Box-sc-g0xbh4-0 ccToMy"><button hidden="" data-testid="" data-hotkey-scope="read-only-cursor-text-area"></button><button hidden=""></button><span class="TextInputWrapper__TextInputBaseWrapper-sc-1mqhpbi-0 TextInputWrapper-sc-1mqhpbi-1 bkmibs jxgrJS TextInput-wrapper" aria-busy="false"><span class="TextInput-icon"><svg aria-hidden="true" focusable="false" role="img" class="octicon octicon-search" viewBox="0 0 16 16" width="16" height="16" fill="currentColor" style="display:inline-block;user-select:none;vertical-align:text-bottom;overflow:visible"><path d="M10.68 11.74a6 6 0 0 1-7.922-8.982 6 6 0 0 1 8.982 7.922l3.04 3.04a.749.749 0 0 1-.326 1.275.749.749 0 0 1-.734-.215ZM11.5 7a4.499 4.499 0 1 0-8.997 0A4.499 4.499 0 0 0 11.5 7Z"></path></svg></span><input type="text" aria-label="Go to file" role="combobox" aria-controls="file-results-list" aria-expanded="false" aria-haspopup="dialog" autoCorrect="off" spellcheck="false" placeholder="Go to file" data-component="input" class="UnstyledTextInput-sc-14ypya-0 cDLBls" value=""/><span class="TextInput-icon"><div class="Box-sc-g0xbh4-0 cNvKlH"><kbd>t</kbd></div></span></span></div><div class="Box-sc-g0xbh4-0 cLfAnm"><div class="react-tree-show-tree-items"><div data-testid="repos-file-tree-container" class="Box-sc-g0xbh4-0 erWCJP"><nav aria-label="File Tree Navigation"><span role="status" aria-live="polite" aria-atomic="true" class="_VisuallyHidden__VisuallyHidden-sc-11jhm7a-0 rTZSs"></span><ul role="tree" aria-label="Files" class="TreeView__UlBox-sc-4ex6b6-0 dcpVHE"><li class="PRIVATE_TreeView-item" tabindex="0" id="lesson_1-item" role="treeitem" aria-labelledby=":Rqclmdaj5:" aria-describedby=":Rqclmdaj5H1: :Rqclmdaj5H2:" aria-level="1" aria-expanded="false" aria-selected="false"><div class="PRIVATE_TreeView-item-container" style="--level:1;content-visibility:auto;contain-intrinsic-size:auto 2rem"><div style="grid-area:spacer;display:flex"><div style="width:100%;display:flex"></div></div><div class="PRIVATE_TreeView-item-toggle PRIVATE_TreeView-item-toggle--hover PRIVATE_TreeView-item-toggle--end"><svg aria-hidden="true" focusable="false" role="img" class="octicon octicon-chevron-right" viewBox="0 0 12 12" width="12" height="12" fill="currentColor" style="display:inline-block;user-select:none;vertical-align:text-bottom;overflow:visible"><path d="M4.7 10c-.2 0-.4-.1-.5-.2-.3-.3-.3-.8 0-1.1L6.9 6 4.2 3.3c-.3-.3-.3-.8 0-1.1.3-.3.8-.3 1.1 0l3.3 3.2c.3.3.3.8 0 1.1L5.3 9.7c-.2.2-.4.3-.6.3Z"></path></svg></div><div id=":Rqclmdaj5:" class="PRIVATE_TreeView-item-content"><div class="PRIVATE_VisuallyHidden" aria-hidden="true" id=":Rqclmdaj5H1:"></div><div class="PRIVATE_TreeView-item-visual" aria-hidden="true"><div class="PRIVATE_TreeView-directory-icon"><svg aria-hidden="true" focusable="false" role="img" class="octicon octicon-file-directory-fill" viewBox="0 0 16 16" width="16" height="16" fill="currentColor" style="display:inline-block;user-select:none;vertical-align:text-bottom;overflow:visible"><path d="M1.75 1A1.75 1.75 0 0 0 0 2.75v10.5C0 14.216.784 15 1.75 15h12.5A1.75 1.75 0 0 0 16 13.25v-8.5A1.75 1.75 0 0 0 14.25 3H7.5a.25.25 0 0 1-.2-.1l-.9-1.2C6.07 1.26 5.55 1 5 1H1.75Z"></path></svg></div></div><span class="PRIVATE_TreeView-item-content-text"><span>lesson_1</span></span></div></div></li><li class="PRIVATE_TreeView-item" tabindex="0" id="lesson_2-item" role="treeitem" aria-labelledby=":R1aclmdaj5:" aria-describedby=":R1aclmdaj5H1: :R1aclmdaj5H2:" aria-level="1" aria-expanded="true" aria-selected="false"><div class="PRIVATE_TreeView-item-container" style="--level:1;content-visibility:auto;contain-intrinsic-size:auto 2rem"><div style="grid-area:spacer;display:flex"><div style="width:100%;display:flex"></div></div><div class="PRIVATE_TreeView-item-toggle PRIVATE_TreeView-item-toggle--hover PRIVATE_TreeView-item-toggle--end"><svg aria-hidden="true" focusable="false" role="img" class="octicon octicon-chevron-down" viewBox="0 0 12 12" width="12" height="12" fill="currentColor" style="display:inline-block;user-select:none;vertical-align:text-bottom;overflow:visible"><path d="M6 8.825c-.2 0-.4-.1-.5-.2l-3.3-3.3c-.3-.3-.3-.8 0-1.1.3-.3.8-.3 1.1 0l2.7 2.7 2.7-2.7c.3-.3.8-.3 1.1 0 .3.3.3.8 0 1.1l-3.2 3.2c-.2.2-.4.3-.6.3Z"></path></svg></div><div id=":R1aclmdaj5:" class="PRIVATE_TreeView-item-content"><div class="PRIVATE_VisuallyHidden" aria-hidden="true" id=":R1aclmdaj5H1:"></div><div class="PRIVATE_TreeView-item-visual" aria-hidden="true"><div class="PRIVATE_TreeView-directory-icon"><svg aria-hidden="true" focusable="false" role="img" class="octicon octicon-file-directory-open-fill" viewBox="0 0 16 16" width="16" height="16" fill="currentColor" style="display:inline-block;user-select:none;vertical-align:text-bottom;overflow:visible"><path d="M.513 1.513A1.75 1.75 0 0 1 1.75 1h3.5c.55 0 1.07.26 1.4.7l.9 1.2a.25.25 0 0 0 .2.1H13a1 1 0 0 1 1 1v.5H2.75a.75.75 0 0 0 0 1.5h11.978a1 1 0 0 1 .994 1.117L15 13.25A1.75 1.75 0 0 1 13.25 15H1.75A1.75 1.75 0 0 1 0 13.25V2.75c0-.464.184-.91.513-1.237Z"></path></svg></div></div><span class="PRIVATE_TreeView-item-content-text"><span>lesson_2</span></span></div></div><ul role="group" style="list-style:none;padding:0;margin:0"><li class="PRIVATE_TreeView-item" tabindex="0" id="lesson_2/data-item" role="treeitem" aria-labelledby=":R2raclmdaj5:" aria-describedby=":R2raclmdaj5H1: :R2raclmdaj5H2:" aria-level="2" aria-expanded="false" aria-selected="false"><div class="PRIVATE_TreeView-item-container" style="--level:2;content-visibility:auto;contain-intrinsic-size:auto 2rem"><div style="grid-area:spacer;display:flex"><div style="width:100%;display:flex"><div class="PRIVATE_TreeView-item-level-line"></div></div></div><div class="PRIVATE_TreeView-item-toggle PRIVATE_TreeView-item-toggle--hover"><svg aria-hidden="true" focusable="false" role="img" class="octicon octicon-chevron-right" viewBox="0 0 12 12" width="12" height="12" fill="currentColor" style="display:inline-block;user-select:none;vertical-align:text-bottom;overflow:visible"><path d="M4.7 10c-.2 0-.4-.1-.5-.2-.3-.3-.3-.8 0-1.1L6.9 6 4.2 3.3c-.3-.3-.3-.8 0-1.1.3-.3.8-.3 1.1 0l3.3 3.2c.3.3.3.8 0 1.1L5.3 9.7c-.2.2-.4.3-.6.3Z"></path></svg></div><div id=":R2raclmdaj5:" class="PRIVATE_TreeView-item-content"><div class="PRIVATE_VisuallyHidden" aria-hidden="true" id=":R2raclmdaj5H1:"></div><div class="PRIVATE_TreeView-item-visual" aria-hidden="true"><div class="PRIVATE_TreeView-directory-icon"><svg aria-hidden="true" focusable="false" role="img" class="octicon octicon-file-directory-fill" viewBox="0 0 16 16" width="16" height="16" fill="currentColor" style="display:inline-block;user-select:none;vertical-align:text-bottom;overflow:visible"><path d="M1.75 1A1.75 1.75 0 0 0 0 2.75v10.5C0 14.216.784 15 1.75 15h12.5A1.75 1.75 0 0 0 16 13.25v-8.5A1.75 1.75 0 0 0 14.25 3H7.5a.25.25 0 0 1-.2-.1l-.9-1.2C6.07 1.26 5.55 1 5 1H1.75Z"></path></svg></div></div><span class="PRIVATE_TreeView-item-content-text"><span>data</span></span></div></div></li><li class="PRIVATE_TreeView-item" tabindex="0" id="lesson_2/lesson_2.ipynb-item" role="treeitem" aria-labelledby=":R4raclmdaj5:" aria-describedby=":R4raclmdaj5H1: :R4raclmdaj5H2:" aria-level="2" aria-current="true" aria-selected="false"><div class="PRIVATE_TreeView-item-container" style="--level:2"><div style="grid-area:spacer;display:flex"><div style="width:100%;display:flex"><div class="PRIVATE_TreeView-item-level-line"></div></div></div><div id=":R4raclmdaj5:" class="PRIVATE_TreeView-item-content"><div class="PRIVATE_VisuallyHidden" aria-hidden="true" id=":R4raclmdaj5H1:"></div><div class="PRIVATE_TreeView-item-visual" aria-hidden="true"><svg aria-hidden="true" focusable="false" role="img" class="octicon octicon-file" viewBox="0 0 16 16" width="16" height="16" fill="currentColor" style="display:inline-block;user-select:none;vertical-align:text-bottom;overflow:visible"><path d="M2 1.75C2 .784 2.784 0 3.75 0h6.586c.464 0 .909.184 1.237.513l2.914 2.914c.329.328.513.773.513 1.237v9.586A1.75 1.75 0 0 1 13.25 16h-9.5A1.75 1.75 0 0 1 2 14.25Zm1.75-.25a.25.25 0 0 0-.25.25v12.5c0 .138.112.25.25.25h9.5a.25.25 0 0 0 .25-.25V6h-2.75A1.75 1.75 0 0 1 9 4.25V1.5Zm6.75.062V4.25c0 .138.112.25.25.25h2.688l-.011-.013-2.914-2.914-.013-.011Z"></path></svg></div><span class="PRIVATE_TreeView-item-content-text"><span>lesson_2.ipynb</span></span></div></div></li></ul></li><li class="PRIVATE_TreeView-item" tabindex="0" id="README.md-item" role="treeitem" aria-labelledby=":R1qclmdaj5:" aria-describedby=":R1qclmdaj5H1: :R1qclmdaj5H2:" aria-level="1" aria-selected="false"><div class="PRIVATE_TreeView-item-container" style="--level:1;content-visibility:auto;contain-intrinsic-size:auto 2rem"><div style="grid-area:spacer;display:flex"><div style="width:100%;display:flex"></div></div><div id=":R1qclmdaj5:" class="PRIVATE_TreeView-item-content"><div class="PRIVATE_VisuallyHidden" aria-hidden="true" id=":R1qclmdaj5H1:"></div><div class="PRIVATE_TreeView-item-visual" aria-hidden="true"><svg aria-hidden="true" focusable="false" role="img" class="octicon octicon-file" viewBox="0 0 16 16" width="16" height="16" fill="currentColor" style="display:inline-block;user-select:none;vertical-align:text-bottom;overflow:visible"><path d="M2 1.75C2 .784 2.784 0 3.75 0h6.586c.464 0 .909.184 1.237.513l2.914 2.914c.329.328.513.773.513 1.237v9.586A1.75 1.75 0 0 1 13.25 16h-9.5A1.75 1.75 0 0 1 2 14.25Zm1.75-.25a.25.25 0 0 0-.25.25v12.5c0 .138.112.25.25.25h9.5a.25.25 0 0 0 .25-.25V6h-2.75A1.75 1.75 0 0 1 9 4.25V1.5Zm6.75.062V4.25c0 .138.112.25.25.25h2.688l-.011-.013-2.914-2.914-.013-.011Z"></path></svg></div><span class="PRIVATE_TreeView-item-content-text"><span>README.md</span></span></div></div></li></ul></nav></div></div></div></div></div></div><div class="Box-sc-g0xbh4-0 hAeDYA"><div role="slider" aria-label="Draggable pane splitter" aria-valuemin="0" aria-valuemax="0" aria-valuenow="0" aria-valuetext="Pane width 0 pixels" tabindex="0" class="Box-sc-g0xbh4-0 bTSsYt"></div></div></div></div><div class="Box-sc-g0xbh4-0 emFMJu"><div class="Box-sc-g0xbh4-0"></div><div class="Box-sc-g0xbh4-0 hlUAHL"><div data-selector="repos-split-pane-content" tabindex="0" class="Box-sc-g0xbh4-0 iStsmI"><div class="Box-sc-g0xbh4-0 eIgvIk"><div class="Box-sc-g0xbh4-0 eVFfWF container"><div class="Box-sc-g0xbh4-0 kgXdnT react-code-view-header--narrow"><div class="Box-sc-g0xbh4-0 kzTa-dF"><div class="Box-sc-g0xbh4-0 bbXCl"><h2 class="Heading__StyledHeading-sc-1c1dgg0-0 fNPcqd"><button style="--button-color:fg.muted" type="button" aria-label="Expand file tree" data-testid="expand-file-tree-button-mobile" class="types__StyledButton-sc-ws60qy-0 iKABXH"><span data-component="buttonContent" class="Box-sc-g0xbh4-0 kkrdEu"><span data-component="leadingVisual" class="Box-sc-g0xbh4-0 trpoQ"><svg aria-hidden="true" focusable="false" role="img" class="octicon octicon-arrow-left" viewBox="0 0 16 16" width="16" height="16" fill="currentColor" style="display:inline-block;user-select:none;vertical-align:text-bottom;overflow:visible"><path d="M7.78 12.53a.75.75 0 0 1-1.06 0L2.47 8.28a.75.75 0 0 1 0-1.06l4.25-4.25a.751.751 0 0 1 1.042.018.751.751 0 0 1 .018 1.042L4.81 7h7.44a.75.75 0 0 1 0 1.5H4.81l2.97 2.97a.75.75 0 0 1 0 1.06Z"></path></svg></span><span data-component="text">Files</span></span></button><span role="tooltip" aria-label="Collapse file tree" id="expand-button-file-tree-button" class="Tooltip__TooltipBase-sc-17tf59c-0 dkafbw tooltipped-se"><button data-component="IconButton" type="button" data-testid="collapse-file-tree-button" aria-labelledby="expand-button-file-tree-button" aria-expanded="true" aria-controls="repos-file-tree" class="types__StyledButton-sc-ws60qy-0 hfWObv" data-no-visuals="true"><svg aria-hidden="true" focusable="false" role="img" class="octicon octicon-sidebar-expand" viewBox="0 0 16 16" width="16" height="16" fill="currentColor" style="display:inline-block;user-select:none;vertical-align:text-bottom;overflow:visible"><path d="m4.177 7.823 2.396-2.396A.25.25 0 0 1 7 5.604v4.792a.25.25 0 0 1-.427.177L4.177 8.177a.25.25 0 0 1 0-.354Z"></path><path d="M0 1.75C0 .784.784 0 1.75 0h12.5C15.216 0 16 .784 16 1.75v12.5A1.75 1.75 0 0 1 14.25 16H1.75A1.75 1.75 0 0 1 0 14.25Zm1.75-.25a.25.25 0 0 0-.25.25v12.5c0 .138.112.25.25.25H9.5v-13Zm12.5 13a.25.25 0 0 0 .25-.25V1.75a.25.25 0 0 0-.25-.25H11v13Z"></path></svg></button></span><button hidden="" data-testid="" data-hotkey-scope="read-only-cursor-text-area"></button></h2><div class="Box-sc-g0xbh4-0 hGGMNu"><div class="Box-sc-g0xbh4-0 eHRrYV"><button type="button" id="branch-picker-repos-header-ref-selector-narrow" aria-haspopup="true" tabindex="0" aria-label="main branch" data-testid="anchor-button" class="types__StyledButton-sc-ws60qy-0 gkinEB ref-selector-class"><span data-component="buttonContent" class="Box-sc-g0xbh4-0 kkrdEu"><span data-component="text"><div class="Box-sc-g0xbh4-0 bKgizp"><div class="Box-sc-g0xbh4-0 dIAShY"><svg aria-hidden="true" focusable="false" role="img" class="octicon octicon-git-branch" viewBox="0 0 16 16" width="16" height="16" fill="currentColor" style="display:inline-block;user-select:none;vertical-align:text-bottom;overflow:visible"><path d="M9.5 3.25a2.25 2.25 0 1 1 3 2.122V6A2.5 2.5 0 0 1 10 8.5H6a1 1 0 0 0-1 1v1.128a2.251 2.251 0 1 1-1.5 0V5.372a2.25 2.25 0 1 1 1.5 0v1.836A2.493 2.493 0 0 1 6 7h4a1 1 0 0 0 1-1v-.628A2.25 2.25 0 0 1 9.5 3.25Zm-6 0a.75.75 0 1 0 1.5 0 .75.75 0 0 0-1.5 0Zm8.25-.75a.75.75 0 1 0 0 1.5.75.75 0 0 0 0-1.5ZM4.25 12a.75.75 0 1 0 0 1.5.75.75 0 0 0 0-1.5Z"></path></svg></div><div class="Box-sc-g0xbh4-0 dKmYfk ref-selector-button-text-container"><span class="Text-sc-17v1xeu-0 bOMzPg"> <!-- -->main</span></div></div></span><span data-component="trailingVisual" class="Box-sc-g0xbh4-0 trpoQ"><svg aria-hidden="true" focusable="false" role="img" class="octicon octicon-triangle-down" viewBox="0 0 16 16" width="16" height="16" fill="currentColor" style="display:inline-block;user-select:none;vertical-align:text-bottom;overflow:visible"><path d="m4.427 7.427 3.396 3.396a.25.25 0 0 0 .354 0l3.396-3.396A.25.25 0 0 0 11.396 7H4.604a.25.25 0 0 0-.177.427Z"></path></svg></span></span></button><button hidden="" data-hotkey-scope="read-only-cursor-text-area"></button></div> <button type="button" data-no-visuals="true" class="types__StyledButton-sc-ws60qy-0 bzquEC"><span data-component="buttonContent" class="Box-sc-g0xbh4-0 kkrdEu"><span data-component="text">Blame</span></span></button><button hidden="" data-testid="" data-hotkey-scope="read-only-cursor-text-area"></button><button data-component="IconButton" type="button" aria-label="More file actions" class="types__StyledButton-sc-ws60qy-0 ecnbuT js-blob-dropdown-click" title="More file actions" data-testid="more-file-actions-button-nav-menu-narrow" id=":R159badaj5:" aria-haspopup="true" tabindex="0" data-no-visuals="true"><svg aria-hidden="true" focusable="false" role="img" class="octicon octicon-kebab-horizontal" viewBox="0 0 16 16" width="16" height="16" fill="currentColor" style="display:inline-block;user-select:none;vertical-align:text-bottom;overflow:visible"><path d="M8 9a1.5 1.5 0 1 0 0-3 1.5 1.5 0 0 0 0 3ZM1.5 9a1.5 1.5 0 1 0 0-3 1.5 1.5 0 0 0 0 3Zm13 0a1.5 1.5 0 1 0 0-3 1.5 1.5 0 0 0 0 3Z"></path></svg></button> </div></div><div class="Box-sc-g0xbh4-0 hSNzKh"><div class="Box-sc-g0xbh4-0 eTvGbF"><nav data-testid="breadcrumbs" aria-labelledby="repos-header-breadcrumb-mobile-heading" id="repos-header-breadcrumb-mobile" class="Box-sc-g0xbh4-0 kzRgrI"><h2 class="Heading__StyledHeading-sc-1c1dgg0-0 cgQnMS sr-only" data-testid="screen-reader-heading" id="repos-header-breadcrumb-mobile-heading">Breadcrumbs</h2><ol class="Box-sc-g0xbh4-0 cmAPIB"><li class="Box-sc-g0xbh4-0 jwXCBK"><a sx="[object Object]" data-testid="breadcrumbs-repo-link" class="Link__StyledLink-sc-14289xe-0 dpowyu" href="/katarina74/ml_lessons/tree/main">ml_lessons</a></li><li class="Box-sc-g0xbh4-0 jwXCBK"><span aria-hidden="true" class="Text-sc-17v1xeu-0 ePvrxx">/</span><a sx="[object Object]" class="Link__StyledLink-sc-14289xe-0 csCkZA" href="/katarina74/ml_lessons/tree/main/lesson_2">lesson_2</a></li></ol></nav><div data-testid="breadcrumbs-filename" class="Box-sc-g0xbh4-0 jwXCBK"><span aria-hidden="true" class="Text-sc-17v1xeu-0 ePvrxx">/</span><h1 tabindex="-1" id="file-name-id-mobile" class="Heading__StyledHeading-sc-1c1dgg0-0 diwsLq">lesson_2.ipynb</h1></div><button data-component="IconButton" type="button" aria-label="Copy path" data-testid="breadcrumb-copy-path-button" data-size="small" data-no-visuals="true" class="types__StyledButton-sc-ws60qy-0 IIGly"><svg aria-hidden="true" focusable="false" role="img" class="octicon octicon-copy" viewBox="0 0 16 16" width="16" height="16" fill="currentColor" style="display:inline-block;user-select:none;vertical-align:text-bottom;overflow:visible"><path d="M0 6.75C0 5.784.784 5 1.75 5h1.5a.75.75 0 0 1 0 1.5h-1.5a.25.25 0 0 0-.25.25v7.5c0 .138.112.25.25.25h7.5a.25.25 0 0 0 .25-.25v-1.5a.75.75 0 0 1 1.5 0v1.5A1.75 1.75 0 0 1 9.25 16h-7.5A1.75 1.75 0 0 1 0 14.25Z"></path><path d="M5 1.75C5 .784 5.784 0 6.75 0h7.5C15.216 0 16 .784 16 1.75v7.5A1.75 1.75 0 0 1 14.25 11h-7.5A1.75 1.75 0 0 1 5 9.25Zm1.75-.25a.25.25 0 0 0-.25.25v7.5c0 .138.112.25.25.25h7.5a.25.25 0 0 0 .25-.25v-7.5a.25.25 0 0 0-.25-.25Z"></path></svg></button></div></div></div></div><div id="StickyHeader" class="Box-sc-g0xbh4-0 bDwCYs react-code-view-header--wide"><div class="Box-sc-g0xbh4-0 fywjmm"><div class="Box-sc-g0xbh4-0 dyczTK"><div class="Box-sc-g0xbh4-0 kszRgZ"><div class="Box-sc-g0xbh4-0 eTvGbF"><nav data-testid="breadcrumbs" aria-labelledby="repos-header-breadcrumb-wide-heading" id="repos-header-breadcrumb-wide" class="Box-sc-g0xbh4-0 kzRgrI"><h2 class="Heading__StyledHeading-sc-1c1dgg0-0 cgQnMS sr-only" data-testid="screen-reader-heading" id="repos-header-breadcrumb-wide-heading">Breadcrumbs</h2><ol class="Box-sc-g0xbh4-0 cmAPIB"><li class="Box-sc-g0xbh4-0 jwXCBK"><a sx="[object Object]" data-testid="breadcrumbs-repo-link" class="Link__StyledLink-sc-14289xe-0 dpowyu" href="/katarina74/ml_lessons/tree/main">ml_lessons</a></li><li class="Box-sc-g0xbh4-0 jwXCBK"><span aria-hidden="true" class="Text-sc-17v1xeu-0 ePvrxx">/</span><a sx="[object Object]" class="Link__StyledLink-sc-14289xe-0 csCkZA" href="/katarina74/ml_lessons/tree/main/lesson_2">lesson_2</a></li></ol></nav><div data-testid="breadcrumbs-filename" class="Box-sc-g0xbh4-0 jwXCBK"><span aria-hidden="true" class="Text-sc-17v1xeu-0 ePvrxx">/</span><h1 tabindex="-1" id="file-name-id-wide" class="Heading__StyledHeading-sc-1c1dgg0-0 diwsLq">lesson_2.ipynb</h1></div><button data-component="IconButton" type="button" aria-label="Copy path" data-testid="breadcrumb-copy-path-button" data-size="small" data-no-visuals="true" class="types__StyledButton-sc-ws60qy-0 IIGly"><svg aria-hidden="true" focusable="false" role="img" class="octicon octicon-copy" viewBox="0 0 16 16" width="16" height="16" fill="currentColor" style="display:inline-block;user-select:none;vertical-align:text-bottom;overflow:visible"><path d="M0 6.75C0 5.784.784 5 1.75 5h1.5a.75.75 0 0 1 0 1.5h-1.5a.25.25 0 0 0-.25.25v7.5c0 .138.112.25.25.25h7.5a.25.25 0 0 0 .25-.25v-1.5a.75.75 0 0 1 1.5 0v1.5A1.75 1.75 0 0 1 9.25 16h-7.5A1.75 1.75 0 0 1 0 14.25Z"></path><path d="M5 1.75C5 .784 5.784 0 6.75 0h7.5C15.216 0 16 .784 16 1.75v7.5A1.75 1.75 0 0 1 14.25 11h-7.5A1.75 1.75 0 0 1 5 9.25Zm1.75-.25a.25.25 0 0 0-.25.25v7.5c0 .138.112.25.25.25h7.5a.25.25 0 0 0 .25-.25v-7.5a.25.25 0 0 0-.25-.25Z"></path></svg></button></div></div><div class="Box-sc-g0xbh4-0 gtBUEp"><div class="d-flex gap-2"> <button type="button" data-no-visuals="true" class="types__StyledButton-sc-ws60qy-0 bzquEC"><span data-component="buttonContent" class="Box-sc-g0xbh4-0 kkrdEu"><span data-component="text">Blame</span></span></button><button hidden="" data-testid="" data-hotkey-scope="read-only-cursor-text-area"></button><button data-component="IconButton" type="button" aria-label="More file actions" class="types__StyledButton-sc-ws60qy-0 ecnbuT js-blob-dropdown-click" title="More file actions" data-testid="more-file-actions-button-nav-menu-wide" id=":R176jadaj5:" aria-haspopup="true" tabindex="0" data-no-visuals="true"><svg aria-hidden="true" focusable="false" role="img" class="octicon octicon-kebab-horizontal" viewBox="0 0 16 16" width="16" height="16" fill="currentColor" style="display:inline-block;user-select:none;vertical-align:text-bottom;overflow:visible"><path d="M8 9a1.5 1.5 0 1 0 0-3 1.5 1.5 0 0 0 0 3ZM1.5 9a1.5 1.5 0 1 0 0-3 1.5 1.5 0 0 0 0 3Zm13 0a1.5 1.5 0 1 0 0-3 1.5 1.5 0 0 0 0 3Z"></path></svg></button> </div></div></div></div></div></div></div><div class="Box-sc-g0xbh4-0 hVZtwF react-code-view-bottom-padding"> <div class="Box-sc-g0xbh4-0 cMYnca"></div><div class="Box-sc-g0xbh4-0"></div> <!-- --> <!-- --> </div><div class="Box-sc-g0xbh4-0 hVZtwF"> <!-- --> <!-- --> <div class="Box-sc-g0xbh4-0 dPsqPZ"><div class="Box-sc-g0xbh4-0 eYedVD"><h2 class="Heading__StyledHeading-sc-1c1dgg0-0 cgQnMS sr-only" data-testid="screen-reader-heading">Latest commit</h2><div style="width:120px" class="Skeleton Skeleton--text" data-testid="loading"> </div><div class="Box-sc-g0xbh4-0 jGfYmh"><div data-testid="latest-commit-details" class="Box-sc-g0xbh4-0 lhFvfi"></div><h2 class="Heading__StyledHeading-sc-1c1dgg0-0 cgQnMS sr-only" data-testid="screen-reader-heading">History</h2><a class="types__StyledButton-sc-ws60qy-0 saA-Dg react-last-commit-history-group" href="/katarina74/ml_lessons/commits/main/lesson_2/lesson_2.ipynb" data-size="small"><span data-component="buttonContent" class="Box-sc-g0xbh4-0 kkrdEu"><span data-component="leadingVisual" class="Box-sc-g0xbh4-0 trpoQ"><svg aria-hidden="true" focusable="false" role="img" class="octicon octicon-history" viewBox="0 0 16 16" width="16" height="16" fill="currentColor" style="display:inline-block;user-select:none;vertical-align:text-bottom;overflow:visible"><path d="m.427 1.927 1.215 1.215a8.002 8.002 0 1 1-1.6 5.685.75.75 0 1 1 1.493-.154 6.5 6.5 0 1 0 1.18-4.458l1.358 1.358A.25.25 0 0 1 3.896 6H.25A.25.25 0 0 1 0 5.75V2.104a.25.25 0 0 1 .427-.177ZM7.75 4a.75.75 0 0 1 .75.75v2.992l2.028.812a.75.75 0 0 1-.557 1.392l-2.5-1A.751.751 0 0 1 7 8.25v-3.5A.75.75 0 0 1 7.75 4Z"></path></svg></span><span data-component="text"><span class="Text-sc-17v1xeu-0 UrHoN">History</span></span></span></a><div class="Box-sc-g0xbh4-0 bqgLjk"></div><span role="tooltip" aria-label="Commit history" class="Tooltip__TooltipBase-sc-17tf59c-0 dkafbw tooltipped-n"><a class="types__StyledButton-sc-ws60qy-0 saA-Dg react-last-commit-history-icon" href="/katarina74/ml_lessons/commits/main/lesson_2/lesson_2.ipynb"><span data-component="buttonContent" class="Box-sc-g0xbh4-0 kkrdEu"><span data-component="leadingVisual" class="Box-sc-g0xbh4-0 trpoQ"><svg aria-hidden="true" focusable="false" role="img" class="octicon octicon-history" viewBox="0 0 16 16" width="16" height="16" fill="currentColor" style="display:inline-block;user-select:none;vertical-align:text-bottom;overflow:visible"><path d="m.427 1.927 1.215 1.215a8.002 8.002 0 1 1-1.6 5.685.75.75 0 1 1 1.493-.154 6.5 6.5 0 1 0 1.18-4.458l1.358 1.358A.25.25 0 0 1 3.896 6H.25A.25.25 0 0 1 0 5.75V2.104a.25.25 0 0 1 .427-.177ZM7.75 4a.75.75 0 0 1 .75.75v2.992l2.028.812a.75.75 0 0 1-.557 1.392l-2.5-1A.751.751 0 0 1 7 8.25v-3.5A.75.75 0 0 1 7.75 4Z"></path></svg></span></span></a></span></div></div></div><div class="Box-sc-g0xbh4-0 iJmJly"><div class="Box-sc-g0xbh4-0 jACbi container"><div class="Box-sc-g0xbh4-0 gIJuDf react-code-size-details-banner"><div class="Box-sc-g0xbh4-0 fleZSW react-code-size-details-banner"><div class="Box-sc-g0xbh4-0 dVVHlo text-mono"><div title="202 KB" data-testid="blob-size" class="Truncate__StyledTruncate-sc-23o1d2-0 fUpWeN"><span class="Text-sc-17v1xeu-0 gPDEWA">3466 lines (3466 loc) · 202 KB</span></div></div></div><div class="Box-sc-g0xbh4-0 react-code-size-details-banner"><button style="--button-color:fg.default" type="button" id=":R9faladaj5:" aria-haspopup="true" tabindex="0" data-testid="copilot-popover-button" data-size="small" class="types__StyledButton-sc-ws60qy-0 hhunph"><span data-component="buttonContent" class="Box-sc-g0xbh4-0 kkrdEu"><span data-component="leadingVisual" class="Box-sc-g0xbh4-0 trpoQ"><svg aria-hidden="true" focusable="false" role="img" class="octicon octicon-copilot" viewBox="0 0 16 16" width="16" height="16" fill="currentColor" style="display:inline-block;user-select:none;vertical-align:text-bottom;overflow:visible"><path d="M7.998 15.035c-4.562 0-7.873-2.914-7.998-3.749V9.338c.085-.628.677-1.686 1.588-2.065.013-.07.024-.143.036-.218.029-.183.06-.384.126-.612-.201-.508-.254-1.084-.254-1.656 0-.87.128-1.769.693-2.484.579-.733 1.494-1.124 2.724-1.261 1.206-.134 2.262.034 2.944.765.05.053.096.108.139.165.044-.057.094-.112.143-.165.682-.731 1.738-.899 2.944-.765 1.23.137 2.145.528 2.724 1.261.566.715.693 1.614.693 2.484 0 .572-.053 1.148-.254 1.656.066.228.098.429.126.612.012.076.024.148.037.218.924.385 1.522 1.471 1.591 2.095v1.872c0 .766-3.351 3.795-8.002 3.795Zm0-1.485c2.28 0 4.584-1.11 5.002-1.433V7.862l-.023-.116c-.49.21-1.075.291-1.727.291-1.146 0-2.059-.327-2.71-.991A3.222 3.222 0 0 1 8 6.303a3.24 3.24 0 0 1-.544.743c-.65.664-1.563.991-2.71.991-.652 0-1.236-.081-1.727-.291l-.023.116v4.255c.419.323 2.722 1.433 5.002 1.433ZM6.762 2.83c-.193-.206-.637-.413-1.682-.297-1.019.113-1.479.404-1.713.7-.247.312-.369.789-.369 1.554 0 .793.129 1.171.308 1.371.162.181.519.379 1.442.379.853 0 1.339-.235 1.638-.54.315-.322.527-.827.617-1.553.117-.935-.037-1.395-.241-1.614Zm4.155-.297c-1.044-.116-1.488.091-1.681.297-.204.219-.359.679-.242 1.614.091.726.303 1.231.618 1.553.299.305.784.54 1.638.54.922 0 1.28-.198 1.442-.379.179-.2.308-.578.308-1.371 0-.765-.123-1.242-.37-1.554-.233-.296-.693-.587-1.713-.7Z"></path><path d="M6.25 9.037a.75.75 0 0 1 .75.75v1.501a.75.75 0 0 1-1.5 0V9.787a.75.75 0 0 1 .75-.75Zm4.25.75v1.501a.75.75 0 0 1-1.5 0V9.787a.75.75 0 0 1 1.5 0Z"></path></svg></span><span data-component="text">Code 55% faster with GitHub Copilot</span></span></button></div></div><div class="Box-sc-g0xbh4-0 VHzRk react-blob-view-header-sticky" id="repos-sticky-header"><div class="Box-sc-g0xbh4-0 ePiodO"><div class="Box-sc-g0xbh4-0 react-blob-sticky-header"><div class="Box-sc-g0xbh4-0 kQJlnf"><div class="Box-sc-g0xbh4-0 gJICKO"><div class="Box-sc-g0xbh4-0 iZJewz"><nav data-testid="breadcrumbs" aria-labelledby="sticky-breadcrumb-heading" id="sticky-breadcrumb" class="Box-sc-g0xbh4-0 kzRgrI"><h2 class="Heading__StyledHeading-sc-1c1dgg0-0 cgQnMS sr-only" data-testid="screen-reader-heading" id="sticky-breadcrumb-heading">Breadcrumbs</h2><ol class="Box-sc-g0xbh4-0 cmAPIB"><li class="Box-sc-g0xbh4-0 jwXCBK"><a sx="[object Object]" data-testid="breadcrumbs-repo-link" class="Link__StyledLink-sc-14289xe-0 dpowyu" href="/katarina74/ml_lessons/tree/main">ml_lessons</a></li><li class="Box-sc-g0xbh4-0 jwXCBK"><span aria-hidden="true" class="Text-sc-17v1xeu-0 fQxKLn">/</span><a sx="[object Object]" class="Link__StyledLink-sc-14289xe-0 csCkZA" href="/katarina74/ml_lessons/tree/main/lesson_2">lesson_2</a></li></ol></nav><div data-testid="breadcrumbs-filename" class="Box-sc-g0xbh4-0 jwXCBK"><span aria-hidden="true" class="Text-sc-17v1xeu-0 fQxKLn">/</span><h1 tabindex="-1" id="sticky-file-name-id" class="Heading__StyledHeading-sc-1c1dgg0-0 jAEDJk">lesson_2.ipynb</h1></div></div><button style="--button-color:fg.default" type="button" data-size="small" class="types__StyledButton-sc-ws60qy-0 ecGgfP"><span data-component="buttonContent" class="Box-sc-g0xbh4-0 kkrdEu"><span data-component="leadingVisual" class="Box-sc-g0xbh4-0 trpoQ"><svg aria-hidden="true" focusable="false" role="img" class="octicon octicon-arrow-up" viewBox="0 0 16 16" width="16" height="16" fill="currentColor" style="display:inline-block;user-select:none;vertical-align:text-bottom;overflow:visible"><path d="M3.47 7.78a.75.75 0 0 1 0-1.06l4.25-4.25a.75.75 0 0 1 1.06 0l4.25 4.25a.751.751 0 0 1-.018 1.042.751.751 0 0 1-1.042.018L9 4.81v7.44a.75.75 0 0 1-1.5 0V4.81L4.53 7.78a.75.75 0 0 1-1.06 0Z"></path></svg></span><span data-component="text">Top</span></span></button></div></div></div><div class="Box-sc-g0xbh4-0 jtQniD"><h2 class="Heading__StyledHeading-sc-1c1dgg0-0 cgQnMS sr-only" data-testid="screen-reader-heading">File metadata and controls</h2><div class="Box-sc-g0xbh4-0 bfkNRF"><ul aria-label="File view" class="SegmentedControl__SegmentedControlList-sc-1rzig82-0 dlXtLG"><li class="Box-sc-g0xbh4-0 fXBLEV"><button aria-current="true" class="SegmentedControlButton__SegmentedControlButtonStyled-sc-8lkgxl-0 NCWSJ"><span class="segmentedControl-content"><div class="Box-sc-g0xbh4-0 segmentedControl-text">Preview</div></span></button></li><li class="Box-sc-g0xbh4-0 illvPQ"><button aria-current="false" class="SegmentedControlButton__SegmentedControlButtonStyled-sc-8lkgxl-0 lfqhlR"><span class="segmentedControl-content"><div class="Box-sc-g0xbh4-0 segmentedControl-text">Code</div></span></button></li><li class="Box-sc-g0xbh4-0 illvPQ"><button aria-current="false" class="SegmentedControlButton__SegmentedControlButtonStyled-sc-8lkgxl-0 iDBPxb"><span class="segmentedControl-content"><div class="Box-sc-g0xbh4-0 segmentedControl-text">Blame</div></span></button></li></ul><button hidden="" data-testid="" data-hotkey-scope="read-only-cursor-text-area"></button><button hidden="" data-testid="" data-hotkey-scope="read-only-cursor-text-area"></button><button hidden="" data-testid="" data-hotkey-scope="read-only-cursor-text-area"></button><div class="Box-sc-g0xbh4-0 fleZSW react-code-size-details-in-header"><div class="Box-sc-g0xbh4-0 dVVHlo text-mono"><div title="202 KB" data-testid="blob-size" class="Truncate__StyledTruncate-sc-23o1d2-0 fUpWeN"><span class="Text-sc-17v1xeu-0 gPDEWA">3466 lines (3466 loc) · 202 KB</span></div></div></div><div class="Box-sc-g0xbh4-0 react-code-size-details-in-header"><button style="--button-color:fg.default" type="button" id=":Rt6faladaj5:" aria-haspopup="true" tabindex="0" data-testid="copilot-popover-button" data-size="small" class="types__StyledButton-sc-ws60qy-0 hhunph"><span data-component="buttonContent" class="Box-sc-g0xbh4-0 kkrdEu"><span data-component="leadingVisual" class="Box-sc-g0xbh4-0 trpoQ"><svg aria-hidden="true" focusable="false" role="img" class="octicon octicon-copilot" viewBox="0 0 16 16" width="16" height="16" fill="currentColor" style="display:inline-block;user-select:none;vertical-align:text-bottom;overflow:visible"><path d="M7.998 15.035c-4.562 0-7.873-2.914-7.998-3.749V9.338c.085-.628.677-1.686 1.588-2.065.013-.07.024-.143.036-.218.029-.183.06-.384.126-.612-.201-.508-.254-1.084-.254-1.656 0-.87.128-1.769.693-2.484.579-.733 1.494-1.124 2.724-1.261 1.206-.134 2.262.034 2.944.765.05.053.096.108.139.165.044-.057.094-.112.143-.165.682-.731 1.738-.899 2.944-.765 1.23.137 2.145.528 2.724 1.261.566.715.693 1.614.693 2.484 0 .572-.053 1.148-.254 1.656.066.228.098.429.126.612.012.076.024.148.037.218.924.385 1.522 1.471 1.591 2.095v1.872c0 .766-3.351 3.795-8.002 3.795Zm0-1.485c2.28 0 4.584-1.11 5.002-1.433V7.862l-.023-.116c-.49.21-1.075.291-1.727.291-1.146 0-2.059-.327-2.71-.991A3.222 3.222 0 0 1 8 6.303a3.24 3.24 0 0 1-.544.743c-.65.664-1.563.991-2.71.991-.652 0-1.236-.081-1.727-.291l-.023.116v4.255c.419.323 2.722 1.433 5.002 1.433ZM6.762 2.83c-.193-.206-.637-.413-1.682-.297-1.019.113-1.479.404-1.713.7-.247.312-.369.789-.369 1.554 0 .793.129 1.171.308 1.371.162.181.519.379 1.442.379.853 0 1.339-.235 1.638-.54.315-.322.527-.827.617-1.553.117-.935-.037-1.395-.241-1.614Zm4.155-.297c-1.044-.116-1.488.091-1.681.297-.204.219-.359.679-.242 1.614.091.726.303 1.231.618 1.553.299.305.784.54 1.638.54.922 0 1.28-.198 1.442-.379.179-.2.308-.578.308-1.371 0-.765-.123-1.242-.37-1.554-.233-.296-.693-.587-1.713-.7Z"></path><path d="M6.25 9.037a.75.75 0 0 1 .75.75v1.501a.75.75 0 0 1-1.5 0V9.787a.75.75 0 0 1 .75-.75Zm4.25.75v1.501a.75.75 0 0 1-1.5 0V9.787a.75.75 0 0 1 1.5 0Z"></path></svg></span><span data-component="text">Code 55% faster with GitHub Copilot</span></span></button></div></div><div class="Box-sc-g0xbh4-0 iBylDf"><div class="Box-sc-g0xbh4-0 kSGBPx react-blob-header-edit-and-raw-actions"><div class="ButtonGroup-sc-1gxhls1-0 cjbBGq"><a href="https://github.com/katarina74/ml_lessons/raw/main/lesson_2/lesson_2.ipynb" data-testid="raw-button" data-size="small" data-no-visuals="true" class="types__StyledButton-sc-ws60qy-0 ctvgFa"><span data-component="buttonContent" class="Box-sc-g0xbh4-0 kkrdEu"><span data-component="text">Raw</span></span></a><button data-component="IconButton" type="button" aria-label="Copy raw content" data-testid="copy-raw-button" data-size="small" data-no-visuals="true" class="types__StyledButton-sc-ws60qy-0 iqlNQz"><svg aria-hidden="true" focusable="false" role="img" class="octicon octicon-copy" viewBox="0 0 16 16" width="16" height="16" fill="currentColor" style="display:inline-block;user-select:none;vertical-align:text-bottom;overflow:visible"><path d="M0 6.75C0 5.784.784 5 1.75 5h1.5a.75.75 0 0 1 0 1.5h-1.5a.25.25 0 0 0-.25.25v7.5c0 .138.112.25.25.25h7.5a.25.25 0 0 0 .25-.25v-1.5a.75.75 0 0 1 1.5 0v1.5A1.75 1.75 0 0 1 9.25 16h-7.5A1.75 1.75 0 0 1 0 14.25Z"></path><path d="M5 1.75C5 .784 5.784 0 6.75 0h7.5C15.216 0 16 .784 16 1.75v7.5A1.75 1.75 0 0 1 14.25 11h-7.5A1.75 1.75 0 0 1 5 9.25Zm1.75-.25a.25.25 0 0 0-.25.25v7.5c0 .138.112.25.25.25h7.5a.25.25 0 0 0 .25-.25v-7.5a.25.25 0 0 0-.25-.25Z"></path></svg></button><span role="tooltip" aria-label="Download raw file" class="Tooltip__TooltipBase-sc-17tf59c-0 dkafbw tooltipped-n"><button data-component="IconButton" type="button" aria-label="Download raw content" data-testid="download-raw-button" data-size="small" data-no-visuals="true" class="types__StyledButton-sc-ws60qy-0 jKmxIb"><svg aria-hidden="true" focusable="false" role="img" class="octicon octicon-download" viewBox="0 0 16 16" width="16" height="16" fill="currentColor" style="display:inline-block;user-select:none;vertical-align:text-bottom;overflow:visible"><path d="M2.75 14A1.75 1.75 0 0 1 1 12.25v-2.5a.75.75 0 0 1 1.5 0v2.5c0 .138.112.25.25.25h10.5a.25.25 0 0 0 .25-.25v-2.5a.75.75 0 0 1 1.5 0v2.5A1.75 1.75 0 0 1 13.25 14Z"></path><path d="M7.25 7.689V2a.75.75 0 0 1 1.5 0v5.689l1.97-1.969a.749.749 0 1 1 1.06 1.06l-3.25 3.25a.749.749 0 0 1-1.06 0L4.22 6.78a.749.749 0 1 1 1.06-1.06l1.97 1.969Z"></path></svg></button></span></div><button hidden="" data-testid="raw-button-shortcut" data-hotkey-scope="read-only-cursor-text-area"></button><button hidden="" data-testid="copy-raw-button-shortcut" data-hotkey-scope="read-only-cursor-text-area"></button><button hidden="" data-testid="download-raw-button-shortcut" data-hotkey-scope="read-only-cursor-text-area"></button><a class="Link__StyledLink-sc-14289xe-0 elltiT js-github-dev-shortcut d-none" href="https://github.dev/"></a><button hidden="" data-testid="" data-hotkey-scope="read-only-cursor-text-area"></button><a class="Link__StyledLink-sc-14289xe-0 elltiT js-github-dev-new-tab-shortcut d-none" href="https://github.dev/" target="_blank"></a><button hidden="" data-testid="" data-hotkey-scope="read-only-cursor-text-area"></button><div class="ButtonGroup-sc-1gxhls1-0 cjbBGq"><span role="tooltip" aria-label="Fork this repository and edit the file" class="Tooltip__TooltipBase-sc-17tf59c-0 dkafbw tooltipped-nw"><a sx="[object Object]" data-component="IconButton" type="button" aria-label="Edit file" data-testid="edit-button" data-size="small" data-no-visuals="true" class="types__StyledButton-sc-ws60qy-0 iwejsh" href="/katarina74/ml_lessons/edit/main/lesson_2/lesson_2.ipynb"><svg aria-hidden="true" focusable="false" role="img" class="octicon octicon-pencil" viewBox="0 0 16 16" width="16" height="16" fill="currentColor" style="display:inline-block;user-select:none;vertical-align:text-bottom;overflow:visible"><path d="M11.013 1.427a1.75 1.75 0 0 1 2.474 0l1.086 1.086a1.75 1.75 0 0 1 0 2.474l-8.61 8.61c-.21.21-.47.364-.756.445l-3.251.93a.75.75 0 0 1-.927-.928l.929-3.25c.081-.286.235-.547.445-.758l8.61-8.61Zm.176 4.823L9.75 4.81l-6.286 6.287a.253.253 0 0 0-.064.108l-.558 1.953 1.953-.558a.253.253 0 0 0 .108-.064Zm1.238-3.763a.25.25 0 0 0-.354 0L10.811 3.75l1.439 1.44 1.263-1.263a.25.25 0 0 0 0-.354Z"></path></svg></a></span><button data-component="IconButton" type="button" aria-label="More edit options" data-testid="more-edit-button" id=":R2l76faladaj5:" aria-haspopup="true" tabindex="0" data-size="small" data-no-visuals="true" class="types__StyledButton-sc-ws60qy-0 iqlNQz"><svg aria-hidden="true" focusable="false" role="img" class="octicon octicon-triangle-down" viewBox="0 0 16 16" width="16" height="16" fill="currentColor" style="display:inline-block;user-select:none;vertical-align:text-bottom;overflow:visible"><path d="m4.427 7.427 3.396 3.396a.25.25 0 0 0 .354 0l3.396-3.396A.25.25 0 0 0 11.396 7H4.604a.25.25 0 0 0-.177.427Z"></path></svg></button></div><button hidden="" data-testid="" data-hotkey="e,Shift+E" data-hotkey-scope="read-only-cursor-text-area"></button></div><div class="Box-sc-g0xbh4-0 react-blob-header-edit-and-raw-actions-combined"><button data-component="IconButton" type="button" aria-label="Edit and raw actions" class="types__StyledButton-sc-ws60qy-0 htXhGX js-blob-dropdown-click" title="More file actions" data-testid="more-file-actions-button" id=":R5v6faladaj5:" aria-haspopup="true" tabindex="0" data-size="small" data-no-visuals="true"><svg aria-hidden="true" focusable="false" role="img" class="octicon octicon-kebab-horizontal" viewBox="0 0 16 16" width="16" height="16" fill="currentColor" style="display:inline-block;user-select:none;vertical-align:text-bottom;overflow:visible"><path d="M8 9a1.5 1.5 0 1 0 0-3 1.5 1.5 0 0 0 0 3ZM1.5 9a1.5 1.5 0 1 0 0-3 1.5 1.5 0 0 0 0 3Zm13 0a1.5 1.5 0 1 0 0-3 1.5 1.5 0 0 0 0 3Z"></path></svg></button></div></div></div></div><div class="Box-sc-g0xbh4-0"></div></div><div class="Box-sc-g0xbh4-0 jMJFjm"><section aria-labelledby="file-name-id-wide file-name-id-mobile" class="Box-sc-g0xbh4-0 eJsjkT"><!--$!--><template></template><div data-testid="suspense-spinner" class="Box-sc-g0xbh4-0 bAzdCq"><svg height="32px" width="32px" viewBox="0 0 16 16" fill="none" aria-label="Loading" class="Spinner__StyledSpinner-sc-1knt686-0 hPEVNM"><circle cx="8" cy="8" r="7" stroke="currentColor" stroke-opacity="0.25" stroke-width="2" vector-effect="non-scaling-stroke"></circle><path d="M15 8a7.002 7.002 0 00-7-7" stroke="currentColor" stroke-width="2" stroke-linecap="round" vector-effect="non-scaling-stroke"></path></svg></div><!--/$--></section></div></div></div> <!-- --> <!-- --> </div></div></div><div class="Box-sc-g0xbh4-0"></div></div></div></div></div><div id="find-result-marks-container" class="Box-sc-g0xbh4-0 aZrVR"></div><button hidden="" data-testid="" data-hotkey-scope="read-only-cursor-text-area"></button><button hidden=""></button></div> <!-- --> <!-- --> <!-- --> <script type="application/json" id="__PRIMER_DATA__">{"resolvedServerColorMode":"night"}</script></div>
</react-app>
</turbo-frame>



  </div>

</turbo-frame>

    </main>
  </div>

  </div>

          <footer class="footer pt-8 pb-6 f6 color-fg-muted p-responsive" role="contentinfo" >
  <h2 class='sr-only'>Footer</h2>

  


  <div class="d-flex flex-justify-center flex-items-center flex-column-reverse flex-lg-row flex-wrap flex-lg-nowrap">
    <div class="d-flex flex-items-center flex-shrink-0 mx-2">
      <a aria-label="Homepage" title="GitHub" class="footer-octicon mr-2" href="https://github.com">
        <svg aria-hidden="true" height="24" viewBox="0 0 16 16" version="1.1" width="24" data-view-component="true" class="octicon octicon-mark-github">
    <path d="M8 0c4.42 0 8 3.58 8 8a8.013 8.013 0 0 1-5.45 7.59c-.4.08-.55-.17-.55-.38 0-.27.01-1.13.01-2.2 0-.75-.25-1.23-.54-1.48 1.78-.2 3.65-.88 3.65-3.95 0-.88-.31-1.59-.82-2.15.08-.2.36-1.02-.08-2.12 0 0-.67-.22-2.2.82-.64-.18-1.32-.27-2-.27-.68 0-1.36.09-2 .27-1.53-1.03-2.2-.82-2.2-.82-.44 1.1-.16 1.92-.08 2.12-.51.56-.82 1.28-.82 2.15 0 3.06 1.86 3.75 3.64 3.95-.23.2-.44.55-.51 1.07-.46.21-1.61.55-2.33-.66-.15-.24-.6-.83-1.23-.82-.67.01-.27.38.01.53.34.19.73.9.82 1.13.16.45.68 1.31 2.69.94 0 .67.01 1.3.01 1.49 0 .21-.15.45-.55.38A7.995 7.995 0 0 1 0 8c0-4.42 3.58-8 8-8Z"></path>
</svg>
</a>
      <span>
        &copy; 2024 GitHub,&nbsp;Inc.
      </span>
    </div>

    <nav aria-label="Footer">
      <h3 class="sr-only" id="sr-footer-heading">Footer navigation</h3>

      <ul class="list-style-none d-flex flex-justify-center flex-wrap mb-2 mb-lg-0" aria-labelledby="sr-footer-heading">

          <li class="mx-2">
            <a data-analytics-event="{&quot;category&quot;:&quot;Footer&quot;,&quot;action&quot;:&quot;go to Terms&quot;,&quot;label&quot;:&quot;text:terms&quot;}" href="https://docs.github.com/site-policy/github-terms/github-terms-of-service" data-view-component="true" class="Link--secondary Link">Terms</a>
          </li>

          <li class="mx-2">
            <a data-analytics-event="{&quot;category&quot;:&quot;Footer&quot;,&quot;action&quot;:&quot;go to privacy&quot;,&quot;label&quot;:&quot;text:privacy&quot;}" href="https://docs.github.com/site-policy/privacy-policies/github-privacy-statement" data-view-component="true" class="Link--secondary Link">Privacy</a>
          </li>

          <li class="mx-2">
            <a data-analytics-event="{&quot;category&quot;:&quot;Footer&quot;,&quot;action&quot;:&quot;go to security&quot;,&quot;label&quot;:&quot;text:security&quot;}" href="/security" data-view-component="true" class="Link--secondary Link">Security</a>
          </li>

          <li class="mx-2">
            <a data-analytics-event="{&quot;category&quot;:&quot;Footer&quot;,&quot;action&quot;:&quot;go to status&quot;,&quot;label&quot;:&quot;text:status&quot;}" href="https://www.githubstatus.com/" data-view-component="true" class="Link--secondary Link">Status</a>
          </li>

          <li class="mx-2">
            <a data-analytics-event="{&quot;category&quot;:&quot;Footer&quot;,&quot;action&quot;:&quot;go to docs&quot;,&quot;label&quot;:&quot;text:docs&quot;}" href="https://docs.github.com" data-view-component="true" class="Link--secondary Link">Docs</a>
          </li>

          <li class="mx-2">
            <a data-analytics-event="{&quot;category&quot;:&quot;Footer&quot;,&quot;action&quot;:&quot;go to contact&quot;,&quot;label&quot;:&quot;text:contact&quot;}" href="https://support.github.com?tags=dotcom-footer" data-view-component="true" class="Link--secondary Link">Contact</a>
          </li>

          <li class="mx-2" >
  <cookie-consent-link>
    <button type="button" class="Link--secondary underline-on-hover border-0 p-0 color-bg-transparent" data-action="click:cookie-consent-link#showConsentManagement">
      Manage cookies
    </button>
  </cookie-consent-link>
</li>

<li class="mx-2">
  <cookie-consent-link>
    <button type="button" class="Link--secondary underline-on-hover border-0 p-0 color-bg-transparent" data-action="click:cookie-consent-link#showConsentManagement">
      Do not share my personal information
    </button>
  </cookie-consent-link>
</li>

      </ul>
    </nav>
  </div>
</footer>




    <cookie-consent id="cookie-consent-banner" class="position-fixed bottom-0 left-0" style="z-index: 999999" data-initial-cookie-consent-allowed="" data-cookie-consent-required="false"></cookie-consent>


  <div id="ajax-error-message" class="ajax-error-message flash flash-error" hidden>
    <svg aria-hidden="true" height="16" viewBox="0 0 16 16" version="1.1" width="16" data-view-component="true" class="octicon octicon-alert">
    <path d="M6.457 1.047c.659-1.234 2.427-1.234 3.086 0l6.082 11.378A1.75 1.75 0 0 1 14.082 15H1.918a1.75 1.75 0 0 1-1.543-2.575Zm1.763.707a.25.25 0 0 0-.44 0L1.698 13.132a.25.25 0 0 0 .22.368h12.164a.25.25 0 0 0 .22-.368Zm.53 3.996v2.5a.75.75 0 0 1-1.5 0v-2.5a.75.75 0 0 1 1.5 0ZM9 11a1 1 0 1 1-2 0 1 1 0 0 1 2 0Z"></path>
</svg>
    <button type="button" class="flash-close js-ajax-error-dismiss" aria-label="Dismiss error">
      <svg aria-hidden="true" height="16" viewBox="0 0 16 16" version="1.1" width="16" data-view-component="true" class="octicon octicon-x">
    <path d="M3.72 3.72a.75.75 0 0 1 1.06 0L8 6.94l3.22-3.22a.749.749 0 0 1 1.275.326.749.749 0 0 1-.215.734L9.06 8l3.22 3.22a.749.749 0 0 1-.326 1.275.749.749 0 0 1-.734-.215L8 9.06l-3.22 3.22a.751.751 0 0 1-1.042-.018.751.751 0 0 1-.018-1.042L6.94 8 3.72 4.78a.75.75 0 0 1 0-1.06Z"></path>
</svg>
    </button>
    You can’t perform that action at this time.
  </div>

    <template id="site-details-dialog">
  <details class="details-reset details-overlay details-overlay-dark lh-default color-fg-default hx_rsm" open>
    <summary role="button" aria-label="Close dialog"></summary>
    <details-dialog class="Box Box--overlay d-flex flex-column anim-fade-in fast hx_rsm-dialog hx_rsm-modal">
      <button class="Box-btn-octicon m-0 btn-octicon position-absolute right-0 top-0" type="button" aria-label="Close dialog" data-close-dialog>
        <svg aria-hidden="true" height="16" viewBox="0 0 16 16" version="1.1" width="16" data-view-component="true" class="octicon octicon-x">
    <path d="M3.72 3.72a.75.75 0 0 1 1.06 0L8 6.94l3.22-3.22a.749.749 0 0 1 1.275.326.749.749 0 0 1-.215.734L9.06 8l3.22 3.22a.749.749 0 0 1-.326 1.275.749.749 0 0 1-.734-.215L8 9.06l-3.22 3.22a.751.751 0 0 1-1.042-.018.751.751 0 0 1-.018-1.042L6.94 8 3.72 4.78a.75.75 0 0 1 0-1.06Z"></path>
</svg>
      </button>
      <div class="octocat-spinner my-6 js-details-dialog-spinner"></div>
    </details-dialog>
  </details>
</template>

    <div class="Popover js-hovercard-content position-absolute" style="display: none; outline: none;" tabindex="0">
  <div class="Popover-message Popover-message--bottom-left Popover-message--large Box color-shadow-large" style="width:360px;">
  </div>
</div>

    <template id="snippet-clipboard-copy-button">
  <div class="zeroclipboard-container position-absolute right-0 top-0">
    <clipboard-copy aria-label="Copy" class="ClipboardButton btn js-clipboard-copy m-2 p-0 tooltipped-no-delay" data-copy-feedback="Copied!" data-tooltip-direction="w">
      <svg aria-hidden="true" height="16" viewBox="0 0 16 16" version="1.1" width="16" data-view-component="true" class="octicon octicon-copy js-clipboard-copy-icon m-2">
    <path d="M0 6.75C0 5.784.784 5 1.75 5h1.5a.75.75 0 0 1 0 1.5h-1.5a.25.25 0 0 0-.25.25v7.5c0 .138.112.25.25.25h7.5a.25.25 0 0 0 .25-.25v-1.5a.75.75 0 0 1 1.5 0v1.5A1.75 1.75 0 0 1 9.25 16h-7.5A1.75 1.75 0 0 1 0 14.25Z"></path><path d="M5 1.75C5 .784 5.784 0 6.75 0h7.5C15.216 0 16 .784 16 1.75v7.5A1.75 1.75 0 0 1 14.25 11h-7.5A1.75 1.75 0 0 1 5 9.25Zm1.75-.25a.25.25 0 0 0-.25.25v7.5c0 .138.112.25.25.25h7.5a.25.25 0 0 0 .25-.25v-7.5a.25.25 0 0 0-.25-.25Z"></path>
</svg>
      <svg aria-hidden="true" height="16" viewBox="0 0 16 16" version="1.1" width="16" data-view-component="true" class="octicon octicon-check js-clipboard-check-icon color-fg-success d-none m-2">
    <path d="M13.78 4.22a.75.75 0 0 1 0 1.06l-7.25 7.25a.75.75 0 0 1-1.06 0L2.22 9.28a.751.751 0 0 1 .018-1.042.751.751 0 0 1 1.042-.018L6 10.94l6.72-6.72a.75.75 0 0 1 1.06 0Z"></path>
</svg>
    </clipboard-copy>
  </div>
</template>
<template id="snippet-clipboard-copy-button-unpositioned">
  <div class="zeroclipboard-container">
    <clipboard-copy aria-label="Copy" class="ClipboardButton btn btn-invisible js-clipboard-copy m-2 p-0 tooltipped-no-delay d-flex flex-justify-center flex-items-center" data-copy-feedback="Copied!" data-tooltip-direction="w">
      <svg aria-hidden="true" height="16" viewBox="0 0 16 16" version="1.1" width="16" data-view-component="true" class="octicon octicon-copy js-clipboard-copy-icon">
    <path d="M0 6.75C0 5.784.784 5 1.75 5h1.5a.75.75 0 0 1 0 1.5h-1.5a.25.25 0 0 0-.25.25v7.5c0 .138.112.25.25.25h7.5a.25.25 0 0 0 .25-.25v-1.5a.75.75 0 0 1 1.5 0v1.5A1.75 1.75 0 0 1 9.25 16h-7.5A1.75 1.75 0 0 1 0 14.25Z"></path><path d="M5 1.75C5 .784 5.784 0 6.75 0h7.5C15.216 0 16 .784 16 1.75v7.5A1.75 1.75 0 0 1 14.25 11h-7.5A1.75 1.75 0 0 1 5 9.25Zm1.75-.25a.25.25 0 0 0-.25.25v7.5c0 .138.112.25.25.25h7.5a.25.25 0 0 0 .25-.25v-7.5a.25.25 0 0 0-.25-.25Z"></path>
</svg>
      <svg aria-hidden="true" height="16" viewBox="0 0 16 16" version="1.1" width="16" data-view-component="true" class="octicon octicon-check js-clipboard-check-icon color-fg-success d-none">
    <path d="M13.78 4.22a.75.75 0 0 1 0 1.06l-7.25 7.25a.75.75 0 0 1-1.06 0L2.22 9.28a.751.751 0 0 1 .018-1.042.751.751 0 0 1 1.042-.018L6 10.94l6.72-6.72a.75.75 0 0 1 1.06 0Z"></path>
</svg>
    </clipboard-copy>
  </div>
</template>


    <style>
      .user-mention[href$="/TomirisN"] {
        color: var(--color-user-mention-fg);
        background-color: var(--color-user-mention-bg);
        border-radius: 2px;
        margin-left: -2px;
        margin-right: -2px;
        padding: 0 2px;
      }
    </style>


    </div>

    <div id="js-global-screen-reader-notice" class="sr-only" aria-live="polite" aria-atomic="true" ></div>
    <div id="js-global-screen-reader-notice-assertive" class="sr-only" aria-live="assertive" aria-atomic="true"></div>
  </body>
</html>

